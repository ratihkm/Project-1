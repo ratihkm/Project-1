{
 "cells": [
  {
   "attachments": {},
   "cell_type": "markdown",
   "metadata": {},
   "source": [
    "# Сборный проект - 1"
   ]
  },
  {
   "attachments": {},
   "cell_type": "markdown",
   "metadata": {},
   "source": [
    "Из открытых источников нам доступны исторические данные о продажах игр, оценки пользователей и экспертов, жанры и платформы (например, Xbox или PlayStation). \n",
    "<br />**Цель исследования:** выявить определяющие успешность игры закономерности, чтобы в дальнейшем сделать ставку на потенциально популярный продукт и спланировать рекламные кампании."
   ]
  },
  {
   "cell_type": "code",
   "execution_count": 34,
   "metadata": {},
   "outputs": [],
   "source": [
    "import pandas as pd\n",
    "import matplotlib.pyplot as plt\n",
    "import seaborn as sns\n",
    "import numpy as np\n",
    "from scipy import stats as st\n",
    "\n",
    "plt.style.use('seaborn-whitegrid')"
   ]
  },
  {
   "attachments": {},
   "cell_type": "markdown",
   "metadata": {},
   "source": [
    "## Изучение исходных данных"
   ]
  },
  {
   "cell_type": "code",
   "execution_count": 3,
   "metadata": {},
   "outputs": [],
   "source": [
    "try:\n",
    "    df = pd.read_csv('games.csv')\n",
    "except:\n",
    "    df = pd.read_csv('/datasets/games.csv')"
   ]
  },
  {
   "cell_type": "code",
   "execution_count": 4,
   "metadata": {},
   "outputs": [
    {
     "data": {
      "text/html": [
       "<div>\n",
       "<style scoped>\n",
       "    .dataframe tbody tr th:only-of-type {\n",
       "        vertical-align: middle;\n",
       "    }\n",
       "\n",
       "    .dataframe tbody tr th {\n",
       "        vertical-align: top;\n",
       "    }\n",
       "\n",
       "    .dataframe thead th {\n",
       "        text-align: right;\n",
       "    }\n",
       "</style>\n",
       "<table border=\"1\" class=\"dataframe\">\n",
       "  <thead>\n",
       "    <tr style=\"text-align: right;\">\n",
       "      <th></th>\n",
       "      <th>Name</th>\n",
       "      <th>Platform</th>\n",
       "      <th>Year_of_Release</th>\n",
       "      <th>Genre</th>\n",
       "      <th>NA_sales</th>\n",
       "      <th>EU_sales</th>\n",
       "      <th>JP_sales</th>\n",
       "      <th>Other_sales</th>\n",
       "      <th>Critic_Score</th>\n",
       "      <th>User_Score</th>\n",
       "      <th>Rating</th>\n",
       "    </tr>\n",
       "  </thead>\n",
       "  <tbody>\n",
       "    <tr>\n",
       "      <th>0</th>\n",
       "      <td>Wii Sports</td>\n",
       "      <td>Wii</td>\n",
       "      <td>2006.0</td>\n",
       "      <td>Sports</td>\n",
       "      <td>41.36</td>\n",
       "      <td>28.96</td>\n",
       "      <td>3.77</td>\n",
       "      <td>8.45</td>\n",
       "      <td>76.0</td>\n",
       "      <td>8</td>\n",
       "      <td>E</td>\n",
       "    </tr>\n",
       "    <tr>\n",
       "      <th>1</th>\n",
       "      <td>Super Mario Bros.</td>\n",
       "      <td>NES</td>\n",
       "      <td>1985.0</td>\n",
       "      <td>Platform</td>\n",
       "      <td>29.08</td>\n",
       "      <td>3.58</td>\n",
       "      <td>6.81</td>\n",
       "      <td>0.77</td>\n",
       "      <td>NaN</td>\n",
       "      <td>NaN</td>\n",
       "      <td>NaN</td>\n",
       "    </tr>\n",
       "    <tr>\n",
       "      <th>2</th>\n",
       "      <td>Mario Kart Wii</td>\n",
       "      <td>Wii</td>\n",
       "      <td>2008.0</td>\n",
       "      <td>Racing</td>\n",
       "      <td>15.68</td>\n",
       "      <td>12.76</td>\n",
       "      <td>3.79</td>\n",
       "      <td>3.29</td>\n",
       "      <td>82.0</td>\n",
       "      <td>8.3</td>\n",
       "      <td>E</td>\n",
       "    </tr>\n",
       "    <tr>\n",
       "      <th>3</th>\n",
       "      <td>Wii Sports Resort</td>\n",
       "      <td>Wii</td>\n",
       "      <td>2009.0</td>\n",
       "      <td>Sports</td>\n",
       "      <td>15.61</td>\n",
       "      <td>10.93</td>\n",
       "      <td>3.28</td>\n",
       "      <td>2.95</td>\n",
       "      <td>80.0</td>\n",
       "      <td>8</td>\n",
       "      <td>E</td>\n",
       "    </tr>\n",
       "    <tr>\n",
       "      <th>4</th>\n",
       "      <td>Pokemon Red/Pokemon Blue</td>\n",
       "      <td>GB</td>\n",
       "      <td>1996.0</td>\n",
       "      <td>Role-Playing</td>\n",
       "      <td>11.27</td>\n",
       "      <td>8.89</td>\n",
       "      <td>10.22</td>\n",
       "      <td>1.00</td>\n",
       "      <td>NaN</td>\n",
       "      <td>NaN</td>\n",
       "      <td>NaN</td>\n",
       "    </tr>\n",
       "    <tr>\n",
       "      <th>5</th>\n",
       "      <td>Tetris</td>\n",
       "      <td>GB</td>\n",
       "      <td>1989.0</td>\n",
       "      <td>Puzzle</td>\n",
       "      <td>23.20</td>\n",
       "      <td>2.26</td>\n",
       "      <td>4.22</td>\n",
       "      <td>0.58</td>\n",
       "      <td>NaN</td>\n",
       "      <td>NaN</td>\n",
       "      <td>NaN</td>\n",
       "    </tr>\n",
       "    <tr>\n",
       "      <th>6</th>\n",
       "      <td>New Super Mario Bros.</td>\n",
       "      <td>DS</td>\n",
       "      <td>2006.0</td>\n",
       "      <td>Platform</td>\n",
       "      <td>11.28</td>\n",
       "      <td>9.14</td>\n",
       "      <td>6.50</td>\n",
       "      <td>2.88</td>\n",
       "      <td>89.0</td>\n",
       "      <td>8.5</td>\n",
       "      <td>E</td>\n",
       "    </tr>\n",
       "    <tr>\n",
       "      <th>7</th>\n",
       "      <td>Wii Play</td>\n",
       "      <td>Wii</td>\n",
       "      <td>2006.0</td>\n",
       "      <td>Misc</td>\n",
       "      <td>13.96</td>\n",
       "      <td>9.18</td>\n",
       "      <td>2.93</td>\n",
       "      <td>2.84</td>\n",
       "      <td>58.0</td>\n",
       "      <td>6.6</td>\n",
       "      <td>E</td>\n",
       "    </tr>\n",
       "    <tr>\n",
       "      <th>8</th>\n",
       "      <td>New Super Mario Bros. Wii</td>\n",
       "      <td>Wii</td>\n",
       "      <td>2009.0</td>\n",
       "      <td>Platform</td>\n",
       "      <td>14.44</td>\n",
       "      <td>6.94</td>\n",
       "      <td>4.70</td>\n",
       "      <td>2.24</td>\n",
       "      <td>87.0</td>\n",
       "      <td>8.4</td>\n",
       "      <td>E</td>\n",
       "    </tr>\n",
       "    <tr>\n",
       "      <th>9</th>\n",
       "      <td>Duck Hunt</td>\n",
       "      <td>NES</td>\n",
       "      <td>1984.0</td>\n",
       "      <td>Shooter</td>\n",
       "      <td>26.93</td>\n",
       "      <td>0.63</td>\n",
       "      <td>0.28</td>\n",
       "      <td>0.47</td>\n",
       "      <td>NaN</td>\n",
       "      <td>NaN</td>\n",
       "      <td>NaN</td>\n",
       "    </tr>\n",
       "  </tbody>\n",
       "</table>\n",
       "</div>"
      ],
      "text/plain": [
       "                        Name Platform  Year_of_Release         Genre  \\\n",
       "0                 Wii Sports      Wii           2006.0        Sports   \n",
       "1          Super Mario Bros.      NES           1985.0      Platform   \n",
       "2             Mario Kart Wii      Wii           2008.0        Racing   \n",
       "3          Wii Sports Resort      Wii           2009.0        Sports   \n",
       "4   Pokemon Red/Pokemon Blue       GB           1996.0  Role-Playing   \n",
       "5                     Tetris       GB           1989.0        Puzzle   \n",
       "6      New Super Mario Bros.       DS           2006.0      Platform   \n",
       "7                   Wii Play      Wii           2006.0          Misc   \n",
       "8  New Super Mario Bros. Wii      Wii           2009.0      Platform   \n",
       "9                  Duck Hunt      NES           1984.0       Shooter   \n",
       "\n",
       "   NA_sales  EU_sales  JP_sales  Other_sales  Critic_Score User_Score Rating  \n",
       "0     41.36     28.96      3.77         8.45          76.0          8      E  \n",
       "1     29.08      3.58      6.81         0.77           NaN        NaN    NaN  \n",
       "2     15.68     12.76      3.79         3.29          82.0        8.3      E  \n",
       "3     15.61     10.93      3.28         2.95          80.0          8      E  \n",
       "4     11.27      8.89     10.22         1.00           NaN        NaN    NaN  \n",
       "5     23.20      2.26      4.22         0.58           NaN        NaN    NaN  \n",
       "6     11.28      9.14      6.50         2.88          89.0        8.5      E  \n",
       "7     13.96      9.18      2.93         2.84          58.0        6.6      E  \n",
       "8     14.44      6.94      4.70         2.24          87.0        8.4      E  \n",
       "9     26.93      0.63      0.28         0.47           NaN        NaN    NaN  "
      ]
     },
     "execution_count": 4,
     "metadata": {},
     "output_type": "execute_result"
    }
   ],
   "source": [
    "df.head(10)"
   ]
  },
  {
   "cell_type": "code",
   "execution_count": 5,
   "metadata": {
    "scrolled": true
   },
   "outputs": [
    {
     "name": "stdout",
     "output_type": "stream",
     "text": [
      "<class 'pandas.core.frame.DataFrame'>\n",
      "RangeIndex: 16715 entries, 0 to 16714\n",
      "Data columns (total 11 columns):\n",
      " #   Column           Non-Null Count  Dtype  \n",
      "---  ------           --------------  -----  \n",
      " 0   Name             16713 non-null  object \n",
      " 1   Platform         16715 non-null  object \n",
      " 2   Year_of_Release  16446 non-null  float64\n",
      " 3   Genre            16713 non-null  object \n",
      " 4   NA_sales         16715 non-null  float64\n",
      " 5   EU_sales         16715 non-null  float64\n",
      " 6   JP_sales         16715 non-null  float64\n",
      " 7   Other_sales      16715 non-null  float64\n",
      " 8   Critic_Score     8137 non-null   float64\n",
      " 9   User_Score       10014 non-null  object \n",
      " 10  Rating           9949 non-null   object \n",
      "dtypes: float64(6), object(5)\n",
      "memory usage: 1.4+ MB\n"
     ]
    }
   ],
   "source": [
    "df.info()"
   ]
  },
  {
   "cell_type": "code",
   "execution_count": 6,
   "metadata": {},
   "outputs": [
    {
     "data": {
      "image/png": "[encoded data removed]",
      "text/plain": [
       "<Figure size 2000x2000 with 6 Axes>"
      ]
     },
     "metadata": {},
     "output_type": "display_data"
    }
   ],
   "source": [
    "df.hist(figsize=(20, 20));"
   ]
  },
  {
   "cell_type": "code",
   "execution_count": 7,
   "metadata": {},
   "outputs": [
    {
     "data": {
      "text/html": [
       "<div>\n",
       "<style scoped>\n",
       "    .dataframe tbody tr th:only-of-type {\n",
       "        vertical-align: middle;\n",
       "    }\n",
       "\n",
       "    .dataframe tbody tr th {\n",
       "        vertical-align: top;\n",
       "    }\n",
       "\n",
       "    .dataframe thead th {\n",
       "        text-align: right;\n",
       "    }\n",
       "</style>\n",
       "<table border=\"1\" class=\"dataframe\">\n",
       "  <thead>\n",
       "    <tr style=\"text-align: right;\">\n",
       "      <th></th>\n",
       "      <th>Year_of_Release</th>\n",
       "      <th>NA_sales</th>\n",
       "      <th>EU_sales</th>\n",
       "      <th>JP_sales</th>\n",
       "      <th>Other_sales</th>\n",
       "      <th>Critic_Score</th>\n",
       "    </tr>\n",
       "  </thead>\n",
       "  <tbody>\n",
       "    <tr>\n",
       "      <th>count</th>\n",
       "      <td>16446.000000</td>\n",
       "      <td>16715.000000</td>\n",
       "      <td>16715.000000</td>\n",
       "      <td>16715.000000</td>\n",
       "      <td>16715.000000</td>\n",
       "      <td>8137.000000</td>\n",
       "    </tr>\n",
       "    <tr>\n",
       "      <th>mean</th>\n",
       "      <td>2006.484616</td>\n",
       "      <td>0.263377</td>\n",
       "      <td>0.145060</td>\n",
       "      <td>0.077617</td>\n",
       "      <td>0.047342</td>\n",
       "      <td>68.967679</td>\n",
       "    </tr>\n",
       "    <tr>\n",
       "      <th>std</th>\n",
       "      <td>5.877050</td>\n",
       "      <td>0.813604</td>\n",
       "      <td>0.503339</td>\n",
       "      <td>0.308853</td>\n",
       "      <td>0.186731</td>\n",
       "      <td>13.938165</td>\n",
       "    </tr>\n",
       "    <tr>\n",
       "      <th>min</th>\n",
       "      <td>1980.000000</td>\n",
       "      <td>0.000000</td>\n",
       "      <td>0.000000</td>\n",
       "      <td>0.000000</td>\n",
       "      <td>0.000000</td>\n",
       "      <td>13.000000</td>\n",
       "    </tr>\n",
       "    <tr>\n",
       "      <th>25%</th>\n",
       "      <td>2003.000000</td>\n",
       "      <td>0.000000</td>\n",
       "      <td>0.000000</td>\n",
       "      <td>0.000000</td>\n",
       "      <td>0.000000</td>\n",
       "      <td>60.000000</td>\n",
       "    </tr>\n",
       "    <tr>\n",
       "      <th>50%</th>\n",
       "      <td>2007.000000</td>\n",
       "      <td>0.080000</td>\n",
       "      <td>0.020000</td>\n",
       "      <td>0.000000</td>\n",
       "      <td>0.010000</td>\n",
       "      <td>71.000000</td>\n",
       "    </tr>\n",
       "    <tr>\n",
       "      <th>75%</th>\n",
       "      <td>2010.000000</td>\n",
       "      <td>0.240000</td>\n",
       "      <td>0.110000</td>\n",
       "      <td>0.040000</td>\n",
       "      <td>0.030000</td>\n",
       "      <td>79.000000</td>\n",
       "    </tr>\n",
       "    <tr>\n",
       "      <th>max</th>\n",
       "      <td>2016.000000</td>\n",
       "      <td>41.360000</td>\n",
       "      <td>28.960000</td>\n",
       "      <td>10.220000</td>\n",
       "      <td>10.570000</td>\n",
       "      <td>98.000000</td>\n",
       "    </tr>\n",
       "  </tbody>\n",
       "</table>\n",
       "</div>"
      ],
      "text/plain": [
       "       Year_of_Release      NA_sales      EU_sales      JP_sales  \\\n",
       "count     16446.000000  16715.000000  16715.000000  16715.000000   \n",
       "mean       2006.484616      0.263377      0.145060      0.077617   \n",
       "std           5.877050      0.813604      0.503339      0.308853   \n",
       "min        1980.000000      0.000000      0.000000      0.000000   \n",
       "25%        2003.000000      0.000000      0.000000      0.000000   \n",
       "50%        2007.000000      0.080000      0.020000      0.000000   \n",
       "75%        2010.000000      0.240000      0.110000      0.040000   \n",
       "max        2016.000000     41.360000     28.960000     10.220000   \n",
       "\n",
       "        Other_sales  Critic_Score  \n",
       "count  16715.000000   8137.000000  \n",
       "mean       0.047342     68.967679  \n",
       "std        0.186731     13.938165  \n",
       "min        0.000000     13.000000  \n",
       "25%        0.000000     60.000000  \n",
       "50%        0.010000     71.000000  \n",
       "75%        0.030000     79.000000  \n",
       "max       10.570000     98.000000  "
      ]
     },
     "execution_count": 7,
     "metadata": {},
     "output_type": "execute_result"
    }
   ],
   "source": [
    "df.describe()"
   ]
  },
  {
   "attachments": {},
   "cell_type": "markdown",
   "metadata": {},
   "source": [
    "**Вывод**: Изучив исходные данные, можно предварительно сделать вывод, что в таблице присутствуют пропуски, причем более 50% в данных с оценками критиков, в жанных об оценках пользователей и в рейтинге пропуски составляют примерно 1/3 часть всей выборки. Более того, некоторые типы данных отображены некорректно и должны быть изменены. Проанализировав статистику, можно заметить, что в среднем продажи во всех регионах на одном уровне, но присутствуют и высокие значения, которые влияют на среднее значение. Значения оценки критиков, как видно распределены нормально."
   ]
  },
  {
   "attachments": {},
   "cell_type": "markdown",
   "metadata": {},
   "source": [
    "## Подготовка данных"
   ]
  },
  {
   "attachments": {},
   "cell_type": "markdown",
   "metadata": {},
   "source": [
    "### Приведение названия столбцов к нижнему регистру"
   ]
  },
  {
   "cell_type": "code",
   "execution_count": 8,
   "metadata": {},
   "outputs": [],
   "source": [
    "#Приведем названия столбцов к нижнему регистру\n",
    "df.columns = df.columns.str.lower()"
   ]
  },
  {
   "attachments": {},
   "cell_type": "markdown",
   "metadata": {},
   "source": [
    "### Преобразование типов данных"
   ]
  },
  {
   "cell_type": "code",
   "execution_count": 9,
   "metadata": {},
   "outputs": [],
   "source": [
    "#Преобразуем типы данных:\n",
    "    #в столбцах year_of_release и critic_score на целочисленный формат, т.к. год является целочисленным значением\n",
    "df['year_of_release'] = df['year_of_release'].astype('Int32')\n",
    "    #заменим тип данных float64 на float32 для экономии памяти\n",
    "df[df.select_dtypes(include=['float64']).columns] = df[df.select_dtypes(include=['float64']).columns].astype('float32')"
   ]
  },
  {
   "attachments": {},
   "cell_type": "markdown",
   "metadata": {},
   "source": [
    "### Работа с пропусками"
   ]
  },
  {
   "cell_type": "code",
   "execution_count": 10,
   "metadata": {},
   "outputs": [
    {
     "data": {
      "text/plain": [
       "array([False])"
      ]
     },
     "execution_count": 10,
     "metadata": {},
     "output_type": "execute_result"
    }
   ],
   "source": [
    "#Проверим, есть ли дубликаты\n",
    "df.duplicated().unique()"
   ]
  },
  {
   "cell_type": "code",
   "execution_count": 11,
   "metadata": {},
   "outputs": [
    {
     "data": {
      "text/plain": [
       "Index(['name', 'year_of_release', 'genre', 'critic_score', 'user_score',\n",
       "       'rating'],\n",
       "      dtype='object')"
      ]
     },
     "execution_count": 11,
     "metadata": {},
     "output_type": "execute_result"
    }
   ],
   "source": [
    "#Найдем столбцы с пропусками\n",
    "df.isna().any()[df.isna().any() == True].index"
   ]
  },
  {
   "attachments": {},
   "cell_type": "markdown",
   "metadata": {},
   "source": [
    "#### Пропуски в столбце 'name'"
   ]
  },
  {
   "cell_type": "code",
   "execution_count": 12,
   "metadata": {},
   "outputs": [],
   "source": [
    "#В столбце name всего 2 записи имеют пропуск, что составляет 0.01% от всей выборки. \n",
    "#Удаление данных строк не приведет к искажению данных.\n",
    "df.dropna(subset=['name'], inplace=True)"
   ]
  },
  {
   "attachments": {},
   "cell_type": "markdown",
   "metadata": {},
   "source": [
    "#### Пропуски в столбце 'year_of_release'"
   ]
  },
  {
   "cell_type": "code",
   "execution_count": 13,
   "metadata": {},
   "outputs": [
    {
     "data": {
      "text/plain": [
       "269"
      ]
     },
     "execution_count": 13,
     "metadata": {},
     "output_type": "execute_result"
    }
   ],
   "source": [
    "#Изучим пропуски в столбце year_of_release\n",
    "df[df['year_of_release'].isna()].shape[0]"
   ]
  },
  {
   "cell_type": "code",
   "execution_count": 14,
   "metadata": {},
   "outputs": [],
   "source": [
    "#Так как игра может выпускаться на разных платформах в разные годы, то в виду отсутствия информации удалим имеющиеся пропуски\n",
    "#(1.6% от всей выборки).\n",
    "df.dropna(subset=['year_of_release'], inplace=True)"
   ]
  },
  {
   "attachments": {},
   "cell_type": "markdown",
   "metadata": {},
   "source": [
    "#### Пропуски в столбце 'genre'"
   ]
  },
  {
   "cell_type": "code",
   "execution_count": 15,
   "metadata": {},
   "outputs": [
    {
     "data": {
      "text/plain": [
       "0"
      ]
     },
     "execution_count": 15,
     "metadata": {},
     "output_type": "execute_result"
    }
   ],
   "source": [
    "df[df['genre'].isna()].shape[0]"
   ]
  },
  {
   "attachments": {},
   "cell_type": "markdown",
   "metadata": {},
   "source": [
    "Видим, что пропуски в данном столбце были удалены в процессе работы с пропусками в предыдущих столбцах."
   ]
  },
  {
   "attachments": {},
   "cell_type": "markdown",
   "metadata": {},
   "source": [
    "#### Пропуски в столбцах 'critic_score',  'rating'"
   ]
  },
  {
   "cell_type": "code",
   "execution_count": 16,
   "metadata": {},
   "outputs": [
    {
     "data": {
      "text/plain": [
       "8461"
      ]
     },
     "execution_count": 16,
     "metadata": {},
     "output_type": "execute_result"
    }
   ],
   "source": [
    "df['critic_score'].isna().sum()"
   ]
  },
  {
   "cell_type": "code",
   "execution_count": 17,
   "metadata": {},
   "outputs": [
    {
     "data": {
      "text/plain": [
       "6676"
      ]
     },
     "execution_count": 17,
     "metadata": {},
     "output_type": "execute_result"
    }
   ],
   "source": [
    "df['rating'].isna().sum()"
   ]
  },
  {
   "cell_type": "code",
   "execution_count": 18,
   "metadata": {},
   "outputs": [],
   "source": [
    "#Т.к. рейтинг это категориальный признак, заполним пропуски значением unknown.\n",
    "df['rating'] = df['rating'].fillna('unknown')"
   ]
  },
  {
   "cell_type": "code",
   "execution_count": 19,
   "metadata": {},
   "outputs": [
    {
     "data": {
      "text/plain": [
       "array(['E', 'unknown', 'M', 'T', 'E10+', 'K-A', 'AO', 'EC', 'RP'],\n",
       "      dtype=object)"
      ]
     },
     "execution_count": 19,
     "metadata": {},
     "output_type": "execute_result"
    }
   ],
   "source": [
    "df['rating'].unique()"
   ]
  },
  {
   "attachments": {},
   "cell_type": "markdown",
   "metadata": {},
   "source": [
    "#### Пропуски в столбце 'user_score'"
   ]
  },
  {
   "cell_type": "code",
   "execution_count": 20,
   "metadata": {},
   "outputs": [
    {
     "data": {
      "text/plain": [
       "6605"
      ]
     },
     "execution_count": 20,
     "metadata": {},
     "output_type": "execute_result"
    }
   ],
   "source": [
    "df['user_score'].isna().sum()"
   ]
  },
  {
   "cell_type": "code",
   "execution_count": 21,
   "metadata": {},
   "outputs": [
    {
     "data": {
      "text/plain": [
       "array(['8', nan, '8.3', '8.5', '6.6', '8.4', '8.6', '7.7', '6.3', '7.4',\n",
       "       '8.2', '9', '7.9', '8.1', '8.7', '7.1', '3.4', '5.3', '4.8', '3.2',\n",
       "       '8.9', '6.4', '7.8', '7.5', '2.6', '7.2', '9.2', '7', '7.3', '4.3',\n",
       "       '7.6', '5.7', '5', '9.1', '6.5', 'tbd', '8.8', '6.9', '9.4', '6.8',\n",
       "       '6.1', '6.7', '5.4', '4', '4.9', '4.5', '9.3', '6.2', '4.2', '6',\n",
       "       '3.7', '4.1', '5.8', '5.6', '5.5', '4.4', '4.6', '5.9', '3.9',\n",
       "       '3.1', '2.9', '5.2', '3.3', '4.7', '5.1', '3.5', '2.5', '1.9', '3',\n",
       "       '2.7', '2.2', '2', '9.5', '2.1', '3.6', '2.8', '1.8', '3.8', '0',\n",
       "       '1.6', '9.6', '2.4', '1.7', '1.1', '0.3', '1.5', '0.7', '1.2',\n",
       "       '2.3', '0.5', '1.3', '0.2', '0.6', '1.4', '0.9', '1', '9.7'],\n",
       "      dtype=object)"
      ]
     },
     "execution_count": 21,
     "metadata": {},
     "output_type": "execute_result"
    }
   ],
   "source": [
    "df['user_score'].unique()"
   ]
  },
  {
   "cell_type": "code",
   "execution_count": 22,
   "metadata": {},
   "outputs": [],
   "source": [
    "#Видим, что в данном столбце кроме числовых и nan значений есть значение tbd (to be determined), что означает подлежит уточнению.\n",
    "#Таким образом, в виду отсутствия данных, заменим эти значения на nan и изменим тип данных столбца.\n",
    "df['user_score'] = df['user_score'].replace('tbd', np.nan).astype('float32')"
   ]
  },
  {
   "cell_type": "code",
   "execution_count": 23,
   "metadata": {},
   "outputs": [
    {
     "data": {
      "text/plain": [
       "8981"
      ]
     },
     "execution_count": 23,
     "metadata": {},
     "output_type": "execute_result"
    }
   ],
   "source": [
    "df['user_score'].isna().sum()"
   ]
  },
  {
   "attachments": {},
   "cell_type": "markdown",
   "metadata": {},
   "source": [
    "#### Суммарные продажи"
   ]
  },
  {
   "cell_type": "code",
   "execution_count": 24,
   "metadata": {},
   "outputs": [
    {
     "data": {
      "text/html": [
       "<div>\n",
       "<style scoped>\n",
       "    .dataframe tbody tr th:only-of-type {\n",
       "        vertical-align: middle;\n",
       "    }\n",
       "\n",
       "    .dataframe tbody tr th {\n",
       "        vertical-align: top;\n",
       "    }\n",
       "\n",
       "    .dataframe thead th {\n",
       "        text-align: right;\n",
       "    }\n",
       "</style>\n",
       "<table border=\"1\" class=\"dataframe\">\n",
       "  <thead>\n",
       "    <tr style=\"text-align: right;\">\n",
       "      <th></th>\n",
       "      <th>name</th>\n",
       "      <th>platform</th>\n",
       "      <th>year_of_release</th>\n",
       "      <th>genre</th>\n",
       "      <th>na_sales</th>\n",
       "      <th>eu_sales</th>\n",
       "      <th>jp_sales</th>\n",
       "      <th>other_sales</th>\n",
       "      <th>critic_score</th>\n",
       "      <th>user_score</th>\n",
       "      <th>rating</th>\n",
       "      <th>total_sales</th>\n",
       "    </tr>\n",
       "  </thead>\n",
       "  <tbody>\n",
       "    <tr>\n",
       "      <th>0</th>\n",
       "      <td>Wii Sports</td>\n",
       "      <td>Wii</td>\n",
       "      <td>2006</td>\n",
       "      <td>Sports</td>\n",
       "      <td>41.360001</td>\n",
       "      <td>28.959999</td>\n",
       "      <td>3.77</td>\n",
       "      <td>8.45</td>\n",
       "      <td>76.0</td>\n",
       "      <td>8.0</td>\n",
       "      <td>E</td>\n",
       "      <td>82.539993</td>\n",
       "    </tr>\n",
       "    <tr>\n",
       "      <th>1</th>\n",
       "      <td>Super Mario Bros.</td>\n",
       "      <td>NES</td>\n",
       "      <td>1985</td>\n",
       "      <td>Platform</td>\n",
       "      <td>29.080000</td>\n",
       "      <td>3.580000</td>\n",
       "      <td>6.81</td>\n",
       "      <td>0.77</td>\n",
       "      <td>NaN</td>\n",
       "      <td>NaN</td>\n",
       "      <td>unknown</td>\n",
       "      <td>40.240002</td>\n",
       "    </tr>\n",
       "    <tr>\n",
       "      <th>2</th>\n",
       "      <td>Mario Kart Wii</td>\n",
       "      <td>Wii</td>\n",
       "      <td>2008</td>\n",
       "      <td>Racing</td>\n",
       "      <td>15.680000</td>\n",
       "      <td>12.760000</td>\n",
       "      <td>3.79</td>\n",
       "      <td>3.29</td>\n",
       "      <td>82.0</td>\n",
       "      <td>8.3</td>\n",
       "      <td>E</td>\n",
       "      <td>35.520000</td>\n",
       "    </tr>\n",
       "    <tr>\n",
       "      <th>3</th>\n",
       "      <td>Wii Sports Resort</td>\n",
       "      <td>Wii</td>\n",
       "      <td>2009</td>\n",
       "      <td>Sports</td>\n",
       "      <td>15.610000</td>\n",
       "      <td>10.930000</td>\n",
       "      <td>3.28</td>\n",
       "      <td>2.95</td>\n",
       "      <td>80.0</td>\n",
       "      <td>8.0</td>\n",
       "      <td>E</td>\n",
       "      <td>32.770000</td>\n",
       "    </tr>\n",
       "    <tr>\n",
       "      <th>4</th>\n",
       "      <td>Pokemon Red/Pokemon Blue</td>\n",
       "      <td>GB</td>\n",
       "      <td>1996</td>\n",
       "      <td>Role-Playing</td>\n",
       "      <td>11.270000</td>\n",
       "      <td>8.890000</td>\n",
       "      <td>10.22</td>\n",
       "      <td>1.00</td>\n",
       "      <td>NaN</td>\n",
       "      <td>NaN</td>\n",
       "      <td>unknown</td>\n",
       "      <td>31.380001</td>\n",
       "    </tr>\n",
       "  </tbody>\n",
       "</table>\n",
       "</div>"
      ],
      "text/plain": [
       "                       name platform  year_of_release         genre  \\\n",
       "0                Wii Sports      Wii             2006        Sports   \n",
       "1         Super Mario Bros.      NES             1985      Platform   \n",
       "2            Mario Kart Wii      Wii             2008        Racing   \n",
       "3         Wii Sports Resort      Wii             2009        Sports   \n",
       "4  Pokemon Red/Pokemon Blue       GB             1996  Role-Playing   \n",
       "\n",
       "    na_sales   eu_sales  jp_sales  other_sales  critic_score  user_score  \\\n",
       "0  41.360001  28.959999      3.77         8.45          76.0         8.0   \n",
       "1  29.080000   3.580000      6.81         0.77           NaN         NaN   \n",
       "2  15.680000  12.760000      3.79         3.29          82.0         8.3   \n",
       "3  15.610000  10.930000      3.28         2.95          80.0         8.0   \n",
       "4  11.270000   8.890000     10.22         1.00           NaN         NaN   \n",
       "\n",
       "    rating  total_sales  \n",
       "0        E    82.539993  \n",
       "1  unknown    40.240002  \n",
       "2        E    35.520000  \n",
       "3        E    32.770000  \n",
       "4  unknown    31.380001  "
      ]
     },
     "execution_count": 24,
     "metadata": {},
     "output_type": "execute_result"
    }
   ],
   "source": [
    "df['total_sales'] = df['na_sales']+df['eu_sales']+df['jp_sales']+df['other_sales']\n",
    "df.head(5)"
   ]
  },
  {
   "attachments": {},
   "cell_type": "markdown",
   "metadata": {},
   "source": [
    "**Вывод**: В результате подготовки исходных данных изменили названия столбцов, привели их в общий вид, изменили типы данных (год выпуска - в целочисленный формат, остальные числовые значения в float32), убедились в отсутствии дубликатов. В столбцах жанр игры, имя и рейтинг поработали с пропусками. В частности в столбце рейтинг заменили пропуски заглушкой, чтобы в дальнейшем можно было провести более полный анализ. Пропуски в столбце год выпуска удалили, т.к. нельзя их корректно заполнить и они составляют всего 1.6% от исходных данных. Пропуски в столбцах с оценками критиков и пользователей оставили нетронутыми, так как пропуски составляют более 50% всех данных и их изменение может повлиять на конечный результат. Причинами наличия пропусков могут быть ошибки при переносе данных, отсутствие этих самых данных изначально и т.д."
   ]
  },
  {
   "attachments": {},
   "cell_type": "markdown",
   "metadata": {},
   "source": [
    "## Исследовательский анализ данных"
   ]
  },
  {
   "attachments": {},
   "cell_type": "markdown",
   "metadata": {},
   "source": [
    "**Посмотрите, сколько игр выпускалось в разные годы. Важны ли данные за все периоды?**"
   ]
  },
  {
   "cell_type": "code",
   "execution_count": 25,
   "metadata": {
    "scrolled": false
   },
   "outputs": [
    {
     "data": {
      "image/png": "[encoded data removed]",
      "text/plain": [
       "<Figure size 640x480 with 1 Axes>"
      ]
     },
     "metadata": {},
     "output_type": "display_data"
    }
   ],
   "source": [
    "released_per_year = df.groupby('year_of_release')['name'].count()\n",
    "sns.lineplot(data=released_per_year)\n",
    "plt.title('Количество выпущенных игр по годам')\n",
    "plt.xlabel('Год')\n",
    "plt.ylabel('Количество выпущенных игр');"
   ]
  },
  {
   "attachments": {},
   "cell_type": "markdown",
   "metadata": {},
   "source": [
    "**Вывод**:Видим, что, начиная с 1990 года по 2007 год количество выпущенных компьютерных игр растет, что связано с развитием и распространением ПК. Спад после 2007 года характеризует внедрение мобильных телефонов и развитие игровой отрасли на данных мобильных платформах. Так как, активный рост начинается с 2000 годов, то оставим данные, начиная с этого времени."
   ]
  },
  {
   "cell_type": "code",
   "execution_count": 26,
   "metadata": {},
   "outputs": [],
   "source": [
    "df = df[df['year_of_release']>=2000]"
   ]
  },
  {
   "attachments": {},
   "cell_type": "markdown",
   "metadata": {},
   "source": [
    "**Посмотрите, как менялись продажи по платформам. Выберите платформы с наибольшими суммарными продажами и постройте распределение по годам. За какой характерный срок появляются новые и исчезают старые платформы?**"
   ]
  },
  {
   "cell_type": "code",
   "execution_count": 27,
   "metadata": {},
   "outputs": [
    {
     "name": "stdout",
     "output_type": "stream",
     "text": [
      "\u001b[1m Топ-10 платформ с наибольшими суммарными продажами \u001b[0m platform\n",
      "PS2     1233.559937\n",
      "X360     961.239990\n",
      "PS3      931.339966\n",
      "Wii      891.179993\n",
      "DS       802.760010\n",
      "PS4      314.140015\n",
      "GBA      312.880005\n",
      "PSP      289.529999\n",
      "3DS      257.809998\n",
      "XB       251.569992\n",
      "Name: total_sales, dtype: float32\n"
     ]
    }
   ],
   "source": [
    "top10_sales_per_platform = df.groupby('platform')['total_sales'].sum().sort_values(ascending=False).head(10)\n",
    "print('\\033[1m Топ-10 платформ с наибольшими суммарными продажами \\033[0m', top10_sales_per_platform)"
   ]
  },
  {
   "cell_type": "code",
   "execution_count": 28,
   "metadata": {
    "scrolled": true
   },
   "outputs": [
    {
     "data": {
      "image/png": "[encoded data removed]",
      "text/plain": [
       "<Figure size 800x400 with 1 Axes>"
      ]
     },
     "metadata": {},
     "output_type": "display_data"
    },
    {
     "data": {
      "image/png": "[encoded data removed]",
      "text/plain": [
       "<Figure size 800x400 with 1 Axes>"
      ]
     },
     "metadata": {},
     "output_type": "display_data"
    },
    {
     "data": {
      "image/png": "[encoded data removed]",
      "text/plain": [
       "<Figure size 800x400 with 1 Axes>"
      ]
     },
     "metadata": {},
     "output_type": "display_data"
    },
    {
     "data": {
      "image/png": "[encoded data removed]",
      "text/plain": [
       "<Figure size 800x400 with 1 Axes>"
      ]
     },
     "metadata": {},
     "output_type": "display_data"
    },
    {
     "data": {
      "image/png": "[encoded data removed]",
      "text/plain": [
       "<Figure size 800x400 with 1 Axes>"
      ]
     },
     "metadata": {},
     "output_type": "display_data"
    },
    {
     "data": {
      "image/png": "[encoded data removed]",
      "text/plain": [
       "<Figure size 800x400 with 1 Axes>"
      ]
     },
     "metadata": {},
     "output_type": "display_data"
    },
    {
     "data": {
      "image/png": "[encoded data removed]",
      "text/plain": [
       "<Figure size 800x400 with 1 Axes>"
      ]
     },
     "metadata": {},
     "output_type": "display_data"
    },
    {
     "data": {
      "image/png": "[encoded data removed]",
      "text/plain": [
       "<Figure size 800x400 with 1 Axes>"
      ]
     },
     "metadata": {},
     "output_type": "display_data"
    },
    {
     "data": {
      "image/png": "[encoded data removed]",
      "text/plain": [
       "<Figure size 800x400 with 1 Axes>"
      ]
     },
     "metadata": {},
     "output_type": "display_data"
    },
    {
     "data": {
      "image/png": "[encoded data removed]",
      "text/plain": [
       "<Figure size 800x400 with 1 Axes>"
      ]
     },
     "metadata": {},
     "output_type": "display_data"
    }
   ],
   "source": [
    "for i in list(top10_sales_per_platform.index):\n",
    "    platform = df[df['platform']==i].groupby('year_of_release')['total_sales'].sum()\n",
    "    fig, ax = plt.subplots(figsize=(8,4))\n",
    "    plt.bar(platform.index,platform.values, label=i)\n",
    "    plt.ylabel('Суммарные продажи')\n",
    "    plt.xlabel('Год выпуска')\n",
    "    plt.legend()\n",
    "    plt.show()"
   ]
  },
  {
   "attachments": {},
   "cell_type": "markdown",
   "metadata": {},
   "source": [
    "**Вывод**: Отталкиваясь от построенных распределений,можно сделать вывод, что в среднем цикл с момента появления платформы и до момента ее исчезновения составляет около 10 лет. Более того, можно заметить, что из топ-10 платформ, платформы, на которых все еще выпускались игры в 2016 году, появлись в 2006 году. Появившиеся до этого времени платформы к 2016 не давали никакую прибыль, т.е. на них игры не выпускались (например PS2, DS, GBA, XB). Более того, видно, что пик продаж на платформах проходит за 4 года Поэтому за актуальный период приму `2012-2016` года. "
   ]
  },
  {
   "cell_type": "code",
   "execution_count": 29,
   "metadata": {},
   "outputs": [],
   "source": [
    "df = df[df['year_of_release']>=2012]"
   ]
  },
  {
   "attachments": {},
   "cell_type": "markdown",
   "metadata": {},
   "source": [
    "**Какие платформы лидируют по продажам, растут или падают? Выберите несколько потенциально прибыльных платформ.**"
   ]
  },
  {
   "cell_type": "code",
   "execution_count": 30,
   "metadata": {},
   "outputs": [
    {
     "data": {
      "text/plain": [
       "platform\n",
       "PS4     69.25\n",
       "XOne    26.15\n",
       "3DS     15.14\n",
       "PC       5.25\n",
       "WiiU     4.60\n",
       "Name: total_sales, dtype: float32"
      ]
     },
     "execution_count": 30,
     "metadata": {},
     "output_type": "execute_result"
    }
   ],
   "source": [
    "top_5_platforms = df[df['year_of_release'] == 2016].groupby('platform')['total_sales'].sum().sort_values(ascending=False).head(5)\n",
    "top_5_platforms"
   ]
  },
  {
   "attachments": {},
   "cell_type": "markdown",
   "metadata": {},
   "source": [
    "**Вывод**: Видим, что на конец актуального периода лидируют по продажам следующие платформы: `PS4, XOne, 3DS, PC, WiiU`."
   ]
  },
  {
   "attachments": {},
   "cell_type": "markdown",
   "metadata": {},
   "source": [
    "**Постройте график «ящик с усами» по глобальным продажам игр в разбивке по платформам. Опишите результат.**"
   ]
  },
  {
   "cell_type": "code",
   "execution_count": 31,
   "metadata": {},
   "outputs": [
    {
     "data": {
      "image/png": "[encoded data removed]",
      "text/plain": [
       "<Figure size 640x480 with 1 Axes>"
      ]
     },
     "metadata": {},
     "output_type": "display_data"
    }
   ],
   "source": [
    "top_5_platforms_df = df[df['platform'].isin(list(top_5_platforms.index))]\n",
    "sns.boxplot(data=top_5_platforms_df, x='platform', y='total_sales' )\n",
    "plt.ylim(0,1)\n",
    "plt.ylabel('Суммарные продажи')\n",
    "plt.xlabel('Топ-5 потенциально прибыльных платформ');"
   ]
  },
  {
   "cell_type": "code",
   "execution_count": 32,
   "metadata": {},
   "outputs": [
    {
     "data": {
      "text/html": [
       "<div>\n",
       "<style scoped>\n",
       "    .dataframe tbody tr th:only-of-type {\n",
       "        vertical-align: middle;\n",
       "    }\n",
       "\n",
       "    .dataframe tbody tr th {\n",
       "        vertical-align: top;\n",
       "    }\n",
       "\n",
       "    .dataframe thead th {\n",
       "        text-align: right;\n",
       "    }\n",
       "</style>\n",
       "<table border=\"1\" class=\"dataframe\">\n",
       "  <thead>\n",
       "    <tr style=\"text-align: right;\">\n",
       "      <th></th>\n",
       "      <th>count</th>\n",
       "      <th>mean</th>\n",
       "      <th>std</th>\n",
       "      <th>min</th>\n",
       "      <th>25%</th>\n",
       "      <th>50%</th>\n",
       "      <th>75%</th>\n",
       "      <th>max</th>\n",
       "    </tr>\n",
       "    <tr>\n",
       "      <th>platform</th>\n",
       "      <th></th>\n",
       "      <th></th>\n",
       "      <th></th>\n",
       "      <th></th>\n",
       "      <th></th>\n",
       "      <th></th>\n",
       "      <th></th>\n",
       "      <th></th>\n",
       "    </tr>\n",
       "  </thead>\n",
       "  <tbody>\n",
       "    <tr>\n",
       "      <th>3DS</th>\n",
       "      <td>396.0</td>\n",
       "      <td>0.491439</td>\n",
       "      <td>1.387163</td>\n",
       "      <td>0.01</td>\n",
       "      <td>0.04</td>\n",
       "      <td>0.11</td>\n",
       "      <td>0.3125</td>\n",
       "      <td>14.599999</td>\n",
       "    </tr>\n",
       "    <tr>\n",
       "      <th>PC</th>\n",
       "      <td>250.0</td>\n",
       "      <td>0.250600</td>\n",
       "      <td>0.494641</td>\n",
       "      <td>0.01</td>\n",
       "      <td>0.03</td>\n",
       "      <td>0.08</td>\n",
       "      <td>0.2400</td>\n",
       "      <td>5.140000</td>\n",
       "    </tr>\n",
       "    <tr>\n",
       "      <th>PS4</th>\n",
       "      <td>392.0</td>\n",
       "      <td>0.801377</td>\n",
       "      <td>1.609457</td>\n",
       "      <td>0.01</td>\n",
       "      <td>0.06</td>\n",
       "      <td>0.20</td>\n",
       "      <td>0.7300</td>\n",
       "      <td>14.630000</td>\n",
       "    </tr>\n",
       "    <tr>\n",
       "      <th>WiiU</th>\n",
       "      <td>147.0</td>\n",
       "      <td>0.559115</td>\n",
       "      <td>1.058836</td>\n",
       "      <td>0.01</td>\n",
       "      <td>0.08</td>\n",
       "      <td>0.22</td>\n",
       "      <td>0.5250</td>\n",
       "      <td>7.090000</td>\n",
       "    </tr>\n",
       "    <tr>\n",
       "      <th>XOne</th>\n",
       "      <td>247.0</td>\n",
       "      <td>0.645020</td>\n",
       "      <td>1.036139</td>\n",
       "      <td>0.01</td>\n",
       "      <td>0.06</td>\n",
       "      <td>0.22</td>\n",
       "      <td>0.6850</td>\n",
       "      <td>7.390000</td>\n",
       "    </tr>\n",
       "  </tbody>\n",
       "</table>\n",
       "</div>"
      ],
      "text/plain": [
       "          count      mean       std   min   25%   50%     75%        max\n",
       "platform                                                                \n",
       "3DS       396.0  0.491439  1.387163  0.01  0.04  0.11  0.3125  14.599999\n",
       "PC        250.0  0.250600  0.494641  0.01  0.03  0.08  0.2400   5.140000\n",
       "PS4       392.0  0.801377  1.609457  0.01  0.06  0.20  0.7300  14.630000\n",
       "WiiU      147.0  0.559115  1.058836  0.01  0.08  0.22  0.5250   7.090000\n",
       "XOne      247.0  0.645020  1.036139  0.01  0.06  0.22  0.6850   7.390000"
      ]
     },
     "execution_count": 32,
     "metadata": {},
     "output_type": "execute_result"
    }
   ],
   "source": [
    "top_5_platforms_df.groupby('platform')['total_sales'].describe()"
   ]
  },
  {
   "attachments": {},
   "cell_type": "markdown",
   "metadata": {},
   "source": [
    "**Вывод**: Во первых, из графика видно, что есть большое количество выбросов, это означает, что некоторые релизы были очень успешными. Во-вторых, анализируя средние и медианные значения глобальных продаж, можно отметить, что в среднем высокие продажи обеспечивают такие платформы как `PS4, XOne, WiiU`, это можно объяснить тем, что данные платформы новые и стоимость игр на них достаточно высока. Таким образом, вышеупомянутые 3 платформы являются наиболее прибыльными."
   ]
  },
  {
   "attachments": {},
   "cell_type": "markdown",
   "metadata": {},
   "source": [
    "**Посмотрите, как влияют на продажи внутри одной популярной платформы отзывы пользователей и критиков. Постройте диаграмму рассеяния и посчитайте корреляцию между отзывами и продажами.**"
   ]
  },
  {
   "cell_type": "code",
   "execution_count": 52,
   "metadata": {},
   "outputs": [
    {
     "data": {
      "text/plain": [
       "(0.0, 10.0)"
      ]
     },
     "execution_count": 52,
     "metadata": {},
     "output_type": "execute_result"
    },
    {
     "data": {
      "image/png": "[encoded data removed]",
      "text/plain": [
       "<Figure size 2000x500 with 2 Axes>"
      ]
     },
     "metadata": {},
     "output_type": "display_data"
    }
   ],
   "source": [
    "fig, (ax1, ax2) = plt.subplots(nrows=1, ncols=2, figsize=(20,5))\n",
    "ax1.scatter(x=df[(df['platform']=='X360')&(df['year_of_release'] >=2012)]['critic_score'], y=df[(df['platform']=='X360')&(df['year_of_release'] >=2012)]['total_sales'])\n",
    "ax2.scatter(x=df[(df['platform']=='X360')&(df['year_of_release'] >=2012)]['user_score'], y=df[(df['platform']=='X360')&(df['year_of_release'] >=2012)]['total_sales'])\n",
    "ax1.set_xlim([0,100])\n",
    "ax2.set_xlim([0,10])"
   ]
  },
  {
   "cell_type": "code",
   "execution_count": 32,
   "metadata": {},
   "outputs": [
    {
     "data": {
      "image/png": "[encoded data removed]",
      "text/plain": [
       "<Figure size 432x288 with 1 Axes>"
      ]
     },
     "metadata": {},
     "output_type": "display_data"
    },
    {
     "data": {
      "image/png": "[encoded data removed]",
      "text/plain": [
       "<Figure size 432x288 with 1 Axes>"
      ]
     },
     "metadata": {},
     "output_type": "display_data"
    },
    {
     "data": {
      "image/png": "[encoded data removed]",
      "text/plain": [
       "<Figure size 432x288 with 1 Axes>"
      ]
     },
     "metadata": {},
     "output_type": "display_data"
    },
    {
     "data": {
      "image/png": "[encoded data removed]",
      "text/plain": [
       "<Figure size 432x288 with 1 Axes>"
      ]
     },
     "metadata": {},
     "output_type": "display_data"
    },
    {
     "data": {
      "image/png": "[encoded data removed]",
      "text/plain": [
       "<Figure size 432x288 with 1 Axes>"
      ]
     },
     "metadata": {},
     "output_type": "display_data"
    },
    {
     "data": {
      "image/png": "[encoded data removed]",
      "text/plain": [
       "<Figure size 432x288 with 1 Axes>"
      ]
     },
     "metadata": {},
     "output_type": "display_data"
    },
    {
     "data": {
      "image/png": "[encoded data removed]",
      "text/plain": [
       "<Figure size 432x288 with 1 Axes>"
      ]
     },
     "metadata": {},
     "output_type": "display_data"
    },
    {
     "data": {
      "image/png": "[encoded data removed]",
      "text/plain": [
       "<Figure size 432x288 with 1 Axes>"
      ]
     },
     "metadata": {},
     "output_type": "display_data"
    },
    {
     "data": {
      "image/png": "[encoded data removed]",
      "text/plain": [
       "<Figure size 432x288 with 1 Axes>"
      ]
     },
     "metadata": {},
     "output_type": "display_data"
    },
    {
     "data": {
      "image/png": "[encoded data removed]",
      "text/plain": [
       "<Figure size 432x288 with 1 Axes>"
      ]
     },
     "metadata": {},
     "output_type": "display_data"
    }
   ],
   "source": [
    "# Рассмотрим 5 наиболее популярных платформ\n",
    "for k in list(top_5_platforms_df['platform'].unique()):\n",
    "    pl_df = top_5_platforms_df[top_5_platforms_df.platform == k]\n",
    "    for i in ['critic_score', 'user_score']:\n",
    "        dict1 = {'critic_score':'Оценка критиков','user_score' :'Оценка пользователей'}\n",
    "        sns.scatterplot(data=pl_df, x=i, y='total_sales',label=k);\n",
    "        plt.title('Диаграммы рассеяния')\n",
    "        plt.ylabel('Суммарные продажи')\n",
    "        plt.xlabel(dict1[i])\n",
    "        plt.ylim(pl_df['total_sales'].min(),pl_df['total_sales'].max())\n",
    "        plt.xlim(pl_df[i].min(),pl_df[i].max())\n",
    "        plt.show()"
   ]
  },
  {
   "cell_type": "code",
   "execution_count": 33,
   "metadata": {
    "scrolled": true
   },
   "outputs": [
    {
     "name": "stdout",
     "output_type": "stream",
     "text": [
      "\u001b[1m PS4\u001b[0m               total_sales  critic_score  user_score\n",
      "total_sales      1.000000      0.406568   -0.031957\n",
      "critic_score     0.406568      1.000000    0.557654\n",
      "user_score      -0.031957      0.557654    1.000000 \n",
      "\n",
      "\u001b[1m 3DS\u001b[0m               total_sales  critic_score  user_score\n",
      "total_sales      1.000000      0.320803    0.197583\n",
      "critic_score     0.320803      1.000000    0.722762\n",
      "user_score       0.197583      0.722762    1.000000 \n",
      "\n",
      "\u001b[1m XOne\u001b[0m               total_sales  critic_score  user_score\n",
      "total_sales      1.000000      0.416998   -0.068925\n",
      "critic_score     0.416998      1.000000    0.472462\n",
      "user_score      -0.068925      0.472462    1.000000 \n",
      "\n",
      "\u001b[1m WiiU\u001b[0m               total_sales  critic_score  user_score\n",
      "total_sales      1.000000       0.34838    0.400219\n",
      "critic_score     0.348380       1.00000    0.770080\n",
      "user_score       0.400219       0.77008    1.000000 \n",
      "\n",
      "\u001b[1m PC\u001b[0m               total_sales  critic_score  user_score\n",
      "total_sales      1.000000      0.237243   -0.121867\n",
      "critic_score     0.237243      1.000000    0.432587\n",
      "user_score      -0.121867      0.432587    1.000000 \n",
      "\n"
     ]
    }
   ],
   "source": [
    "for k in list(top_5_platforms_df['platform'].unique()):\n",
    "    print(f'\\033[1m {k}\\033[0m', top_5_platforms_df[top_5_platforms_df['platform'] == k][['total_sales', 'critic_score', 'user_score']].corr(), '\\n')"
   ]
  },
  {
   "attachments": {},
   "cell_type": "markdown",
   "metadata": {},
   "source": [
    "**Вывод**: Из построенных графиков видна прямая пропорциональная зависимость между суммарными продажами и оценкой критиков. Т.е. чем выше оценка критиков, тем выше продажи. Получается, что мнение критиков играет ключевую роль при покупке пользователем игры. Зависимость между оценкой пользователей и продажами в большинстве случаев слабая либо ее нет, исключением является лишь платформа WiiU. Данный феномен затрудняюсь объяснить."
   ]
  },
  {
   "attachments": {},
   "cell_type": "markdown",
   "metadata": {},
   "source": [
    "**Посмотрите на общее распределение игр по жанрам. Что можно сказать о самых прибыльных жанрах? Выделяются ли жанры с высокими и низкими продажами?**"
   ]
  },
  {
   "cell_type": "code",
   "execution_count": 34,
   "metadata": {},
   "outputs": [
    {
     "data": {
      "image/png": "[encoded data removed]",
      "text/plain": [
       "<Figure size 720x360 with 1 Axes>"
      ]
     },
     "metadata": {},
     "output_type": "display_data"
    }
   ],
   "source": [
    "genre_sales = df.groupby('genre')['total_sales'].median().sort_values(ascending=False)\n",
    "fig, ax = plt.subplots(figsize=(10,5))\n",
    "plt.bar(x=genre_sales.index, height=genre_sales.values)\n",
    "plt.xticks(rotation=45)\n",
    "plt.ylabel('Медианы продаж')\n",
    "plt.xlabel('Жанр');"
   ]
  },
  {
   "attachments": {},
   "cell_type": "markdown",
   "metadata": {},
   "source": [
    "**Вывод**: Наиболее прибыльными являются игры в жанрах `Shooter, Sports, Platform`, наименне прибыльными являются жанры `Puzzle, Adventure`. Анализ прибыльности жанра проводил по медианам продаж, чтобы избежать влияния выбросов. Причинами популярности одних жанров и неопопулярности других могут быть разные факторы, такие как интерес сюжета, его динамичность, способность вызвать эмоции и т.д. "
   ]
  },
  {
   "attachments": {},
   "cell_type": "markdown",
   "metadata": {},
   "source": [
    "## Портрет пользователя каждого региона"
   ]
  },
  {
   "cell_type": "code",
   "execution_count": 35,
   "metadata": {},
   "outputs": [
    {
     "name": "stdout",
     "output_type": "stream",
     "text": [
      "\u001b[1mТоп платформ по продажам в разных регионах\n"
     ]
    },
    {
     "data": {
      "image/png": "[encoded data removed]",
      "text/plain": [
       "<Figure size 1440x720 with 3 Axes>"
      ]
     },
     "metadata": {},
     "output_type": "display_data"
    }
   ],
   "source": [
    "fig, ax = plt.subplots(figsize=(20,10), nrows=1, ncols=3)\n",
    "dict2 = {'na_sales':'Северная Америка','eu_sales' :'Европа','jp_sales': 'Япония'}\n",
    "print('\\033[1mТоп платформ по продажам в разных регионах')\n",
    "for i, region in enumerate(['na_sales','eu_sales', 'jp_sales' ]):\n",
    "    df_draw = df.copy()\n",
    "    other_platforms = list(df_draw.groupby(\"platform\")[region].sum().sort_values(ascending=False).iloc[5:].index)\n",
    "    df_draw['platform'].replace(other_platforms, 'Остальные платформы', inplace=True)\n",
    "    ax[i].pie(df_draw.groupby(\"platform\")[region].sum(), labels=df_draw.groupby(\"platform\")[region].sum().index, autopct='%1.1f%%')\n",
    "    ax[i].set_title(dict2[region])"
   ]
  },
  {
   "cell_type": "code",
   "execution_count": 36,
   "metadata": {
    "scrolled": true
   },
   "outputs": [
    {
     "name": "stdout",
     "output_type": "stream",
     "text": [
      "\u001b[1mТоп жанров по продажам в разных регионах\n"
     ]
    },
    {
     "data": {
      "image/png": "[encoded data removed]",
      "text/plain": [
       "<Figure size 1440x720 with 3 Axes>"
      ]
     },
     "metadata": {},
     "output_type": "display_data"
    }
   ],
   "source": [
    "fig, ax = plt.subplots(figsize=(20,10), nrows=1, ncols=3)\n",
    "dict2 = {'na_sales':'Северная Америка','eu_sales' :'Европа','jp_sales': 'Япония'}\n",
    "print('\\033[1mТоп жанров по продажам в разных регионах')\n",
    "for i, region in enumerate(['na_sales','eu_sales', 'jp_sales' ]):\n",
    "    df_draw = df.copy()\n",
    "    other_platforms = list(df_draw.groupby(\"genre\")[region].sum().sort_values(ascending=False).iloc[5:].index)\n",
    "    df_draw['genre'].replace(other_platforms, 'Остальные жанры', inplace=True)\n",
    "    ax[i].pie(df_draw.groupby(\"genre\")[region].sum(), labels=df_draw.groupby(\"genre\")[region].sum().index, autopct='%1.1f%%')\n",
    "    ax[i].set_title(dict2[region])"
   ]
  },
  {
   "cell_type": "code",
   "execution_count": 37,
   "metadata": {},
   "outputs": [
    {
     "name": "stdout",
     "output_type": "stream",
     "text": [
      "\u001b[1mТоп рейтинга по продажам в разных регионах\n"
     ]
    },
    {
     "data": {
      "image/png": "[encoded data removed]",
      "text/plain": [
       "<Figure size 1440x720 with 3 Axes>"
      ]
     },
     "metadata": {},
     "output_type": "display_data"
    }
   ],
   "source": [
    "fig, ax = plt.subplots(figsize=(20,10), nrows=1, ncols=3)\n",
    "dict2 = {'na_sales':'Северная Америка','eu_sales' :'Европа','jp_sales': 'Япония'}\n",
    "print('\\033[1mТоп рейтинга по продажам в разных регионах')\n",
    "for i, region in enumerate(['na_sales','eu_sales', 'jp_sales' ]):\n",
    "    ax[i].pie(df.groupby(\"rating\")[region].sum(), labels=df.groupby(\"rating\")[region].sum().index, autopct='%1.1f%%')\n",
    "    ax[i].set_title(dict2[region])"
   ]
  },
  {
   "attachments": {},
   "cell_type": "markdown",
   "metadata": {},
   "source": [
    "**Вывод**: \n",
    "* Популярные платформы в регионах разные: в Северной Америке - X360, в Европе - PS3, в Японии - 3DS.\n",
    "* В Северной Америке и Европе 4 из 5 популярных жанров совпадают. Лидирующими по продажам являются игры жанра Action. В Японии наиболее прибыльные игры жанра Role-Playing, более того в топе присутствуют жанры, которых нет в других регионах. Разница может быть обусловлена культурными особенностями и интересами граждан данного региона.\n",
    "* Касаемо рейтинга ESRB в Северной Америке и Европе распределение практически одинаково, наиболее популярными являются игры с рейтинго М (для взрослых), касаемо рейтингов в Японии, то у более 50% данных отсутсвует рейтинг, а из имеющихся данных наиболее прибыльные игры с рейтингом E (для всех)."
   ]
  },
  {
   "attachments": {},
   "cell_type": "markdown",
   "metadata": {},
   "source": [
    "## Проверка гипотез"
   ]
  },
  {
   "attachments": {},
   "cell_type": "markdown",
   "metadata": {},
   "source": [
    "### Средние пользовательские рейтинги платформ Xbox One и PC одинаковые."
   ]
  },
  {
   "attachments": {},
   "cell_type": "markdown",
   "metadata": {},
   "source": [
    "`Нулевая гипотеза:` Средние пользовательские рейтинги платформ Xbox One и PC равны.\n",
    "<br />`Альтернативная гипотеза:` Средние пользовательские рейтинги платформ Xbox One и PC не равны."
   ]
  },
  {
   "cell_type": "code",
   "execution_count": 38,
   "metadata": {},
   "outputs": [
    {
     "name": "stdout",
     "output_type": "stream",
     "text": [
      "Размер выборки 1: 182\n",
      "Размер выборки 2: 206\n"
     ]
    }
   ],
   "source": [
    "sample_1 = df[df['platform'] == 'XOne']['user_score'].dropna()\n",
    "sample_2 = df[df['platform'] == 'PC']['user_score'].dropna()\n",
    "\n",
    "print('Размер выборки 1:',len(sample_1))\n",
    "print('Размер выборки 2:',len(sample_2))"
   ]
  },
  {
   "cell_type": "code",
   "execution_count": 39,
   "metadata": {
    "scrolled": true
   },
   "outputs": [
    {
     "name": "stdout",
     "output_type": "stream",
     "text": [
      "p-значение 0.5489560463017016\n",
      "Не получилось отвергнуть нулевую гипотезу\n"
     ]
    }
   ],
   "source": [
    "#Т.к. размеры выборок разные, то будем считать, что дисперсии у генеральных совокупностей разные \n",
    "results = st.ttest_ind(sample_1, sample_2, equal_var=False)\n",
    "\n",
    "#alpha = .01\n",
    "alpha = .05\n",
    "\n",
    "print(f'p-значение', results.pvalue)\n",
    "\n",
    "if results.pvalue < alpha :\n",
    "    print('Отвергаем нулевую гипотезу')\n",
    "else:\n",
    "    print('Не получилось отвергнуть нулевую гипотезу')"
   ]
  },
  {
   "attachments": {},
   "cell_type": "markdown",
   "metadata": {},
   "source": [
    "**Вывод**: При проверке данной гипотезы дисперсии считались разными из-за разного размера выборок. Пороговое значение в данном случае не играло большую роль, т.к. при 1% и 5% нулевая гипотеза не отвергается. Таким образом, средние пользовательские рейтинги платформ Xbox One и PC одинаковые."
   ]
  },
  {
   "attachments": {},
   "cell_type": "markdown",
   "metadata": {},
   "source": [
    "### Средние пользовательские рейтинги жанров Action и Sports разные."
   ]
  },
  {
   "attachments": {},
   "cell_type": "markdown",
   "metadata": {},
   "source": [
    "`Нулевая гипотеза:`  Средние пользовательские рейтинги жанров Action и Sports равны.\n",
    "<br />`Альтернативная гипотеза:`  Средние пользовательские рейтинги жанров Action и Sports не равны."
   ]
  },
  {
   "cell_type": "code",
   "execution_count": 40,
   "metadata": {},
   "outputs": [
    {
     "name": "stdout",
     "output_type": "stream",
     "text": [
      "Размер выборки 1: 523\n",
      "Размер выборки 2: 195\n"
     ]
    }
   ],
   "source": [
    "sample_1 = df[df['genre'] == 'Action']['user_score'].dropna()\n",
    "sample_2 = df[df['genre'] == 'Sports']['user_score'].dropna()\n",
    "\n",
    "print('Размер выборки 1:',len(sample_1))\n",
    "print('Размер выборки 2:',len(sample_2))"
   ]
  },
  {
   "cell_type": "code",
   "execution_count": 41,
   "metadata": {},
   "outputs": [
    {
     "name": "stdout",
     "output_type": "stream",
     "text": [
      "p-значение 4.242899260229549e-20\n",
      "Отвергаем нулевую гипотезу\n"
     ]
    }
   ],
   "source": [
    "#Т.к. размеры выборок разные, то будем считать, что дисперсии у генеральных совокупностей разные \n",
    "results = st.ttest_ind(sample_1, sample_2, equal_var=False)\n",
    "\n",
    "#alpha = .01\n",
    "alpha = .05\n",
    "\n",
    "print(f'p-значение', results.pvalue)\n",
    "\n",
    "if results.pvalue < alpha :\n",
    "    print('Отвергаем нулевую гипотезу')\n",
    "else:\n",
    "    print('Не получилось отвергнуть нулевую гипотезу')"
   ]
  },
  {
   "attachments": {},
   "cell_type": "markdown",
   "metadata": {},
   "source": [
    "**Вывод**: При проверке данной гипотезы дисперсии так же считались разными из-за разного размера выборок. Пороговое значение в данном случае не играло большую роль, т.к. при 1% и 5% нулевая гипотеза отвергалась. Таким образом, гипотеза о том, что средние пользовательские рейтинги жанров Action и Sports разные подтвердилась."
   ]
  },
  {
   "attachments": {},
   "cell_type": "markdown",
   "metadata": {},
   "source": [
    "## Общий вывод"
   ]
  },
  {
   "attachments": {},
   "cell_type": "markdown",
   "metadata": {},
   "source": [
    "1. В результате проделанной работы, мною была произведена предобработка исходных данных: привел названия столбцов к общему виду, изменил типы данных в столбцах на правильные, учитывая экономию памяти, обработал пропуски. В результате работы с пропусками, некоторые записи были удалены ( 0.8% от всей выборки). В 3-х столбцах (оценка пользователей и критиков) было решено оставить пропуски ввиду их большого количества, чтобы не исказить исходные данные. В рейтинге пропуски были замененые на значение 'unknown'. Заменил значение tbd на NaN, т.к. оно подразумевало, что данных на момент заполнения датасета нет. Так же мной было посчитано общее количество продаж по всем регионам и записано в новый столбец total_sales.\n",
    "2. В результате ИАД было определено, что количество выпускаемых игр на различные платформы начало резко расти с 2000 - х годов. Было определено, что платформа в среднем около 10 лет пользуется популярностью и используется для релиза игр, далее на смену приходят новые платформы. Я определил, что в среднем высокие продажи обеспечивают такие платформы как `PS4, XOne, WiiU`, являющиеся потенциально прибыльными. Выявлено, что чем выше оценка критиков, тем выше продажи. Получается, что мнение критиков играет ключевую роль при покупке пользователем игры. Яркая зависимость между пользовательской оценкой и продажами не обнаружена. Наиболее прибыльными являются игры в жанрах `Shooter, Sports, Platform`, а наименне прибыльными являются жанры `Puzzle, Adventure`.\n",
    "3. Далее был составлен портрет пользователя каждого региона: в Северной Америке пользуется популярностью `X360`, в Европе - `PS3`, в Японии -`3DS`. Вкусы пользователей в Европе и Северной Америке совпадают, наиболее популярными жанрами игр в данных регионах являются `Action, Sports, Shooter, Misc, Role-Playing и Racing` . В Японии наиболее прибыльные игры жанра `Role-Playing, Action, Misc, Simulation, Fighting`. Касаемо рейтинга ESRB в Северной Америке и Европе распределение практически одинаково, наиболее популярными являются игры с рейтинго М (для взрослых), касаемо рейтингов в Японии, то у более 50% данных отсутсвует рейтинг, а из имеющихся данных наиболее прибыльные игры с рейтингом E (для всех).\n",
    "4. Последним шагом в проекте была проверка гипотез, было получено:\n",
    "* Средние пользовательские рейтинги платформ Xbox One и PC **одинаковые**.\n",
    "* Средние пользовательские рейтинги жанров Action и Sports **разные**."
   ]
  }
 ],
 "metadata": {
  "ExecuteTimeLog": [
   {
    "duration": 1032,
    "start_time": "2023-01-12T03:38:41.362Z"
   },
   {
    "duration": 82,
    "start_time": "2023-01-12T03:38:42.395Z"
   },
   {
    "duration": 21,
    "start_time": "2023-01-12T03:38:42.479Z"
   },
   {
    "duration": 15,
    "start_time": "2023-01-12T03:38:42.502Z"
   },
   {
    "duration": 5,
    "start_time": "2023-01-12T03:38:42.518Z"
   },
   {
    "duration": 13,
    "start_time": "2023-01-12T03:38:42.525Z"
   },
   {
    "duration": 14,
    "start_time": "2023-01-12T03:38:42.540Z"
   },
   {
    "duration": 14,
    "start_time": "2023-01-12T03:38:42.555Z"
   },
   {
    "duration": 127,
    "start_time": "2023-01-12T03:38:42.571Z"
   },
   {
    "duration": 0,
    "start_time": "2023-01-12T03:38:42.700Z"
   },
   {
    "duration": 0,
    "start_time": "2023-01-12T03:38:42.701Z"
   },
   {
    "duration": 0,
    "start_time": "2023-01-12T03:38:42.702Z"
   },
   {
    "duration": 0,
    "start_time": "2023-01-12T03:38:42.703Z"
   },
   {
    "duration": 0,
    "start_time": "2023-01-12T03:38:42.715Z"
   },
   {
    "duration": 0,
    "start_time": "2023-01-12T03:38:42.716Z"
   },
   {
    "duration": 0,
    "start_time": "2023-01-12T03:38:42.717Z"
   },
   {
    "duration": 0,
    "start_time": "2023-01-12T03:38:42.717Z"
   },
   {
    "duration": 0,
    "start_time": "2023-01-12T03:38:42.718Z"
   },
   {
    "duration": 0,
    "start_time": "2023-01-12T03:38:42.719Z"
   },
   {
    "duration": 0,
    "start_time": "2023-01-12T03:38:42.720Z"
   },
   {
    "duration": 0,
    "start_time": "2023-01-12T03:38:42.721Z"
   },
   {
    "duration": 0,
    "start_time": "2023-01-12T03:38:42.722Z"
   },
   {
    "duration": 0,
    "start_time": "2023-01-12T03:38:42.723Z"
   },
   {
    "duration": 0,
    "start_time": "2023-01-12T03:38:42.724Z"
   },
   {
    "duration": 0,
    "start_time": "2023-01-12T03:38:42.725Z"
   },
   {
    "duration": 0,
    "start_time": "2023-01-12T03:38:42.726Z"
   },
   {
    "duration": 0,
    "start_time": "2023-01-12T03:38:42.727Z"
   },
   {
    "duration": 0,
    "start_time": "2023-01-12T03:38:42.728Z"
   },
   {
    "duration": 0,
    "start_time": "2023-01-12T03:38:42.729Z"
   },
   {
    "duration": 0,
    "start_time": "2023-01-12T03:38:42.729Z"
   },
   {
    "duration": 0,
    "start_time": "2023-01-12T03:38:42.730Z"
   },
   {
    "duration": 0,
    "start_time": "2023-01-12T03:38:42.731Z"
   },
   {
    "duration": 0,
    "start_time": "2023-01-12T03:38:42.733Z"
   },
   {
    "duration": 0,
    "start_time": "2023-01-12T03:38:42.734Z"
   },
   {
    "duration": 0,
    "start_time": "2023-01-12T03:38:42.734Z"
   },
   {
    "duration": 0,
    "start_time": "2023-01-12T03:38:42.735Z"
   },
   {
    "duration": 0,
    "start_time": "2023-01-12T03:38:42.736Z"
   },
   {
    "duration": 0,
    "start_time": "2023-01-12T03:38:42.737Z"
   },
   {
    "duration": 1438,
    "start_time": "2023-01-12T03:49:15.424Z"
   },
   {
    "duration": 149,
    "start_time": "2023-01-12T03:49:19.082Z"
   },
   {
    "duration": 32,
    "start_time": "2023-01-12T03:49:19.859Z"
   },
   {
    "duration": 16,
    "start_time": "2023-01-12T03:49:20.813Z"
   },
   {
    "duration": 4,
    "start_time": "2023-01-12T03:49:32.422Z"
   },
   {
    "duration": 16,
    "start_time": "2023-01-12T03:49:38.397Z"
   },
   {
    "duration": 27,
    "start_time": "2023-01-12T03:49:39.282Z"
   },
   {
    "duration": 21,
    "start_time": "2023-01-12T03:49:39.961Z"
   },
   {
    "duration": 117,
    "start_time": "2023-01-12T03:49:41.762Z"
   },
   {
    "duration": 10,
    "start_time": "2023-01-12T03:50:19.222Z"
   },
   {
    "duration": 11,
    "start_time": "2023-01-12T03:50:34.013Z"
   },
   {
    "duration": 25,
    "start_time": "2023-01-12T03:50:35.095Z"
   },
   {
    "duration": 22,
    "start_time": "2023-01-12T03:50:35.418Z"
   },
   {
    "duration": 15,
    "start_time": "2023-01-12T03:50:36.297Z"
   },
   {
    "duration": 7,
    "start_time": "2023-01-12T03:50:42.852Z"
   },
   {
    "duration": 6,
    "start_time": "2023-01-12T03:50:44.358Z"
   },
   {
    "duration": 6,
    "start_time": "2023-01-12T03:50:46.447Z"
   },
   {
    "duration": 7,
    "start_time": "2023-01-12T03:50:46.940Z"
   },
   {
    "duration": 8,
    "start_time": "2023-01-12T03:50:48.142Z"
   },
   {
    "duration": 6,
    "start_time": "2023-01-12T03:50:48.654Z"
   },
   {
    "duration": 7,
    "start_time": "2023-01-12T03:50:49.947Z"
   },
   {
    "duration": 5,
    "start_time": "2023-01-12T03:50:50.503Z"
   },
   {
    "duration": 18,
    "start_time": "2023-01-12T03:50:51.779Z"
   },
   {
    "duration": 189,
    "start_time": "2023-01-12T03:50:54.316Z"
   },
   {
    "duration": 8,
    "start_time": "2023-01-12T03:50:56.364Z"
   },
   {
    "duration": 10,
    "start_time": "2023-01-12T03:50:57.599Z"
   },
   {
    "duration": 1641,
    "start_time": "2023-01-12T03:50:58.633Z"
   },
   {
    "duration": 5,
    "start_time": "2023-01-12T03:51:00.849Z"
   },
   {
    "duration": 10,
    "start_time": "2023-01-12T03:51:01.964Z"
   },
   {
    "duration": 163,
    "start_time": "2023-01-12T03:51:03.422Z"
   },
   {
    "duration": 28,
    "start_time": "2023-01-12T03:51:12.306Z"
   },
   {
    "duration": 1986,
    "start_time": "2023-01-12T03:51:15.800Z"
   },
   {
    "duration": 36,
    "start_time": "2023-01-12T03:51:19.271Z"
   },
   {
    "duration": 167,
    "start_time": "2023-01-12T03:51:23.523Z"
   },
   {
    "duration": 172,
    "start_time": "2023-01-12T03:51:24.863Z"
   },
   {
    "duration": 37,
    "start_time": "2023-01-12T03:51:32.715Z"
   },
   {
    "duration": 5,
    "start_time": "2023-01-12T03:57:37.808Z"
   },
   {
    "duration": 75,
    "start_time": "2023-01-12T03:57:39.383Z"
   },
   {
    "duration": 18,
    "start_time": "2023-01-12T03:57:40.647Z"
   },
   {
    "duration": 788,
    "start_time": "2023-01-12T04:01:12.958Z"
   },
   {
    "duration": 40,
    "start_time": "2023-01-12T04:02:51.802Z"
   },
   {
    "duration": 1119,
    "start_time": "2023-01-12T04:19:26.868Z"
   },
   {
    "duration": 73,
    "start_time": "2023-01-12T04:19:27.989Z"
   },
   {
    "duration": 19,
    "start_time": "2023-01-12T04:19:28.064Z"
   },
   {
    "duration": 15,
    "start_time": "2023-01-12T04:19:28.085Z"
   },
   {
    "duration": 767,
    "start_time": "2023-01-12T04:19:28.102Z"
   },
   {
    "duration": 31,
    "start_time": "2023-01-12T04:19:28.871Z"
   },
   {
    "duration": 3,
    "start_time": "2023-01-12T04:19:28.903Z"
   },
   {
    "duration": 34,
    "start_time": "2023-01-12T04:19:28.908Z"
   },
   {
    "duration": 18,
    "start_time": "2023-01-12T04:19:28.945Z"
   },
   {
    "duration": 16,
    "start_time": "2023-01-12T04:19:28.965Z"
   },
   {
    "duration": 7,
    "start_time": "2023-01-12T04:19:28.982Z"
   },
   {
    "duration": 5,
    "start_time": "2023-01-12T04:19:28.991Z"
   },
   {
    "duration": 52,
    "start_time": "2023-01-12T04:19:28.997Z"
   },
   {
    "duration": 18,
    "start_time": "2023-01-12T04:19:29.052Z"
   },
   {
    "duration": 6,
    "start_time": "2023-01-12T04:19:29.072Z"
   },
   {
    "duration": 15,
    "start_time": "2023-01-12T04:19:29.080Z"
   },
   {
    "duration": 7,
    "start_time": "2023-01-12T04:19:29.097Z"
   },
   {
    "duration": 13,
    "start_time": "2023-01-12T04:19:29.106Z"
   },
   {
    "duration": 7,
    "start_time": "2023-01-12T04:19:29.134Z"
   },
   {
    "duration": 11,
    "start_time": "2023-01-12T04:19:29.142Z"
   },
   {
    "duration": 10,
    "start_time": "2023-01-12T04:19:29.155Z"
   },
   {
    "duration": 10,
    "start_time": "2023-01-12T04:19:29.166Z"
   },
   {
    "duration": 20,
    "start_time": "2023-01-12T04:19:29.178Z"
   },
   {
    "duration": 164,
    "start_time": "2023-01-12T04:19:29.200Z"
   },
   {
    "duration": 5,
    "start_time": "2023-01-12T04:19:29.366Z"
   },
   {
    "duration": 13,
    "start_time": "2023-01-12T04:19:29.373Z"
   },
   {
    "duration": 1648,
    "start_time": "2023-01-12T04:19:29.387Z"
   },
   {
    "duration": 4,
    "start_time": "2023-01-12T04:19:31.037Z"
   },
   {
    "duration": 40,
    "start_time": "2023-01-12T04:19:31.042Z"
   },
   {
    "duration": 172,
    "start_time": "2023-01-12T04:19:31.084Z"
   },
   {
    "duration": 24,
    "start_time": "2023-01-12T04:19:31.258Z"
   },
   {
    "duration": 1828,
    "start_time": "2023-01-12T04:19:31.284Z"
   },
   {
    "duration": 36,
    "start_time": "2023-01-12T04:19:33.113Z"
   },
   {
    "duration": 169,
    "start_time": "2023-01-12T04:19:33.151Z"
   },
   {
    "duration": 184,
    "start_time": "2023-01-12T04:19:33.322Z"
   },
   {
    "duration": 40,
    "start_time": "2023-01-12T04:19:33.508Z"
   },
   {
    "duration": 8,
    "start_time": "2023-01-12T04:19:33.550Z"
   },
   {
    "duration": 15,
    "start_time": "2023-01-12T04:19:33.560Z"
   },
   {
    "duration": 21,
    "start_time": "2023-01-12T04:19:33.577Z"
   },
   {
    "duration": 20,
    "start_time": "2023-01-12T04:19:33.600Z"
   },
   {
    "duration": 1118,
    "start_time": "2023-01-12T04:20:59.214Z"
   },
   {
    "duration": 74,
    "start_time": "2023-01-12T04:21:00.337Z"
   },
   {
    "duration": 20,
    "start_time": "2023-01-12T04:21:00.412Z"
   },
   {
    "duration": 26,
    "start_time": "2023-01-12T04:21:00.434Z"
   },
   {
    "duration": 715,
    "start_time": "2023-01-12T04:21:00.461Z"
   },
   {
    "duration": 29,
    "start_time": "2023-01-12T04:21:01.178Z"
   },
   {
    "duration": 12,
    "start_time": "2023-01-12T04:21:01.209Z"
   },
   {
    "duration": 29,
    "start_time": "2023-01-12T04:21:01.222Z"
   },
   {
    "duration": 32,
    "start_time": "2023-01-12T04:21:01.253Z"
   },
   {
    "duration": 22,
    "start_time": "2023-01-12T04:21:01.289Z"
   },
   {
    "duration": 23,
    "start_time": "2023-01-12T04:21:01.313Z"
   },
   {
    "duration": 24,
    "start_time": "2023-01-12T04:21:01.338Z"
   },
   {
    "duration": 27,
    "start_time": "2023-01-12T04:21:01.364Z"
   },
   {
    "duration": 37,
    "start_time": "2023-01-12T04:21:01.393Z"
   },
   {
    "duration": 15,
    "start_time": "2023-01-12T04:21:01.432Z"
   },
   {
    "duration": 22,
    "start_time": "2023-01-12T04:21:01.449Z"
   },
   {
    "duration": 27,
    "start_time": "2023-01-12T04:21:01.472Z"
   },
   {
    "duration": 34,
    "start_time": "2023-01-12T04:21:01.501Z"
   },
   {
    "duration": 27,
    "start_time": "2023-01-12T04:21:01.537Z"
   },
   {
    "duration": 57,
    "start_time": "2023-01-12T04:21:01.566Z"
   },
   {
    "duration": 29,
    "start_time": "2023-01-12T04:21:01.625Z"
   },
   {
    "duration": 18,
    "start_time": "2023-01-12T04:21:01.656Z"
   },
   {
    "duration": 26,
    "start_time": "2023-01-12T04:21:01.675Z"
   },
   {
    "duration": 154,
    "start_time": "2023-01-12T04:21:01.703Z"
   },
   {
    "duration": 4,
    "start_time": "2023-01-12T04:21:01.859Z"
   },
   {
    "duration": 23,
    "start_time": "2023-01-12T04:21:01.865Z"
   },
   {
    "duration": 1601,
    "start_time": "2023-01-12T04:21:01.889Z"
   },
   {
    "duration": 4,
    "start_time": "2023-01-12T04:21:03.493Z"
   },
   {
    "duration": 10,
    "start_time": "2023-01-12T04:21:03.499Z"
   },
   {
    "duration": 163,
    "start_time": "2023-01-12T04:21:03.511Z"
   },
   {
    "duration": 25,
    "start_time": "2023-01-12T04:21:03.676Z"
   },
   {
    "duration": 1743,
    "start_time": "2023-01-12T04:21:03.703Z"
   },
   {
    "duration": 25,
    "start_time": "2023-01-12T04:21:05.448Z"
   },
   {
    "duration": 182,
    "start_time": "2023-01-12T04:21:05.475Z"
   },
   {
    "duration": 181,
    "start_time": "2023-01-12T04:21:05.659Z"
   },
   {
    "duration": 29,
    "start_time": "2023-01-12T04:21:05.842Z"
   },
   {
    "duration": 10,
    "start_time": "2023-01-12T04:21:05.873Z"
   },
   {
    "duration": 13,
    "start_time": "2023-01-12T04:21:05.884Z"
   },
   {
    "duration": 17,
    "start_time": "2023-01-12T04:21:05.899Z"
   },
   {
    "duration": 7,
    "start_time": "2023-01-12T04:21:05.935Z"
   },
   {
    "duration": 4,
    "start_time": "2023-01-12T04:24:03.629Z"
   },
   {
    "duration": 1189,
    "start_time": "2023-01-12T04:24:55.628Z"
   },
   {
    "duration": 77,
    "start_time": "2023-01-12T04:24:56.819Z"
   },
   {
    "duration": 20,
    "start_time": "2023-01-12T04:24:56.897Z"
   },
   {
    "duration": 15,
    "start_time": "2023-01-12T04:24:56.920Z"
   },
   {
    "duration": 733,
    "start_time": "2023-01-12T04:24:56.937Z"
   },
   {
    "duration": 40,
    "start_time": "2023-01-12T04:24:57.672Z"
   },
   {
    "duration": 4,
    "start_time": "2023-01-12T04:24:57.713Z"
   },
   {
    "duration": 24,
    "start_time": "2023-01-12T04:24:57.719Z"
   },
   {
    "duration": 17,
    "start_time": "2023-01-12T04:24:57.745Z"
   },
   {
    "duration": 14,
    "start_time": "2023-01-12T04:24:57.765Z"
   },
   {
    "duration": 10,
    "start_time": "2023-01-12T04:24:57.780Z"
   },
   {
    "duration": 16,
    "start_time": "2023-01-12T04:24:57.792Z"
   },
   {
    "duration": 41,
    "start_time": "2023-01-12T04:24:57.810Z"
   },
   {
    "duration": 18,
    "start_time": "2023-01-12T04:24:57.853Z"
   },
   {
    "duration": 5,
    "start_time": "2023-01-12T04:24:57.873Z"
   },
   {
    "duration": 6,
    "start_time": "2023-01-12T04:24:57.880Z"
   },
   {
    "duration": 6,
    "start_time": "2023-01-12T04:24:57.888Z"
   },
   {
    "duration": 5,
    "start_time": "2023-01-12T04:24:57.895Z"
   },
   {
    "duration": 35,
    "start_time": "2023-01-12T04:24:57.902Z"
   },
   {
    "duration": 6,
    "start_time": "2023-01-12T04:24:57.938Z"
   },
   {
    "duration": 8,
    "start_time": "2023-01-12T04:24:57.945Z"
   },
   {
    "duration": 4,
    "start_time": "2023-01-12T04:24:57.954Z"
   },
   {
    "duration": 17,
    "start_time": "2023-01-12T04:24:57.960Z"
   },
   {
    "duration": 185,
    "start_time": "2023-01-12T04:24:57.979Z"
   },
   {
    "duration": 5,
    "start_time": "2023-01-12T04:24:58.166Z"
   },
   {
    "duration": 9,
    "start_time": "2023-01-12T04:24:58.173Z"
   },
   {
    "duration": 1566,
    "start_time": "2023-01-12T04:24:58.183Z"
   },
   {
    "duration": 5,
    "start_time": "2023-01-12T04:24:59.753Z"
   },
   {
    "duration": 22,
    "start_time": "2023-01-12T04:24:59.760Z"
   },
   {
    "duration": 158,
    "start_time": "2023-01-12T04:24:59.784Z"
   },
   {
    "duration": 26,
    "start_time": "2023-01-12T04:24:59.943Z"
   },
   {
    "duration": 1691,
    "start_time": "2023-01-12T04:24:59.971Z"
   },
   {
    "duration": 23,
    "start_time": "2023-01-12T04:25:01.664Z"
   },
   {
    "duration": 172,
    "start_time": "2023-01-12T04:25:01.689Z"
   },
   {
    "duration": 186,
    "start_time": "2023-01-12T04:25:01.863Z"
   },
   {
    "duration": 28,
    "start_time": "2023-01-12T04:25:02.051Z"
   },
   {
    "duration": 20,
    "start_time": "2023-01-12T04:25:02.081Z"
   },
   {
    "duration": 20,
    "start_time": "2023-01-12T04:25:02.102Z"
   },
   {
    "duration": 15,
    "start_time": "2023-01-12T04:25:02.124Z"
   },
   {
    "duration": 13,
    "start_time": "2023-01-12T04:25:02.141Z"
   },
   {
    "duration": 1269,
    "start_time": "2023-01-12T04:25:11.530Z"
   },
   {
    "duration": 76,
    "start_time": "2023-01-12T04:25:12.801Z"
   },
   {
    "duration": 20,
    "start_time": "2023-01-12T04:25:12.879Z"
   },
   {
    "duration": 17,
    "start_time": "2023-01-12T04:25:12.901Z"
   },
   {
    "duration": 821,
    "start_time": "2023-01-12T04:25:12.920Z"
   },
   {
    "duration": 30,
    "start_time": "2023-01-12T04:25:13.743Z"
   },
   {
    "duration": 3,
    "start_time": "2023-01-12T04:25:13.775Z"
   },
   {
    "duration": 17,
    "start_time": "2023-01-12T04:25:13.780Z"
   },
   {
    "duration": 39,
    "start_time": "2023-01-12T04:25:13.798Z"
   },
   {
    "duration": 16,
    "start_time": "2023-01-12T04:25:13.840Z"
   },
   {
    "duration": 8,
    "start_time": "2023-01-12T04:25:13.857Z"
   },
   {
    "duration": 9,
    "start_time": "2023-01-12T04:25:13.866Z"
   },
   {
    "duration": 30,
    "start_time": "2023-01-12T04:25:13.876Z"
   },
   {
    "duration": 43,
    "start_time": "2023-01-12T04:25:13.907Z"
   },
   {
    "duration": 6,
    "start_time": "2023-01-12T04:25:13.952Z"
   },
   {
    "duration": 12,
    "start_time": "2023-01-12T04:25:13.960Z"
   },
   {
    "duration": 7,
    "start_time": "2023-01-12T04:25:13.974Z"
   },
   {
    "duration": 27,
    "start_time": "2023-01-12T04:25:13.982Z"
   },
   {
    "duration": 13,
    "start_time": "2023-01-12T04:25:14.011Z"
   },
   {
    "duration": 11,
    "start_time": "2023-01-12T04:25:14.026Z"
   },
   {
    "duration": 34,
    "start_time": "2023-01-12T04:25:14.039Z"
   },
   {
    "duration": 27,
    "start_time": "2023-01-12T04:25:14.075Z"
   },
   {
    "duration": 41,
    "start_time": "2023-01-12T04:25:14.104Z"
   },
   {
    "duration": 160,
    "start_time": "2023-01-12T04:25:14.146Z"
   },
   {
    "duration": 6,
    "start_time": "2023-01-12T04:25:14.308Z"
   },
   {
    "duration": 23,
    "start_time": "2023-01-12T04:25:14.316Z"
   },
   {
    "duration": 1645,
    "start_time": "2023-01-12T04:25:14.341Z"
   },
   {
    "duration": 6,
    "start_time": "2023-01-12T04:25:15.991Z"
   },
   {
    "duration": 17,
    "start_time": "2023-01-12T04:25:15.998Z"
   },
   {
    "duration": 179,
    "start_time": "2023-01-12T04:25:16.017Z"
   },
   {
    "duration": 25,
    "start_time": "2023-01-12T04:25:16.197Z"
   },
   {
    "duration": 1780,
    "start_time": "2023-01-12T04:25:16.235Z"
   },
   {
    "duration": 35,
    "start_time": "2023-01-12T04:25:18.017Z"
   },
   {
    "duration": 168,
    "start_time": "2023-01-12T04:25:18.054Z"
   },
   {
    "duration": 178,
    "start_time": "2023-01-12T04:25:18.224Z"
   },
   {
    "duration": 41,
    "start_time": "2023-01-12T04:25:18.404Z"
   },
   {
    "duration": 9,
    "start_time": "2023-01-12T04:25:18.446Z"
   },
   {
    "duration": 15,
    "start_time": "2023-01-12T04:25:18.456Z"
   },
   {
    "duration": 10,
    "start_time": "2023-01-12T04:25:18.474Z"
   },
   {
    "duration": 10,
    "start_time": "2023-01-12T04:25:18.486Z"
   },
   {
    "duration": 62,
    "start_time": "2023-01-13T04:38:29.780Z"
   },
   {
    "duration": 1258,
    "start_time": "2023-01-13T05:28:26.763Z"
   },
   {
    "duration": 212,
    "start_time": "2023-01-13T05:28:28.022Z"
   },
   {
    "duration": 23,
    "start_time": "2023-01-13T05:28:28.236Z"
   },
   {
    "duration": 15,
    "start_time": "2023-01-13T05:28:28.261Z"
   },
   {
    "duration": 717,
    "start_time": "2023-01-13T05:28:28.277Z"
   },
   {
    "duration": 35,
    "start_time": "2023-01-13T05:28:28.995Z"
   },
   {
    "duration": 2,
    "start_time": "2023-01-13T05:28:29.032Z"
   },
   {
    "duration": 11,
    "start_time": "2023-01-13T05:28:29.036Z"
   },
   {
    "duration": 15,
    "start_time": "2023-01-13T05:28:29.048Z"
   },
   {
    "duration": 13,
    "start_time": "2023-01-13T05:28:29.065Z"
   },
   {
    "duration": 26,
    "start_time": "2023-01-13T05:28:29.079Z"
   },
   {
    "duration": 6,
    "start_time": "2023-01-13T05:28:29.106Z"
   },
   {
    "duration": 23,
    "start_time": "2023-01-13T05:28:29.113Z"
   },
   {
    "duration": 5,
    "start_time": "2023-01-13T05:29:16.102Z"
   },
   {
    "duration": 6,
    "start_time": "2023-01-13T05:29:22.041Z"
   },
   {
    "duration": 5,
    "start_time": "2023-01-13T05:29:24.156Z"
   },
   {
    "duration": 3,
    "start_time": "2023-01-13T05:29:45.549Z"
   },
   {
    "duration": 5,
    "start_time": "2023-01-13T05:31:42.762Z"
   },
   {
    "duration": 5,
    "start_time": "2023-01-13T05:31:45.663Z"
   },
   {
    "duration": 4,
    "start_time": "2023-01-13T05:31:47.525Z"
   },
   {
    "duration": 5,
    "start_time": "2023-01-13T05:31:47.868Z"
   },
   {
    "duration": 6,
    "start_time": "2023-01-13T05:31:50.448Z"
   },
   {
    "duration": 4,
    "start_time": "2023-01-13T05:31:51.838Z"
   },
   {
    "duration": 7,
    "start_time": "2023-01-13T05:31:54.055Z"
   },
   {
    "duration": 4,
    "start_time": "2023-01-13T05:31:56.406Z"
   },
   {
    "duration": 4,
    "start_time": "2023-01-13T05:33:23.929Z"
   },
   {
    "duration": 99,
    "start_time": "2023-01-13T05:33:38.889Z"
   },
   {
    "duration": 5,
    "start_time": "2023-01-13T05:33:43.581Z"
   },
   {
    "duration": 6,
    "start_time": "2023-01-13T05:33:54.917Z"
   },
   {
    "duration": 85,
    "start_time": "2023-01-13T05:34:49.325Z"
   },
   {
    "duration": 4,
    "start_time": "2023-01-13T05:36:31.241Z"
   },
   {
    "duration": 5,
    "start_time": "2023-01-13T05:36:33.094Z"
   },
   {
    "duration": 5,
    "start_time": "2023-01-13T05:36:33.567Z"
   },
   {
    "duration": 3,
    "start_time": "2023-01-13T05:36:34.067Z"
   },
   {
    "duration": 6,
    "start_time": "2023-01-13T05:36:36.159Z"
   },
   {
    "duration": 18,
    "start_time": "2023-01-13T05:36:36.984Z"
   },
   {
    "duration": 153,
    "start_time": "2023-01-13T05:40:20.849Z"
   },
   {
    "duration": 4,
    "start_time": "2023-01-13T05:40:27.739Z"
   },
   {
    "duration": 7,
    "start_time": "2023-01-13T05:40:31.226Z"
   },
   {
    "duration": 1457,
    "start_time": "2023-01-13T05:40:34.603Z"
   },
   {
    "duration": 170,
    "start_time": "2023-01-13T05:52:38.389Z"
   },
   {
    "duration": 172,
    "start_time": "2023-01-13T05:53:25.470Z"
   },
   {
    "duration": 8,
    "start_time": "2023-01-13T05:54:21.326Z"
   },
   {
    "duration": 9,
    "start_time": "2023-01-13T05:54:34.250Z"
   },
   {
    "duration": 168,
    "start_time": "2023-01-13T05:55:21.892Z"
   },
   {
    "duration": 225,
    "start_time": "2023-01-13T05:57:14.337Z"
   },
   {
    "duration": 7,
    "start_time": "2023-01-13T06:20:22.510Z"
   },
   {
    "duration": 4,
    "start_time": "2023-01-13T06:20:32.312Z"
   },
   {
    "duration": 5,
    "start_time": "2023-01-13T06:20:38.378Z"
   },
   {
    "duration": 4,
    "start_time": "2023-01-13T06:20:39.672Z"
   },
   {
    "duration": 4,
    "start_time": "2023-01-13T06:20:49.918Z"
   },
   {
    "duration": 119,
    "start_time": "2023-01-13T06:20:49.924Z"
   },
   {
    "duration": 17,
    "start_time": "2023-01-13T06:20:50.045Z"
   },
   {
    "duration": 23,
    "start_time": "2023-01-13T06:20:50.064Z"
   },
   {
    "duration": 927,
    "start_time": "2023-01-13T06:20:50.089Z"
   },
   {
    "duration": 37,
    "start_time": "2023-01-13T06:20:51.018Z"
   },
   {
    "duration": 3,
    "start_time": "2023-01-13T06:20:51.056Z"
   },
   {
    "duration": 15,
    "start_time": "2023-01-13T06:20:51.061Z"
   },
   {
    "duration": 23,
    "start_time": "2023-01-13T06:20:51.078Z"
   },
   {
    "duration": 22,
    "start_time": "2023-01-13T06:20:51.106Z"
   },
   {
    "duration": 6,
    "start_time": "2023-01-13T06:20:51.131Z"
   },
   {
    "duration": 6,
    "start_time": "2023-01-13T06:20:51.139Z"
   },
   {
    "duration": 23,
    "start_time": "2023-01-13T06:20:51.146Z"
   },
   {
    "duration": 2,
    "start_time": "2023-01-13T06:20:51.171Z"
   },
   {
    "duration": 39,
    "start_time": "2023-01-13T06:20:51.175Z"
   },
   {
    "duration": 18,
    "start_time": "2023-01-13T06:20:51.216Z"
   },
   {
    "duration": 27,
    "start_time": "2023-01-13T06:20:51.236Z"
   },
   {
    "duration": 10,
    "start_time": "2023-01-13T06:20:51.265Z"
   },
   {
    "duration": 14,
    "start_time": "2023-01-13T06:20:51.277Z"
   },
   {
    "duration": 7,
    "start_time": "2023-01-13T06:20:51.293Z"
   },
   {
    "duration": 19,
    "start_time": "2023-01-13T06:20:51.302Z"
   },
   {
    "duration": 19,
    "start_time": "2023-01-13T06:20:51.323Z"
   },
   {
    "duration": 10,
    "start_time": "2023-01-13T06:20:51.344Z"
   },
   {
    "duration": 20,
    "start_time": "2023-01-13T06:20:51.356Z"
   },
   {
    "duration": 165,
    "start_time": "2023-01-13T06:20:51.378Z"
   },
   {
    "duration": 5,
    "start_time": "2023-01-13T06:20:51.545Z"
   },
   {
    "duration": 27,
    "start_time": "2023-01-13T06:20:51.552Z"
   },
   {
    "duration": 1709,
    "start_time": "2023-01-13T06:20:51.581Z"
   },
   {
    "duration": 5,
    "start_time": "2023-01-13T06:20:56.384Z"
   },
   {
    "duration": 4,
    "start_time": "2023-01-13T06:20:56.785Z"
   },
   {
    "duration": 5,
    "start_time": "2023-01-13T06:22:01.160Z"
   },
   {
    "duration": 3,
    "start_time": "2023-01-13T06:22:03.092Z"
   },
   {
    "duration": 5,
    "start_time": "2023-01-13T06:26:43.844Z"
   },
   {
    "duration": 8,
    "start_time": "2023-01-13T06:26:46.897Z"
   },
   {
    "duration": 159,
    "start_time": "2023-01-13T06:26:55.820Z"
   },
   {
    "duration": 24,
    "start_time": "2023-01-13T06:26:59.338Z"
   },
   {
    "duration": 1725,
    "start_time": "2023-01-13T06:27:04.998Z"
   },
   {
    "duration": 24,
    "start_time": "2023-01-13T06:27:14.839Z"
   },
   {
    "duration": 168,
    "start_time": "2023-01-13T06:27:18.735Z"
   },
   {
    "duration": 23,
    "start_time": "2023-01-13T06:28:59.192Z"
   },
   {
    "duration": 239,
    "start_time": "2023-01-13T06:36:42.526Z"
   },
   {
    "duration": 15,
    "start_time": "2023-01-13T06:38:06.530Z"
   },
   {
    "duration": 8,
    "start_time": "2023-01-13T06:38:09.897Z"
   },
   {
    "duration": 6,
    "start_time": "2023-01-13T06:38:41.632Z"
   },
   {
    "duration": 506,
    "start_time": "2023-01-13T06:38:43.763Z"
   },
   {
    "duration": 485,
    "start_time": "2023-01-13T06:41:26.491Z"
   },
   {
    "duration": 584,
    "start_time": "2023-01-13T06:41:32.258Z"
   },
   {
    "duration": 494,
    "start_time": "2023-01-13T06:41:38.967Z"
   },
   {
    "duration": 574,
    "start_time": "2023-01-13T06:41:57.239Z"
   },
   {
    "duration": 523,
    "start_time": "2023-01-13T06:42:01.372Z"
   },
   {
    "duration": 408,
    "start_time": "2023-01-13T06:44:22.547Z"
   },
   {
    "duration": 430,
    "start_time": "2023-01-13T06:46:47.112Z"
   },
   {
    "duration": 516,
    "start_time": "2023-01-13T06:46:54.519Z"
   },
   {
    "duration": 9,
    "start_time": "2023-01-13T06:50:51.795Z"
   },
   {
    "duration": 8,
    "start_time": "2023-01-13T06:51:21.850Z"
   },
   {
    "duration": 8,
    "start_time": "2023-01-13T06:51:28.575Z"
   },
   {
    "duration": 7,
    "start_time": "2023-01-13T06:51:34.580Z"
   },
   {
    "duration": 47,
    "start_time": "2023-01-13T06:52:56.649Z"
   },
   {
    "duration": 123,
    "start_time": "2023-01-13T06:53:06.742Z"
   },
   {
    "duration": 18,
    "start_time": "2023-01-13T06:53:20.750Z"
   },
   {
    "duration": 1018,
    "start_time": "2023-01-13T06:53:37.322Z"
   },
   {
    "duration": 979,
    "start_time": "2023-01-13T06:53:46.376Z"
   },
   {
    "duration": 72,
    "start_time": "2023-01-13T06:54:01.496Z"
   },
   {
    "duration": 25,
    "start_time": "2023-01-13T06:54:15.253Z"
   },
   {
    "duration": 8,
    "start_time": "2023-01-13T06:57:04.380Z"
   },
   {
    "duration": 8,
    "start_time": "2023-01-13T06:57:09.619Z"
   },
   {
    "duration": 7,
    "start_time": "2023-01-13T06:57:20.219Z"
   },
   {
    "duration": 24,
    "start_time": "2023-01-13T06:57:37.420Z"
   },
   {
    "duration": 8,
    "start_time": "2023-01-13T06:57:46.746Z"
   },
   {
    "duration": 87,
    "start_time": "2023-01-13T06:57:52.803Z"
   },
   {
    "duration": 9,
    "start_time": "2023-01-13T06:57:56.251Z"
   },
   {
    "duration": 8,
    "start_time": "2023-01-13T06:58:17.249Z"
   },
   {
    "duration": 8,
    "start_time": "2023-01-13T06:58:59.761Z"
   },
   {
    "duration": 8,
    "start_time": "2023-01-13T06:59:16.797Z"
   },
   {
    "duration": 25,
    "start_time": "2023-01-13T06:59:51.643Z"
   },
   {
    "duration": 14,
    "start_time": "2023-01-13T07:00:00.721Z"
   },
   {
    "duration": 11,
    "start_time": "2023-01-13T07:00:37.950Z"
   },
   {
    "duration": 11,
    "start_time": "2023-01-13T07:00:51.323Z"
   },
   {
    "duration": 12,
    "start_time": "2023-01-13T07:01:07.719Z"
   },
   {
    "duration": 16,
    "start_time": "2023-01-13T07:01:56.682Z"
   },
   {
    "duration": 347,
    "start_time": "2023-01-13T07:04:05.576Z"
   },
   {
    "duration": 373,
    "start_time": "2023-01-13T07:06:03.522Z"
   },
   {
    "duration": 322,
    "start_time": "2023-01-13T07:06:08.439Z"
   },
   {
    "duration": 89,
    "start_time": "2023-01-13T07:06:39.139Z"
   },
   {
    "duration": 318,
    "start_time": "2023-01-13T07:06:44.003Z"
   },
   {
    "duration": 88,
    "start_time": "2023-01-13T07:07:40.173Z"
   },
   {
    "duration": 288,
    "start_time": "2023-01-13T07:07:44.857Z"
   },
   {
    "duration": 394,
    "start_time": "2023-01-13T07:07:49.393Z"
   },
   {
    "duration": 283,
    "start_time": "2023-01-13T07:07:53.514Z"
   },
   {
    "duration": 305,
    "start_time": "2023-01-13T07:09:14.149Z"
   },
   {
    "duration": 295,
    "start_time": "2023-01-13T07:09:24.764Z"
   },
   {
    "duration": 393,
    "start_time": "2023-01-13T07:10:11.984Z"
   },
   {
    "duration": 286,
    "start_time": "2023-01-13T07:11:21.820Z"
   },
   {
    "duration": 5,
    "start_time": "2023-01-13T07:12:10.658Z"
   },
   {
    "duration": 349,
    "start_time": "2023-01-13T07:12:42.438Z"
   },
   {
    "duration": 336,
    "start_time": "2023-01-13T07:13:23.405Z"
   },
   {
    "duration": 326,
    "start_time": "2023-01-13T07:14:58.834Z"
   },
   {
    "duration": 345,
    "start_time": "2023-01-13T07:15:00.039Z"
   },
   {
    "duration": 323,
    "start_time": "2023-01-13T07:15:49.437Z"
   },
   {
    "duration": 395,
    "start_time": "2023-01-13T07:15:56.493Z"
   },
   {
    "duration": 19,
    "start_time": "2023-01-13T07:16:06.280Z"
   },
   {
    "duration": 359,
    "start_time": "2023-01-13T07:16:10.409Z"
   },
   {
    "duration": 423,
    "start_time": "2023-01-13T07:16:17.324Z"
   },
   {
    "duration": 256,
    "start_time": "2023-01-13T07:16:22.600Z"
   },
   {
    "duration": 270,
    "start_time": "2023-01-13T07:16:29.380Z"
   },
   {
    "duration": 285,
    "start_time": "2023-01-13T07:16:33.861Z"
   },
   {
    "duration": 416,
    "start_time": "2023-01-13T07:16:40.502Z"
   },
   {
    "duration": 341,
    "start_time": "2023-01-13T07:16:45.095Z"
   },
   {
    "duration": 305,
    "start_time": "2023-01-13T07:16:49.704Z"
   },
   {
    "duration": 353,
    "start_time": "2023-01-13T07:16:54.875Z"
   },
   {
    "duration": 298,
    "start_time": "2023-01-13T07:16:59.489Z"
   },
   {
    "duration": 380,
    "start_time": "2023-01-13T07:17:12.175Z"
   },
   {
    "duration": 256,
    "start_time": "2023-01-13T07:17:19.482Z"
   },
   {
    "duration": 292,
    "start_time": "2023-01-13T07:18:49.466Z"
   },
   {
    "duration": 304,
    "start_time": "2023-01-13T07:18:50.346Z"
   },
   {
    "duration": 241,
    "start_time": "2023-01-13T07:18:51.366Z"
   },
   {
    "duration": 309,
    "start_time": "2023-01-13T07:22:09.735Z"
   },
   {
    "duration": 417,
    "start_time": "2023-01-13T07:22:17.067Z"
   },
   {
    "duration": 302,
    "start_time": "2023-01-13T07:22:22.402Z"
   },
   {
    "duration": 242,
    "start_time": "2023-01-13T07:22:31.668Z"
   },
   {
    "duration": 7,
    "start_time": "2023-01-13T07:27:56.273Z"
   },
   {
    "duration": 6,
    "start_time": "2023-01-13T07:27:59.629Z"
   },
   {
    "duration": 4,
    "start_time": "2023-01-13T07:28:23.440Z"
   },
   {
    "duration": 6,
    "start_time": "2023-01-13T07:28:29.055Z"
   },
   {
    "duration": 7,
    "start_time": "2023-01-13T07:30:10.938Z"
   },
   {
    "duration": 5,
    "start_time": "2023-01-13T07:30:20.232Z"
   },
   {
    "duration": 1180,
    "start_time": "2023-01-13T07:40:18.131Z"
   },
   {
    "duration": 96,
    "start_time": "2023-01-13T07:40:19.313Z"
   },
   {
    "duration": 21,
    "start_time": "2023-01-13T07:40:19.411Z"
   },
   {
    "duration": 16,
    "start_time": "2023-01-13T07:40:19.433Z"
   },
   {
    "duration": 734,
    "start_time": "2023-01-13T07:40:19.451Z"
   },
   {
    "duration": 42,
    "start_time": "2023-01-13T07:40:20.186Z"
   },
   {
    "duration": 3,
    "start_time": "2023-01-13T07:40:20.230Z"
   },
   {
    "duration": 20,
    "start_time": "2023-01-13T07:40:20.235Z"
   },
   {
    "duration": 16,
    "start_time": "2023-01-13T07:40:20.257Z"
   },
   {
    "duration": 29,
    "start_time": "2023-01-13T07:40:20.275Z"
   },
   {
    "duration": 7,
    "start_time": "2023-01-13T07:40:20.306Z"
   },
   {
    "duration": 4,
    "start_time": "2023-01-13T07:40:20.314Z"
   },
   {
    "duration": 26,
    "start_time": "2023-01-13T07:40:20.320Z"
   },
   {
    "duration": 7,
    "start_time": "2023-01-13T07:40:20.349Z"
   },
   {
    "duration": 13,
    "start_time": "2023-01-13T07:40:20.358Z"
   },
   {
    "duration": 8,
    "start_time": "2023-01-13T07:40:20.373Z"
   },
   {
    "duration": 7,
    "start_time": "2023-01-13T07:40:20.382Z"
   },
   {
    "duration": 15,
    "start_time": "2023-01-13T07:40:20.391Z"
   },
   {
    "duration": 4,
    "start_time": "2023-01-13T07:40:20.408Z"
   },
   {
    "duration": 9,
    "start_time": "2023-01-13T07:40:20.414Z"
   },
   {
    "duration": 11,
    "start_time": "2023-01-13T07:40:20.424Z"
   },
   {
    "duration": 7,
    "start_time": "2023-01-13T07:40:20.437Z"
   },
   {
    "duration": 6,
    "start_time": "2023-01-13T07:40:20.446Z"
   },
   {
    "duration": 17,
    "start_time": "2023-01-13T07:40:20.453Z"
   },
   {
    "duration": 162,
    "start_time": "2023-01-13T07:40:20.472Z"
   },
   {
    "duration": 6,
    "start_time": "2023-01-13T07:40:20.636Z"
   },
   {
    "duration": 10,
    "start_time": "2023-01-13T07:40:20.644Z"
   },
   {
    "duration": 1498,
    "start_time": "2023-01-13T07:40:20.656Z"
   },
   {
    "duration": 4,
    "start_time": "2023-01-13T07:40:22.156Z"
   },
   {
    "duration": 22,
    "start_time": "2023-01-13T07:40:22.162Z"
   },
   {
    "duration": 167,
    "start_time": "2023-01-13T07:40:22.186Z"
   },
   {
    "duration": 22,
    "start_time": "2023-01-13T07:40:22.355Z"
   },
   {
    "duration": 1516,
    "start_time": "2023-01-13T07:40:22.379Z"
   },
   {
    "duration": 27,
    "start_time": "2023-01-13T07:40:23.896Z"
   },
   {
    "duration": 153,
    "start_time": "2023-01-13T07:40:23.925Z"
   },
   {
    "duration": 342,
    "start_time": "2023-01-13T07:40:24.079Z"
   },
   {
    "duration": 294,
    "start_time": "2023-01-13T07:40:24.423Z"
   },
   {
    "duration": 353,
    "start_time": "2023-01-13T07:40:24.719Z"
   },
   {
    "duration": 9,
    "start_time": "2023-01-13T07:40:25.074Z"
   },
   {
    "duration": 40,
    "start_time": "2023-01-13T07:40:25.084Z"
   },
   {
    "duration": 43,
    "start_time": "2023-01-13T07:40:25.129Z"
   },
   {
    "duration": 64,
    "start_time": "2023-01-13T07:40:25.174Z"
   },
   {
    "duration": 5,
    "start_time": "2023-01-13T07:40:47.239Z"
   },
   {
    "duration": 5,
    "start_time": "2023-01-13T07:41:02.271Z"
   },
   {
    "duration": 7,
    "start_time": "2023-01-13T07:41:08.693Z"
   },
   {
    "duration": 6,
    "start_time": "2023-01-13T07:41:09.140Z"
   },
   {
    "duration": 1121,
    "start_time": "2023-01-13T07:41:20.657Z"
   },
   {
    "duration": 88,
    "start_time": "2023-01-13T07:41:21.780Z"
   },
   {
    "duration": 19,
    "start_time": "2023-01-13T07:41:21.869Z"
   },
   {
    "duration": 61,
    "start_time": "2023-01-13T07:41:21.890Z"
   },
   {
    "duration": 757,
    "start_time": "2023-01-13T07:41:21.953Z"
   },
   {
    "duration": 27,
    "start_time": "2023-01-13T07:41:22.712Z"
   },
   {
    "duration": 11,
    "start_time": "2023-01-13T07:41:22.740Z"
   },
   {
    "duration": 32,
    "start_time": "2023-01-13T07:41:22.753Z"
   },
   {
    "duration": 46,
    "start_time": "2023-01-13T07:41:22.787Z"
   },
   {
    "duration": 39,
    "start_time": "2023-01-13T07:41:22.835Z"
   },
   {
    "duration": 28,
    "start_time": "2023-01-13T07:41:22.876Z"
   },
   {
    "duration": 47,
    "start_time": "2023-01-13T07:41:22.906Z"
   },
   {
    "duration": 60,
    "start_time": "2023-01-13T07:41:22.954Z"
   },
   {
    "duration": 41,
    "start_time": "2023-01-13T07:41:23.016Z"
   },
   {
    "duration": 30,
    "start_time": "2023-01-13T07:41:23.059Z"
   },
   {
    "duration": 41,
    "start_time": "2023-01-13T07:41:23.091Z"
   },
   {
    "duration": 33,
    "start_time": "2023-01-13T07:41:23.134Z"
   },
   {
    "duration": 47,
    "start_time": "2023-01-13T07:41:23.169Z"
   },
   {
    "duration": 31,
    "start_time": "2023-01-13T07:41:23.217Z"
   },
   {
    "duration": 42,
    "start_time": "2023-01-13T07:41:23.249Z"
   },
   {
    "duration": 39,
    "start_time": "2023-01-13T07:41:23.292Z"
   },
   {
    "duration": 48,
    "start_time": "2023-01-13T07:41:23.332Z"
   },
   {
    "duration": 41,
    "start_time": "2023-01-13T07:41:23.382Z"
   },
   {
    "duration": 54,
    "start_time": "2023-01-13T07:41:23.424Z"
   },
   {
    "duration": 167,
    "start_time": "2023-01-13T07:41:23.479Z"
   },
   {
    "duration": 5,
    "start_time": "2023-01-13T07:41:23.648Z"
   },
   {
    "duration": 46,
    "start_time": "2023-01-13T07:41:23.654Z"
   },
   {
    "duration": 1450,
    "start_time": "2023-01-13T07:41:23.701Z"
   },
   {
    "duration": 5,
    "start_time": "2023-01-13T07:41:25.152Z"
   },
   {
    "duration": 40,
    "start_time": "2023-01-13T07:41:25.158Z"
   },
   {
    "duration": 155,
    "start_time": "2023-01-13T07:41:25.199Z"
   },
   {
    "duration": 23,
    "start_time": "2023-01-13T07:41:25.355Z"
   },
   {
    "duration": 1651,
    "start_time": "2023-01-13T07:41:25.379Z"
   },
   {
    "duration": 21,
    "start_time": "2023-01-13T07:41:27.032Z"
   },
   {
    "duration": 153,
    "start_time": "2023-01-13T07:41:27.055Z"
   },
   {
    "duration": 380,
    "start_time": "2023-01-13T07:41:27.209Z"
   },
   {
    "duration": 297,
    "start_time": "2023-01-13T07:41:27.591Z"
   },
   {
    "duration": 367,
    "start_time": "2023-01-13T07:41:27.891Z"
   },
   {
    "duration": 9,
    "start_time": "2023-01-13T07:41:28.260Z"
   },
   {
    "duration": 21,
    "start_time": "2023-01-13T07:41:28.271Z"
   },
   {
    "duration": 38,
    "start_time": "2023-01-13T07:41:28.295Z"
   },
   {
    "duration": 36,
    "start_time": "2023-01-13T07:41:28.334Z"
   },
   {
    "duration": 1245,
    "start_time": "2023-01-13T07:43:07.874Z"
   },
   {
    "duration": 87,
    "start_time": "2023-01-13T07:43:09.120Z"
   },
   {
    "duration": 22,
    "start_time": "2023-01-13T07:43:09.209Z"
   },
   {
    "duration": 17,
    "start_time": "2023-01-13T07:43:09.233Z"
   },
   {
    "duration": 773,
    "start_time": "2023-01-13T07:43:09.253Z"
   },
   {
    "duration": 33,
    "start_time": "2023-01-13T07:43:10.028Z"
   },
   {
    "duration": 3,
    "start_time": "2023-01-13T07:43:10.063Z"
   },
   {
    "duration": 15,
    "start_time": "2023-01-13T07:43:10.068Z"
   },
   {
    "duration": 35,
    "start_time": "2023-01-13T07:43:10.085Z"
   },
   {
    "duration": 20,
    "start_time": "2023-01-13T07:43:10.121Z"
   },
   {
    "duration": 9,
    "start_time": "2023-01-13T07:43:10.143Z"
   },
   {
    "duration": 18,
    "start_time": "2023-01-13T07:43:10.154Z"
   },
   {
    "duration": 43,
    "start_time": "2023-01-13T07:43:10.174Z"
   },
   {
    "duration": 8,
    "start_time": "2023-01-13T07:43:10.219Z"
   },
   {
    "duration": 14,
    "start_time": "2023-01-13T07:43:10.229Z"
   },
   {
    "duration": 7,
    "start_time": "2023-01-13T07:43:10.245Z"
   },
   {
    "duration": 9,
    "start_time": "2023-01-13T07:43:10.254Z"
   },
   {
    "duration": 10,
    "start_time": "2023-01-13T07:43:10.265Z"
   },
   {
    "duration": 19,
    "start_time": "2023-01-13T07:43:10.276Z"
   },
   {
    "duration": 6,
    "start_time": "2023-01-13T07:43:10.297Z"
   },
   {
    "duration": 19,
    "start_time": "2023-01-13T07:43:10.305Z"
   },
   {
    "duration": 15,
    "start_time": "2023-01-13T07:43:10.325Z"
   },
   {
    "duration": 13,
    "start_time": "2023-01-13T07:43:10.341Z"
   },
   {
    "duration": 17,
    "start_time": "2023-01-13T07:43:10.356Z"
   },
   {
    "duration": 144,
    "start_time": "2023-01-13T07:43:10.374Z"
   },
   {
    "duration": 5,
    "start_time": "2023-01-13T07:43:10.520Z"
   },
   {
    "duration": 8,
    "start_time": "2023-01-13T07:43:10.526Z"
   },
   {
    "duration": 1491,
    "start_time": "2023-01-13T07:43:10.536Z"
   },
   {
    "duration": 4,
    "start_time": "2023-01-13T07:43:12.029Z"
   },
   {
    "duration": 14,
    "start_time": "2023-01-13T07:43:12.034Z"
   },
   {
    "duration": 156,
    "start_time": "2023-01-13T07:43:12.050Z"
   },
   {
    "duration": 24,
    "start_time": "2023-01-13T07:43:12.207Z"
   },
   {
    "duration": 1621,
    "start_time": "2023-01-13T07:43:12.233Z"
   },
   {
    "duration": 26,
    "start_time": "2023-01-13T07:43:13.856Z"
   },
   {
    "duration": 169,
    "start_time": "2023-01-13T07:43:13.883Z"
   },
   {
    "duration": 364,
    "start_time": "2023-01-13T07:43:14.053Z"
   },
   {
    "duration": 331,
    "start_time": "2023-01-13T07:43:14.420Z"
   },
   {
    "duration": 360,
    "start_time": "2023-01-13T07:43:14.753Z"
   },
   {
    "duration": 7,
    "start_time": "2023-01-13T07:43:15.115Z"
   },
   {
    "duration": 10,
    "start_time": "2023-01-13T07:43:15.124Z"
   },
   {
    "duration": 14,
    "start_time": "2023-01-13T07:43:15.138Z"
   },
   {
    "duration": 8,
    "start_time": "2023-01-13T07:43:15.153Z"
   },
   {
    "duration": 5,
    "start_time": "2023-01-13T07:45:24.912Z"
   },
   {
    "duration": 1110,
    "start_time": "2023-01-13T07:45:32.387Z"
   },
   {
    "duration": 90,
    "start_time": "2023-01-13T07:45:33.499Z"
   },
   {
    "duration": 21,
    "start_time": "2023-01-13T07:45:33.591Z"
   },
   {
    "duration": 15,
    "start_time": "2023-01-13T07:45:33.613Z"
   },
   {
    "duration": 726,
    "start_time": "2023-01-13T07:45:33.630Z"
   },
   {
    "duration": 28,
    "start_time": "2023-01-13T07:45:34.357Z"
   },
   {
    "duration": 18,
    "start_time": "2023-01-13T07:45:34.386Z"
   },
   {
    "duration": 9,
    "start_time": "2023-01-13T07:45:34.406Z"
   },
   {
    "duration": 15,
    "start_time": "2023-01-13T07:45:34.416Z"
   },
   {
    "duration": 15,
    "start_time": "2023-01-13T07:45:34.433Z"
   },
   {
    "duration": 8,
    "start_time": "2023-01-13T07:45:34.449Z"
   },
   {
    "duration": 5,
    "start_time": "2023-01-13T07:45:34.458Z"
   },
   {
    "duration": 8,
    "start_time": "2023-01-13T07:45:34.464Z"
   },
   {
    "duration": 5,
    "start_time": "2023-01-13T07:45:34.504Z"
   },
   {
    "duration": 21,
    "start_time": "2023-01-13T07:45:34.511Z"
   },
   {
    "duration": 9,
    "start_time": "2023-01-13T07:45:34.534Z"
   },
   {
    "duration": 7,
    "start_time": "2023-01-13T07:45:34.544Z"
   },
   {
    "duration": 7,
    "start_time": "2023-01-13T07:45:34.552Z"
   },
   {
    "duration": 15,
    "start_time": "2023-01-13T07:45:34.560Z"
   },
   {
    "duration": 16,
    "start_time": "2023-01-13T07:45:34.576Z"
   },
   {
    "duration": 37,
    "start_time": "2023-01-13T07:45:34.594Z"
   },
   {
    "duration": 35,
    "start_time": "2023-01-13T07:45:34.632Z"
   },
   {
    "duration": 142,
    "start_time": "2023-01-13T07:45:34.669Z"
   },
   {
    "duration": 6,
    "start_time": "2023-01-13T07:45:34.814Z"
   },
   {
    "duration": 19,
    "start_time": "2023-01-13T07:45:34.822Z"
   },
   {
    "duration": 1595,
    "start_time": "2023-01-13T07:45:34.842Z"
   },
   {
    "duration": 5,
    "start_time": "2023-01-13T07:45:36.438Z"
   },
   {
    "duration": 21,
    "start_time": "2023-01-13T07:45:36.444Z"
   },
   {
    "duration": 131,
    "start_time": "2023-01-13T07:45:36.466Z"
   },
   {
    "duration": 28,
    "start_time": "2023-01-13T07:45:36.599Z"
   },
   {
    "duration": 1803,
    "start_time": "2023-01-13T07:45:36.629Z"
   },
   {
    "duration": 28,
    "start_time": "2023-01-13T07:45:38.434Z"
   },
   {
    "duration": 172,
    "start_time": "2023-01-13T07:45:38.464Z"
   },
   {
    "duration": 355,
    "start_time": "2023-01-13T07:45:38.638Z"
   },
   {
    "duration": 344,
    "start_time": "2023-01-13T07:45:38.995Z"
   },
   {
    "duration": 347,
    "start_time": "2023-01-13T07:45:39.342Z"
   },
   {
    "duration": 15,
    "start_time": "2023-01-13T07:45:39.691Z"
   },
   {
    "duration": 10,
    "start_time": "2023-01-13T07:45:39.708Z"
   },
   {
    "duration": 8,
    "start_time": "2023-01-13T07:45:39.720Z"
   },
   {
    "duration": 8,
    "start_time": "2023-01-13T07:45:39.729Z"
   },
   {
    "duration": 6,
    "start_time": "2023-01-13T07:46:58.494Z"
   },
   {
    "duration": 5,
    "start_time": "2023-01-13T07:47:25.545Z"
   },
   {
    "duration": 5,
    "start_time": "2023-01-13T07:47:29.517Z"
   },
   {
    "duration": 5,
    "start_time": "2023-01-13T07:47:31.756Z"
   },
   {
    "duration": 4,
    "start_time": "2023-01-13T07:47:33.122Z"
   },
   {
    "duration": 1215,
    "start_time": "2023-01-13T07:47:45.995Z"
   },
   {
    "duration": 88,
    "start_time": "2023-01-13T07:47:47.212Z"
   },
   {
    "duration": 25,
    "start_time": "2023-01-13T07:47:47.302Z"
   },
   {
    "duration": 22,
    "start_time": "2023-01-13T07:47:47.329Z"
   },
   {
    "duration": 775,
    "start_time": "2023-01-13T07:47:47.354Z"
   },
   {
    "duration": 34,
    "start_time": "2023-01-13T07:47:48.131Z"
   },
   {
    "duration": 52,
    "start_time": "2023-01-13T07:47:48.166Z"
   },
   {
    "duration": 55,
    "start_time": "2023-01-13T07:47:48.220Z"
   },
   {
    "duration": 69,
    "start_time": "2023-01-13T07:47:48.277Z"
   },
   {
    "duration": 72,
    "start_time": "2023-01-13T07:47:48.349Z"
   },
   {
    "duration": 42,
    "start_time": "2023-01-13T07:47:48.422Z"
   },
   {
    "duration": 39,
    "start_time": "2023-01-13T07:47:48.466Z"
   },
   {
    "duration": 38,
    "start_time": "2023-01-13T07:47:48.506Z"
   },
   {
    "duration": 56,
    "start_time": "2023-01-13T07:47:48.546Z"
   },
   {
    "duration": 38,
    "start_time": "2023-01-13T07:47:48.604Z"
   },
   {
    "duration": 41,
    "start_time": "2023-01-13T07:47:48.644Z"
   },
   {
    "duration": 37,
    "start_time": "2023-01-13T07:47:48.686Z"
   },
   {
    "duration": 39,
    "start_time": "2023-01-13T07:47:48.725Z"
   },
   {
    "duration": 24,
    "start_time": "2023-01-13T07:47:48.766Z"
   },
   {
    "duration": 40,
    "start_time": "2023-01-13T07:47:48.792Z"
   },
   {
    "duration": 74,
    "start_time": "2023-01-13T07:47:48.833Z"
   },
   {
    "duration": 57,
    "start_time": "2023-01-13T07:47:48.909Z"
   },
   {
    "duration": 179,
    "start_time": "2023-01-13T07:47:48.968Z"
   },
   {
    "duration": 6,
    "start_time": "2023-01-13T07:47:49.149Z"
   },
   {
    "duration": 28,
    "start_time": "2023-01-13T07:47:49.157Z"
   },
   {
    "duration": 1488,
    "start_time": "2023-01-13T07:47:49.187Z"
   },
   {
    "duration": 4,
    "start_time": "2023-01-13T07:47:50.677Z"
   },
   {
    "duration": 55,
    "start_time": "2023-01-13T07:47:50.684Z"
   },
   {
    "duration": 219,
    "start_time": "2023-01-13T07:47:50.741Z"
   },
   {
    "duration": 23,
    "start_time": "2023-01-13T07:47:50.962Z"
   },
   {
    "duration": 1650,
    "start_time": "2023-01-13T07:47:50.986Z"
   },
   {
    "duration": 22,
    "start_time": "2023-01-13T07:47:52.637Z"
   },
   {
    "duration": 155,
    "start_time": "2023-01-13T07:47:52.661Z"
   },
   {
    "duration": 344,
    "start_time": "2023-01-13T07:47:52.817Z"
   },
   {
    "duration": 284,
    "start_time": "2023-01-13T07:47:53.163Z"
   },
   {
    "duration": 332,
    "start_time": "2023-01-13T07:47:53.449Z"
   },
   {
    "duration": 6,
    "start_time": "2023-01-13T07:47:53.783Z"
   },
   {
    "duration": 56,
    "start_time": "2023-01-13T07:47:53.791Z"
   },
   {
    "duration": 42,
    "start_time": "2023-01-13T07:47:53.848Z"
   },
   {
    "duration": 40,
    "start_time": "2023-01-13T07:47:53.892Z"
   },
   {
    "duration": 1108,
    "start_time": "2023-01-13T07:48:43.732Z"
   },
   {
    "duration": 93,
    "start_time": "2023-01-13T07:48:44.841Z"
   },
   {
    "duration": 20,
    "start_time": "2023-01-13T07:48:44.936Z"
   },
   {
    "duration": 16,
    "start_time": "2023-01-13T07:48:44.957Z"
   },
   {
    "duration": 768,
    "start_time": "2023-01-13T07:48:44.975Z"
   },
   {
    "duration": 30,
    "start_time": "2023-01-13T07:48:45.744Z"
   },
   {
    "duration": 2,
    "start_time": "2023-01-13T07:48:45.776Z"
   },
   {
    "duration": 37,
    "start_time": "2023-01-13T07:48:45.780Z"
   },
   {
    "duration": 17,
    "start_time": "2023-01-13T07:48:45.819Z"
   },
   {
    "duration": 15,
    "start_time": "2023-01-13T07:48:45.837Z"
   },
   {
    "duration": 6,
    "start_time": "2023-01-13T07:48:45.853Z"
   },
   {
    "duration": 10,
    "start_time": "2023-01-13T07:48:45.861Z"
   },
   {
    "duration": 14,
    "start_time": "2023-01-13T07:48:45.873Z"
   },
   {
    "duration": 7,
    "start_time": "2023-01-13T07:48:45.904Z"
   },
   {
    "duration": 18,
    "start_time": "2023-01-13T07:48:45.912Z"
   },
   {
    "duration": 12,
    "start_time": "2023-01-13T07:48:45.931Z"
   },
   {
    "duration": 20,
    "start_time": "2023-01-13T07:48:45.944Z"
   },
   {
    "duration": 20,
    "start_time": "2023-01-13T07:48:45.966Z"
   },
   {
    "duration": 10,
    "start_time": "2023-01-13T07:48:45.987Z"
   },
   {
    "duration": 24,
    "start_time": "2023-01-13T07:48:45.998Z"
   },
   {
    "duration": 29,
    "start_time": "2023-01-13T07:48:46.024Z"
   },
   {
    "duration": 25,
    "start_time": "2023-01-13T07:48:46.055Z"
   },
   {
    "duration": 31,
    "start_time": "2023-01-13T07:48:46.082Z"
   },
   {
    "duration": 152,
    "start_time": "2023-01-13T07:48:46.114Z"
   },
   {
    "duration": 4,
    "start_time": "2023-01-13T07:48:46.268Z"
   },
   {
    "duration": 9,
    "start_time": "2023-01-13T07:48:46.273Z"
   },
   {
    "duration": 1581,
    "start_time": "2023-01-13T07:48:46.283Z"
   },
   {
    "duration": 6,
    "start_time": "2023-01-13T07:48:47.865Z"
   },
   {
    "duration": 14,
    "start_time": "2023-01-13T07:48:47.872Z"
   },
   {
    "duration": 159,
    "start_time": "2023-01-13T07:48:47.888Z"
   },
   {
    "duration": 28,
    "start_time": "2023-01-13T07:48:48.049Z"
   },
   {
    "duration": 1691,
    "start_time": "2023-01-13T07:48:48.078Z"
   },
   {
    "duration": 23,
    "start_time": "2023-01-13T07:48:49.770Z"
   },
   {
    "duration": 157,
    "start_time": "2023-01-13T07:48:49.805Z"
   },
   {
    "duration": 334,
    "start_time": "2023-01-13T07:48:49.963Z"
   },
   {
    "duration": 287,
    "start_time": "2023-01-13T07:48:50.299Z"
   },
   {
    "duration": 349,
    "start_time": "2023-01-13T07:48:50.588Z"
   },
   {
    "duration": 7,
    "start_time": "2023-01-13T07:48:50.938Z"
   },
   {
    "duration": 14,
    "start_time": "2023-01-13T07:48:50.946Z"
   },
   {
    "duration": 13,
    "start_time": "2023-01-13T07:48:50.961Z"
   },
   {
    "duration": 4,
    "start_time": "2023-01-13T07:48:50.978Z"
   },
   {
    "duration": 4,
    "start_time": "2023-01-13T07:49:29.115Z"
   },
   {
    "duration": 46,
    "start_time": "2023-01-13T07:49:46.445Z"
   },
   {
    "duration": 152,
    "start_time": "2023-01-13T07:49:46.493Z"
   },
   {
    "duration": 15,
    "start_time": "2023-01-13T07:49:46.646Z"
   },
   {
    "duration": 47,
    "start_time": "2023-01-13T07:49:46.662Z"
   },
   {
    "duration": 780,
    "start_time": "2023-01-13T07:49:46.710Z"
   },
   {
    "duration": 41,
    "start_time": "2023-01-13T07:49:47.492Z"
   },
   {
    "duration": 9,
    "start_time": "2023-01-13T07:49:47.534Z"
   },
   {
    "duration": 56,
    "start_time": "2023-01-13T07:49:47.544Z"
   },
   {
    "duration": 33,
    "start_time": "2023-01-13T07:49:47.602Z"
   },
   {
    "duration": 55,
    "start_time": "2023-01-13T07:49:47.636Z"
   },
   {
    "duration": 39,
    "start_time": "2023-01-13T07:49:47.693Z"
   },
   {
    "duration": 34,
    "start_time": "2023-01-13T07:49:47.733Z"
   },
   {
    "duration": 26,
    "start_time": "2023-01-13T07:49:47.769Z"
   },
   {
    "duration": 43,
    "start_time": "2023-01-13T07:49:47.797Z"
   },
   {
    "duration": 56,
    "start_time": "2023-01-13T07:49:47.841Z"
   },
   {
    "duration": 34,
    "start_time": "2023-01-13T07:49:47.898Z"
   },
   {
    "duration": 33,
    "start_time": "2023-01-13T07:49:47.934Z"
   },
   {
    "duration": 45,
    "start_time": "2023-01-13T07:49:47.969Z"
   },
   {
    "duration": 57,
    "start_time": "2023-01-13T07:49:48.015Z"
   },
   {
    "duration": 49,
    "start_time": "2023-01-13T07:49:48.073Z"
   },
   {
    "duration": 69,
    "start_time": "2023-01-13T07:49:48.123Z"
   },
   {
    "duration": 58,
    "start_time": "2023-01-13T07:49:48.193Z"
   },
   {
    "duration": 64,
    "start_time": "2023-01-13T07:49:48.253Z"
   },
   {
    "duration": 176,
    "start_time": "2023-01-13T07:49:48.319Z"
   },
   {
    "duration": 11,
    "start_time": "2023-01-13T07:49:48.497Z"
   },
   {
    "duration": 38,
    "start_time": "2023-01-13T07:49:48.510Z"
   },
   {
    "duration": 1537,
    "start_time": "2023-01-13T07:49:48.550Z"
   },
   {
    "duration": 5,
    "start_time": "2023-01-13T07:49:50.089Z"
   },
   {
    "duration": 41,
    "start_time": "2023-01-13T07:49:50.104Z"
   },
   {
    "duration": 165,
    "start_time": "2023-01-13T07:49:50.146Z"
   },
   {
    "duration": 24,
    "start_time": "2023-01-13T07:49:50.312Z"
   },
   {
    "duration": 1615,
    "start_time": "2023-01-13T07:49:50.338Z"
   },
   {
    "duration": 27,
    "start_time": "2023-01-13T07:49:51.955Z"
   },
   {
    "duration": 172,
    "start_time": "2023-01-13T07:49:51.984Z"
   },
   {
    "duration": 311,
    "start_time": "2023-01-13T07:49:52.158Z"
   },
   {
    "duration": 303,
    "start_time": "2023-01-13T07:49:52.471Z"
   },
   {
    "duration": 359,
    "start_time": "2023-01-13T07:49:52.776Z"
   },
   {
    "duration": 7,
    "start_time": "2023-01-13T07:49:53.137Z"
   },
   {
    "duration": 41,
    "start_time": "2023-01-13T07:49:53.146Z"
   },
   {
    "duration": 36,
    "start_time": "2023-01-13T07:49:53.189Z"
   },
   {
    "duration": 62,
    "start_time": "2023-01-13T07:49:53.226Z"
   },
   {
    "duration": 1142,
    "start_time": "2023-01-13T07:51:23.973Z"
   },
   {
    "duration": 88,
    "start_time": "2023-01-13T07:51:25.117Z"
   },
   {
    "duration": 19,
    "start_time": "2023-01-13T07:51:25.207Z"
   },
   {
    "duration": 26,
    "start_time": "2023-01-13T07:51:25.228Z"
   },
   {
    "duration": 744,
    "start_time": "2023-01-13T07:51:25.256Z"
   },
   {
    "duration": 30,
    "start_time": "2023-01-13T07:51:26.004Z"
   },
   {
    "duration": 3,
    "start_time": "2023-01-13T07:51:26.035Z"
   },
   {
    "duration": 12,
    "start_time": "2023-01-13T07:51:26.039Z"
   },
   {
    "duration": 18,
    "start_time": "2023-01-13T07:51:26.053Z"
   },
   {
    "duration": 37,
    "start_time": "2023-01-13T07:51:26.072Z"
   },
   {
    "duration": 6,
    "start_time": "2023-01-13T07:51:26.111Z"
   },
   {
    "duration": 10,
    "start_time": "2023-01-13T07:51:26.118Z"
   },
   {
    "duration": 9,
    "start_time": "2023-01-13T07:51:26.130Z"
   },
   {
    "duration": 7,
    "start_time": "2023-01-13T07:51:26.142Z"
   },
   {
    "duration": 8,
    "start_time": "2023-01-13T07:51:26.151Z"
   },
   {
    "duration": 8,
    "start_time": "2023-01-13T07:51:26.161Z"
   },
   {
    "duration": 33,
    "start_time": "2023-01-13T07:51:26.171Z"
   },
   {
    "duration": 5,
    "start_time": "2023-01-13T07:51:26.206Z"
   },
   {
    "duration": 11,
    "start_time": "2023-01-13T07:51:26.212Z"
   },
   {
    "duration": 10,
    "start_time": "2023-01-13T07:51:26.225Z"
   },
   {
    "duration": 8,
    "start_time": "2023-01-13T07:51:26.236Z"
   },
   {
    "duration": 7,
    "start_time": "2023-01-13T07:51:26.245Z"
   },
   {
    "duration": 20,
    "start_time": "2023-01-13T07:51:26.253Z"
   },
   {
    "duration": 160,
    "start_time": "2023-01-13T07:51:26.275Z"
   },
   {
    "duration": 7,
    "start_time": "2023-01-13T07:51:26.437Z"
   },
   {
    "duration": 9,
    "start_time": "2023-01-13T07:51:26.445Z"
   },
   {
    "duration": 1511,
    "start_time": "2023-01-13T07:51:26.455Z"
   },
   {
    "duration": 4,
    "start_time": "2023-01-13T07:51:27.967Z"
   },
   {
    "duration": 27,
    "start_time": "2023-01-13T07:51:27.973Z"
   },
   {
    "duration": 166,
    "start_time": "2023-01-13T07:51:28.001Z"
   },
   {
    "duration": 25,
    "start_time": "2023-01-13T07:51:28.168Z"
   },
   {
    "duration": 1556,
    "start_time": "2023-01-13T07:51:28.205Z"
   },
   {
    "duration": 24,
    "start_time": "2023-01-13T07:51:29.763Z"
   },
   {
    "duration": 184,
    "start_time": "2023-01-13T07:51:29.788Z"
   },
   {
    "duration": 379,
    "start_time": "2023-01-13T07:51:29.974Z"
   },
   {
    "duration": 308,
    "start_time": "2023-01-13T07:51:30.355Z"
   },
   {
    "duration": 347,
    "start_time": "2023-01-13T07:51:30.665Z"
   },
   {
    "duration": 7,
    "start_time": "2023-01-13T07:51:31.013Z"
   },
   {
    "duration": 27,
    "start_time": "2023-01-13T07:51:31.022Z"
   },
   {
    "duration": 21,
    "start_time": "2023-01-13T07:51:31.051Z"
   },
   {
    "duration": 8,
    "start_time": "2023-01-13T07:51:31.076Z"
   },
   {
    "duration": 1143,
    "start_time": "2023-01-13T07:55:48.799Z"
   },
   {
    "duration": 100,
    "start_time": "2023-01-13T07:55:49.944Z"
   },
   {
    "duration": 23,
    "start_time": "2023-01-13T07:55:50.047Z"
   },
   {
    "duration": 60,
    "start_time": "2023-01-13T07:55:50.072Z"
   },
   {
    "duration": 782,
    "start_time": "2023-01-13T07:55:50.135Z"
   },
   {
    "duration": 27,
    "start_time": "2023-01-13T07:55:50.919Z"
   },
   {
    "duration": 12,
    "start_time": "2023-01-13T07:55:50.947Z"
   },
   {
    "duration": 37,
    "start_time": "2023-01-13T07:55:50.960Z"
   },
   {
    "duration": 42,
    "start_time": "2023-01-13T07:55:50.999Z"
   },
   {
    "duration": 49,
    "start_time": "2023-01-13T07:55:51.042Z"
   },
   {
    "duration": 25,
    "start_time": "2023-01-13T07:55:51.093Z"
   },
   {
    "duration": 36,
    "start_time": "2023-01-13T07:55:51.120Z"
   },
   {
    "duration": 46,
    "start_time": "2023-01-13T07:55:51.157Z"
   },
   {
    "duration": 43,
    "start_time": "2023-01-13T07:55:51.206Z"
   },
   {
    "duration": 37,
    "start_time": "2023-01-13T07:55:51.250Z"
   },
   {
    "duration": 36,
    "start_time": "2023-01-13T07:55:51.288Z"
   },
   {
    "duration": 57,
    "start_time": "2023-01-13T07:55:51.326Z"
   },
   {
    "duration": 49,
    "start_time": "2023-01-13T07:55:51.385Z"
   },
   {
    "duration": 35,
    "start_time": "2023-01-13T07:55:51.435Z"
   },
   {
    "duration": 62,
    "start_time": "2023-01-13T07:55:51.472Z"
   },
   {
    "duration": 38,
    "start_time": "2023-01-13T07:55:51.536Z"
   },
   {
    "duration": 35,
    "start_time": "2023-01-13T07:55:51.576Z"
   },
   {
    "duration": 54,
    "start_time": "2023-01-13T07:55:51.613Z"
   },
   {
    "duration": 178,
    "start_time": "2023-01-13T07:55:51.668Z"
   },
   {
    "duration": 5,
    "start_time": "2023-01-13T07:55:51.848Z"
   },
   {
    "duration": 48,
    "start_time": "2023-01-13T07:55:51.854Z"
   },
   {
    "duration": 1506,
    "start_time": "2023-01-13T07:55:51.904Z"
   },
   {
    "duration": 5,
    "start_time": "2023-01-13T07:55:53.412Z"
   },
   {
    "duration": 38,
    "start_time": "2023-01-13T07:55:53.418Z"
   },
   {
    "duration": 192,
    "start_time": "2023-01-13T07:55:53.457Z"
   },
   {
    "duration": 27,
    "start_time": "2023-01-13T07:55:53.650Z"
   },
   {
    "duration": 1592,
    "start_time": "2023-01-13T07:55:53.679Z"
   },
   {
    "duration": 31,
    "start_time": "2023-01-13T07:55:55.273Z"
   },
   {
    "duration": 167,
    "start_time": "2023-01-13T07:55:55.306Z"
   },
   {
    "duration": 322,
    "start_time": "2023-01-13T07:55:55.475Z"
   },
   {
    "duration": 316,
    "start_time": "2023-01-13T07:55:55.799Z"
   },
   {
    "duration": 359,
    "start_time": "2023-01-13T07:55:56.116Z"
   },
   {
    "duration": 6,
    "start_time": "2023-01-13T07:55:56.477Z"
   },
   {
    "duration": 65,
    "start_time": "2023-01-13T07:55:56.485Z"
   },
   {
    "duration": 41,
    "start_time": "2023-01-13T07:55:56.551Z"
   },
   {
    "duration": 45,
    "start_time": "2023-01-13T07:55:56.595Z"
   }
  ],
  "celltoolbar": "Необработанный формат ячейки",
  "kernelspec": {
   "display_name": "Python 3 (ipykernel)",
   "language": "python",
   "name": "python3"
  },
  "language_info": {
   "codemirror_mode": {
    "name": "ipython",
    "version": 3
   },
   "file_extension": ".py",
   "mimetype": "text/x-python",
   "name": "python",
   "nbconvert_exporter": "python",
   "pygments_lexer": "ipython3",
   "version": "3.9.13"
  },
  "toc": {
   "base_numbering": 1,
   "nav_menu": {},
   "number_sections": true,
   "sideBar": true,
   "skip_h1_title": true,
   "title_cell": "Table of Contents",
   "title_sidebar": "Contents",
   "toc_cell": false,
   "toc_position": {},
   "toc_section_display": true,
   "toc_window_display": false
  }
 },
 "nbformat": 4,
 "nbformat_minor": 2
}
