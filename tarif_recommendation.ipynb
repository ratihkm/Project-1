{
 "cells": [
  {
   "cell_type": "markdown",
   "metadata": {},
   "source": [
    "# Рекомендация тарифов"
   ]
  },
  {
   "cell_type": "markdown",
   "metadata": {},
   "source": [
    "<h1> Комментарий ревьюера </h1>\n",
    "\n",
    "Привет, Мхитар!\n",
    "Меня зовут Виктория Ильина, и я буду проверять твой проект. Предлагаю общаться на \"ты\", но если тебе будет не комфортно, обязательно сообщи и мы перейдем на \"вы\". \n",
    "\n",
    "Моя основная цель - не указать на совершённые тобой ошибки, а поделиться своим опытом и помочь тебе стать специалистом по Data Science. Ты уже проделал большую работу над проектом, но давай сделаем его ещё лучше. Ниже ты найдёшь мои комментарии - пожалуйста, не перемещай, не изменяй и не удаляй их. Я буду использовать различные цвета, чтобы было легче воспринимать мои комментарии:\n",
    "\n",
    "<div class=\"alert alert-block alert-danger\">\n",
    "<b>Комментарий ревьюера❌:</b> Так выделены самые важные замечания. Без их отработки проект не будет принят.\n",
    "</div>\n",
    "\n",
    "<div class=\"alert alert-block alert-warning\">\n",
    "<b>Комментарий ревьюера🤔:</b> Так выделены небольшие замечания. Одно-два таких замечания в проекте допустимы, но если их будет больше - тебе будет необходимо внести исправления. Однако, если перед нами стоит цель не просто сдать проект и забыть, а приобрести новые знания и успешно применять их в будущем, я бы всё-таки рекомендовала тебе прорабатывать эти недочёты.\n",
    "</div>\n",
    "    \n",
    "<div class=\"alert alert-block alert-success\">\n",
    "<b>Комментарий ревьюера👍:</b> Так я выделю все остальные комментарии.\n",
    "</div>\n",
    "    \n",
    "Давай работать над проектом в диалоге: если ты что-то меняешь в проекте или отвечаешь на мои комментарии - пиши об этом. Мне будет легче отследить изменения, если ты выделишь свои комментарии:\n",
    "\n",
    "<div class=\"alert alert-block alert-info\">\n",
    "<b>Комментарий студента:</b> Например, вот так.\n",
    "</div>\n",
    "\n",
    "Давай посмотрим, что получилось!"
   ]
  },
  {
   "cell_type": "markdown",
   "metadata": {},
   "source": [
    "В вашем распоряжении данные о поведении клиентов, которые уже перешли на эти тарифы (из проекта курса «Статистический анализ данных»). Нужно построить модель для задачи классификации, которая выберет подходящий тариф. Предобработка данных не понадобится — вы её уже сделали.\n",
    "\n",
    "Постройте модель с максимально большим значением *accuracy*. Чтобы сдать проект успешно, нужно довести долю правильных ответов по крайней мере до 0.75. Проверьте *accuracy* на тестовой выборке самостоятельно."
   ]
  },
  {
   "cell_type": "code",
   "execution_count": 1,
   "metadata": {},
   "outputs": [],
   "source": [
    "import pandas as pd\n",
    "from sklearn.tree import DecisionTreeClassifier\n",
    "from sklearn.model_selection import train_test_split\n",
    "from sklearn.ensemble import RandomForestClassifier\n",
    "import matplotlib.pyplot as plt"
   ]
  },
  {
   "cell_type": "markdown",
   "metadata": {},
   "source": [
    "<div class=\"alert alert-block alert-warning\">\n",
    "<b>Комментарий ревьюера🤔:</b> А зачем нам в задаче классификации регрессионная модель и метрика? =)\n",
    "</div>"
   ]
  },
  {
   "cell_type": "markdown",
   "metadata": {},
   "source": [
    "<div class=\"alert alert-block alert-info\">\n",
    "<b>Комментарий студента:</b> Убрал ненужные библиотеки.\n",
    "</div>"
   ]
  },
  {
   "cell_type": "markdown",
   "metadata": {},
   "source": [
    "<div class=\"alert alert-block alert-success\">\n",
    "<b>Комментарий ревьюера V.2👍:</b> Хорошо\n",
    "</div>\n",
    "    "
   ]
  },
  {
   "cell_type": "markdown",
   "metadata": {},
   "source": [
    "## Откройте и изучите файл"
   ]
  },
  {
   "cell_type": "code",
   "execution_count": 2,
   "metadata": {},
   "outputs": [],
   "source": [
    "try:\n",
    "    df = pd.read_csv('users_behavior.csv')\n",
    "except:\n",
    "    df = pd.read_csv('/datasets/users_behavior.csv')"
   ]
  },
  {
   "cell_type": "code",
   "execution_count": 3,
   "metadata": {},
   "outputs": [
    {
     "data": {
      "text/html": [
       "<div>\n",
       "<style scoped>\n",
       "    .dataframe tbody tr th:only-of-type {\n",
       "        vertical-align: middle;\n",
       "    }\n",
       "\n",
       "    .dataframe tbody tr th {\n",
       "        vertical-align: top;\n",
       "    }\n",
       "\n",
       "    .dataframe thead th {\n",
       "        text-align: right;\n",
       "    }\n",
       "</style>\n",
       "<table border=\"1\" class=\"dataframe\">\n",
       "  <thead>\n",
       "    <tr style=\"text-align: right;\">\n",
       "      <th></th>\n",
       "      <th>calls</th>\n",
       "      <th>minutes</th>\n",
       "      <th>messages</th>\n",
       "      <th>mb_used</th>\n",
       "      <th>is_ultra</th>\n",
       "    </tr>\n",
       "  </thead>\n",
       "  <tbody>\n",
       "    <tr>\n",
       "      <th>0</th>\n",
       "      <td>40.0</td>\n",
       "      <td>311.90</td>\n",
       "      <td>83.0</td>\n",
       "      <td>19915.42</td>\n",
       "      <td>0</td>\n",
       "    </tr>\n",
       "    <tr>\n",
       "      <th>1</th>\n",
       "      <td>85.0</td>\n",
       "      <td>516.75</td>\n",
       "      <td>56.0</td>\n",
       "      <td>22696.96</td>\n",
       "      <td>0</td>\n",
       "    </tr>\n",
       "    <tr>\n",
       "      <th>2</th>\n",
       "      <td>77.0</td>\n",
       "      <td>467.66</td>\n",
       "      <td>86.0</td>\n",
       "      <td>21060.45</td>\n",
       "      <td>0</td>\n",
       "    </tr>\n",
       "    <tr>\n",
       "      <th>3</th>\n",
       "      <td>106.0</td>\n",
       "      <td>745.53</td>\n",
       "      <td>81.0</td>\n",
       "      <td>8437.39</td>\n",
       "      <td>1</td>\n",
       "    </tr>\n",
       "    <tr>\n",
       "      <th>4</th>\n",
       "      <td>66.0</td>\n",
       "      <td>418.74</td>\n",
       "      <td>1.0</td>\n",
       "      <td>14502.75</td>\n",
       "      <td>0</td>\n",
       "    </tr>\n",
       "  </tbody>\n",
       "</table>\n",
       "</div>"
      ],
      "text/plain": [
       "   calls  minutes  messages   mb_used  is_ultra\n",
       "0   40.0   311.90      83.0  19915.42         0\n",
       "1   85.0   516.75      56.0  22696.96         0\n",
       "2   77.0   467.66      86.0  21060.45         0\n",
       "3  106.0   745.53      81.0   8437.39         1\n",
       "4   66.0   418.74       1.0  14502.75         0"
      ]
     },
     "execution_count": 3,
     "metadata": {},
     "output_type": "execute_result"
    }
   ],
   "source": [
    "df.head()"
   ]
  },
  {
   "cell_type": "code",
   "execution_count": 4,
   "metadata": {},
   "outputs": [
    {
     "name": "stdout",
     "output_type": "stream",
     "text": [
      "<class 'pandas.core.frame.DataFrame'>\n",
      "RangeIndex: 3214 entries, 0 to 3213\n",
      "Data columns (total 5 columns):\n",
      " #   Column    Non-Null Count  Dtype  \n",
      "---  ------    --------------  -----  \n",
      " 0   calls     3214 non-null   float64\n",
      " 1   minutes   3214 non-null   float64\n",
      " 2   messages  3214 non-null   float64\n",
      " 3   mb_used   3214 non-null   float64\n",
      " 4   is_ultra  3214 non-null   int64  \n",
      "dtypes: float64(4), int64(1)\n",
      "memory usage: 125.7 KB\n"
     ]
    }
   ],
   "source": [
    "df.info()"
   ]
  },
  {
   "cell_type": "code",
   "execution_count": 5,
   "metadata": {
    "scrolled": true
   },
   "outputs": [
    {
     "data": {
      "text/html": [
       "<div>\n",
       "<style scoped>\n",
       "    .dataframe tbody tr th:only-of-type {\n",
       "        vertical-align: middle;\n",
       "    }\n",
       "\n",
       "    .dataframe tbody tr th {\n",
       "        vertical-align: top;\n",
       "    }\n",
       "\n",
       "    .dataframe thead th {\n",
       "        text-align: right;\n",
       "    }\n",
       "</style>\n",
       "<table border=\"1\" class=\"dataframe\">\n",
       "  <thead>\n",
       "    <tr style=\"text-align: right;\">\n",
       "      <th></th>\n",
       "      <th>calls</th>\n",
       "      <th>minutes</th>\n",
       "      <th>messages</th>\n",
       "      <th>mb_used</th>\n",
       "      <th>is_ultra</th>\n",
       "    </tr>\n",
       "  </thead>\n",
       "  <tbody>\n",
       "    <tr>\n",
       "      <th>count</th>\n",
       "      <td>3214.000000</td>\n",
       "      <td>3214.000000</td>\n",
       "      <td>3214.000000</td>\n",
       "      <td>3214.000000</td>\n",
       "      <td>3214.000000</td>\n",
       "    </tr>\n",
       "    <tr>\n",
       "      <th>mean</th>\n",
       "      <td>63.038892</td>\n",
       "      <td>438.208787</td>\n",
       "      <td>38.281269</td>\n",
       "      <td>17207.673836</td>\n",
       "      <td>0.306472</td>\n",
       "    </tr>\n",
       "    <tr>\n",
       "      <th>std</th>\n",
       "      <td>33.236368</td>\n",
       "      <td>234.569872</td>\n",
       "      <td>36.148326</td>\n",
       "      <td>7570.968246</td>\n",
       "      <td>0.461100</td>\n",
       "    </tr>\n",
       "    <tr>\n",
       "      <th>min</th>\n",
       "      <td>0.000000</td>\n",
       "      <td>0.000000</td>\n",
       "      <td>0.000000</td>\n",
       "      <td>0.000000</td>\n",
       "      <td>0.000000</td>\n",
       "    </tr>\n",
       "    <tr>\n",
       "      <th>25%</th>\n",
       "      <td>40.000000</td>\n",
       "      <td>274.575000</td>\n",
       "      <td>9.000000</td>\n",
       "      <td>12491.902500</td>\n",
       "      <td>0.000000</td>\n",
       "    </tr>\n",
       "    <tr>\n",
       "      <th>50%</th>\n",
       "      <td>62.000000</td>\n",
       "      <td>430.600000</td>\n",
       "      <td>30.000000</td>\n",
       "      <td>16943.235000</td>\n",
       "      <td>0.000000</td>\n",
       "    </tr>\n",
       "    <tr>\n",
       "      <th>75%</th>\n",
       "      <td>82.000000</td>\n",
       "      <td>571.927500</td>\n",
       "      <td>57.000000</td>\n",
       "      <td>21424.700000</td>\n",
       "      <td>1.000000</td>\n",
       "    </tr>\n",
       "    <tr>\n",
       "      <th>max</th>\n",
       "      <td>244.000000</td>\n",
       "      <td>1632.060000</td>\n",
       "      <td>224.000000</td>\n",
       "      <td>49745.730000</td>\n",
       "      <td>1.000000</td>\n",
       "    </tr>\n",
       "  </tbody>\n",
       "</table>\n",
       "</div>"
      ],
      "text/plain": [
       "             calls      minutes     messages       mb_used     is_ultra\n",
       "count  3214.000000  3214.000000  3214.000000   3214.000000  3214.000000\n",
       "mean     63.038892   438.208787    38.281269  17207.673836     0.306472\n",
       "std      33.236368   234.569872    36.148326   7570.968246     0.461100\n",
       "min       0.000000     0.000000     0.000000      0.000000     0.000000\n",
       "25%      40.000000   274.575000     9.000000  12491.902500     0.000000\n",
       "50%      62.000000   430.600000    30.000000  16943.235000     0.000000\n",
       "75%      82.000000   571.927500    57.000000  21424.700000     1.000000\n",
       "max     244.000000  1632.060000   224.000000  49745.730000     1.000000"
      ]
     },
     "execution_count": 5,
     "metadata": {},
     "output_type": "execute_result"
    }
   ],
   "source": [
    "df.describe()"
   ]
  },
  {
   "cell_type": "code",
   "execution_count": 6,
   "metadata": {},
   "outputs": [
    {
     "data": {
      "image/png": "[encoded data removed]",
      "text/plain": [
       "<Figure size 1000x1000 with 6 Axes>"
      ]
     },
     "metadata": {},
     "output_type": "display_data"
    }
   ],
   "source": [
    "df.hist(figsize=(10,10));"
   ]
  },
  {
   "cell_type": "code",
   "execution_count": 7,
   "metadata": {
    "scrolled": true
   },
   "outputs": [
    {
     "data": {
      "image/png": "[encoded data removed]",
      "text/plain": [
       "<Figure size 500x500 with 1 Axes>"
      ]
     },
     "metadata": {},
     "output_type": "display_data"
    },
    {
     "data": {
      "image/png": "[encoded data removed]",
      "text/plain": [
       "<Figure size 500x500 with 1 Axes>"
      ]
     },
     "metadata": {},
     "output_type": "display_data"
    },
    {
     "data": {
      "image/png": "[encoded data removed]",
      "text/plain": [
       "<Figure size 500x500 with 1 Axes>"
      ]
     },
     "metadata": {},
     "output_type": "display_data"
    },
    {
     "data": {
      "image/png": "[encoded data removed]",
      "text/plain": [
       "<Figure size 500x500 with 1 Axes>"
      ]
     },
     "metadata": {},
     "output_type": "display_data"
    },
    {
     "data": {
      "image/png": "[encoded data removed]",
      "text/plain": [
       "<Figure size 500x500 with 1 Axes>"
      ]
     },
     "metadata": {},
     "output_type": "display_data"
    }
   ],
   "source": [
    "for column in df:\n",
    "    plt.figure(figsize=(5,5))\n",
    "    df.boxplot([column])"
   ]
  },
  {
   "cell_type": "markdown",
   "metadata": {},
   "source": [
    "<div class=\"alert alert-block alert-warning\">\n",
    "<b>Комментарий ревьюера🤔:</b> Нет промежуточного вывода и твоих комментариев по поводу загруженных данных\n",
    "</div>"
   ]
  },
  {
   "cell_type": "markdown",
   "metadata": {},
   "source": [
    "**Вывод**: Исходные данные включают в себя 3214 записи. Проанализировав данные, видно, что пропуски отсутствуют, данные распределены нормально. Присутствуют небольшие выбросы в данных."
   ]
  },
  {
   "cell_type": "markdown",
   "metadata": {},
   "source": [
    "<div class=\"alert alert-block alert-info\">\n",
    "<b>Комментарий студента:</b> Промежуточный вывод добавил.\n",
    "</div>"
   ]
  },
  {
   "cell_type": "markdown",
   "metadata": {},
   "source": [
    "<div class=\"alert alert-block alert-success\">\n",
    "<b>Комментарий ревьюера V.2👍:</b> Хорошо\n",
    "</div>"
   ]
  },
  {
   "cell_type": "markdown",
   "metadata": {},
   "source": [
    "## Разбейте данные на выборки"
   ]
  },
  {
   "cell_type": "code",
   "execution_count": 8,
   "metadata": {},
   "outputs": [],
   "source": [
    "df_train, df_test = train_test_split(df, test_size = 0.4, random_state=12345)\n",
    "df_test, df_valid = train_test_split(df_test, test_size = 0.5, random_state=12345)"
   ]
  },
  {
   "cell_type": "code",
   "execution_count": 9,
   "metadata": {},
   "outputs": [],
   "source": [
    "features_train = df_train.drop('is_ultra', axis=1)\n",
    "target_train = df_train['is_ultra']\n",
    "features_test = df_test.drop('is_ultra', axis=1)\n",
    "target_test = df_test['is_ultra']\n",
    "features_valid = df_valid.drop('is_ultra', axis=1)\n",
    "target_valid = df_valid['is_ultra']"
   ]
  },
  {
   "cell_type": "markdown",
   "metadata": {},
   "source": [
    "**Вывод**: Разбили исходные данные на 3 выборки: обучающая (60%), валидационная (20%) и тестовая (20%)."
   ]
  },
  {
   "cell_type": "markdown",
   "metadata": {},
   "source": [
    "<div class=\"alert alert-block alert-danger\">\n",
    "<b>Комментарий ревьюера❌:</b> Ты верно разделил по своей сути, но процент определен неверно. Ты отделил 40% на валидацию и тест, значит обучающая выборка 60%. А дальше ты от 40% отделяешь 20%, таким образом твой тест всего 8% от изначальных данных\n",
    "</div>"
   ]
  },
  {
   "cell_type": "markdown",
   "metadata": {},
   "source": [
    "<div class=\"alert alert-block alert-info\">\n",
    "<b>Комментарий студента:</b> Разбил данные корректно.\n",
    "</div>"
   ]
  },
  {
   "cell_type": "markdown",
   "metadata": {},
   "source": [
    "<div class=\"alert alert-block alert-success\">\n",
    "<b>Комментарий ревьюера V.2👍:</b> Теперь верно =)\n",
    "</div>"
   ]
  },
  {
   "cell_type": "markdown",
   "metadata": {},
   "source": [
    "## Исследуйте модели"
   ]
  },
  {
   "cell_type": "markdown",
   "metadata": {},
   "source": [
    "### Дерево решений"
   ]
  },
  {
   "cell_type": "code",
   "execution_count": 10,
   "metadata": {
    "scrolled": true
   },
   "outputs": [
    {
     "name": "stdout",
     "output_type": "stream",
     "text": [
      "Точность наилучшей модели на валидационной выборке: 0.80       \n",
      "max_depth: 7\n"
     ]
    }
   ],
   "source": [
    "best_model_DT = None\n",
    "best_result_DT = 0\n",
    "max_depth = 0\n",
    "for depth in range(1,21):\n",
    "    model = DecisionTreeClassifier(random_state=12345, max_depth=depth)\n",
    "    model.fit(features_train, target_train)\n",
    "    model.predict(features_valid)\n",
    "    accuracy = model.score(features_valid, target_valid)\n",
    "    if accuracy > best_result_DT:\n",
    "        best_model_DT = model # сохраните наилучшую модель\n",
    "        best_result_DT = accuracy #  сохраните наилучшее значение метрики accuracy на валидационных данных\n",
    "        max_depth = depth\n",
    "print(f'Точность наилучшей модели на валидационной выборке: {best_result_DT:.2f} \\\n",
    "      \\nmax_depth: {max_depth}')"
   ]
  },
  {
   "cell_type": "markdown",
   "metadata": {},
   "source": [
    "### Случайный лес"
   ]
  },
  {
   "cell_type": "code",
   "execution_count": 11,
   "metadata": {},
   "outputs": [
    {
     "name": "stdout",
     "output_type": "stream",
     "text": [
      "Точность наилучшей модели на валидационной выборке: 0.81       \n",
      "n_estimators: 8       \n",
      "min_samples_leaf: 8\n"
     ]
    }
   ],
   "source": [
    "best_model_RF = None\n",
    "best_result_RF = 0\n",
    "n_estim = 0\n",
    "min_samples_leaf = 0\n",
    "for est in range(1,11):\n",
    "    for samples_leaf in range(1,31):\n",
    "        model = RandomForestClassifier(random_state=12345, n_estimators=est, min_samples_leaf=samples_leaf)\n",
    "        model.fit(features_train, target_train)\n",
    "        accuracy = model.score(features_valid, target_valid)\n",
    "        if accuracy > best_result_RF:\n",
    "            best_model_RF = model\n",
    "            best_result_RF = accuracy \n",
    "            n_estim = est\n",
    "            min_samples_leaf = samples_leaf\n",
    "print(f'Точность наилучшей модели на валидационной выборке: {best_result_RF:.2f} \\\n",
    "      \\nn_estimators: {n_estim} \\\n",
    "      \\nmin_samples_leaf: {min_samples_leaf}')"
   ]
  },
  {
   "cell_type": "markdown",
   "metadata": {},
   "source": [
    "**Вывод**: Наилучшей моделью оказалась RandomForest с точностью на валидационной выборке `0.81` со следующими гиперпараметрами: \n",
    "* n_estimators = 8      \n",
    "* min_samples_leaf = 8"
   ]
  },
  {
   "cell_type": "markdown",
   "metadata": {},
   "source": [
    "<div class=\"alert alert-block alert-success\">\n",
    "<b>Комментарий ревьюера👍:</b> На будущее - для подбора оптимальных параметров можно использовать функции Gridsearchcv или Randomizedsearchcv. Статья про разницу между ними: https://towardsdatascience.com/gridsearchcv-or-randomsearchcv-5aa4acf5348c#:~:text=RandomSearchCV%20has%20the%20same%20purpose,parameters%20to%20improve%20your%20model.&text=The%20main%20difference%20between%20the,want%20to%20sample%20and%20test. И просто очень большая статья по их применению: https://machinelearningmastery.com/hyperparameter-optimization-with-random-search-and-grid-search/ Совсем обьемная статья с огромным количеством библиотек для подбора гиперпараметров: https://neptune.ai/blog/hyperparameter-tuning-in-python-complete-guide/. Ускоренная версия GridsearchCV https://towardsdatascience.com/20x-times-faster-grid-search-cross-validation-19ef01409b7c\n",
    "</div>\n"
   ]
  },
  {
   "cell_type": "code",
   "execution_count": 12,
   "metadata": {},
   "outputs": [],
   "source": [
    "from sklearn.experimental import enable_halving_search_cv \n",
    "from sklearn.model_selection import HalvingGridSearchCV"
   ]
  },
  {
   "cell_type": "code",
   "execution_count": 14,
   "metadata": {},
   "outputs": [
    {
     "name": "stdout",
     "output_type": "stream",
     "text": [
      "Точность наилучшей модели на валидационной выборке: 0.81       \n",
      "Гиперпараметры: {'max_depth': 11, 'min_samples_leaf': 1, 'n_estimators': 10}\n"
     ]
    }
   ],
   "source": [
    "parameters = {'n_estimators': range (1, 11),\n",
    "              'max_depth': range (1,13, 2),\n",
    "              'min_samples_leaf': range (1,31, 2)}\n",
    "model = RandomForestClassifier(random_state=12345)\n",
    "grid = HalvingGridSearchCV(model, parameters, random_state=12345, scoring ='accuracy').fit(features_train, target_train)\n",
    "accuracy = grid.best_score_\n",
    "print(f'Точность наилучшей модели на валидационной выборке: {accuracy:.2f} \\\n",
    "      \\nГиперпараметры: {grid.best_params_}')"
   ]
  },
  {
   "cell_type": "markdown",
   "metadata": {},
   "source": [
    "<div class=\"alert alert-block alert-info\">\n",
    "<b>Комментарий студента:</b> Опробовал функцию HalvingGridSearchCV для автоматического подбора гиперпараметров, однако в работе использовал результаты, полученные перебором параметров в цикле (модель best_model_RF).\n",
    "</div>"
   ]
  },
  {
   "cell_type": "markdown",
   "metadata": {},
   "source": [
    "<div class=\"alert alert-block alert-success\">\n",
    "<b>Комментарий ревьюера V.2👍:</b> Здорово, что попробовал новый инструмент\n",
    "</div>"
   ]
  },
  {
   "cell_type": "markdown",
   "metadata": {},
   "source": [
    "## Проверьте модель на тестовой выборке"
   ]
  },
  {
   "cell_type": "code",
   "execution_count": 14,
   "metadata": {},
   "outputs": [
    {
     "name": "stdout",
     "output_type": "stream",
     "text": [
      "Точность работы модели на тестовой выборке 0.79\n"
     ]
    }
   ],
   "source": [
    "best_model_RF.predict(features_test)\n",
    "accuracy = best_model_RF.score(features_test, target_test)\n",
    "print(f'Точность работы модели на тестовой выборке {accuracy:.2f}')"
   ]
  },
  {
   "cell_type": "markdown",
   "metadata": {},
   "source": [
    "## (бонус) Проверьте модели на адекватность"
   ]
  },
  {
   "cell_type": "code",
   "execution_count": 15,
   "metadata": {},
   "outputs": [
    {
     "name": "stdout",
     "output_type": "stream",
     "text": [
      "Точность модели DummyClassifier для оценки адекватности полученной модели: 0.71\n"
     ]
    }
   ],
   "source": [
    "from sklearn.dummy import DummyClassifier\n",
    "dummy = DummyClassifier(strategy=\"most_frequent\", random_state=12345)\n",
    "dummy.fit(features_train, target_train)\n",
    "accuracy = dummy.score(features_test, target_test)\n",
    "print(f'Точность модели DummyClassifier для оценки адекватности полученной модели: '\n",
    "f'{accuracy:.2f}')"
   ]
  },
  {
   "cell_type": "markdown",
   "metadata": {},
   "source": [
    "<div class=\"alert alert-block alert-danger\">\n",
    "<b>Комментарий ревьюера❌:</b> Ты молодец, что решил использовать DummyClassifier для построения константной модели, но почему ты делаешь predict на валидации? Мы сравниваем тест с тестом\n",
    "</div>"
   ]
  },
  {
   "cell_type": "markdown",
   "metadata": {},
   "source": [
    "<div class=\"alert alert-block alert-success\">\n",
    "<b>Комментарий ревьюера V.2👍:</b> Теперь верно)\n",
    "</div>"
   ]
  },
  {
   "cell_type": "code",
   "execution_count": 16,
   "metadata": {},
   "outputs": [
    {
     "data": {
      "text/plain": [
       "0    454\n",
       "1    189\n",
       "Name: is_ultra, dtype: int64"
      ]
     },
     "execution_count": 16,
     "metadata": {},
     "output_type": "execute_result"
    }
   ],
   "source": [
    "target_test.value_counts()"
   ]
  },
  {
   "cell_type": "markdown",
   "metadata": {},
   "source": [
    "**Вывод**: В результате работы исходные данные были разделены на 3 выборки (обучающая (60%), валидационна (20%) и тестовая (20%)) и была построена модель для задачи классификации, которая выберет подходящий тариф. Лучшей оказалась модель RandomForest со следующими гиперпараметрами `n_estimators = 8, min_samples_leaf = 8`. Что касаемо проверки модели на адекватность, использовал DummyClassifier c гиперпараметром strategy=\"most_frequent\", который предсказывает наиболее часто встречающуюся метку в обучающем наборе. Наиболее часто встречающаяся метка в валидационной выборке 0 (454 значений), что составляет 0.71 от всей тестовой выборки. Сравнивая оценки классификатора RandomForest с фиктивным классификатором, мы приходим к выводу, что классификатор RandomForest, по сути, является хорошим классификатором для данных."
   ]
  },
  {
   "cell_type": "markdown",
   "metadata": {},
   "source": [
    "## Чек-лист готовности проекта"
   ]
  },
  {
   "cell_type": "markdown",
   "metadata": {},
   "source": [
    "Поставьте 'x' в выполненных пунктах. Далее нажмите Shift+Enter."
   ]
  },
  {
   "cell_type": "markdown",
   "metadata": {},
   "source": [
    "- [x] Jupyter Notebook открыт\n",
    "- [x] Весь код исполняется без ошибок\n",
    "- [x] Ячейки с кодом расположены в порядке исполнения\n",
    "- [x] Выполнено задание 1: данные загружены и изучены\n",
    "- [x] Выполнено задание 2: данные разбиты на три выборки\n",
    "- [x] Выполнено задание 3: проведено исследование моделей\n",
    "    - [x] Рассмотрено больше одной модели\n",
    "    - [x] Рассмотрено хотя бы 3 значения гиперпараметров для какой-нибудь модели\n",
    "    - [x] Написаны выводы по результатам исследования\n",
    "- [x] Выполнено задание 3: Проведено тестирование\n",
    "- [x] Удалось достичь accuracy не меньше 0.75\n"
   ]
  },
  {
   "cell_type": "markdown",
   "metadata": {},
   "source": [
    "<div class=\"alert alert-block alert-danger\">\n",
    "<b>Комментарий ревьюера❌:</b> Спасибо тебе за проделанную работу, к сожалению, сейчас я не могу принять твой проект, поэтому придётся ещё немного поработать:\n",
    " \n",
    "- добавь комментарии по поводу данных в разделе 1 (в нашей работе выводы и пояснения важны не меньше, чем код);\n",
    "- измени пропорцию при разделении;\n",
    "- сделай предикт у константной модели на тесте;\n",
    "- поправь выводы в соответствии с изменениями.\n",
    "    \n",
    "До скорой встречи, если у тебя есть какие-то вопросы, то обязательно пиши =)\n",
    "    \n",
    "</div>"
   ]
  },
  {
   "cell_type": "markdown",
   "metadata": {},
   "source": [
    "<div class=\"alert alert-block alert-info\">\n",
    "<b>Комментарий студента:</b> Исправил ошибки.\n",
    "</div>"
   ]
  },
  {
   "cell_type": "markdown",
   "metadata": {},
   "source": [
    "<div class=\"alert alert-block alert-success\">\n",
    "<b>Комментарий ревьюера V.2👍:</b> Теперь всё верно, молодец, что так быстро все исправил. Удачи в будущих проектах и работе, всё обязательно получится!\n",
    "</div>"
   ]
  },
  {
   "cell_type": "code",
   "execution_count": null,
   "metadata": {},
   "outputs": [],
   "source": []
  }
 ],
 "metadata": {
  "ExecuteTimeLog": [
   {
    "duration": 87,
    "start_time": "2023-01-26T15:21:51.466Z"
   },
   {
    "duration": 1176,
    "start_time": "2023-01-26T15:23:03.400Z"
   },
   {
    "duration": 116,
    "start_time": "2023-01-26T15:23:08.147Z"
   },
   {
    "duration": 9,
    "start_time": "2023-01-26T15:23:08.571Z"
   },
   {
    "duration": 15,
    "start_time": "2023-01-26T15:23:09.612Z"
   },
   {
    "duration": 16,
    "start_time": "2023-01-26T15:23:10.669Z"
   },
   {
    "duration": 23,
    "start_time": "2023-01-26T15:23:11.019Z"
   },
   {
    "duration": 1250,
    "start_time": "2023-01-26T15:23:12.278Z"
   },
   {
    "duration": 108,
    "start_time": "2023-01-26T15:30:24.828Z"
   },
   {
    "duration": 90,
    "start_time": "2023-01-26T15:30:27.259Z"
   },
   {
    "duration": 4,
    "start_time": "2023-01-26T15:30:36.260Z"
   },
   {
    "duration": 5,
    "start_time": "2023-01-26T15:30:54.529Z"
   },
   {
    "duration": 15,
    "start_time": "2023-01-26T15:30:59.627Z"
   },
   {
    "duration": 197,
    "start_time": "2023-01-26T15:31:27.225Z"
   },
   {
    "duration": 3,
    "start_time": "2023-01-26T15:32:43.372Z"
   },
   {
    "duration": 673,
    "start_time": "2023-01-26T15:32:54.446Z"
   },
   {
    "duration": 632,
    "start_time": "2023-01-26T15:34:50.370Z"
   },
   {
    "duration": 636,
    "start_time": "2023-01-26T15:34:58.228Z"
   },
   {
    "duration": 783,
    "start_time": "2023-01-26T15:35:24.696Z"
   },
   {
    "duration": 602,
    "start_time": "2023-01-26T15:35:31.838Z"
   },
   {
    "duration": 456,
    "start_time": "2023-01-26T15:35:42.457Z"
   },
   {
    "duration": 543,
    "start_time": "2023-01-26T15:35:49.141Z"
   },
   {
    "duration": 695,
    "start_time": "2023-01-26T15:36:09.470Z"
   },
   {
    "duration": 6,
    "start_time": "2023-01-26T15:37:07.075Z"
   },
   {
    "duration": 5,
    "start_time": "2023-01-26T15:37:33.645Z"
   },
   {
    "duration": 53,
    "start_time": "2023-01-27T09:38:40.042Z"
   },
   {
    "duration": 1661,
    "start_time": "2023-01-27T09:38:45.113Z"
   },
   {
    "duration": 102,
    "start_time": "2023-01-27T09:38:56.136Z"
   },
   {
    "duration": 15,
    "start_time": "2023-01-27T09:38:57.177Z"
   },
   {
    "duration": 14,
    "start_time": "2023-01-27T09:38:57.971Z"
   },
   {
    "duration": 25,
    "start_time": "2023-01-27T09:38:59.318Z"
   },
   {
    "duration": 590,
    "start_time": "2023-01-27T09:39:00.379Z"
   },
   {
    "duration": 604,
    "start_time": "2023-01-27T09:39:03.752Z"
   },
   {
    "duration": 8,
    "start_time": "2023-01-27T09:39:08.932Z"
   },
   {
    "duration": 7,
    "start_time": "2023-01-27T09:39:09.820Z"
   },
   {
    "duration": 7,
    "start_time": "2023-01-27T09:39:49.066Z"
   },
   {
    "duration": 7,
    "start_time": "2023-01-27T09:39:49.836Z"
   },
   {
    "duration": 6,
    "start_time": "2023-01-27T09:42:06.720Z"
   },
   {
    "duration": 5,
    "start_time": "2023-01-27T09:42:26.603Z"
   },
   {
    "duration": 5,
    "start_time": "2023-01-27T09:42:42.799Z"
   },
   {
    "duration": 16,
    "start_time": "2023-01-27T09:42:52.844Z"
   },
   {
    "duration": 6,
    "start_time": "2023-01-27T09:42:59.087Z"
   },
   {
    "duration": 5,
    "start_time": "2023-01-27T09:43:04.017Z"
   },
   {
    "duration": 6,
    "start_time": "2023-01-27T09:43:26.895Z"
   },
   {
    "duration": 94,
    "start_time": "2023-01-27T09:43:33.228Z"
   },
   {
    "duration": 6,
    "start_time": "2023-01-27T09:43:36.401Z"
   },
   {
    "duration": 302,
    "start_time": "2023-01-27T09:43:44.082Z"
   },
   {
    "duration": 9551,
    "start_time": "2023-01-27T09:43:47.764Z"
   },
   {
    "duration": 3,
    "start_time": "2023-01-27T10:00:10.477Z"
   },
   {
    "duration": 145291,
    "start_time": "2023-01-27T10:04:06.027Z"
   },
   {
    "duration": 132,
    "start_time": "2023-01-27T10:07:44.655Z"
   },
   {
    "duration": 1471,
    "start_time": "2023-01-27T10:11:01.629Z"
   },
   {
    "duration": 12,
    "start_time": "2023-01-27T10:11:42.418Z"
   },
   {
    "duration": 1436,
    "start_time": "2023-01-27T11:57:14.767Z"
   },
   {
    "duration": 158,
    "start_time": "2023-01-27T11:57:21.528Z"
   },
   {
    "duration": 13,
    "start_time": "2023-01-27T11:57:21.930Z"
   },
   {
    "duration": 11,
    "start_time": "2023-01-27T11:57:23.047Z"
   },
   {
    "duration": 26,
    "start_time": "2023-01-27T11:57:24.104Z"
   },
   {
    "duration": 520,
    "start_time": "2023-01-27T11:57:25.879Z"
   },
   {
    "duration": 522,
    "start_time": "2023-01-27T11:57:29.147Z"
   },
   {
    "duration": 6,
    "start_time": "2023-01-27T11:57:41.585Z"
   },
   {
    "duration": 5,
    "start_time": "2023-01-27T11:57:44.016Z"
   },
   {
    "duration": 173,
    "start_time": "2023-01-27T11:58:59.224Z"
   },
   {
    "duration": 6606,
    "start_time": "2023-01-27T11:59:02.130Z"
   },
   {
    "duration": 100,
    "start_time": "2023-01-27T11:59:52.662Z"
   },
   {
    "duration": 4,
    "start_time": "2023-01-27T12:00:28.531Z"
   },
   {
    "duration": 11,
    "start_time": "2023-01-27T12:02:14.890Z"
   },
   {
    "duration": 11,
    "start_time": "2023-01-27T12:02:22.976Z"
   },
   {
    "duration": 13,
    "start_time": "2023-01-27T12:02:31.580Z"
   },
   {
    "duration": 15,
    "start_time": "2023-01-27T12:02:36.979Z"
   },
   {
    "duration": 88099,
    "start_time": "2023-01-27T12:02:59.744Z"
   },
   {
    "duration": 117139,
    "start_time": "2023-01-27T12:05:02.222Z"
   },
   {
    "duration": 8,
    "start_time": "2023-01-27T12:07:56.767Z"
   },
   {
    "duration": 9,
    "start_time": "2023-01-27T12:08:06.290Z"
   },
   {
    "duration": 3,
    "start_time": "2023-01-27T12:08:46.755Z"
   },
   {
    "duration": 116105,
    "start_time": "2023-01-27T12:09:16.493Z"
   },
   {
    "duration": 4,
    "start_time": "2023-01-27T12:11:21.321Z"
   },
   {
    "duration": 19,
    "start_time": "2023-01-27T12:11:54.659Z"
   },
   {
    "duration": 20,
    "start_time": "2023-01-27T12:12:45.072Z"
   },
   {
    "duration": 115774,
    "start_time": "2023-01-27T12:13:07.216Z"
   },
   {
    "duration": 5,
    "start_time": "2023-01-27T12:15:15.721Z"
   },
   {
    "duration": 16,
    "start_time": "2023-01-27T12:16:10.356Z"
   },
   {
    "duration": 26,
    "start_time": "2023-01-27T12:16:25.071Z"
   },
   {
    "duration": 21,
    "start_time": "2023-01-27T12:16:35.972Z"
   },
   {
    "duration": 92,
    "start_time": "2023-01-27T12:28:39.724Z"
   },
   {
    "duration": 1598,
    "start_time": "2023-01-27T12:28:48.490Z"
   },
   {
    "duration": 99,
    "start_time": "2023-01-27T12:28:50.090Z"
   },
   {
    "duration": 14,
    "start_time": "2023-01-27T12:28:50.191Z"
   },
   {
    "duration": 34,
    "start_time": "2023-01-27T12:28:50.207Z"
   },
   {
    "duration": 61,
    "start_time": "2023-01-27T12:28:50.243Z"
   },
   {
    "duration": 619,
    "start_time": "2023-01-27T12:28:50.306Z"
   },
   {
    "duration": 590,
    "start_time": "2023-01-27T12:28:50.927Z"
   },
   {
    "duration": 10,
    "start_time": "2023-01-27T12:28:51.519Z"
   },
   {
    "duration": 14,
    "start_time": "2023-01-27T12:28:51.531Z"
   },
   {
    "duration": 223,
    "start_time": "2023-01-27T12:28:51.548Z"
   },
   {
    "duration": 7977,
    "start_time": "2023-01-27T12:28:51.773Z"
   },
   {
    "duration": 5,
    "start_time": "2023-01-27T12:28:59.753Z"
   },
   {
    "duration": 4,
    "start_time": "2023-01-27T12:29:02.484Z"
   },
   {
    "duration": 121714,
    "start_time": "2023-01-27T12:29:03.483Z"
   },
   {
    "duration": 89822,
    "start_time": "2023-01-27T12:31:46.788Z"
   },
   {
    "duration": 92959,
    "start_time": "2023-01-27T12:36:53.710Z"
   },
   {
    "duration": 13,
    "start_time": "2023-01-27T12:40:55.311Z"
   },
   {
    "duration": 7699,
    "start_time": "2023-01-27T12:41:02.425Z"
   },
   {
    "duration": 14,
    "start_time": "2023-01-27T12:41:17.894Z"
   },
   {
    "duration": 17,
    "start_time": "2023-01-27T12:41:44.070Z"
   },
   {
    "duration": 6,
    "start_time": "2023-01-27T12:41:49.065Z"
   },
   {
    "duration": 6943,
    "start_time": "2023-01-27T12:42:30.836Z"
   },
   {
    "duration": 12,
    "start_time": "2023-01-27T12:42:56.288Z"
   },
   {
    "duration": 6,
    "start_time": "2023-01-27T12:43:24.694Z"
   },
   {
    "duration": 5,
    "start_time": "2023-01-27T12:43:36.490Z"
   },
   {
    "duration": 4,
    "start_time": "2023-01-27T12:46:07.034Z"
   },
   {
    "duration": 1449,
    "start_time": "2023-01-27T12:47:16.671Z"
   },
   {
    "duration": 61,
    "start_time": "2023-01-27T12:47:18.122Z"
   },
   {
    "duration": 14,
    "start_time": "2023-01-27T12:47:18.184Z"
   },
   {
    "duration": 15,
    "start_time": "2023-01-27T12:47:18.200Z"
   },
   {
    "duration": 29,
    "start_time": "2023-01-27T12:47:18.217Z"
   },
   {
    "duration": 547,
    "start_time": "2023-01-27T12:47:18.247Z"
   },
   {
    "duration": 585,
    "start_time": "2023-01-27T12:47:18.796Z"
   },
   {
    "duration": 7,
    "start_time": "2023-01-27T12:47:19.382Z"
   },
   {
    "duration": 19,
    "start_time": "2023-01-27T12:47:19.391Z"
   },
   {
    "duration": 227,
    "start_time": "2023-01-27T12:47:19.414Z"
   },
   {
    "duration": 7019,
    "start_time": "2023-01-27T12:47:19.643Z"
   },
   {
    "duration": 4,
    "start_time": "2023-01-27T12:47:26.664Z"
   },
   {
    "duration": 86860,
    "start_time": "2023-01-27T12:47:26.669Z"
   },
   {
    "duration": 13,
    "start_time": "2023-01-27T12:48:53.530Z"
   },
   {
    "duration": 8,
    "start_time": "2023-01-27T12:48:53.544Z"
   },
   {
    "duration": 10,
    "start_time": "2023-01-27T12:48:53.553Z"
   },
   {
    "duration": 1376,
    "start_time": "2023-01-27T12:51:23.773Z"
   },
   {
    "duration": 59,
    "start_time": "2023-01-27T12:51:25.151Z"
   },
   {
    "duration": 16,
    "start_time": "2023-01-27T12:51:25.212Z"
   },
   {
    "duration": 23,
    "start_time": "2023-01-27T12:51:25.230Z"
   },
   {
    "duration": 27,
    "start_time": "2023-01-27T12:51:25.255Z"
   },
   {
    "duration": 564,
    "start_time": "2023-01-27T12:51:25.284Z"
   },
   {
    "duration": 594,
    "start_time": "2023-01-27T12:51:25.850Z"
   },
   {
    "duration": 6,
    "start_time": "2023-01-27T12:51:26.446Z"
   },
   {
    "duration": 9,
    "start_time": "2023-01-27T12:51:26.454Z"
   },
   {
    "duration": 243,
    "start_time": "2023-01-27T12:51:26.465Z"
   },
   {
    "duration": 7017,
    "start_time": "2023-01-27T12:51:26.711Z"
   },
   {
    "duration": 3,
    "start_time": "2023-01-27T12:51:33.730Z"
   },
   {
    "duration": 90331,
    "start_time": "2023-01-27T12:51:33.735Z"
   },
   {
    "duration": 11,
    "start_time": "2023-01-27T12:53:04.067Z"
   },
   {
    "duration": 42,
    "start_time": "2023-01-27T12:53:04.080Z"
   },
   {
    "duration": 30,
    "start_time": "2023-01-27T12:53:04.123Z"
   },
   {
    "duration": 107,
    "start_time": "2023-01-27T13:40:24.403Z"
   },
   {
    "duration": 126,
    "start_time": "2023-01-27T13:40:48.254Z"
   },
   {
    "duration": 80,
    "start_time": "2023-01-27T13:41:01.663Z"
   }
  ],
  "kernelspec": {
   "display_name": "Python 3 (ipykernel)",
   "language": "python",
   "name": "python3"
  },
  "language_info": {
   "codemirror_mode": {
    "name": "ipython",
    "version": 3
   },
   "file_extension": ".py",
   "mimetype": "text/x-python",
   "name": "python",
   "nbconvert_exporter": "python",
   "pygments_lexer": "ipython3",
   "version": "3.9.13"
  },
  "toc": {
   "base_numbering": 1,
   "nav_menu": {},
   "number_sections": true,
   "sideBar": true,
   "skip_h1_title": true,
   "title_cell": "Table of Contents",
   "title_sidebar": "Contents",
   "toc_cell": false,
   "toc_position": {},
   "toc_section_display": true,
   "toc_window_display": false
  }
 },
 "nbformat": 4,
 "nbformat_minor": 2
}
