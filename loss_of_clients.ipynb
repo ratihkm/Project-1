{
 "cells": [
  {
   "attachments": {},
   "cell_type": "markdown",
   "metadata": {
    "toc": true
   },
   "source": [
    "<h1>Содержание<span class=\"tocSkip\"></span></h1>\n",
    "<div class=\"toc\"><ul class=\"toc-item\"><li><span><a href=\"#Подготовка-данных\" data-toc-modified-id=\"Подготовка-данных-1\"><span class=\"toc-item-num\">1&nbsp;&nbsp;</span>Подготовка данных</a></span></li><li><span><a href=\"#Исследование-задачи\" data-toc-modified-id=\"Исследование-задачи-2\"><span class=\"toc-item-num\">2&nbsp;&nbsp;</span>Исследование задачи</a></span></li><li><span><a href=\"#Борьба-с-дисбалансом\" data-toc-modified-id=\"Борьба-с-дисбалансом-3\"><span class=\"toc-item-num\">3&nbsp;&nbsp;</span>Борьба с дисбалансом</a></span><ul class=\"toc-item\"><li><span><a href=\"#Взвешивание-классов\" data-toc-modified-id=\"Взвешивание-классов-3.1\"><span class=\"toc-item-num\">3.1&nbsp;&nbsp;</span>Взвешивание классов</a></span></li><li><span><a href=\"#Upsampling\" data-toc-modified-id=\"Upsampling-3.2\"><span class=\"toc-item-num\">3.2&nbsp;&nbsp;</span>Upsampling</a></span></li><li><span><a href=\"#Downsampling\" data-toc-modified-id=\"Downsampling-3.3\"><span class=\"toc-item-num\">3.3&nbsp;&nbsp;</span>Downsampling</a></span></li></ul></li><li><span><a href=\"#Тестирование-модели\" data-toc-modified-id=\"Тестирование-модели-4\"><span class=\"toc-item-num\">4&nbsp;&nbsp;</span>Тестирование модели</a></span></li><li><span><a href=\"#Вывод\" data-toc-modified-id=\"Вывод-5\"><span class=\"toc-item-num\">5&nbsp;&nbsp;</span>Вывод</a></span></li><li><span><a href=\"#Чек-лист-готовности-проекта\" data-toc-modified-id=\"Чек-лист-готовности-проекта-6\"><span class=\"toc-item-num\">6&nbsp;&nbsp;</span>Чек-лист готовности проекта</a></span></li></ul></div>"
   ]
  },
  {
   "attachments": {},
   "cell_type": "markdown",
   "metadata": {},
   "source": [
    "# Отток клиентов"
   ]
  },
  {
   "attachments": {},
   "cell_type": "markdown",
   "metadata": {},
   "source": [
    "Из «Бета-Банка» стали уходить клиенты. Каждый месяц. Немного, но заметно. Банковские маркетологи посчитали: сохранять текущих клиентов дешевле, чем привлекать новых.\n",
    "\n",
    "Нужно спрогнозировать, уйдёт клиент из банка в ближайшее время или нет. Вам предоставлены исторические данные о поведении клиентов и расторжении договоров с банком. \n",
    "\n",
    "Постройте модель с предельно большим значением *F1*-меры. Чтобы сдать проект успешно, нужно довести метрику до 0.59. Проверьте *F1*-меру на тестовой выборке самостоятельно.\n",
    "\n",
    "Дополнительно измеряйте *AUC-ROC*, сравнивайте её значение с *F1*-мерой.\n",
    "\n",
    "Источник данных: [https://www.kaggle.com/barelydedicated/bank-customer-churn-modeling](https://www.kaggle.com/barelydedicated/bank-customer-churn-modeling)"
   ]
  },
  {
   "cell_type": "code",
   "execution_count": 1,
   "metadata": {},
   "outputs": [],
   "source": [
    "import pandas as pd\n",
    "from sklearn.experimental import enable_halving_search_cv \n",
    "from sklearn.model_selection import train_test_split, HalvingGridSearchCV\n",
    "from sklearn.preprocessing import OneHotEncoder, StandardScaler\n",
    "from sklearn.neighbors import KNeighborsClassifier\n",
    "from sklearn.ensemble import RandomForestClassifier\n",
    "from sklearn.tree import DecisionTreeClassifier\n",
    "from sklearn.linear_model import LogisticRegression\n",
    "import joblib\n",
    "from sklearn.utils import shuffle\n",
    "import matplotlib.pyplot as plt\n",
    "from sklearn.metrics import accuracy_score\n",
    "from sklearn.metrics import confusion_matrix\n",
    "from sklearn.metrics import f1_score\n",
    "from sklearn.metrics import roc_auc_score\n",
    "from sklearn.metrics import roc_curve\n",
    "\n",
    "plt.style.use('seaborn-whitegrid')"
   ]
  },
  {
   "attachments": {},
   "cell_type": "markdown",
   "metadata": {},
   "source": [
    "## Подготовка данных"
   ]
  },
  {
   "cell_type": "code",
   "execution_count": 2,
   "metadata": {},
   "outputs": [],
   "source": [
    "try:\n",
    "    df = pd.read_csv('Churn.csv')\n",
    "except:\n",
    "    df = pd.read_csv('/datasets/Churn.csv')"
   ]
  },
  {
   "cell_type": "code",
   "execution_count": 3,
   "metadata": {},
   "outputs": [],
   "source": [
    "RANDOM_STATE = 12345"
   ]
  },
  {
   "cell_type": "code",
   "execution_count": 4,
   "metadata": {},
   "outputs": [
    {
     "data": {
      "text/html": [
       "<div>\n",
       "<style scoped>\n",
       "    .dataframe tbody tr th:only-of-type {\n",
       "        vertical-align: middle;\n",
       "    }\n",
       "\n",
       "    .dataframe tbody tr th {\n",
       "        vertical-align: top;\n",
       "    }\n",
       "\n",
       "    .dataframe thead th {\n",
       "        text-align: right;\n",
       "    }\n",
       "</style>\n",
       "<table border=\"1\" class=\"dataframe\">\n",
       "  <thead>\n",
       "    <tr style=\"text-align: right;\">\n",
       "      <th></th>\n",
       "      <th>RowNumber</th>\n",
       "      <th>CustomerId</th>\n",
       "      <th>Surname</th>\n",
       "      <th>CreditScore</th>\n",
       "      <th>Geography</th>\n",
       "      <th>Gender</th>\n",
       "      <th>Age</th>\n",
       "      <th>Tenure</th>\n",
       "      <th>Balance</th>\n",
       "      <th>NumOfProducts</th>\n",
       "      <th>HasCrCard</th>\n",
       "      <th>IsActiveMember</th>\n",
       "      <th>EstimatedSalary</th>\n",
       "      <th>Exited</th>\n",
       "    </tr>\n",
       "  </thead>\n",
       "  <tbody>\n",
       "    <tr>\n",
       "      <th>0</th>\n",
       "      <td>1</td>\n",
       "      <td>15634602</td>\n",
       "      <td>Hargrave</td>\n",
       "      <td>619</td>\n",
       "      <td>France</td>\n",
       "      <td>Female</td>\n",
       "      <td>42</td>\n",
       "      <td>2.0</td>\n",
       "      <td>0.00</td>\n",
       "      <td>1</td>\n",
       "      <td>1</td>\n",
       "      <td>1</td>\n",
       "      <td>101348.88</td>\n",
       "      <td>1</td>\n",
       "    </tr>\n",
       "    <tr>\n",
       "      <th>1</th>\n",
       "      <td>2</td>\n",
       "      <td>15647311</td>\n",
       "      <td>Hill</td>\n",
       "      <td>608</td>\n",
       "      <td>Spain</td>\n",
       "      <td>Female</td>\n",
       "      <td>41</td>\n",
       "      <td>1.0</td>\n",
       "      <td>83807.86</td>\n",
       "      <td>1</td>\n",
       "      <td>0</td>\n",
       "      <td>1</td>\n",
       "      <td>112542.58</td>\n",
       "      <td>0</td>\n",
       "    </tr>\n",
       "    <tr>\n",
       "      <th>2</th>\n",
       "      <td>3</td>\n",
       "      <td>15619304</td>\n",
       "      <td>Onio</td>\n",
       "      <td>502</td>\n",
       "      <td>France</td>\n",
       "      <td>Female</td>\n",
       "      <td>42</td>\n",
       "      <td>8.0</td>\n",
       "      <td>159660.80</td>\n",
       "      <td>3</td>\n",
       "      <td>1</td>\n",
       "      <td>0</td>\n",
       "      <td>113931.57</td>\n",
       "      <td>1</td>\n",
       "    </tr>\n",
       "    <tr>\n",
       "      <th>3</th>\n",
       "      <td>4</td>\n",
       "      <td>15701354</td>\n",
       "      <td>Boni</td>\n",
       "      <td>699</td>\n",
       "      <td>France</td>\n",
       "      <td>Female</td>\n",
       "      <td>39</td>\n",
       "      <td>1.0</td>\n",
       "      <td>0.00</td>\n",
       "      <td>2</td>\n",
       "      <td>0</td>\n",
       "      <td>0</td>\n",
       "      <td>93826.63</td>\n",
       "      <td>0</td>\n",
       "    </tr>\n",
       "    <tr>\n",
       "      <th>4</th>\n",
       "      <td>5</td>\n",
       "      <td>15737888</td>\n",
       "      <td>Mitchell</td>\n",
       "      <td>850</td>\n",
       "      <td>Spain</td>\n",
       "      <td>Female</td>\n",
       "      <td>43</td>\n",
       "      <td>2.0</td>\n",
       "      <td>125510.82</td>\n",
       "      <td>1</td>\n",
       "      <td>1</td>\n",
       "      <td>1</td>\n",
       "      <td>79084.10</td>\n",
       "      <td>0</td>\n",
       "    </tr>\n",
       "  </tbody>\n",
       "</table>\n",
       "</div>"
      ],
      "text/plain": [
       "   RowNumber  CustomerId   Surname  CreditScore Geography  Gender  Age  \\\n",
       "0          1    15634602  Hargrave          619    France  Female   42   \n",
       "1          2    15647311      Hill          608     Spain  Female   41   \n",
       "2          3    15619304      Onio          502    France  Female   42   \n",
       "3          4    15701354      Boni          699    France  Female   39   \n",
       "4          5    15737888  Mitchell          850     Spain  Female   43   \n",
       "\n",
       "   Tenure    Balance  NumOfProducts  HasCrCard  IsActiveMember  \\\n",
       "0     2.0       0.00              1          1               1   \n",
       "1     1.0   83807.86              1          0               1   \n",
       "2     8.0  159660.80              3          1               0   \n",
       "3     1.0       0.00              2          0               0   \n",
       "4     2.0  125510.82              1          1               1   \n",
       "\n",
       "   EstimatedSalary  Exited  \n",
       "0        101348.88       1  \n",
       "1        112542.58       0  \n",
       "2        113931.57       1  \n",
       "3         93826.63       0  \n",
       "4         79084.10       0  "
      ]
     },
     "execution_count": 4,
     "metadata": {},
     "output_type": "execute_result"
    }
   ],
   "source": [
    "df.head()"
   ]
  },
  {
   "cell_type": "code",
   "execution_count": 5,
   "metadata": {
    "scrolled": false
   },
   "outputs": [
    {
     "name": "stdout",
     "output_type": "stream",
     "text": [
      "<class 'pandas.core.frame.DataFrame'>\n",
      "RangeIndex: 10000 entries, 0 to 9999\n",
      "Data columns (total 14 columns):\n",
      " #   Column           Non-Null Count  Dtype  \n",
      "---  ------           --------------  -----  \n",
      " 0   RowNumber        10000 non-null  int64  \n",
      " 1   CustomerId       10000 non-null  int64  \n",
      " 2   Surname          10000 non-null  object \n",
      " 3   CreditScore      10000 non-null  int64  \n",
      " 4   Geography        10000 non-null  object \n",
      " 5   Gender           10000 non-null  object \n",
      " 6   Age              10000 non-null  int64  \n",
      " 7   Tenure           9091 non-null   float64\n",
      " 8   Balance          10000 non-null  float64\n",
      " 9   NumOfProducts    10000 non-null  int64  \n",
      " 10  HasCrCard        10000 non-null  int64  \n",
      " 11  IsActiveMember   10000 non-null  int64  \n",
      " 12  EstimatedSalary  10000 non-null  float64\n",
      " 13  Exited           10000 non-null  int64  \n",
      "dtypes: float64(3), int64(8), object(3)\n",
      "memory usage: 1.1+ MB\n"
     ]
    }
   ],
   "source": [
    "df.info()"
   ]
  },
  {
   "attachments": {},
   "cell_type": "markdown",
   "metadata": {},
   "source": [
    "* **Заполним пропуски используя метод k-ближайших соседей**"
   ]
  },
  {
   "cell_type": "code",
   "execution_count": 6,
   "metadata": {},
   "outputs": [],
   "source": [
    "#Разделим исходные данные на признаки и целевой признак, причем модель будем строить и тестировать на данных без пропусков.\n",
    "#В нашем случае целевым на данном этапе является 'Tenure'\n",
    "features_df_without_nan = df[~df['Tenure'].isnull()][['CreditScore', 'Geography','Gender', 'Age', 'Balance', 'NumOfProducts', 'HasCrCard',\n",
    "                                          'IsActiveMember', 'EstimatedSalary']]\n",
    "target_df_without_nan = df[~df['Tenure'].isnull()]['Tenure']\n",
    "\n",
    "features_df_with_nan = df[df['Tenure'].isnull()][['CreditScore', 'Geography','Gender', 'Age', 'Balance', 'NumOfProducts', 'HasCrCard',\n",
    "                                          'IsActiveMember', 'EstimatedSalary']]\n",
    "target_with_nan = df[df['Tenure'].isnull()]['Tenure']"
   ]
  },
  {
   "cell_type": "code",
   "execution_count": 7,
   "metadata": {},
   "outputs": [],
   "source": [
    "#Разделим данные на обучающую и валидационую выборки (на данном этапе делим только на 2 выборки для заполнения пропусков)\n",
    "features_train, features_valid, target_train, target_valid = train_test_split(features_df_without_nan, target_df_without_nan,\n",
    "                                                              test_size=0.25, random_state=RANDOM_STATE)"
   ]
  },
  {
   "cell_type": "code",
   "execution_count": 8,
   "metadata": {},
   "outputs": [],
   "source": [
    "import warnings\n",
    "warnings.filterwarnings('ignore')\n",
    "#Применим OHE чтобы избавится от категориальных переменных\n",
    "cat = ['Geography','Gender']\n",
    "enc = OneHotEncoder(drop='first', sparse=False)\n",
    "enc.fit(features_train[cat])\n",
    "\n",
    "features_train[enc.get_feature_names()] = enc.transform(features_train[cat])\n",
    "features_train = features_train.select_dtypes(exclude=['object'])\n",
    "\n",
    "features_valid[enc.get_feature_names()] = enc.transform(features_valid[cat])\n",
    "features_valid = features_valid.select_dtypes(exclude=['object'])\n",
    "\n",
    "features_df_with_nan[enc.get_feature_names()] = enc.transform(features_df_with_nan[cat])\n",
    "features_df_with_nan = features_df_with_nan.select_dtypes(exclude=['object'])"
   ]
  },
  {
   "cell_type": "code",
   "execution_count": 9,
   "metadata": {},
   "outputs": [],
   "source": [
    "numeric = [col for col in features_train.columns if (features_train[col].dtype != 'object') & (col not in ['HasCrCard', 'IsActiveMember'] )]\n",
    "scaler = StandardScaler()\n",
    "features_train[numeric] = scaler.fit_transform(features_train[numeric])\n",
    "features_valid[numeric] = scaler.transform(features_valid[numeric])"
   ]
  },
  {
   "cell_type": "code",
   "execution_count": 10,
   "metadata": {},
   "outputs": [
    {
     "name": "stdout",
     "output_type": "stream",
     "text": [
      "Точность наилучшей модели на валидационной выборке: 0.10       \n",
      "Гиперпараметры: {'n_neighbors': 31}\n"
     ]
    }
   ],
   "source": [
    "#Используя HalvingGridSearchCV подберем наилучшие гиперпараметры для KNN модели\n",
    "warnings.filterwarnings('ignore')\n",
    "\n",
    "parameters = {'n_neighbors': range (1, 50, 10)}\n",
    "model = KNeighborsClassifier()\n",
    "grid = HalvingGridSearchCV(model, parameters, random_state=RANDOM_STATE, scoring ='accuracy').fit(features_train, target_train)\n",
    "best_model_knn = grid.best_estimator_\n",
    "print(f'Точность наилучшей модели на валидационной выборке: {grid.best_score_:.2f} \\\n",
    "      \\nГиперпараметры: {grid.best_params_}')"
   ]
  },
  {
   "cell_type": "code",
   "execution_count": 11,
   "metadata": {},
   "outputs": [
    {
     "data": {
      "text/plain": [
       "0.09370875494940607"
      ]
     },
     "execution_count": 11,
     "metadata": {},
     "output_type": "execute_result"
    }
   ],
   "source": [
    "#Протестирум модель на валидацонной выборке\n",
    "best_model_knn.score(features_valid, target_valid)"
   ]
  },
  {
   "cell_type": "code",
   "execution_count": 12,
   "metadata": {},
   "outputs": [
    {
     "name": "stdout",
     "output_type": "stream",
     "text": [
      "Точность наилучшей модели на валидационной выборке: 0.10       \n",
      "Гиперпараметры: {'max_depth': 7, 'n_estimators': 41}\n"
     ]
    }
   ],
   "source": [
    "parameters = {'n_estimators': range (1, 110, 10),\n",
    "              'max_depth': range (1,22, 2)}\n",
    "model = RandomForestClassifier(random_state=RANDOM_STATE)\n",
    "grid = HalvingGridSearchCV(model, parameters, random_state=RANDOM_STATE, scoring ='accuracy').fit(features_train, target_train)\n",
    "best_model_rfc = grid.best_estimator_\n",
    "print(f'Точность наилучшей модели на валидационной выборке: {grid.best_score_:.2f} \\\n",
    "      \\nГиперпараметры: {grid.best_params_}')"
   ]
  },
  {
   "cell_type": "code",
   "execution_count": 13,
   "metadata": {},
   "outputs": [
    {
     "data": {
      "text/plain": [
       "0.10646722393312802"
      ]
     },
     "execution_count": 13,
     "metadata": {},
     "output_type": "execute_result"
    }
   ],
   "source": [
    "#Протестирум модель на валидацонной выборке\n",
    "best_model_rfc.score(features_valid, target_valid)"
   ]
  },
  {
   "cell_type": "code",
   "execution_count": 14,
   "metadata": {},
   "outputs": [
    {
     "name": "stdout",
     "output_type": "stream",
     "text": [
      "0.0988559694925198\n"
     ]
    }
   ],
   "source": [
    "target_train_median = target_train.median()\n",
    "target_pred_constant = pd.Series(target_train_median, index=target_train.index)\n",
    "\n",
    "print(accuracy_score(target_train, target_pred_constant)) "
   ]
  },
  {
   "cell_type": "code",
   "execution_count": 15,
   "metadata": {},
   "outputs": [],
   "source": [
    "#Предскажем отсутствующие значения и заполним пропуски в исходной таблице\n",
    "predictions = pd.Series(best_model_rfc.predict(features_df_with_nan), index=target_with_nan.index)\n",
    "df['Tenure'] = df['Tenure'].fillna(predictions)"
   ]
  },
  {
   "cell_type": "code",
   "execution_count": 16,
   "metadata": {
    "scrolled": false
   },
   "outputs": [
    {
     "name": "stdout",
     "output_type": "stream",
     "text": [
      "<class 'pandas.core.frame.DataFrame'>\n",
      "RangeIndex: 10000 entries, 0 to 9999\n",
      "Data columns (total 14 columns):\n",
      " #   Column           Non-Null Count  Dtype  \n",
      "---  ------           --------------  -----  \n",
      " 0   RowNumber        10000 non-null  int64  \n",
      " 1   CustomerId       10000 non-null  int64  \n",
      " 2   Surname          10000 non-null  object \n",
      " 3   CreditScore      10000 non-null  int64  \n",
      " 4   Geography        10000 non-null  object \n",
      " 5   Gender           10000 non-null  object \n",
      " 6   Age              10000 non-null  int64  \n",
      " 7   Tenure           10000 non-null  float64\n",
      " 8   Balance          10000 non-null  float64\n",
      " 9   NumOfProducts    10000 non-null  int64  \n",
      " 10  HasCrCard        10000 non-null  int64  \n",
      " 11  IsActiveMember   10000 non-null  int64  \n",
      " 12  EstimatedSalary  10000 non-null  float64\n",
      " 13  Exited           10000 non-null  int64  \n",
      "dtypes: float64(3), int64(8), object(3)\n",
      "memory usage: 1.1+ MB\n"
     ]
    }
   ],
   "source": [
    "#Избавились от пропусков\n",
    "df.info()"
   ]
  },
  {
   "attachments": {},
   "cell_type": "markdown",
   "metadata": {},
   "source": [
    "* **Подготовленные данные разделим на обучающую, валидационную и тестовую выборки**"
   ]
  },
  {
   "cell_type": "code",
   "execution_count": 17,
   "metadata": {},
   "outputs": [],
   "source": [
    "features = df.loc[:, ~df.columns.isin(['RowNumber', 'CustomerId', 'Surname', 'Exited'])]\n",
    "target = df['Exited']"
   ]
  },
  {
   "attachments": {},
   "cell_type": "markdown",
   "metadata": {},
   "source": [
    "* **Стандартизируем численные признаки**"
   ]
  },
  {
   "cell_type": "code",
   "execution_count": 19,
   "metadata": {},
   "outputs": [
    {
     "data": {
      "text/plain": [
       "['CreditScore', 'Age', 'Tenure', 'Balance', 'NumOfProducts', 'EstimatedSalary']"
      ]
     },
     "execution_count": 19,
     "metadata": {},
     "output_type": "execute_result"
    }
   ],
   "source": [
    "numeric = [col for col in features_train.columns if (features_train[col].dtype != 'object') & (col not in ['HasCrCard', 'IsActiveMember'] )]\n",
    "numeric"
   ]
  },
  {
   "cell_type": "code",
   "execution_count": 20,
   "metadata": {},
   "outputs": [],
   "source": [
    "scaler = StandardScaler()\n",
    "\n",
    "features_train[numeric] = scaler.fit_transform(features_train[numeric])\n",
    "features_valid[numeric] = scaler.transform(features_valid[numeric])\n",
    "features_test[numeric] = scaler.transform(features_test[numeric])"
   ]
  },
  {
   "attachments": {},
   "cell_type": "markdown",
   "metadata": {},
   "source": [
    "* **Преобразуем категориальные данные в численные методом OHE**"
   ]
  },
  {
   "cell_type": "code",
   "execution_count": 21,
   "metadata": {},
   "outputs": [
    {
     "data": {
      "text/plain": [
       "['Geography', 'Gender']"
      ]
     },
     "execution_count": 21,
     "metadata": {},
     "output_type": "execute_result"
    }
   ],
   "source": [
    "cat = [col for col in features_train.columns if features_train[col].dtype == 'object']\n",
    "cat"
   ]
  },
  {
   "cell_type": "code",
   "execution_count": 22,
   "metadata": {},
   "outputs": [],
   "source": [
    "enc = OneHotEncoder(drop='first', sparse=False)\n",
    "\n",
    "features_train[enc.get_feature_names()] = enc.fit_transform(features_train[cat])\n",
    "features_valid[enc.get_feature_names()] = enc.transform(features_valid[cat])\n",
    "features_test[enc.get_feature_names()] = enc.transform(features_test[cat])\n",
    "\n",
    "for df_encoded in [features_train,features_valid,features_test ]:\n",
    "    df_encoded.drop(cat, axis=1, inplace=True)"
   ]
  },
  {
   "cell_type": "code",
   "execution_count": 23,
   "metadata": {},
   "outputs": [
    {
     "data": {
      "text/html": [
       "<div>\n",
       "<style scoped>\n",
       "    .dataframe tbody tr th:only-of-type {\n",
       "        vertical-align: middle;\n",
       "    }\n",
       "\n",
       "    .dataframe tbody tr th {\n",
       "        vertical-align: top;\n",
       "    }\n",
       "\n",
       "    .dataframe thead th {\n",
       "        text-align: right;\n",
       "    }\n",
       "</style>\n",
       "<table border=\"1\" class=\"dataframe\">\n",
       "  <thead>\n",
       "    <tr style=\"text-align: right;\">\n",
       "      <th></th>\n",
       "      <th>CreditScore</th>\n",
       "      <th>Age</th>\n",
       "      <th>Tenure</th>\n",
       "      <th>Balance</th>\n",
       "      <th>NumOfProducts</th>\n",
       "      <th>HasCrCard</th>\n",
       "      <th>IsActiveMember</th>\n",
       "      <th>EstimatedSalary</th>\n",
       "      <th>x0_Germany</th>\n",
       "      <th>x0_Spain</th>\n",
       "      <th>x1_Male</th>\n",
       "    </tr>\n",
       "  </thead>\n",
       "  <tbody>\n",
       "    <tr>\n",
       "      <th>7479</th>\n",
       "      <td>-0.886751</td>\n",
       "      <td>-0.373192</td>\n",
       "      <td>0.937913</td>\n",
       "      <td>1.232271</td>\n",
       "      <td>-0.891560</td>\n",
       "      <td>1</td>\n",
       "      <td>0</td>\n",
       "      <td>-0.187705</td>\n",
       "      <td>0.0</td>\n",
       "      <td>1.0</td>\n",
       "      <td>1.0</td>\n",
       "    </tr>\n",
       "    <tr>\n",
       "      <th>3411</th>\n",
       "      <td>0.608663</td>\n",
       "      <td>-0.183385</td>\n",
       "      <td>0.937913</td>\n",
       "      <td>0.600563</td>\n",
       "      <td>-0.891560</td>\n",
       "      <td>0</td>\n",
       "      <td>0</td>\n",
       "      <td>-0.333945</td>\n",
       "      <td>0.0</td>\n",
       "      <td>0.0</td>\n",
       "      <td>0.0</td>\n",
       "    </tr>\n",
       "    <tr>\n",
       "      <th>6027</th>\n",
       "      <td>2.052152</td>\n",
       "      <td>0.480939</td>\n",
       "      <td>-0.766867</td>\n",
       "      <td>1.027098</td>\n",
       "      <td>0.830152</td>\n",
       "      <td>0</td>\n",
       "      <td>1</td>\n",
       "      <td>1.503095</td>\n",
       "      <td>1.0</td>\n",
       "      <td>0.0</td>\n",
       "      <td>1.0</td>\n",
       "    </tr>\n",
       "    <tr>\n",
       "      <th>1247</th>\n",
       "      <td>-1.457915</td>\n",
       "      <td>-1.417129</td>\n",
       "      <td>0.256001</td>\n",
       "      <td>-1.233163</td>\n",
       "      <td>0.830152</td>\n",
       "      <td>1</td>\n",
       "      <td>0</td>\n",
       "      <td>-1.071061</td>\n",
       "      <td>0.0</td>\n",
       "      <td>0.0</td>\n",
       "      <td>1.0</td>\n",
       "    </tr>\n",
       "    <tr>\n",
       "      <th>3716</th>\n",
       "      <td>0.130961</td>\n",
       "      <td>-1.132419</td>\n",
       "      <td>-1.107823</td>\n",
       "      <td>1.140475</td>\n",
       "      <td>-0.891560</td>\n",
       "      <td>0</td>\n",
       "      <td>0</td>\n",
       "      <td>1.524268</td>\n",
       "      <td>1.0</td>\n",
       "      <td>0.0</td>\n",
       "      <td>0.0</td>\n",
       "    </tr>\n",
       "  </tbody>\n",
       "</table>\n",
       "</div>"
      ],
      "text/plain": [
       "      CreditScore       Age    Tenure   Balance  NumOfProducts  HasCrCard  \\\n",
       "7479    -0.886751 -0.373192  0.937913  1.232271      -0.891560          1   \n",
       "3411     0.608663 -0.183385  0.937913  0.600563      -0.891560          0   \n",
       "6027     2.052152  0.480939 -0.766867  1.027098       0.830152          0   \n",
       "1247    -1.457915 -1.417129  0.256001 -1.233163       0.830152          1   \n",
       "3716     0.130961 -1.132419 -1.107823  1.140475      -0.891560          0   \n",
       "\n",
       "      IsActiveMember  EstimatedSalary  x0_Germany  x0_Spain  x1_Male  \n",
       "7479               0        -0.187705         0.0       1.0      1.0  \n",
       "3411               0        -0.333945         0.0       0.0      0.0  \n",
       "6027               1         1.503095         1.0       0.0      1.0  \n",
       "1247               0        -1.071061         0.0       0.0      1.0  \n",
       "3716               0         1.524268         1.0       0.0      0.0  "
      ]
     },
     "execution_count": 23,
     "metadata": {},
     "output_type": "execute_result"
    }
   ],
   "source": [
    "features_train.head()"
   ]
  },
  {
   "cell_type": "code",
   "execution_count": 24,
   "metadata": {},
   "outputs": [
    {
     "data": {
      "text/html": [
       "<div>\n",
       "<style scoped>\n",
       "    .dataframe tbody tr th:only-of-type {\n",
       "        vertical-align: middle;\n",
       "    }\n",
       "\n",
       "    .dataframe tbody tr th {\n",
       "        vertical-align: top;\n",
       "    }\n",
       "\n",
       "    .dataframe thead th {\n",
       "        text-align: right;\n",
       "    }\n",
       "</style>\n",
       "<table border=\"1\" class=\"dataframe\">\n",
       "  <thead>\n",
       "    <tr style=\"text-align: right;\">\n",
       "      <th></th>\n",
       "      <th>CreditScore</th>\n",
       "      <th>Age</th>\n",
       "      <th>Tenure</th>\n",
       "      <th>Balance</th>\n",
       "      <th>NumOfProducts</th>\n",
       "      <th>HasCrCard</th>\n",
       "      <th>IsActiveMember</th>\n",
       "      <th>EstimatedSalary</th>\n",
       "      <th>x0_Germany</th>\n",
       "      <th>x0_Spain</th>\n",
       "      <th>x1_Male</th>\n",
       "    </tr>\n",
       "  </thead>\n",
       "  <tbody>\n",
       "    <tr>\n",
       "      <th>8532</th>\n",
       "      <td>-0.699824</td>\n",
       "      <td>-0.373192</td>\n",
       "      <td>-1.107823</td>\n",
       "      <td>-1.233163</td>\n",
       "      <td>0.830152</td>\n",
       "      <td>1</td>\n",
       "      <td>0</td>\n",
       "      <td>-0.015173</td>\n",
       "      <td>0.0</td>\n",
       "      <td>0.0</td>\n",
       "      <td>0.0</td>\n",
       "    </tr>\n",
       "    <tr>\n",
       "      <th>5799</th>\n",
       "      <td>-0.284431</td>\n",
       "      <td>0.575842</td>\n",
       "      <td>-0.766867</td>\n",
       "      <td>-1.233163</td>\n",
       "      <td>-0.891560</td>\n",
       "      <td>1</td>\n",
       "      <td>1</td>\n",
       "      <td>1.471724</td>\n",
       "      <td>0.0</td>\n",
       "      <td>0.0</td>\n",
       "      <td>0.0</td>\n",
       "    </tr>\n",
       "    <tr>\n",
       "      <th>5511</th>\n",
       "      <td>0.151731</td>\n",
       "      <td>-0.657902</td>\n",
       "      <td>-1.789734</td>\n",
       "      <td>0.438711</td>\n",
       "      <td>-0.891560</td>\n",
       "      <td>1</td>\n",
       "      <td>0</td>\n",
       "      <td>-1.367107</td>\n",
       "      <td>1.0</td>\n",
       "      <td>0.0</td>\n",
       "      <td>1.0</td>\n",
       "    </tr>\n",
       "    <tr>\n",
       "      <th>7365</th>\n",
       "      <td>-0.876366</td>\n",
       "      <td>-0.278288</td>\n",
       "      <td>1.619825</td>\n",
       "      <td>1.239884</td>\n",
       "      <td>-0.891560</td>\n",
       "      <td>1</td>\n",
       "      <td>1</td>\n",
       "      <td>-0.786517</td>\n",
       "      <td>0.0</td>\n",
       "      <td>1.0</td>\n",
       "      <td>0.0</td>\n",
       "    </tr>\n",
       "    <tr>\n",
       "      <th>7367</th>\n",
       "      <td>-0.481743</td>\n",
       "      <td>0.291132</td>\n",
       "      <td>1.619825</td>\n",
       "      <td>-1.233163</td>\n",
       "      <td>0.830152</td>\n",
       "      <td>1</td>\n",
       "      <td>0</td>\n",
       "      <td>1.358533</td>\n",
       "      <td>0.0</td>\n",
       "      <td>1.0</td>\n",
       "      <td>1.0</td>\n",
       "    </tr>\n",
       "  </tbody>\n",
       "</table>\n",
       "</div>"
      ],
      "text/plain": [
       "      CreditScore       Age    Tenure   Balance  NumOfProducts  HasCrCard  \\\n",
       "8532    -0.699824 -0.373192 -1.107823 -1.233163       0.830152          1   \n",
       "5799    -0.284431  0.575842 -0.766867 -1.233163      -0.891560          1   \n",
       "5511     0.151731 -0.657902 -1.789734  0.438711      -0.891560          1   \n",
       "7365    -0.876366 -0.278288  1.619825  1.239884      -0.891560          1   \n",
       "7367    -0.481743  0.291132  1.619825 -1.233163       0.830152          1   \n",
       "\n",
       "      IsActiveMember  EstimatedSalary  x0_Germany  x0_Spain  x1_Male  \n",
       "8532               0        -0.015173         0.0       0.0      0.0  \n",
       "5799               1         1.471724         0.0       0.0      0.0  \n",
       "5511               0        -1.367107         1.0       0.0      1.0  \n",
       "7365               1        -0.786517         0.0       1.0      0.0  \n",
       "7367               0         1.358533         0.0       1.0      1.0  "
      ]
     },
     "execution_count": 24,
     "metadata": {},
     "output_type": "execute_result"
    }
   ],
   "source": [
    "features_valid.head()"
   ]
  },
  {
   "cell_type": "code",
   "execution_count": 25,
   "metadata": {},
   "outputs": [
    {
     "data": {
      "text/html": [
       "<div>\n",
       "<style scoped>\n",
       "    .dataframe tbody tr th:only-of-type {\n",
       "        vertical-align: middle;\n",
       "    }\n",
       "\n",
       "    .dataframe tbody tr th {\n",
       "        vertical-align: top;\n",
       "    }\n",
       "\n",
       "    .dataframe thead th {\n",
       "        text-align: right;\n",
       "    }\n",
       "</style>\n",
       "<table border=\"1\" class=\"dataframe\">\n",
       "  <thead>\n",
       "    <tr style=\"text-align: right;\">\n",
       "      <th></th>\n",
       "      <th>CreditScore</th>\n",
       "      <th>Age</th>\n",
       "      <th>Tenure</th>\n",
       "      <th>Balance</th>\n",
       "      <th>NumOfProducts</th>\n",
       "      <th>HasCrCard</th>\n",
       "      <th>IsActiveMember</th>\n",
       "      <th>EstimatedSalary</th>\n",
       "      <th>x0_Germany</th>\n",
       "      <th>x0_Spain</th>\n",
       "      <th>x1_Male</th>\n",
       "    </tr>\n",
       "  </thead>\n",
       "  <tbody>\n",
       "    <tr>\n",
       "      <th>7041</th>\n",
       "      <td>-2.226392</td>\n",
       "      <td>-0.088482</td>\n",
       "      <td>-1.107823</td>\n",
       "      <td>-1.233163</td>\n",
       "      <td>0.830152</td>\n",
       "      <td>1</td>\n",
       "      <td>0</td>\n",
       "      <td>0.647083</td>\n",
       "      <td>0.0</td>\n",
       "      <td>0.0</td>\n",
       "      <td>1.0</td>\n",
       "    </tr>\n",
       "    <tr>\n",
       "      <th>5709</th>\n",
       "      <td>-0.087120</td>\n",
       "      <td>0.006422</td>\n",
       "      <td>1.278869</td>\n",
       "      <td>-1.233163</td>\n",
       "      <td>-0.891560</td>\n",
       "      <td>1</td>\n",
       "      <td>0</td>\n",
       "      <td>-1.658410</td>\n",
       "      <td>0.0</td>\n",
       "      <td>0.0</td>\n",
       "      <td>0.0</td>\n",
       "    </tr>\n",
       "    <tr>\n",
       "      <th>7117</th>\n",
       "      <td>-0.917905</td>\n",
       "      <td>-0.752805</td>\n",
       "      <td>-0.084955</td>\n",
       "      <td>0.722307</td>\n",
       "      <td>-0.891560</td>\n",
       "      <td>1</td>\n",
       "      <td>1</td>\n",
       "      <td>-1.369334</td>\n",
       "      <td>0.0</td>\n",
       "      <td>1.0</td>\n",
       "      <td>1.0</td>\n",
       "    </tr>\n",
       "    <tr>\n",
       "      <th>7775</th>\n",
       "      <td>-0.253277</td>\n",
       "      <td>0.101325</td>\n",
       "      <td>1.619825</td>\n",
       "      <td>-1.233163</td>\n",
       "      <td>0.830152</td>\n",
       "      <td>1</td>\n",
       "      <td>0</td>\n",
       "      <td>0.075086</td>\n",
       "      <td>0.0</td>\n",
       "      <td>1.0</td>\n",
       "      <td>1.0</td>\n",
       "    </tr>\n",
       "    <tr>\n",
       "      <th>8735</th>\n",
       "      <td>0.785204</td>\n",
       "      <td>-0.847708</td>\n",
       "      <td>1.619825</td>\n",
       "      <td>0.615625</td>\n",
       "      <td>-0.891560</td>\n",
       "      <td>0</td>\n",
       "      <td>1</td>\n",
       "      <td>-1.070919</td>\n",
       "      <td>0.0</td>\n",
       "      <td>0.0</td>\n",
       "      <td>1.0</td>\n",
       "    </tr>\n",
       "  </tbody>\n",
       "</table>\n",
       "</div>"
      ],
      "text/plain": [
       "      CreditScore       Age    Tenure   Balance  NumOfProducts  HasCrCard  \\\n",
       "7041    -2.226392 -0.088482 -1.107823 -1.233163       0.830152          1   \n",
       "5709    -0.087120  0.006422  1.278869 -1.233163      -0.891560          1   \n",
       "7117    -0.917905 -0.752805 -0.084955  0.722307      -0.891560          1   \n",
       "7775    -0.253277  0.101325  1.619825 -1.233163       0.830152          1   \n",
       "8735     0.785204 -0.847708  1.619825  0.615625      -0.891560          0   \n",
       "\n",
       "      IsActiveMember  EstimatedSalary  x0_Germany  x0_Spain  x1_Male  \n",
       "7041               0         0.647083         0.0       0.0      1.0  \n",
       "5709               0        -1.658410         0.0       0.0      0.0  \n",
       "7117               1        -1.369334         0.0       1.0      1.0  \n",
       "7775               0         0.075086         0.0       1.0      1.0  \n",
       "8735               1        -1.070919         0.0       0.0      1.0  "
      ]
     },
     "execution_count": 25,
     "metadata": {},
     "output_type": "execute_result"
    }
   ],
   "source": [
    "features_test.head()"
   ]
  },
  {
   "attachments": {},
   "cell_type": "markdown",
   "metadata": {},
   "source": [
    "**Вывод**: В результате подготовки данных были удалены столбцы RowNumber, CustomerId и Surname, так как они не важны при обучении модели. Методом k-ближайших соседей (knn) были заполнены пропуски в солбце Tenure. Избавится от пропусков, удалив их, нельзя было, т.к. пропущено было около 10% от всех данных. Далее исходные данные разделили на обучающую (60%), валидационную (20%) и тестовую (20%) выборки. В каждой из выборок была проведена стандартизация количественных признаков и кодирование категориальных признаков с учетом дамми-ловушки. В результате получили выборки с 11 признаками (было 13)."
   ]
  },
  {
   "attachments": {},
   "cell_type": "markdown",
   "metadata": {},
   "source": [
    "## Исследование задачи"
   ]
  },
  {
   "attachments": {},
   "cell_type": "markdown",
   "metadata": {},
   "source": [
    "Так как целевой признак Exited - категориальный, то решается задача классификации. Будем исследовать 3 модели:\n",
    "* Дерево решений\n",
    "* Логистическая регрессия\n",
    "* Случайный лес"
   ]
  },
  {
   "attachments": {},
   "cell_type": "markdown",
   "metadata": {},
   "source": [
    "**Decision tree**"
   ]
  },
  {
   "cell_type": "code",
   "execution_count": 26,
   "metadata": {},
   "outputs": [
    {
     "name": "stdout",
     "output_type": "stream",
     "text": [
      "F1: 0.561        \n",
      "AUC-ROC: 0.780        \n",
      "Accuracy: 0.844        \n",
      "Гиперпараметры: {'max_depth': 9}\n"
     ]
    }
   ],
   "source": [
    "parameters = {'max_depth': range (1,20, 2)}\n",
    "dtr = DecisionTreeClassifier(random_state=RANDOM_STATE)\n",
    "grid = HalvingGridSearchCV(dtr, parameters, random_state=RANDOM_STATE, scoring ='f1').fit(features_train, target_train)\n",
    "joblib.dump(grid.best_estimator_, 'dtr.joblib')\n",
    "\n",
    "probabilities_valid = grid.best_estimator_.predict_proba(features_valid)\n",
    "probabilities_one_valid = probabilities_valid[:, 1]\n",
    "auc_roc = roc_auc_score(target_valid, probabilities_one_valid)\n",
    "\n",
    "print(f'F1: {f1_score(target_valid, grid.best_estimator_.predict(features_valid)):.3f}  \\\n",
    "      \\nAUC-ROC: {auc_roc:.3f}  \\\n",
    "      \\nAccuracy: {accuracy_score(target_valid, grid.best_estimator_.predict(features_valid)):.3f}  \\\n",
    "      \\nГиперпараметры: {grid.best_params_}')"
   ]
  },
  {
   "attachments": {},
   "cell_type": "markdown",
   "metadata": {},
   "source": [
    "**Logistic Regression**"
   ]
  },
  {
   "cell_type": "code",
   "execution_count": 27,
   "metadata": {},
   "outputs": [
    {
     "name": "stdout",
     "output_type": "stream",
     "text": [
      "F1: 0.331        \n",
      "AUC-ROC: 0.759        \n",
      "Accuracy: 0.802        \n",
      "Гиперпараметры: {'solver': 'lbfgs'}\n"
     ]
    }
   ],
   "source": [
    "parameters = {'solver' : ['liblinear', 'lbfgs']}\n",
    "lr = LogisticRegression(random_state=RANDOM_STATE, max_iter=1000)\n",
    "grid = HalvingGridSearchCV(lr, parameters, random_state=RANDOM_STATE, scoring ='f1').fit(features_train, target_train)\n",
    "joblib.dump(grid.best_estimator_, 'lr.joblib')\n",
    "\n",
    "probabilities_valid = grid.best_estimator_.predict_proba(features_valid)\n",
    "probabilities_one_valid = probabilities_valid[:, 1]\n",
    "auc_roc = roc_auc_score(target_valid, probabilities_one_valid)\n",
    "\n",
    "print(f'F1: {f1_score(target_valid, grid.best_estimator_.predict(features_valid)):.3f}  \\\n",
    "      \\nAUC-ROC: {auc_roc:.3f}  \\\n",
    "      \\nAccuracy: {accuracy_score(target_valid, grid.best_estimator_.predict(features_valid)):.3f}  \\\n",
    "      \\nГиперпараметры: {grid.best_params_}')"
   ]
  },
  {
   "attachments": {},
   "cell_type": "markdown",
   "metadata": {},
   "source": [
    "**Random Forest**"
   ]
  },
  {
   "cell_type": "code",
   "execution_count": 28,
   "metadata": {
    "scrolled": true
   },
   "outputs": [
    {
     "name": "stdout",
     "output_type": "stream",
     "text": [
      "F1: 0.578        \n",
      "AUC-ROC: 0.849        \n",
      "Accuracy: 0.863        \n",
      "Гиперпараметры: {'max_depth': 9, 'n_estimators': 51}\n"
     ]
    }
   ],
   "source": [
    "parameters = {'n_estimators': range (1, 110, 10),\n",
    "              'max_depth': range (1,22, 2)}\n",
    "rfc = RandomForestClassifier(random_state=RANDOM_STATE)\n",
    "grid = HalvingGridSearchCV(rfc, parameters, random_state=RANDOM_STATE, scoring ='f1').fit(features_train, target_train)\n",
    "joblib.dump(grid.best_estimator_, 'rfc.joblib')\n",
    "\n",
    "probabilities_valid = grid.best_estimator_.predict_proba(features_valid)\n",
    "probabilities_one_valid = probabilities_valid[:, 1]\n",
    "auc_roc = roc_auc_score(target_valid, probabilities_one_valid)\n",
    "\n",
    "print(f'F1: {f1_score(target_valid, grid.best_estimator_.predict(features_valid)):.3f}  \\\n",
    "      \\nAUC-ROC: {auc_roc:.3f}  \\\n",
    "      \\nAccuracy: {accuracy_score(target_valid, grid.best_estimator_.predict(features_valid)):.3f}  \\\n",
    "      \\nГиперпараметры: {grid.best_params_}')"
   ]
  },
  {
   "attachments": {},
   "cell_type": "markdown",
   "metadata": {},
   "source": [
    "* **Проверка адекватности модели**"
   ]
  },
  {
   "cell_type": "code",
   "execution_count": 29,
   "metadata": {
    "scrolled": false
   },
   "outputs": [
    {
     "data": {
      "image/png": "[encoded data removed]",
      "text/plain": [
       "<Figure size 144x144 with 1 Axes>"
      ]
     },
     "metadata": {},
     "output_type": "display_data"
    },
    {
     "data": {
      "image/png": "[encoded data removed]",
      "text/plain": [
       "<Figure size 144x144 with 1 Axes>"
      ]
     },
     "metadata": {},
     "output_type": "display_data"
    }
   ],
   "source": [
    "dict1 = {'обучающей':[target_train, 1],\n",
    "         'валидационной' : [target_train, 2]}\n",
    "\n",
    "for k, v in dict1.items():\n",
    "    class_frequency = v[0].value_counts(normalize=True)\n",
    "    plt.figure(figsize=(2,2))\n",
    "    plt.bar(class_frequency.index, height = class_frequency)\n",
    "    plt.title(f'Баланс классов в целевом признаке {k} выборки ')\n",
    "    plt.xlabel('Классы')\n",
    "    plt.ylabel('Частота')"
   ]
  },
  {
   "attachments": {},
   "cell_type": "markdown",
   "metadata": {},
   "source": [
    "* **Проанализируем частоты классов в результатах предсказаний модели случайного леса**"
   ]
  },
  {
   "cell_type": "code",
   "execution_count": 30,
   "metadata": {},
   "outputs": [
    {
     "data": {
      "image/png": "[encoded data removed]",
      "text/plain": [
       "<Figure size 144x144 with 1 Axes>"
      ]
     },
     "metadata": {},
     "output_type": "display_data"
    }
   ],
   "source": [
    "model = joblib.load('rfc.joblib')\n",
    "model.fit(features_train, target_train)\n",
    "predicted_valid = pd.Series(model.predict(features_valid))\n",
    "class_frequency = predicted_valid.value_counts(normalize=True)\n",
    "\n",
    "plt.figure(figsize=(2,2))\n",
    "plt.bar(class_frequency.index, height = class_frequency)\n",
    "plt.title(f'Баланс классов в результатах предсказаний случайного леса');\n",
    "plt.xlabel('Классы')\n",
    "plt.ylabel('Частота');"
   ]
  },
  {
   "attachments": {},
   "cell_type": "markdown",
   "metadata": {},
   "source": [
    "* **Изучим матрицу ошибок для модели случайного леса**"
   ]
  },
  {
   "cell_type": "code",
   "execution_count": 31,
   "metadata": {},
   "outputs": [
    {
     "name": "stdout",
     "output_type": "stream",
     "text": [
      "Матрица ошибок:       \n",
      "[[1538   44]\n",
      " [ 230  188]]\n"
     ]
    }
   ],
   "source": [
    "print(f'Матрица ошибок: \\\n",
    "      \\n{confusion_matrix(target_valid, predicted_valid)}')"
   ]
  },
  {
   "attachments": {},
   "cell_type": "markdown",
   "metadata": {},
   "source": [
    "**Вывод**: Проанализировав частоты классов целевого признака, определили, что классы 0 и 1 распределены в соотношении 80:20 соответственно.  Можно ожидать, что результаты предсказаний моделей будут склоняться к классу 0. Проверили нашу терию, выбранная нами модель в большинстве случаев выдает истинные ответы, однако ложноотрицательные ответы составляют около 10% всех ответов, т.е. модель чаще видит отрицательные ответы, там где их нет. Все это свидетельствует о дисбалансе классов."
   ]
  },
  {
   "attachments": {},
   "cell_type": "markdown",
   "metadata": {},
   "source": [
    "## Борьба с дисбалансом"
   ]
  },
  {
   "attachments": {},
   "cell_type": "markdown",
   "metadata": {},
   "source": [
    "### Взвешивание классов"
   ]
  },
  {
   "cell_type": "code",
   "execution_count": 32,
   "metadata": {},
   "outputs": [
    {
     "name": "stdout",
     "output_type": "stream",
     "text": [
      "F1: 0.617         \n",
      "AUC-ROC: 0.849\n"
     ]
    }
   ],
   "source": [
    "model = joblib.load('rfc.joblib')\n",
    "model = model.set_params(class_weight = 'balanced')\n",
    "model.fit(features_train, target_train)\n",
    "predicted_valid = model.predict(features_valid)\n",
    "\n",
    "probabilities_valid = grid.best_estimator_.predict_proba(features_valid)\n",
    "probabilities_one_valid = probabilities_valid[:, 1]\n",
    "auc_roc = roc_auc_score(target_valid, probabilities_one_valid)\n",
    "\n",
    "print(f'F1: {f1_score(target_valid, predicted_valid):.3f} \\\n",
    "        \\nAUC-ROC: {auc_roc:.3f}')"
   ]
  },
  {
   "attachments": {},
   "cell_type": "markdown",
   "metadata": {},
   "source": [
    "### Upsampling "
   ]
  },
  {
   "cell_type": "code",
   "execution_count": 33,
   "metadata": {},
   "outputs": [
    {
     "data": {
      "image/png": "[encoded data removed]",
      "text/plain": [
       "<Figure size 144x144 with 1 Axes>"
      ]
     },
     "metadata": {},
     "output_type": "display_data"
    }
   ],
   "source": [
    "def upsample(features, target, repeat, class_to_upsample):\n",
    "    features_zeros = features[target == 0]\n",
    "    features_ones = features[target == 1]\n",
    "    target_zeros = target[target == 0]\n",
    "    target_ones = target[target == 1]\n",
    "    \n",
    "    if class_to_upsample == 1:\n",
    "        features_upsampled = pd.concat([features_zeros] + [features_ones] * repeat)\n",
    "        target_upsampled = pd.concat([target_zeros] + [target_ones] * repeat)\n",
    "    elif class_to_upsample == 0:\n",
    "        features_upsampled = pd.concat([features_zeros] * repeat + [features_ones])\n",
    "        target_upsampled = pd.concat([target_zeros] * repeat + [target_ones])\n",
    "    \n",
    "    features_upsampled, target_upsampled = shuffle(features_upsampled, target_upsampled, random_state=RANDOM_STATE)\n",
    "    \n",
    "    return features_upsampled, target_upsampled\n",
    "\n",
    "features_upsampled, target_upsampled = upsample(features_train, target_train, 4, 1 )\n",
    "\n",
    "class_frequency = target_upsampled.value_counts(normalize=True)\n",
    "plt.figure(figsize=(2,2))\n",
    "plt.bar(class_frequency.index, height = class_frequency)\n",
    "plt.title('Полученное распределение классов');"
   ]
  },
  {
   "attachments": {},
   "cell_type": "markdown",
   "metadata": {},
   "source": [
    "**Decision tree**"
   ]
  },
  {
   "cell_type": "code",
   "execution_count": 34,
   "metadata": {},
   "outputs": [
    {
     "name": "stdout",
     "output_type": "stream",
     "text": [
      "F1: 0.482        \n",
      "AUC-ROC: 0.673        \n",
      "Accuracy: 0.782        \n",
      "Гиперпараметры: {'class_weight': None, 'max_depth': 19}\n"
     ]
    }
   ],
   "source": [
    "parameters = {'max_depth': range (1,20, 2),\n",
    "              'class_weight': ['balanced', None]}\n",
    "dtr = DecisionTreeClassifier(random_state=RANDOM_STATE)\n",
    "grid = HalvingGridSearchCV(dtr, parameters, random_state=RANDOM_STATE, scoring ='f1').fit(features_upsampled, target_upsampled)\n",
    "\n",
    "probabilities_valid = grid.best_estimator_.predict_proba(features_valid)\n",
    "probabilities_one_valid = probabilities_valid[:, 1]\n",
    "auc_roc = roc_auc_score(target_valid, probabilities_one_valid)\n",
    "\n",
    "print(f'F1: {f1_score(target_valid, grid.best_estimator_.predict(features_valid)):.3f}  \\\n",
    "      \\nAUC-ROC: {auc_roc:.3f}  \\\n",
    "      \\nAccuracy: {accuracy_score(target_valid, grid.best_estimator_.predict(features_valid)):.3f}  \\\n",
    "      \\nГиперпараметры: {grid.best_params_}')"
   ]
  },
  {
   "attachments": {},
   "cell_type": "markdown",
   "metadata": {},
   "source": [
    "**Logistic Regression**"
   ]
  },
  {
   "cell_type": "code",
   "execution_count": 35,
   "metadata": {},
   "outputs": [
    {
     "name": "stdout",
     "output_type": "stream",
     "text": [
      "F1: 0.490        \n",
      "AUC-ROC: 0.764        \n",
      "Accuracy: 0.702        \n",
      "Гиперпараметры: {'class_weight': 'balanced', 'solver': 'liblinear'}\n"
     ]
    }
   ],
   "source": [
    "parameters = {'solver' : ['liblinear', 'lbfgs'],\n",
    "              'class_weight': ['balanced', None]}\n",
    "lr = LogisticRegression(random_state=RANDOM_STATE, max_iter=1000)\n",
    "grid = HalvingGridSearchCV(lr, parameters, random_state=RANDOM_STATE, scoring ='f1').fit(features_upsampled, target_upsampled)\n",
    "\n",
    "probabilities_valid = grid.best_estimator_.predict_proba(features_valid)\n",
    "probabilities_one_valid = probabilities_valid[:, 1]\n",
    "auc_roc = roc_auc_score(target_valid, probabilities_one_valid)\n",
    "\n",
    "print(f'F1: {f1_score(target_valid, grid.best_estimator_.predict(features_valid)):.3f}  \\\n",
    "      \\nAUC-ROC: {auc_roc:.3f}  \\\n",
    "      \\nAccuracy: {accuracy_score(target_valid, grid.best_estimator_.predict(features_valid)):.3f}  \\\n",
    "      \\nГиперпараметры: {grid.best_params_}')"
   ]
  },
  {
   "attachments": {},
   "cell_type": "markdown",
   "metadata": {},
   "source": [
    "**Random Forest**"
   ]
  },
  {
   "cell_type": "code",
   "execution_count": 36,
   "metadata": {},
   "outputs": [
    {
     "name": "stdout",
     "output_type": "stream",
     "text": [
      "F1: 0.604        \n",
      "AUC-ROC: 0.840        \n",
      "Accuracy: 0.850        \n",
      "Гиперпараметры: {'class_weight': None, 'max_depth': 21, 'n_estimators': 101}\n"
     ]
    }
   ],
   "source": [
    "parameters = {'n_estimators': range (1, 110, 10),\n",
    "              'max_depth': range (1,22, 2),\n",
    "              'class_weight': ['balanced', None]}\n",
    "rfc = RandomForestClassifier(random_state=RANDOM_STATE)\n",
    "grid = HalvingGridSearchCV(rfc, parameters, random_state=RANDOM_STATE, scoring ='f1').fit(features_upsampled, target_upsampled)\n",
    "joblib.dump(grid.best_estimator_, 'rfc_upsampled.joblib')\n",
    "\n",
    "probabilities_valid = grid.best_estimator_.predict_proba(features_valid)\n",
    "probabilities_one_valid = probabilities_valid[:, 1]\n",
    "auc_roc = roc_auc_score(target_valid, probabilities_one_valid)\n",
    "\n",
    "print(f'F1: {f1_score(target_valid, grid.best_estimator_.predict(features_valid)):.3f}  \\\n",
    "      \\nAUC-ROC: {auc_roc:.3f}  \\\n",
    "      \\nAccuracy: {accuracy_score(target_valid, grid.best_estimator_.predict(features_valid)):.3f}  \\\n",
    "      \\nГиперпараметры: {grid.best_params_}')"
   ]
  },
  {
   "attachments": {},
   "cell_type": "markdown",
   "metadata": {},
   "source": [
    "### Downsampling"
   ]
  },
  {
   "cell_type": "code",
   "execution_count": 37,
   "metadata": {},
   "outputs": [
    {
     "data": {
      "image/png": "[encoded data removed]",
      "text/plain": [
       "<Figure size 144x144 with 1 Axes>"
      ]
     },
     "metadata": {},
     "output_type": "display_data"
    }
   ],
   "source": [
    "def downsample(features, target, fraction, class_to_downsample):\n",
    "    features_zeros = features[target == 0]\n",
    "    features_ones = features[target == 1]\n",
    "    target_zeros = target[target == 0]\n",
    "    target_ones = target[target == 1]\n",
    "    \n",
    "    if class_to_downsample == 1:\n",
    "        features_downsampled = pd.concat([features_zeros] + [features_ones.sample(frac=fraction, random_state=RANDOM_STATE)])\n",
    "        target_downsampled = pd.concat([target_zeros] + [target_ones.sample(frac=fraction, random_state=RANDOM_STATE)])\n",
    "    elif class_to_downsample == 0:\n",
    "        features_downsampled = pd.concat([features_zeros.sample(frac=fraction, random_state=RANDOM_STATE)] + [features_ones])\n",
    "        target_downsampled = pd.concat([target_zeros.sample(frac=fraction, random_state=RANDOM_STATE)] + [target_ones])\n",
    "        \n",
    "    features_downsampled = shuffle(features_downsampled,random_state=RANDOM_STATE)\n",
    "    target_downsampled = shuffle(target_downsampled, random_state=RANDOM_STATE)\n",
    "    \n",
    "    return features_downsampled, target_downsampled\n",
    "\n",
    "features_downsampled, target_downsampled = downsample(features_train, target_train, 0.25, 0)\n",
    "\n",
    "class_frequency = target_downsampled.value_counts(normalize=True)\n",
    "plt.figure(figsize=(2,2))\n",
    "plt.bar(class_frequency.index, height = class_frequency)\n",
    "plt.title('Полученное распределение классов');"
   ]
  },
  {
   "attachments": {},
   "cell_type": "markdown",
   "metadata": {},
   "source": [
    "**Decision tree**"
   ]
  },
  {
   "cell_type": "code",
   "execution_count": 38,
   "metadata": {},
   "outputs": [
    {
     "name": "stdout",
     "output_type": "stream",
     "text": [
      "F1: 0.526        \n",
      "AUC-ROC: 0.792        \n",
      "Accuracy: 0.735        \n",
      "Гиперпараметры: {'class_weight': 'balanced', 'max_depth': 7}\n"
     ]
    }
   ],
   "source": [
    "parameters = {'max_depth': range (1,20, 2),\n",
    "              'class_weight': ['balanced', None]}\n",
    "dtr = DecisionTreeClassifier(random_state=RANDOM_STATE)\n",
    "grid = HalvingGridSearchCV(dtr, parameters, random_state=RANDOM_STATE, scoring ='f1').fit(features_downsampled, target_downsampled)\n",
    "\n",
    "probabilities_valid = grid.best_estimator_.predict_proba(features_valid)\n",
    "probabilities_one_valid = probabilities_valid[:, 1]\n",
    "auc_roc = roc_auc_score(target_valid, probabilities_one_valid)\n",
    "\n",
    "print(f'F1: {f1_score(target_valid, grid.best_estimator_.predict(features_valid)):.3f}  \\\n",
    "      \\nAUC-ROC: {auc_roc:.3f}  \\\n",
    "      \\nAccuracy: {accuracy_score(target_valid, grid.best_estimator_.predict(features_valid)):.3f}  \\\n",
    "      \\nГиперпараметры: {grid.best_params_}')"
   ]
  },
  {
   "attachments": {},
   "cell_type": "markdown",
   "metadata": {},
   "source": [
    "**Logistic Regression**"
   ]
  },
  {
   "cell_type": "code",
   "execution_count": 39,
   "metadata": {},
   "outputs": [
    {
     "name": "stdout",
     "output_type": "stream",
     "text": [
      "F1: 0.484        \n",
      "AUC-ROC: 0.762        \n",
      "Accuracy: 0.701        \n",
      "Гиперпараметры: {'class_weight': None, 'solver': 'liblinear'}\n"
     ]
    }
   ],
   "source": [
    "parameters = {'solver' : ['liblinear', 'lbfgs'],\n",
    "              'class_weight': ['balanced', None]}\n",
    "lr = LogisticRegression(random_state=RANDOM_STATE, max_iter=1000)\n",
    "grid = HalvingGridSearchCV(lr, parameters, random_state=RANDOM_STATE, scoring ='f1').fit(features_downsampled, target_downsampled)\n",
    "\n",
    "probabilities_valid = grid.best_estimator_.predict_proba(features_valid)\n",
    "probabilities_one_valid = probabilities_valid[:, 1]\n",
    "auc_roc = roc_auc_score(target_valid, probabilities_one_valid)\n",
    "\n",
    "print(f'F1: {f1_score(target_valid, grid.best_estimator_.predict(features_valid)):.3f}  \\\n",
    "      \\nAUC-ROC: {auc_roc:.3f}  \\\n",
    "      \\nAccuracy: {accuracy_score(target_valid, grid.best_estimator_.predict(features_valid)):.3f}  \\\n",
    "      \\nГиперпараметры: {grid.best_params_}')"
   ]
  },
  {
   "attachments": {},
   "cell_type": "markdown",
   "metadata": {},
   "source": [
    "**Random Forest**"
   ]
  },
  {
   "cell_type": "code",
   "execution_count": 40,
   "metadata": {},
   "outputs": [
    {
     "name": "stdout",
     "output_type": "stream",
     "text": [
      "F1: 0.586        \n",
      "AUC-ROC: 0.845        \n",
      "Accuracy: 0.776        \n",
      "Гиперпараметры: {'class_weight': 'balanced', 'max_depth': 5, 'n_estimators': 91}\n"
     ]
    }
   ],
   "source": [
    "parameters = {'n_estimators': range (1, 110, 10),\n",
    "              'max_depth': range (1,22, 2),\n",
    "              'class_weight': ['balanced', None]}\n",
    "rfc = RandomForestClassifier(random_state=RANDOM_STATE)\n",
    "grid = HalvingGridSearchCV(rfc, parameters, random_state=RANDOM_STATE, scoring ='f1').fit(features_downsampled, target_downsampled)\n",
    "joblib.dump(grid.best_estimator_, 'rfc_downsampled.joblib')\n",
    "\n",
    "probabilities_valid = grid.best_estimator_.predict_proba(features_valid)\n",
    "probabilities_one_valid = probabilities_valid[:, 1]\n",
    "auc_roc = roc_auc_score(target_valid, probabilities_one_valid)\n",
    "\n",
    "print(f'F1: {f1_score(target_valid, grid.best_estimator_.predict(features_valid)):.3f}  \\\n",
    "      \\nAUC-ROC: {auc_roc:.3f}  \\\n",
    "      \\nAccuracy: {accuracy_score(target_valid, grid.best_estimator_.predict(features_valid)):.3f}  \\\n",
    "      \\nГиперпараметры: {grid.best_params_}')"
   ]
  },
  {
   "attachments": {},
   "cell_type": "markdown",
   "metadata": {},
   "source": [
    "**Вывод**: Были исследованы несколько способов борьбы с дисбаласном: взвешивание классов, upsampling и downsampling. Наилучшим способом оказалось взвешивание классов. Метрики моделей оказались лучше на сбалансированных этим методом данных.Наилучшей моделью оказалась модель `RandomForestClassifier`."
   ]
  },
  {
   "attachments": {},
   "cell_type": "markdown",
   "metadata": {},
   "source": [
    "| Наилучшая модель |Способ борьбы с дисбалансом  | Гиперпараметры      |   F1-мера   |   ROC-AUC  |\n",
    "| :---             |    :----:                   |          :---:      |        ---: |      ---:  |\n",
    "| RandomForestClassifier | Взвешивание классов     | random_state=12345  |  **0.617**  | **0.849**  |\n",
    "|                        |                       | class_weight = Balanced |             |            |\n",
    "|                        |                       | max_depth = 9      |             |            |\n",
    "|                        |                       | n_estimators = 51  |             |            |\n",
    "     "
   ]
  },
  {
   "attachments": {},
   "cell_type": "markdown",
   "metadata": {},
   "source": [
    "## Тестирование модели"
   ]
  },
  {
   "cell_type": "code",
   "execution_count": 41,
   "metadata": {},
   "outputs": [
    {
     "name": "stdout",
     "output_type": "stream",
     "text": [
      "F1: 0.607\n",
      "AUC-ROCK: 0.853\n"
     ]
    },
    {
     "data": {
      "image/png": "[encoded data removed]",
      "text/plain": [
       "<Figure size 432x288 with 1 Axes>"
      ]
     },
     "metadata": {},
     "output_type": "display_data"
    }
   ],
   "source": [
    "final_model = joblib.load('rfc.joblib')\n",
    "final_model = model.set_params(class_weight = 'balanced')\n",
    "final_model_prediction = final_model.predict(features_test)\n",
    "print(f'F1: {f1_score(target_test, final_model_prediction):.3f}')\n",
    "\n",
    "probabilities_valid = final_model.predict_proba(features_test)\n",
    "probabilities_one_valid = probabilities_valid[:, 1]\n",
    "\n",
    "auc_roc = roc_auc_score(target_test, probabilities_one_valid )\n",
    "print(f'AUC-ROCK: {auc_roc :.3F}')\n",
    "\n",
    "fpr, tpr, thresholds = roc_curve(target_test, probabilities_one_valid) \n",
    "\n",
    "plt.figure()\n",
    "plt.plot(fpr,tpr)\n",
    "\n",
    "plt.plot([0, 1], [0, 1], linestyle='--')\n",
    "plt.xlim([0.0, 1.0])\n",
    "plt.ylim([0.0, 1.0])\n",
    "plt.xlabel('False Positive Rate')\n",
    "plt.ylabel('True Positive Rate')\n",
    "plt.title('ROC-кривая')\n",
    "plt.show()"
   ]
  },
  {
   "cell_type": "code",
   "execution_count": 46,
   "metadata": {
    "scrolled": true
   },
   "outputs": [
    {
     "data": {
      "image/png": "[encoded data removed]",
      "text/plain": [
       "<Figure size 432x288 with 1 Axes>"
      ]
     },
     "metadata": {},
     "output_type": "display_data"
    }
   ],
   "source": [
    "import numpy as np\n",
    "importances = final_model.feature_importances_\n",
    "std = np.std([tree.feature_importances_ for tree in final_model.estimators_], axis=0)\n",
    "\n",
    "forest_importances = pd.Series(importances, index=features_test.columns)\n",
    "\n",
    "fig, ax = plt.subplots()\n",
    "forest_importances.plot.bar(yerr=std, ax=ax)\n",
    "ax.set_title(\"Feature importances using MDI\")\n",
    "ax.set_ylabel(\"Mean decrease in impurity\")\n",
    "fig.tight_layout()"
   ]
  },
  {
   "attachments": {},
   "cell_type": "markdown",
   "metadata": {},
   "source": [
    "## Вывод "
   ]
  },
  {
   "attachments": {},
   "cell_type": "markdown",
   "metadata": {},
   "source": [
    "- В результате выполненной работы была проведеная предварительная обработка данных. В частности были заполнены пропуски методом k-ближайших соседей. Исходные данные были разделены на обучающую, валидационную и тестовую выборки в соотношении 60:20:20. Далее было проведено кодирование категориальных признаков методом OHE и была произведена стандартизация количественных признаков. \n",
    "- Было исследовано 3 модели на несбалансированных данных: дерево решений, логистическая регрессия и случайный лес.\n",
    "- Был выявлен дисбаланс классов, после чего был произведен взвешивание классов. В результате метрика F1 возросла с 0.58 до 0.62, а метрика AUC-ROC изменилась незначительно на валидационных данных. \n",
    "- Проверка модели на тестовой выборке показала метрику F1: 61%."
   ]
  }
 ],
 "metadata": {
  "ExecuteTimeLog": [
   {
    "duration": 1365,
    "start_time": "2023-02-19T21:09:23.483Z"
   },
   {
    "duration": 0,
    "start_time": "2023-02-19T21:09:24.851Z"
   },
   {
    "duration": 1,
    "start_time": "2023-02-19T21:09:24.851Z"
   },
   {
    "duration": 0,
    "start_time": "2023-02-19T21:09:24.853Z"
   },
   {
    "duration": 0,
    "start_time": "2023-02-19T21:09:24.854Z"
   },
   {
    "duration": 0,
    "start_time": "2023-02-19T21:09:24.854Z"
   },
   {
    "duration": 0,
    "start_time": "2023-02-19T21:09:24.855Z"
   },
   {
    "duration": 0,
    "start_time": "2023-02-19T21:09:24.857Z"
   },
   {
    "duration": 0,
    "start_time": "2023-02-19T21:09:24.858Z"
   },
   {
    "duration": 0,
    "start_time": "2023-02-19T21:09:24.859Z"
   },
   {
    "duration": 0,
    "start_time": "2023-02-19T21:09:24.860Z"
   },
   {
    "duration": 0,
    "start_time": "2023-02-19T21:09:24.860Z"
   },
   {
    "duration": 0,
    "start_time": "2023-02-19T21:09:24.861Z"
   },
   {
    "duration": 0,
    "start_time": "2023-02-19T21:09:24.862Z"
   },
   {
    "duration": 0,
    "start_time": "2023-02-19T21:09:24.863Z"
   },
   {
    "duration": 0,
    "start_time": "2023-02-19T21:09:24.864Z"
   },
   {
    "duration": 0,
    "start_time": "2023-02-19T21:09:24.865Z"
   },
   {
    "duration": 0,
    "start_time": "2023-02-19T21:09:24.866Z"
   },
   {
    "duration": 0,
    "start_time": "2023-02-19T21:09:24.867Z"
   },
   {
    "duration": 0,
    "start_time": "2023-02-19T21:09:24.868Z"
   },
   {
    "duration": 1,
    "start_time": "2023-02-19T21:09:24.868Z"
   },
   {
    "duration": 0,
    "start_time": "2023-02-19T21:09:24.869Z"
   },
   {
    "duration": 0,
    "start_time": "2023-02-19T21:09:24.870Z"
   },
   {
    "duration": 0,
    "start_time": "2023-02-19T21:09:24.871Z"
   },
   {
    "duration": 0,
    "start_time": "2023-02-19T21:09:24.872Z"
   },
   {
    "duration": 0,
    "start_time": "2023-02-19T21:09:24.873Z"
   },
   {
    "duration": 0,
    "start_time": "2023-02-19T21:09:24.874Z"
   },
   {
    "duration": 0,
    "start_time": "2023-02-19T21:09:24.875Z"
   },
   {
    "duration": 0,
    "start_time": "2023-02-19T21:09:24.876Z"
   },
   {
    "duration": 0,
    "start_time": "2023-02-19T21:09:24.877Z"
   },
   {
    "duration": 0,
    "start_time": "2023-02-19T21:09:24.878Z"
   },
   {
    "duration": 0,
    "start_time": "2023-02-19T21:09:24.879Z"
   },
   {
    "duration": 0,
    "start_time": "2023-02-19T21:09:24.880Z"
   },
   {
    "duration": 0,
    "start_time": "2023-02-19T21:09:24.881Z"
   },
   {
    "duration": 0,
    "start_time": "2023-02-19T21:09:24.882Z"
   },
   {
    "duration": 0,
    "start_time": "2023-02-19T21:09:24.883Z"
   },
   {
    "duration": 0,
    "start_time": "2023-02-19T21:09:24.936Z"
   },
   {
    "duration": 0,
    "start_time": "2023-02-19T21:09:24.938Z"
   },
   {
    "duration": 1404,
    "start_time": "2023-02-19T21:53:46.882Z"
   },
   {
    "duration": 4,
    "start_time": "2023-02-19T21:55:14.328Z"
   },
   {
    "duration": 4,
    "start_time": "2023-02-19T21:58:31.780Z"
   },
   {
    "duration": 190,
    "start_time": "2023-02-19T21:58:34.007Z"
   },
   {
    "duration": 17,
    "start_time": "2023-02-19T21:58:35.093Z"
   },
   {
    "duration": 14,
    "start_time": "2023-02-19T21:58:35.966Z"
   },
   {
    "duration": 11,
    "start_time": "2023-02-19T21:58:37.740Z"
   },
   {
    "duration": 6,
    "start_time": "2023-02-19T21:58:38.774Z"
   },
   {
    "duration": 112,
    "start_time": "2023-02-19T21:58:39.630Z"
   },
   {
    "duration": 4,
    "start_time": "2023-02-19T21:58:56.873Z"
   },
   {
    "duration": 60,
    "start_time": "2023-02-19T21:58:56.879Z"
   },
   {
    "duration": 12,
    "start_time": "2023-02-19T21:58:56.941Z"
   },
   {
    "duration": 12,
    "start_time": "2023-02-19T21:58:56.954Z"
   },
   {
    "duration": 14,
    "start_time": "2023-02-19T21:58:56.967Z"
   },
   {
    "duration": 5,
    "start_time": "2023-02-19T21:58:56.982Z"
   },
   {
    "duration": 6,
    "start_time": "2023-02-19T21:58:59.947Z"
   },
   {
    "duration": 16,
    "start_time": "2023-02-19T21:59:00.926Z"
   },
   {
    "duration": 16,
    "start_time": "2023-02-19T21:59:07.628Z"
   },
   {
    "duration": 28,
    "start_time": "2023-02-19T21:59:29.718Z"
   },
   {
    "duration": 14,
    "start_time": "2023-02-19T22:00:14.553Z"
   },
   {
    "duration": 4,
    "start_time": "2023-02-19T22:00:23.063Z"
   },
   {
    "duration": 62,
    "start_time": "2023-02-19T22:00:23.070Z"
   },
   {
    "duration": 11,
    "start_time": "2023-02-19T22:00:23.135Z"
   },
   {
    "duration": 15,
    "start_time": "2023-02-19T22:00:23.148Z"
   },
   {
    "duration": 10,
    "start_time": "2023-02-19T22:00:23.164Z"
   },
   {
    "duration": 17,
    "start_time": "2023-02-19T22:00:23.175Z"
   },
   {
    "duration": 5,
    "start_time": "2023-02-19T22:00:27.240Z"
   },
   {
    "duration": 27,
    "start_time": "2023-02-19T22:00:27.990Z"
   },
   {
    "duration": 23,
    "start_time": "2023-02-19T22:00:30.581Z"
   },
   {
    "duration": 15,
    "start_time": "2023-02-19T22:01:20.358Z"
   },
   {
    "duration": 4,
    "start_time": "2023-02-19T22:01:24.051Z"
   },
   {
    "duration": 82,
    "start_time": "2023-02-19T22:01:24.057Z"
   },
   {
    "duration": 12,
    "start_time": "2023-02-19T22:01:24.141Z"
   },
   {
    "duration": 35,
    "start_time": "2023-02-19T22:01:24.155Z"
   },
   {
    "duration": 25,
    "start_time": "2023-02-19T22:01:24.191Z"
   },
   {
    "duration": 24,
    "start_time": "2023-02-19T22:01:24.218Z"
   },
   {
    "duration": 5,
    "start_time": "2023-02-19T22:01:25.453Z"
   },
   {
    "duration": 24,
    "start_time": "2023-02-19T22:01:26.078Z"
   },
   {
    "duration": 22,
    "start_time": "2023-02-19T22:01:30.082Z"
   },
   {
    "duration": 7980,
    "start_time": "2023-02-19T22:01:32.607Z"
   },
   {
    "duration": 172,
    "start_time": "2023-02-19T22:01:47.455Z"
   },
   {
    "duration": 81,
    "start_time": "2023-02-19T22:01:48.717Z"
   },
   {
    "duration": 4,
    "start_time": "2023-02-19T22:02:39.959Z"
   },
   {
    "duration": 62,
    "start_time": "2023-02-19T22:02:39.964Z"
   },
   {
    "duration": 13,
    "start_time": "2023-02-19T22:02:40.028Z"
   },
   {
    "duration": 14,
    "start_time": "2023-02-19T22:02:40.042Z"
   },
   {
    "duration": 13,
    "start_time": "2023-02-19T22:02:40.058Z"
   },
   {
    "duration": 17,
    "start_time": "2023-02-19T22:02:40.073Z"
   },
   {
    "duration": 35,
    "start_time": "2023-02-19T22:02:40.092Z"
   },
   {
    "duration": 36,
    "start_time": "2023-02-19T22:02:40.129Z"
   },
   {
    "duration": 7764,
    "start_time": "2023-02-19T22:02:40.167Z"
   },
   {
    "duration": 207,
    "start_time": "2023-02-19T22:02:47.933Z"
   },
   {
    "duration": 82,
    "start_time": "2023-02-19T22:02:48.143Z"
   },
   {
    "duration": 8826,
    "start_time": "2023-02-19T22:02:53.415Z"
   },
   {
    "duration": 33,
    "start_time": "2023-02-19T22:03:05.003Z"
   },
   {
    "duration": 84830,
    "start_time": "2023-02-19T22:03:36.286Z"
   },
   {
    "duration": 31,
    "start_time": "2023-02-19T22:05:28.108Z"
   },
   {
    "duration": 2,
    "start_time": "2023-02-19T22:06:03.365Z"
   },
   {
    "duration": 14,
    "start_time": "2023-02-19T22:06:54.423Z"
   },
   {
    "duration": 4,
    "start_time": "2023-02-19T22:07:04.284Z"
   },
   {
    "duration": 112,
    "start_time": "2023-02-19T22:07:04.290Z"
   },
   {
    "duration": 2,
    "start_time": "2023-02-19T22:07:04.404Z"
   },
   {
    "duration": 34,
    "start_time": "2023-02-19T22:07:04.408Z"
   },
   {
    "duration": 51,
    "start_time": "2023-02-19T22:07:04.444Z"
   },
   {
    "duration": 13,
    "start_time": "2023-02-19T22:07:04.496Z"
   },
   {
    "duration": 59,
    "start_time": "2023-02-19T22:07:04.511Z"
   },
   {
    "duration": 0,
    "start_time": "2023-02-19T22:07:04.572Z"
   },
   {
    "duration": 0,
    "start_time": "2023-02-19T22:07:04.573Z"
   },
   {
    "duration": 6,
    "start_time": "2023-02-19T22:08:11.577Z"
   },
   {
    "duration": 4,
    "start_time": "2023-02-19T22:08:17.008Z"
   },
   {
    "duration": 66,
    "start_time": "2023-02-19T22:08:19.789Z"
   },
   {
    "duration": 2,
    "start_time": "2023-02-19T22:08:20.393Z"
   },
   {
    "duration": 12,
    "start_time": "2023-02-19T22:08:20.839Z"
   },
   {
    "duration": 12,
    "start_time": "2023-02-19T22:08:21.883Z"
   },
   {
    "duration": 11,
    "start_time": "2023-02-19T22:08:25.028Z"
   },
   {
    "duration": 6,
    "start_time": "2023-02-19T22:08:25.729Z"
   },
   {
    "duration": 28,
    "start_time": "2023-02-19T22:08:30.879Z"
   },
   {
    "duration": 34,
    "start_time": "2023-02-19T22:08:33.022Z"
   },
   {
    "duration": 7450,
    "start_time": "2023-02-19T22:08:45.318Z"
   },
   {
    "duration": 169,
    "start_time": "2023-02-19T22:08:58.300Z"
   },
   {
    "duration": 76,
    "start_time": "2023-02-19T22:09:01.326Z"
   },
   {
    "duration": 34274,
    "start_time": "2023-02-19T22:09:14.729Z"
   },
   {
    "duration": 4,
    "start_time": "2023-02-19T22:10:22.356Z"
   },
   {
    "duration": 63,
    "start_time": "2023-02-19T22:10:22.362Z"
   },
   {
    "duration": 2,
    "start_time": "2023-02-19T22:10:22.427Z"
   },
   {
    "duration": 22,
    "start_time": "2023-02-19T22:10:22.430Z"
   },
   {
    "duration": 20,
    "start_time": "2023-02-19T22:10:22.454Z"
   },
   {
    "duration": 11,
    "start_time": "2023-02-19T22:10:22.475Z"
   },
   {
    "duration": 8,
    "start_time": "2023-02-19T22:10:22.488Z"
   },
   {
    "duration": 28,
    "start_time": "2023-02-19T22:10:22.497Z"
   },
   {
    "duration": 23,
    "start_time": "2023-02-19T22:10:22.526Z"
   },
   {
    "duration": 7471,
    "start_time": "2023-02-19T22:10:25.042Z"
   },
   {
    "duration": 205,
    "start_time": "2023-02-19T22:10:34.403Z"
   },
   {
    "duration": 79,
    "start_time": "2023-02-19T22:10:35.569Z"
   },
   {
    "duration": 83599,
    "start_time": "2023-02-19T22:10:41.256Z"
   },
   {
    "duration": 9,
    "start_time": "2023-02-19T22:17:04.242Z"
   },
   {
    "duration": 12,
    "start_time": "2023-02-19T22:17:17.834Z"
   },
   {
    "duration": 11,
    "start_time": "2023-02-19T22:17:30.654Z"
   },
   {
    "duration": 16,
    "start_time": "2023-02-19T22:17:41.325Z"
   },
   {
    "duration": 6,
    "start_time": "2023-02-19T22:17:53.942Z"
   },
   {
    "duration": 4,
    "start_time": "2023-02-19T22:17:58.747Z"
   },
   {
    "duration": 12,
    "start_time": "2023-02-19T22:18:04.234Z"
   },
   {
    "duration": 4,
    "start_time": "2023-02-19T22:18:14.680Z"
   },
   {
    "duration": 6,
    "start_time": "2023-02-19T22:18:23.843Z"
   },
   {
    "duration": 4,
    "start_time": "2023-02-19T22:18:33.536Z"
   },
   {
    "duration": 6,
    "start_time": "2023-02-19T22:19:05.492Z"
   },
   {
    "duration": 6,
    "start_time": "2023-02-19T22:19:22.579Z"
   },
   {
    "duration": 12,
    "start_time": "2023-02-19T22:19:45.689Z"
   },
   {
    "duration": 4,
    "start_time": "2023-02-19T22:20:08.099Z"
   },
   {
    "duration": 12,
    "start_time": "2023-02-19T22:20:22.221Z"
   },
   {
    "duration": 5,
    "start_time": "2023-02-19T22:21:37.447Z"
   },
   {
    "duration": 5,
    "start_time": "2023-02-19T22:21:43.997Z"
   },
   {
    "duration": 5,
    "start_time": "2023-02-19T22:21:52.365Z"
   },
   {
    "duration": 6,
    "start_time": "2023-02-19T22:22:08.833Z"
   },
   {
    "duration": 22,
    "start_time": "2023-02-19T22:23:44.617Z"
   },
   {
    "duration": 84718,
    "start_time": "2023-02-19T22:24:51.010Z"
   },
   {
    "duration": 22,
    "start_time": "2023-02-19T22:26:21.561Z"
   },
   {
    "duration": 5,
    "start_time": "2023-02-19T22:26:29.444Z"
   },
   {
    "duration": 6,
    "start_time": "2023-02-19T22:26:59.446Z"
   },
   {
    "duration": 6,
    "start_time": "2023-02-19T22:27:16.101Z"
   },
   {
    "duration": 5,
    "start_time": "2023-02-19T22:29:28.473Z"
   },
   {
    "duration": 14,
    "start_time": "2023-02-19T22:29:54.641Z"
   },
   {
    "duration": 11,
    "start_time": "2023-02-19T22:29:58.191Z"
   },
   {
    "duration": 4,
    "start_time": "2023-02-19T22:30:01.232Z"
   },
   {
    "duration": 8,
    "start_time": "2023-02-19T22:30:03.781Z"
   },
   {
    "duration": 13,
    "start_time": "2023-02-19T22:35:33.820Z"
   },
   {
    "duration": 5,
    "start_time": "2023-02-19T22:38:22.029Z"
   },
   {
    "duration": 5,
    "start_time": "2023-02-19T22:38:28.812Z"
   },
   {
    "duration": 70,
    "start_time": "2023-02-19T22:38:28.819Z"
   },
   {
    "duration": 2,
    "start_time": "2023-02-19T22:38:28.891Z"
   },
   {
    "duration": 26,
    "start_time": "2023-02-19T22:38:28.895Z"
   },
   {
    "duration": 29,
    "start_time": "2023-02-19T22:38:28.924Z"
   },
   {
    "duration": 13,
    "start_time": "2023-02-19T22:38:28.955Z"
   },
   {
    "duration": 9,
    "start_time": "2023-02-19T22:38:28.970Z"
   },
   {
    "duration": 40,
    "start_time": "2023-02-19T22:38:28.980Z"
   },
   {
    "duration": 37,
    "start_time": "2023-02-19T22:38:29.022Z"
   },
   {
    "duration": 7872,
    "start_time": "2023-02-19T22:38:29.061Z"
   },
   {
    "duration": 176,
    "start_time": "2023-02-19T22:38:36.935Z"
   },
   {
    "duration": 83862,
    "start_time": "2023-02-19T22:38:37.112Z"
   },
   {
    "duration": 25,
    "start_time": "2023-02-19T22:40:59.992Z"
   },
   {
    "duration": 5,
    "start_time": "2023-02-19T22:41:04.998Z"
   },
   {
    "duration": 16,
    "start_time": "2023-02-19T22:41:22.932Z"
   },
   {
    "duration": 12,
    "start_time": "2023-02-19T22:41:24.595Z"
   },
   {
    "duration": 4,
    "start_time": "2023-02-19T22:41:37.447Z"
   },
   {
    "duration": 12,
    "start_time": "2023-02-19T22:41:45.537Z"
   },
   {
    "duration": 4,
    "start_time": "2023-02-19T22:43:02.118Z"
   },
   {
    "duration": 25,
    "start_time": "2023-02-19T22:43:06.843Z"
   },
   {
    "duration": 4,
    "start_time": "2023-02-19T22:43:10.192Z"
   },
   {
    "duration": 17,
    "start_time": "2023-02-19T22:43:11.331Z"
   },
   {
    "duration": 25,
    "start_time": "2023-02-19T22:44:15.178Z"
   },
   {
    "duration": 12,
    "start_time": "2023-02-19T22:44:20.429Z"
   },
   {
    "duration": 13,
    "start_time": "2023-02-19T22:44:29.468Z"
   },
   {
    "duration": 13,
    "start_time": "2023-02-19T22:44:34.766Z"
   },
   {
    "duration": 1107,
    "start_time": "2023-02-19T22:52:36.998Z"
   },
   {
    "duration": 1003,
    "start_time": "2023-02-19T22:52:52.275Z"
   },
   {
    "duration": 2440,
    "start_time": "2023-02-19T22:53:44.808Z"
   },
   {
    "duration": 70067,
    "start_time": "2023-02-19T22:54:04.650Z"
   },
   {
    "duration": 194,
    "start_time": "2023-02-19T22:55:35.966Z"
   },
   {
    "duration": 398,
    "start_time": "2023-02-19T22:55:46.943Z"
   },
   {
    "duration": 5,
    "start_time": "2023-02-19T22:55:51.342Z"
   },
   {
    "duration": 329,
    "start_time": "2023-02-19T22:57:14.852Z"
   },
   {
    "duration": 344,
    "start_time": "2023-02-19T22:57:22.129Z"
   },
   {
    "duration": 74,
    "start_time": "2023-02-19T22:57:43.529Z"
   },
   {
    "duration": 1956,
    "start_time": "2023-02-19T22:58:52.580Z"
   },
   {
    "duration": 7684,
    "start_time": "2023-02-19T22:59:37.165Z"
   },
   {
    "duration": 163685,
    "start_time": "2023-02-19T23:00:20.109Z"
   },
   {
    "duration": 84,
    "start_time": "2023-02-19T23:03:18.940Z"
   },
   {
    "duration": 1214,
    "start_time": "2023-02-19T23:03:23.325Z"
   },
   {
    "duration": 1423,
    "start_time": "2023-02-19T23:03:29.526Z"
   },
   {
    "duration": 122290,
    "start_time": "2023-02-19T23:03:34.109Z"
   },
   {
    "duration": 558,
    "start_time": "2023-02-19T23:20:58.536Z"
   },
   {
    "duration": 11,
    "start_time": "2023-02-19T23:21:38.460Z"
   },
   {
    "duration": 244,
    "start_time": "2023-02-19T23:21:48.688Z"
   },
   {
    "duration": 5,
    "start_time": "2023-02-19T23:22:33.718Z"
   },
   {
    "duration": 13,
    "start_time": "2023-02-19T23:22:42.476Z"
   },
   {
    "duration": 6,
    "start_time": "2023-02-19T23:22:50.552Z"
   },
   {
    "duration": 26,
    "start_time": "2023-02-19T23:22:52.365Z"
   },
   {
    "duration": 5,
    "start_time": "2023-02-19T23:22:53.046Z"
   },
   {
    "duration": 32,
    "start_time": "2023-02-19T23:22:53.438Z"
   },
   {
    "duration": 14,
    "start_time": "2023-02-19T23:22:53.963Z"
   },
   {
    "duration": 13,
    "start_time": "2023-02-19T23:22:54.428Z"
   },
   {
    "duration": 14,
    "start_time": "2023-02-19T23:22:54.906Z"
   },
   {
    "duration": 1089,
    "start_time": "2023-02-19T23:22:57.805Z"
   },
   {
    "duration": 2916,
    "start_time": "2023-02-19T23:23:02.635Z"
   },
   {
    "duration": 78365,
    "start_time": "2023-02-19T23:23:07.635Z"
   },
   {
    "duration": 76834,
    "start_time": "2023-02-19T23:24:30.216Z"
   },
   {
    "duration": 182,
    "start_time": "2023-02-19T23:25:55.406Z"
   },
   {
    "duration": 518,
    "start_time": "2023-02-19T23:25:57.691Z"
   },
   {
    "duration": 6,
    "start_time": "2023-02-19T23:26:10.202Z"
   },
   {
    "duration": 359,
    "start_time": "2023-02-19T23:26:13.309Z"
   },
   {
    "duration": 84,
    "start_time": "2023-02-19T23:26:15.692Z"
   },
   {
    "duration": 2244,
    "start_time": "2023-02-19T23:26:18.206Z"
   },
   {
    "duration": 7154,
    "start_time": "2023-02-19T23:26:21.895Z"
   },
   {
    "duration": 178040,
    "start_time": "2023-02-19T23:26:34.091Z"
   },
   {
    "duration": 93,
    "start_time": "2023-02-19T23:29:37.022Z"
   },
   {
    "duration": 1223,
    "start_time": "2023-02-19T23:29:38.801Z"
   },
   {
    "duration": 2052,
    "start_time": "2023-02-19T23:29:41.499Z"
   },
   {
    "duration": 133494,
    "start_time": "2023-02-19T23:29:45.375Z"
   },
   {
    "duration": 918,
    "start_time": "2023-02-19T23:32:03.603Z"
   },
   {
    "duration": 49,
    "start_time": "2023-02-19T23:33:04.652Z"
   },
   {
    "duration": 5,
    "start_time": "2023-02-19T23:33:17.936Z"
   },
   {
    "duration": 56,
    "start_time": "2023-02-19T23:33:29.484Z"
   },
   {
    "duration": 980,
    "start_time": "2023-02-19T23:33:34.253Z"
   },
   {
    "duration": 894,
    "start_time": "2023-02-19T23:35:25.601Z"
   },
   {
    "duration": 392,
    "start_time": "2023-02-19T23:35:46.834Z"
   },
   {
    "duration": 61,
    "start_time": "2023-02-19T23:36:30.096Z"
   },
   {
    "duration": 3,
    "start_time": "2023-02-19T23:36:30.445Z"
   },
   {
    "duration": 13,
    "start_time": "2023-02-19T23:36:30.892Z"
   },
   {
    "duration": 13,
    "start_time": "2023-02-19T23:36:31.409Z"
   },
   {
    "duration": 11,
    "start_time": "2023-02-19T23:36:32.262Z"
   },
   {
    "duration": 7,
    "start_time": "2023-02-19T23:36:40.049Z"
   },
   {
    "duration": 29,
    "start_time": "2023-02-19T23:36:43.476Z"
   },
   {
    "duration": 27,
    "start_time": "2023-02-19T23:36:48.315Z"
   },
   {
    "duration": 8085,
    "start_time": "2023-02-19T23:36:50.478Z"
   },
   {
    "duration": 182,
    "start_time": "2023-02-19T23:37:04.355Z"
   },
   {
    "duration": 90983,
    "start_time": "2023-02-19T23:37:12.202Z"
   },
   {
    "duration": 28,
    "start_time": "2023-02-19T23:38:50.839Z"
   },
   {
    "duration": 5,
    "start_time": "2023-02-19T23:38:53.819Z"
   },
   {
    "duration": 17,
    "start_time": "2023-02-19T23:38:55.667Z"
   },
   {
    "duration": 13,
    "start_time": "2023-02-19T23:38:56.375Z"
   },
   {
    "duration": 5,
    "start_time": "2023-02-19T23:38:57.743Z"
   },
   {
    "duration": 9,
    "start_time": "2023-02-19T23:39:00.994Z"
   },
   {
    "duration": 5,
    "start_time": "2023-02-19T23:39:05.597Z"
   },
   {
    "duration": 25,
    "start_time": "2023-02-19T23:39:06.467Z"
   },
   {
    "duration": 6,
    "start_time": "2023-02-19T23:39:07.865Z"
   },
   {
    "duration": 26,
    "start_time": "2023-02-19T23:39:08.823Z"
   },
   {
    "duration": 15,
    "start_time": "2023-02-19T23:39:09.744Z"
   },
   {
    "duration": 14,
    "start_time": "2023-02-19T23:39:13.157Z"
   },
   {
    "duration": 14,
    "start_time": "2023-02-19T23:39:13.708Z"
   },
   {
    "duration": 1022,
    "start_time": "2023-02-19T23:39:18.223Z"
   },
   {
    "duration": 2972,
    "start_time": "2023-02-19T23:39:23.979Z"
   },
   {
    "duration": 61987,
    "start_time": "2023-02-19T23:39:36.339Z"
   },
   {
    "duration": 183,
    "start_time": "2023-02-19T23:40:48.158Z"
   },
   {
    "duration": 465,
    "start_time": "2023-02-19T23:40:51.075Z"
   },
   {
    "duration": 7,
    "start_time": "2023-02-19T23:40:52.493Z"
   },
   {
    "duration": 358,
    "start_time": "2023-02-19T23:40:56.308Z"
   },
   {
    "duration": 83,
    "start_time": "2023-02-19T23:41:07.248Z"
   },
   {
    "duration": 2179,
    "start_time": "2023-02-19T23:41:12.863Z"
   },
   {
    "duration": 6856,
    "start_time": "2023-02-19T23:41:17.802Z"
   },
   {
    "duration": 179999,
    "start_time": "2023-02-19T23:41:29.395Z"
   },
   {
    "duration": 88,
    "start_time": "2023-02-19T23:44:58.181Z"
   },
   {
    "duration": 1312,
    "start_time": "2023-02-19T23:45:03.088Z"
   },
   {
    "duration": 1535,
    "start_time": "2023-02-19T23:45:06.316Z"
   },
   {
    "duration": 125915,
    "start_time": "2023-02-19T23:45:09.946Z"
   },
   {
    "duration": 947,
    "start_time": "2023-02-19T23:47:23.738Z"
   },
   {
    "duration": 433,
    "start_time": "2023-02-19T23:48:42.106Z"
   },
   {
    "duration": 398,
    "start_time": "2023-02-19T23:49:51.558Z"
   },
   {
    "duration": 342,
    "start_time": "2023-02-19T23:49:56.025Z"
   },
   {
    "duration": 333,
    "start_time": "2023-02-19T23:50:57.218Z"
   },
   {
    "duration": 1345,
    "start_time": "2023-02-19T23:57:25.799Z"
   },
   {
    "duration": 65,
    "start_time": "2023-02-19T23:57:27.148Z"
   },
   {
    "duration": 3,
    "start_time": "2023-02-19T23:57:27.214Z"
   },
   {
    "duration": 20,
    "start_time": "2023-02-19T23:57:27.219Z"
   },
   {
    "duration": 14,
    "start_time": "2023-02-19T23:57:27.242Z"
   },
   {
    "duration": 12,
    "start_time": "2023-02-19T23:57:27.257Z"
   },
   {
    "duration": 7,
    "start_time": "2023-02-19T23:57:27.270Z"
   },
   {
    "duration": 30,
    "start_time": "2023-02-19T23:57:27.278Z"
   },
   {
    "duration": 51,
    "start_time": "2023-02-19T23:57:27.310Z"
   },
   {
    "duration": 8274,
    "start_time": "2023-02-19T23:57:27.364Z"
   },
   {
    "duration": 195,
    "start_time": "2023-02-19T23:57:35.640Z"
   },
   {
    "duration": 90945,
    "start_time": "2023-02-19T23:57:35.837Z"
   },
   {
    "duration": 23,
    "start_time": "2023-02-19T23:59:06.783Z"
   },
   {
    "duration": 18,
    "start_time": "2023-02-19T23:59:06.809Z"
   },
   {
    "duration": 27,
    "start_time": "2023-02-19T23:59:06.829Z"
   },
   {
    "duration": 12,
    "start_time": "2023-02-19T23:59:06.858Z"
   },
   {
    "duration": 25,
    "start_time": "2023-02-19T23:59:06.872Z"
   },
   {
    "duration": 31,
    "start_time": "2023-02-19T23:59:06.899Z"
   },
   {
    "duration": 22,
    "start_time": "2023-02-19T23:59:06.932Z"
   },
   {
    "duration": 44,
    "start_time": "2023-02-19T23:59:06.955Z"
   },
   {
    "duration": 5,
    "start_time": "2023-02-19T23:59:07.000Z"
   },
   {
    "duration": 35,
    "start_time": "2023-02-19T23:59:07.007Z"
   },
   {
    "duration": 18,
    "start_time": "2023-02-19T23:59:07.043Z"
   },
   {
    "duration": 31,
    "start_time": "2023-02-19T23:59:07.063Z"
   },
   {
    "duration": 34,
    "start_time": "2023-02-19T23:59:07.096Z"
   },
   {
    "duration": 1038,
    "start_time": "2023-02-19T23:59:07.131Z"
   },
   {
    "duration": 2981,
    "start_time": "2023-02-19T23:59:08.170Z"
   },
   {
    "duration": 63022,
    "start_time": "2023-02-19T23:59:11.154Z"
   },
   {
    "duration": 189,
    "start_time": "2023-02-20T00:00:14.178Z"
   },
   {
    "duration": 427,
    "start_time": "2023-02-20T00:00:14.368Z"
   },
   {
    "duration": 6,
    "start_time": "2023-02-20T00:00:14.797Z"
   },
   {
    "duration": 365,
    "start_time": "2023-02-20T00:00:14.805Z"
   },
   {
    "duration": 117,
    "start_time": "2023-02-20T00:00:15.172Z"
   },
   {
    "duration": 2231,
    "start_time": "2023-02-20T00:00:15.291Z"
   },
   {
    "duration": 7027,
    "start_time": "2023-02-20T00:00:17.524Z"
   },
   {
    "duration": 182507,
    "start_time": "2023-02-20T00:00:24.553Z"
   },
   {
    "duration": 105,
    "start_time": "2023-02-20T00:03:27.062Z"
   },
   {
    "duration": 1250,
    "start_time": "2023-02-20T00:03:27.169Z"
   },
   {
    "duration": 1436,
    "start_time": "2023-02-20T00:03:28.420Z"
   },
   {
    "duration": 129494,
    "start_time": "2023-02-20T00:03:29.858Z"
   },
   {
    "duration": 238,
    "start_time": "2023-02-20T00:05:39.355Z"
   },
   {
    "duration": 56,
    "start_time": "2023-02-20T00:16:22.183Z"
   },
   {
    "duration": 108,
    "start_time": "2023-02-20T00:16:32.175Z"
   },
   {
    "duration": 332,
    "start_time": "2023-02-20T00:16:43.859Z"
   },
   {
    "duration": 379,
    "start_time": "2023-02-20T00:17:13.753Z"
   },
   {
    "duration": 264,
    "start_time": "2023-02-20T00:17:20.033Z"
   }
  ],
  "kernelspec": {
   "display_name": "Python 3 (ipykernel)",
   "language": "python",
   "name": "python3"
  },
  "language_info": {
   "codemirror_mode": {
    "name": "ipython",
    "version": 3
   },
   "file_extension": ".py",
   "mimetype": "text/x-python",
   "name": "python",
   "nbconvert_exporter": "python",
   "pygments_lexer": "ipython3",
   "version": "3.9.13"
  },
  "toc": {
   "base_numbering": 1,
   "nav_menu": {},
   "number_sections": true,
   "sideBar": true,
   "skip_h1_title": true,
   "title_cell": "Содержание",
   "title_sidebar": "Contents",
   "toc_cell": true,
   "toc_position": {
    "height": "calc(100% - 180px)",
    "left": "10px",
    "top": "150px",
    "width": "165px"
   },
   "toc_section_display": true,
   "toc_window_display": true
  }
 },
 "nbformat": 4,
 "nbformat_minor": 2
}
