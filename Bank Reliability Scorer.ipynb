{
 "cells": [
  {
   "cell_type": "markdown",
   "id": "d3507896",
   "metadata": {},
   "source": [
    "<div class=\"alert alert-success\">\n",
    "<font size=\"5\"><b>Комментарий ревьюера 2</b></font>\n",
    "\n",
    "Привет еще раз. Спасибо, что доделал работу. Да, выводы в таком виде вполне подойдут. Каждому пункту уделено внимание, итог работы есть. Помарки исправлены, и теперь работа выполнена хорошо. Поздравляю со сданным проектом. Надеюсь, он был интересен и познавателен. Успехов в дальнейшем пути :)\n",
    "\n",
    "</div>"
   ]
  },
  {
   "cell_type": "markdown",
   "id": "1c494ae9",
   "metadata": {},
   "source": [
    "<div class=\"alert alert-info\">\n",
    "<font size=\"5\"><b>Комментарий ревьюера</b></font>\n",
    "\n",
    "Привет, Мхитар! Спасибо, что прислал задание:) Меня зовут Слепцов Артем и я буду проверять твой проект) Ты проделал большую работу над проектом.  Будет здорово, если ты, надеюсь, не против, если я буду на ты, будешь отвечать на комментарии и участвовать в диалоге. Если обращение на ты неприемлемо, то прошу сообщить. \n",
    "\n",
    "Мои комментарии обозначены пометкой **Комментарий ревьюера**. Далее в файле ты сможешь найти их в похожих ячейках:\n",
    "    \n",
    "<div class=\"alert alert-success\">Успех: Если фон комментария зелёный - всё сделано правильно. Рекомендации укажу таким же цветом;</div>\n",
    "        \n",
    "<div class=\"alert alert-warning\">Совет: Оранжевый - некритичные замечания;</div>\n",
    "        \n",
    "<div class=\"alert alert-danger\">Ошибка: Красный - нужно переделать. </div>\n",
    "        \n",
    "Не удаляй эти комментарии и постарайся учесть их в ходе выполнения данного проекта. Свои же комментарии ты можешь обозначать любым заметным способом. \n",
    "\n",
    "</div>"
   ]
  },
  {
   "cell_type": "markdown",
   "id": "aa6abb41",
   "metadata": {
    "deletable": false,
    "editable": false,
    "id": "c81daeeb"
   },
   "source": [
    "# Исследование надежности заемщиков\n"
   ]
  },
  {
   "cell_type": "markdown",
   "id": "bed11b00",
   "metadata": {
    "deletable": false,
    "editable": false,
    "id": "827c20bf"
   },
   "source": [
    "Во второй части проекта вы выполните шаги 3 и 4. Их вручную проверит ревьюер.\n",
    "Чтобы вам не пришлось писать код заново для шагов 1 и 2, мы добавили авторские решения в ячейки с кодом. \n",
    "\n"
   ]
  },
  {
   "cell_type": "markdown",
   "id": "2446ac6a",
   "metadata": {
    "deletable": false,
    "editable": false,
    "id": "744d7639"
   },
   "source": [
    "## Откройте таблицу и изучите общую информацию о данных"
   ]
  },
  {
   "cell_type": "markdown",
   "id": "8e989b39",
   "metadata": {
    "deletable": false,
    "editable": false,
    "id": "e7a14c31"
   },
   "source": [
    "**Задание 1. Импортируйте библиотеку pandas. Считайте данные из csv-файла в датафрейм и сохраните в переменную `data`. Путь к файлу:**\n",
    "\n",
    "`/datasets/data.csv`"
   ]
  },
  {
   "cell_type": "code",
   "execution_count": 1,
   "id": "b9d101f9",
   "metadata": {
    "deletable": false,
    "id": "7bcf75c9"
   },
   "outputs": [],
   "source": [
    "import pandas as pd\n",
    "\n",
    "try:\n",
    "    data = pd.read_csv('/datasets/data.csv')\n",
    "except:\n",
    "    data = pd.read_csv('https://code.s3.yandex.net/datasets/data.csv')"
   ]
  },
  {
   "cell_type": "markdown",
   "id": "826b5644",
   "metadata": {
    "deletable": false,
    "editable": false,
    "id": "b8038fe3"
   },
   "source": [
    "**Задание 2. Выведите первые 20 строчек датафрейма `data` на экран.**"
   ]
  },
  {
   "cell_type": "code",
   "execution_count": 2,
   "id": "bfda4a3c",
   "metadata": {
    "deletable": false,
    "id": "2a7cab99",
    "outputId": "1a8f3ef2-d323-4ec2-ddf7-89670b5944c4"
   },
   "outputs": [
    {
     "data": {
      "text/html": [
       "<div>\n",
       "<style scoped>\n",
       "    .dataframe tbody tr th:only-of-type {\n",
       "        vertical-align: middle;\n",
       "    }\n",
       "\n",
       "    .dataframe tbody tr th {\n",
       "        vertical-align: top;\n",
       "    }\n",
       "\n",
       "    .dataframe thead th {\n",
       "        text-align: right;\n",
       "    }\n",
       "</style>\n",
       "<table border=\"1\" class=\"dataframe\">\n",
       "  <thead>\n",
       "    <tr style=\"text-align: right;\">\n",
       "      <th></th>\n",
       "      <th>children</th>\n",
       "      <th>days_employed</th>\n",
       "      <th>dob_years</th>\n",
       "      <th>education</th>\n",
       "      <th>education_id</th>\n",
       "      <th>family_status</th>\n",
       "      <th>family_status_id</th>\n",
       "      <th>gender</th>\n",
       "      <th>income_type</th>\n",
       "      <th>debt</th>\n",
       "      <th>total_income</th>\n",
       "      <th>purpose</th>\n",
       "    </tr>\n",
       "  </thead>\n",
       "  <tbody>\n",
       "    <tr>\n",
       "      <th>0</th>\n",
       "      <td>1</td>\n",
       "      <td>-8437.673028</td>\n",
       "      <td>42</td>\n",
       "      <td>высшее</td>\n",
       "      <td>0</td>\n",
       "      <td>женат / замужем</td>\n",
       "      <td>0</td>\n",
       "      <td>F</td>\n",
       "      <td>сотрудник</td>\n",
       "      <td>0</td>\n",
       "      <td>253875.639453</td>\n",
       "      <td>покупка жилья</td>\n",
       "    </tr>\n",
       "    <tr>\n",
       "      <th>1</th>\n",
       "      <td>1</td>\n",
       "      <td>-4024.803754</td>\n",
       "      <td>36</td>\n",
       "      <td>среднее</td>\n",
       "      <td>1</td>\n",
       "      <td>женат / замужем</td>\n",
       "      <td>0</td>\n",
       "      <td>F</td>\n",
       "      <td>сотрудник</td>\n",
       "      <td>0</td>\n",
       "      <td>112080.014102</td>\n",
       "      <td>приобретение автомобиля</td>\n",
       "    </tr>\n",
       "    <tr>\n",
       "      <th>2</th>\n",
       "      <td>0</td>\n",
       "      <td>-5623.422610</td>\n",
       "      <td>33</td>\n",
       "      <td>Среднее</td>\n",
       "      <td>1</td>\n",
       "      <td>женат / замужем</td>\n",
       "      <td>0</td>\n",
       "      <td>M</td>\n",
       "      <td>сотрудник</td>\n",
       "      <td>0</td>\n",
       "      <td>145885.952297</td>\n",
       "      <td>покупка жилья</td>\n",
       "    </tr>\n",
       "    <tr>\n",
       "      <th>3</th>\n",
       "      <td>3</td>\n",
       "      <td>-4124.747207</td>\n",
       "      <td>32</td>\n",
       "      <td>среднее</td>\n",
       "      <td>1</td>\n",
       "      <td>женат / замужем</td>\n",
       "      <td>0</td>\n",
       "      <td>M</td>\n",
       "      <td>сотрудник</td>\n",
       "      <td>0</td>\n",
       "      <td>267628.550329</td>\n",
       "      <td>дополнительное образование</td>\n",
       "    </tr>\n",
       "    <tr>\n",
       "      <th>4</th>\n",
       "      <td>0</td>\n",
       "      <td>340266.072047</td>\n",
       "      <td>53</td>\n",
       "      <td>среднее</td>\n",
       "      <td>1</td>\n",
       "      <td>гражданский брак</td>\n",
       "      <td>1</td>\n",
       "      <td>F</td>\n",
       "      <td>пенсионер</td>\n",
       "      <td>0</td>\n",
       "      <td>158616.077870</td>\n",
       "      <td>сыграть свадьбу</td>\n",
       "    </tr>\n",
       "    <tr>\n",
       "      <th>5</th>\n",
       "      <td>0</td>\n",
       "      <td>-926.185831</td>\n",
       "      <td>27</td>\n",
       "      <td>высшее</td>\n",
       "      <td>0</td>\n",
       "      <td>гражданский брак</td>\n",
       "      <td>1</td>\n",
       "      <td>M</td>\n",
       "      <td>компаньон</td>\n",
       "      <td>0</td>\n",
       "      <td>255763.565419</td>\n",
       "      <td>покупка жилья</td>\n",
       "    </tr>\n",
       "    <tr>\n",
       "      <th>6</th>\n",
       "      <td>0</td>\n",
       "      <td>-2879.202052</td>\n",
       "      <td>43</td>\n",
       "      <td>высшее</td>\n",
       "      <td>0</td>\n",
       "      <td>женат / замужем</td>\n",
       "      <td>0</td>\n",
       "      <td>F</td>\n",
       "      <td>компаньон</td>\n",
       "      <td>0</td>\n",
       "      <td>240525.971920</td>\n",
       "      <td>операции с жильем</td>\n",
       "    </tr>\n",
       "    <tr>\n",
       "      <th>7</th>\n",
       "      <td>0</td>\n",
       "      <td>-152.779569</td>\n",
       "      <td>50</td>\n",
       "      <td>СРЕДНЕЕ</td>\n",
       "      <td>1</td>\n",
       "      <td>женат / замужем</td>\n",
       "      <td>0</td>\n",
       "      <td>M</td>\n",
       "      <td>сотрудник</td>\n",
       "      <td>0</td>\n",
       "      <td>135823.934197</td>\n",
       "      <td>образование</td>\n",
       "    </tr>\n",
       "    <tr>\n",
       "      <th>8</th>\n",
       "      <td>2</td>\n",
       "      <td>-6929.865299</td>\n",
       "      <td>35</td>\n",
       "      <td>ВЫСШЕЕ</td>\n",
       "      <td>0</td>\n",
       "      <td>гражданский брак</td>\n",
       "      <td>1</td>\n",
       "      <td>F</td>\n",
       "      <td>сотрудник</td>\n",
       "      <td>0</td>\n",
       "      <td>95856.832424</td>\n",
       "      <td>на проведение свадьбы</td>\n",
       "    </tr>\n",
       "    <tr>\n",
       "      <th>9</th>\n",
       "      <td>0</td>\n",
       "      <td>-2188.756445</td>\n",
       "      <td>41</td>\n",
       "      <td>среднее</td>\n",
       "      <td>1</td>\n",
       "      <td>женат / замужем</td>\n",
       "      <td>0</td>\n",
       "      <td>M</td>\n",
       "      <td>сотрудник</td>\n",
       "      <td>0</td>\n",
       "      <td>144425.938277</td>\n",
       "      <td>покупка жилья для семьи</td>\n",
       "    </tr>\n",
       "    <tr>\n",
       "      <th>10</th>\n",
       "      <td>2</td>\n",
       "      <td>-4171.483647</td>\n",
       "      <td>36</td>\n",
       "      <td>высшее</td>\n",
       "      <td>0</td>\n",
       "      <td>женат / замужем</td>\n",
       "      <td>0</td>\n",
       "      <td>M</td>\n",
       "      <td>компаньон</td>\n",
       "      <td>0</td>\n",
       "      <td>113943.491460</td>\n",
       "      <td>покупка недвижимости</td>\n",
       "    </tr>\n",
       "    <tr>\n",
       "      <th>11</th>\n",
       "      <td>0</td>\n",
       "      <td>-792.701887</td>\n",
       "      <td>40</td>\n",
       "      <td>среднее</td>\n",
       "      <td>1</td>\n",
       "      <td>женат / замужем</td>\n",
       "      <td>0</td>\n",
       "      <td>F</td>\n",
       "      <td>сотрудник</td>\n",
       "      <td>0</td>\n",
       "      <td>77069.234271</td>\n",
       "      <td>покупка коммерческой недвижимости</td>\n",
       "    </tr>\n",
       "    <tr>\n",
       "      <th>12</th>\n",
       "      <td>0</td>\n",
       "      <td>NaN</td>\n",
       "      <td>65</td>\n",
       "      <td>среднее</td>\n",
       "      <td>1</td>\n",
       "      <td>гражданский брак</td>\n",
       "      <td>1</td>\n",
       "      <td>M</td>\n",
       "      <td>пенсионер</td>\n",
       "      <td>0</td>\n",
       "      <td>NaN</td>\n",
       "      <td>сыграть свадьбу</td>\n",
       "    </tr>\n",
       "    <tr>\n",
       "      <th>13</th>\n",
       "      <td>0</td>\n",
       "      <td>-1846.641941</td>\n",
       "      <td>54</td>\n",
       "      <td>неоконченное высшее</td>\n",
       "      <td>2</td>\n",
       "      <td>женат / замужем</td>\n",
       "      <td>0</td>\n",
       "      <td>F</td>\n",
       "      <td>сотрудник</td>\n",
       "      <td>0</td>\n",
       "      <td>130458.228857</td>\n",
       "      <td>приобретение автомобиля</td>\n",
       "    </tr>\n",
       "    <tr>\n",
       "      <th>14</th>\n",
       "      <td>0</td>\n",
       "      <td>-1844.956182</td>\n",
       "      <td>56</td>\n",
       "      <td>высшее</td>\n",
       "      <td>0</td>\n",
       "      <td>гражданский брак</td>\n",
       "      <td>1</td>\n",
       "      <td>F</td>\n",
       "      <td>компаньон</td>\n",
       "      <td>1</td>\n",
       "      <td>165127.911772</td>\n",
       "      <td>покупка жилой недвижимости</td>\n",
       "    </tr>\n",
       "    <tr>\n",
       "      <th>15</th>\n",
       "      <td>1</td>\n",
       "      <td>-972.364419</td>\n",
       "      <td>26</td>\n",
       "      <td>среднее</td>\n",
       "      <td>1</td>\n",
       "      <td>женат / замужем</td>\n",
       "      <td>0</td>\n",
       "      <td>F</td>\n",
       "      <td>сотрудник</td>\n",
       "      <td>0</td>\n",
       "      <td>116820.904450</td>\n",
       "      <td>строительство собственной недвижимости</td>\n",
       "    </tr>\n",
       "    <tr>\n",
       "      <th>16</th>\n",
       "      <td>0</td>\n",
       "      <td>-1719.934226</td>\n",
       "      <td>35</td>\n",
       "      <td>среднее</td>\n",
       "      <td>1</td>\n",
       "      <td>женат / замужем</td>\n",
       "      <td>0</td>\n",
       "      <td>F</td>\n",
       "      <td>сотрудник</td>\n",
       "      <td>0</td>\n",
       "      <td>289202.704229</td>\n",
       "      <td>недвижимость</td>\n",
       "    </tr>\n",
       "    <tr>\n",
       "      <th>17</th>\n",
       "      <td>0</td>\n",
       "      <td>-2369.999720</td>\n",
       "      <td>33</td>\n",
       "      <td>высшее</td>\n",
       "      <td>0</td>\n",
       "      <td>гражданский брак</td>\n",
       "      <td>1</td>\n",
       "      <td>M</td>\n",
       "      <td>сотрудник</td>\n",
       "      <td>0</td>\n",
       "      <td>90410.586745</td>\n",
       "      <td>строительство недвижимости</td>\n",
       "    </tr>\n",
       "    <tr>\n",
       "      <th>18</th>\n",
       "      <td>0</td>\n",
       "      <td>400281.136913</td>\n",
       "      <td>53</td>\n",
       "      <td>среднее</td>\n",
       "      <td>1</td>\n",
       "      <td>вдовец / вдова</td>\n",
       "      <td>2</td>\n",
       "      <td>F</td>\n",
       "      <td>пенсионер</td>\n",
       "      <td>0</td>\n",
       "      <td>56823.777243</td>\n",
       "      <td>на покупку подержанного автомобиля</td>\n",
       "    </tr>\n",
       "    <tr>\n",
       "      <th>19</th>\n",
       "      <td>0</td>\n",
       "      <td>-10038.818549</td>\n",
       "      <td>48</td>\n",
       "      <td>СРЕДНЕЕ</td>\n",
       "      <td>1</td>\n",
       "      <td>в разводе</td>\n",
       "      <td>3</td>\n",
       "      <td>F</td>\n",
       "      <td>сотрудник</td>\n",
       "      <td>0</td>\n",
       "      <td>242831.107982</td>\n",
       "      <td>на покупку своего автомобиля</td>\n",
       "    </tr>\n",
       "  </tbody>\n",
       "</table>\n",
       "</div>"
      ],
      "text/plain": [
       "    children  days_employed  dob_years            education  education_id  \\\n",
       "0          1   -8437.673028         42               высшее             0   \n",
       "1          1   -4024.803754         36              среднее             1   \n",
       "2          0   -5623.422610         33              Среднее             1   \n",
       "3          3   -4124.747207         32              среднее             1   \n",
       "4          0  340266.072047         53              среднее             1   \n",
       "5          0    -926.185831         27               высшее             0   \n",
       "6          0   -2879.202052         43               высшее             0   \n",
       "7          0    -152.779569         50              СРЕДНЕЕ             1   \n",
       "8          2   -6929.865299         35               ВЫСШЕЕ             0   \n",
       "9          0   -2188.756445         41              среднее             1   \n",
       "10         2   -4171.483647         36               высшее             0   \n",
       "11         0    -792.701887         40              среднее             1   \n",
       "12         0            NaN         65              среднее             1   \n",
       "13         0   -1846.641941         54  неоконченное высшее             2   \n",
       "14         0   -1844.956182         56               высшее             0   \n",
       "15         1    -972.364419         26              среднее             1   \n",
       "16         0   -1719.934226         35              среднее             1   \n",
       "17         0   -2369.999720         33               высшее             0   \n",
       "18         0  400281.136913         53              среднее             1   \n",
       "19         0  -10038.818549         48              СРЕДНЕЕ             1   \n",
       "\n",
       "       family_status  family_status_id gender income_type  debt  \\\n",
       "0    женат / замужем                 0      F   сотрудник     0   \n",
       "1    женат / замужем                 0      F   сотрудник     0   \n",
       "2    женат / замужем                 0      M   сотрудник     0   \n",
       "3    женат / замужем                 0      M   сотрудник     0   \n",
       "4   гражданский брак                 1      F   пенсионер     0   \n",
       "5   гражданский брак                 1      M   компаньон     0   \n",
       "6    женат / замужем                 0      F   компаньон     0   \n",
       "7    женат / замужем                 0      M   сотрудник     0   \n",
       "8   гражданский брак                 1      F   сотрудник     0   \n",
       "9    женат / замужем                 0      M   сотрудник     0   \n",
       "10   женат / замужем                 0      M   компаньон     0   \n",
       "11   женат / замужем                 0      F   сотрудник     0   \n",
       "12  гражданский брак                 1      M   пенсионер     0   \n",
       "13   женат / замужем                 0      F   сотрудник     0   \n",
       "14  гражданский брак                 1      F   компаньон     1   \n",
       "15   женат / замужем                 0      F   сотрудник     0   \n",
       "16   женат / замужем                 0      F   сотрудник     0   \n",
       "17  гражданский брак                 1      M   сотрудник     0   \n",
       "18    вдовец / вдова                 2      F   пенсионер     0   \n",
       "19         в разводе                 3      F   сотрудник     0   \n",
       "\n",
       "     total_income                                 purpose  \n",
       "0   253875.639453                           покупка жилья  \n",
       "1   112080.014102                 приобретение автомобиля  \n",
       "2   145885.952297                           покупка жилья  \n",
       "3   267628.550329              дополнительное образование  \n",
       "4   158616.077870                         сыграть свадьбу  \n",
       "5   255763.565419                           покупка жилья  \n",
       "6   240525.971920                       операции с жильем  \n",
       "7   135823.934197                             образование  \n",
       "8    95856.832424                   на проведение свадьбы  \n",
       "9   144425.938277                 покупка жилья для семьи  \n",
       "10  113943.491460                    покупка недвижимости  \n",
       "11   77069.234271       покупка коммерческой недвижимости  \n",
       "12            NaN                         сыграть свадьбу  \n",
       "13  130458.228857                 приобретение автомобиля  \n",
       "14  165127.911772              покупка жилой недвижимости  \n",
       "15  116820.904450  строительство собственной недвижимости  \n",
       "16  289202.704229                            недвижимость  \n",
       "17   90410.586745              строительство недвижимости  \n",
       "18   56823.777243      на покупку подержанного автомобиля  \n",
       "19  242831.107982            на покупку своего автомобиля  "
      ]
     },
     "execution_count": 2,
     "metadata": {},
     "output_type": "execute_result"
    }
   ],
   "source": [
    "data.head(20)"
   ]
  },
  {
   "cell_type": "markdown",
   "id": "ea772a84",
   "metadata": {
    "deletable": false,
    "editable": false,
    "id": "1c12e233"
   },
   "source": [
    "**Задание 3. Выведите основную информацию о датафрейме с помощью метода `info()`.**"
   ]
  },
  {
   "cell_type": "code",
   "execution_count": 3,
   "id": "1b441b74",
   "metadata": {
    "deletable": false,
    "id": "2b757bca",
    "outputId": "15376089-8dad-46c9-b520-c05248d43158"
   },
   "outputs": [
    {
     "name": "stdout",
     "output_type": "stream",
     "text": [
      "<class 'pandas.core.frame.DataFrame'>\n",
      "RangeIndex: 21525 entries, 0 to 21524\n",
      "Data columns (total 12 columns):\n",
      " #   Column            Non-Null Count  Dtype  \n",
      "---  ------            --------------  -----  \n",
      " 0   children          21525 non-null  int64  \n",
      " 1   days_employed     19351 non-null  float64\n",
      " 2   dob_years         21525 non-null  int64  \n",
      " 3   education         21525 non-null  object \n",
      " 4   education_id      21525 non-null  int64  \n",
      " 5   family_status     21525 non-null  object \n",
      " 6   family_status_id  21525 non-null  int64  \n",
      " 7   gender            21525 non-null  object \n",
      " 8   income_type       21525 non-null  object \n",
      " 9   debt              21525 non-null  int64  \n",
      " 10  total_income      19351 non-null  float64\n",
      " 11  purpose           21525 non-null  object \n",
      "dtypes: float64(2), int64(5), object(5)\n",
      "memory usage: 2.0+ MB\n"
     ]
    }
   ],
   "source": [
    "data.info()"
   ]
  },
  {
   "cell_type": "markdown",
   "id": "8815d477",
   "metadata": {
    "deletable": false,
    "editable": false,
    "id": "333ec665"
   },
   "source": [
    "## Предобработка данных"
   ]
  },
  {
   "cell_type": "markdown",
   "id": "6ada894d",
   "metadata": {
    "deletable": false,
    "editable": false,
    "id": "02d92d53"
   },
   "source": [
    "### Удаление пропусков"
   ]
  },
  {
   "cell_type": "markdown",
   "id": "6aa868ce",
   "metadata": {
    "deletable": false,
    "editable": false,
    "id": "cd84967c"
   },
   "source": [
    "**Задание 4. Выведите количество пропущенных значений для каждого столбца. Используйте комбинацию двух методов.**"
   ]
  },
  {
   "cell_type": "code",
   "execution_count": 4,
   "id": "d4b432d7",
   "metadata": {
    "deletable": false,
    "id": "7f9b2309",
    "outputId": "81f4d817-781c-465c-ed15-91ce4446810d"
   },
   "outputs": [
    {
     "data": {
      "text/plain": [
       "children               0\n",
       "days_employed       2174\n",
       "dob_years              0\n",
       "education              0\n",
       "education_id           0\n",
       "family_status          0\n",
       "family_status_id       0\n",
       "gender                 0\n",
       "income_type            0\n",
       "debt                   0\n",
       "total_income        2174\n",
       "purpose                0\n",
       "dtype: int64"
      ]
     },
     "execution_count": 4,
     "metadata": {},
     "output_type": "execute_result"
    }
   ],
   "source": [
    "data.isna().sum()"
   ]
  },
  {
   "cell_type": "markdown",
   "id": "2985ad56",
   "metadata": {
    "deletable": false,
    "editable": false,
    "id": "db86e27b"
   },
   "source": [
    "**Задание 5. В двух столбцах есть пропущенные значения. Один из них — `days_employed`. Пропуски в этом столбце вы обработаете на следующем этапе. Другой столбец с пропущенными значениями — `total_income` — хранит данные о доходах. На сумму дохода сильнее всего влияет тип занятости, поэтому заполнить пропуски в этом столбце нужно медианным значением по каждому типу из столбца `income_type`. Например, у человека с типом занятости `сотрудник` пропуск в столбце `total_income` должен быть заполнен медианным доходом среди всех записей с тем же типом.**"
   ]
  },
  {
   "cell_type": "code",
   "execution_count": 5,
   "id": "8f154c83",
   "metadata": {
    "deletable": false,
    "id": "42006a93"
   },
   "outputs": [],
   "source": [
    "for t in data['income_type'].unique():\n",
    "    data.loc[(data['income_type'] == t) & (data['total_income'].isna()), 'total_income'] = \\\n",
    "    data.loc[(data['income_type'] == t), 'total_income'].median()"
   ]
  },
  {
   "cell_type": "markdown",
   "id": "d860062d",
   "metadata": {
    "deletable": false,
    "editable": false,
    "id": "89da5ece"
   },
   "source": [
    "### Обработка аномальных значений"
   ]
  },
  {
   "cell_type": "markdown",
   "id": "2e1eedd0",
   "metadata": {
    "deletable": false,
    "editable": false,
    "id": "57964554"
   },
   "source": [
    "**Задание 6. В данных могут встречаться артефакты (аномалии) — значения, которые не отражают действительность и появились по какой-то ошибке. таким артефактом будет отрицательное количество дней трудового стажа в столбце `days_employed`. Для реальных данных это нормально. Обработайте значения в этом столбце: замените все отрицательные значения положительными с помощью метода `abs()`.**"
   ]
  },
  {
   "cell_type": "code",
   "execution_count": 6,
   "id": "70fd8e84",
   "metadata": {
    "deletable": false,
    "id": "f6f055bf"
   },
   "outputs": [],
   "source": [
    "data['days_employed'] = data['days_employed'].abs()"
   ]
  },
  {
   "cell_type": "markdown",
   "id": "8cdb804b",
   "metadata": {
    "deletable": false,
    "editable": false,
    "id": "6107dd2f"
   },
   "source": [
    "**Задание 7. Для каждого типа занятости выведите медианное значение трудового стажа `days_employed` в днях.**"
   ]
  },
  {
   "cell_type": "code",
   "execution_count": 7,
   "id": "2eeeef82",
   "metadata": {
    "deletable": false,
    "id": "85a5faf6",
    "outputId": "801ef80e-522b-4668-f34e-565af7432bcf"
   },
   "outputs": [
    {
     "data": {
      "text/plain": [
       "income_type\n",
       "безработный        366413.652744\n",
       "в декрете            3296.759962\n",
       "госслужащий          2689.368353\n",
       "компаньон            1547.382223\n",
       "пенсионер          365213.306266\n",
       "предприниматель       520.848083\n",
       "сотрудник            1574.202821\n",
       "студент               578.751554\n",
       "Name: days_employed, dtype: float64"
      ]
     },
     "execution_count": 7,
     "metadata": {},
     "output_type": "execute_result"
    }
   ],
   "source": [
    "data.groupby('income_type')['days_employed'].agg('median')"
   ]
  },
  {
   "cell_type": "markdown",
   "id": "eb52f1a7",
   "metadata": {
    "deletable": false,
    "editable": false,
    "id": "38d1a030"
   },
   "source": [
    "У двух типов (безработные и пенсионеры) получатся аномально большие значения. Исправить такие значения сложно, поэтому оставьте их как есть. Тем более этот столбец не понадобится вам для исследования."
   ]
  },
  {
   "cell_type": "markdown",
   "id": "95ca5d7b",
   "metadata": {
    "deletable": false,
    "editable": false,
    "id": "d8a9f147"
   },
   "source": [
    "**Задание 8. Выведите перечень уникальных значений столбца `children`.**"
   ]
  },
  {
   "cell_type": "code",
   "execution_count": 8,
   "id": "4ab58857",
   "metadata": {
    "deletable": false,
    "id": "ef5056eb",
    "outputId": "6975b15c-7f95-4697-d16d-a0c79b657b03"
   },
   "outputs": [
    {
     "data": {
      "text/plain": [
       "array([ 1,  0,  3,  2, -1,  4, 20,  5])"
      ]
     },
     "execution_count": 8,
     "metadata": {},
     "output_type": "execute_result"
    }
   ],
   "source": [
    "data['children'].unique()"
   ]
  },
  {
   "cell_type": "markdown",
   "id": "972716a4",
   "metadata": {
    "deletable": false,
    "editable": false,
    "id": "40b9ebf2"
   },
   "source": [
    "**Задание 9. В столбце `children` есть два аномальных значения. Удалите строки, в которых встречаются такие аномальные значения из датафрейма `data`.**"
   ]
  },
  {
   "cell_type": "code",
   "execution_count": 9,
   "id": "f1e3441b",
   "metadata": {
    "deletable": false,
    "id": "3ff9801d"
   },
   "outputs": [],
   "source": [
    "data = data[(data['children'] != -1) & (data['children'] != 20)]"
   ]
  },
  {
   "cell_type": "markdown",
   "id": "50e18d30",
   "metadata": {
    "deletable": false,
    "editable": false,
    "id": "bbc4d0ce"
   },
   "source": [
    "**Задание 10. Ещё раз выведите перечень уникальных значений столбца `children`, чтобы убедиться, что артефакты удалены.**"
   ]
  },
  {
   "cell_type": "code",
   "execution_count": 10,
   "id": "f4ca8ce2",
   "metadata": {
    "deletable": false,
    "id": "ad4fa8b7",
    "outputId": "b2097101-d49d-44d9-901b-32a65c9463d1"
   },
   "outputs": [
    {
     "data": {
      "text/plain": [
       "array([1, 0, 3, 2, 4, 5])"
      ]
     },
     "execution_count": 10,
     "metadata": {},
     "output_type": "execute_result"
    }
   ],
   "source": [
    "data['children'].unique()"
   ]
  },
  {
   "cell_type": "markdown",
   "id": "256f81bb",
   "metadata": {
    "deletable": false,
    "editable": false,
    "id": "75440b63"
   },
   "source": [
    "### Удаление пропусков (продолжение)"
   ]
  },
  {
   "cell_type": "markdown",
   "id": "d575a8bb",
   "metadata": {
    "deletable": false,
    "editable": false,
    "id": "f4ea573f"
   },
   "source": [
    "**Задание 11. Заполните пропуски в столбце `days_employed` медианными значениями по каждого типа занятости `income_type`.**"
   ]
  },
  {
   "cell_type": "code",
   "execution_count": 11,
   "id": "b585152f",
   "metadata": {
    "deletable": false,
    "id": "af6b1a7e"
   },
   "outputs": [],
   "source": [
    "for t in data['income_type'].unique():\n",
    "    data.loc[(data['income_type'] == t) & (data['days_employed'].isna()), 'days_employed'] = \\\n",
    "    data.loc[(data['income_type'] == t), 'days_employed'].median()"
   ]
  },
  {
   "cell_type": "markdown",
   "id": "8f99241a",
   "metadata": {
    "deletable": false,
    "editable": false,
    "id": "2753f40d"
   },
   "source": [
    "**Задание 12. Убедитесь, что все пропуски заполнены. Проверьте себя и ещё раз выведите количество пропущенных значений для каждого столбца с помощью двух методов.**"
   ]
  },
  {
   "cell_type": "code",
   "execution_count": 12,
   "id": "1b636094",
   "metadata": {
    "deletable": false,
    "id": "55f78bc2",
    "outputId": "8da1e4e1-358e-4e87-98c9-f261bce0a7b2"
   },
   "outputs": [
    {
     "data": {
      "text/plain": [
       "children            0\n",
       "days_employed       0\n",
       "dob_years           0\n",
       "education           0\n",
       "education_id        0\n",
       "family_status       0\n",
       "family_status_id    0\n",
       "gender              0\n",
       "income_type         0\n",
       "debt                0\n",
       "total_income        0\n",
       "purpose             0\n",
       "dtype: int64"
      ]
     },
     "execution_count": 12,
     "metadata": {},
     "output_type": "execute_result"
    }
   ],
   "source": [
    "data.isna().sum()"
   ]
  },
  {
   "cell_type": "markdown",
   "id": "5cec77e2",
   "metadata": {
    "deletable": false,
    "editable": false,
    "id": "ddc81e43"
   },
   "source": [
    "### Изменение типов данных"
   ]
  },
  {
   "cell_type": "markdown",
   "id": "0d6965a3",
   "metadata": {
    "deletable": false,
    "editable": false,
    "id": "42d19d24"
   },
   "source": [
    "**Задание 13. Замените вещественный тип данных в столбце `total_income` на целочисленный с помощью метода `astype()`.**"
   ]
  },
  {
   "cell_type": "code",
   "execution_count": 13,
   "id": "fedc57fe",
   "metadata": {
    "deletable": false,
    "id": "920b65ad"
   },
   "outputs": [],
   "source": [
    "data['total_income'] = data['total_income'].astype(int)"
   ]
  },
  {
   "cell_type": "markdown",
   "id": "1bd28a25",
   "metadata": {
    "deletable": false,
    "editable": false,
    "id": "80c420ba"
   },
   "source": [
    "### Обработка дубликатов"
   ]
  },
  {
   "cell_type": "markdown",
   "id": "a8fa70fe",
   "metadata": {
    "deletable": false,
    "editable": false
   },
   "source": [
    "**Задание 14. Обработайте неявные дубликаты в столбце `education`. В этом столбце есть одни и те же значения, но записанные по-разному: с использованием заглавных и строчных букв. Приведите их к нижнему регистру. Проверьте остальные столбцы.**"
   ]
  },
  {
   "cell_type": "code",
   "execution_count": 14,
   "id": "8b92d536",
   "metadata": {
    "deletable": false
   },
   "outputs": [],
   "source": [
    "data['education'] = data['education'].str.lower()"
   ]
  },
  {
   "cell_type": "markdown",
   "id": "0fd58d9b",
   "metadata": {
    "deletable": false,
    "editable": false,
    "id": "dc587695"
   },
   "source": [
    "**Задание 15. Выведите на экран количество строк-дубликатов в данных. Если такие строки присутствуют, удалите их.**"
   ]
  },
  {
   "cell_type": "code",
   "execution_count": 15,
   "id": "58c85e5a",
   "metadata": {
    "deletable": false,
    "id": "3ee445e4",
    "outputId": "9684deba-1934-42d1-99e1-cda61740f822"
   },
   "outputs": [
    {
     "data": {
      "text/plain": [
       "71"
      ]
     },
     "execution_count": 15,
     "metadata": {},
     "output_type": "execute_result"
    }
   ],
   "source": [
    "data.duplicated().sum()"
   ]
  },
  {
   "cell_type": "code",
   "execution_count": 16,
   "id": "9768c21f",
   "metadata": {
    "deletable": false,
    "id": "8575fe05"
   },
   "outputs": [],
   "source": [
    "data = data.drop_duplicates()"
   ]
  },
  {
   "cell_type": "markdown",
   "id": "b4baa97a",
   "metadata": {
    "deletable": false,
    "editable": false,
    "id": "9904cf55"
   },
   "source": [
    "### Категоризация данных"
   ]
  },
  {
   "cell_type": "markdown",
   "id": "20451daa",
   "metadata": {
    "deletable": false,
    "editable": false,
    "id": "72fcc8a2"
   },
   "source": [
    "**Задание 16. На основании диапазонов, указанных ниже, создайте в датафрейме `data` столбец `total_income_category` с категориями:**\n",
    "\n",
    "- 0–30000 — `'E'`;\n",
    "- 30001–50000 — `'D'`;\n",
    "- 50001–200000 — `'C'`;\n",
    "- 200001–1000000 — `'B'`;\n",
    "- 1000001 и выше — `'A'`.\n",
    "\n",
    "\n",
    "**Например, кредитополучателю с доходом 25000 нужно назначить категорию `'E'`, а клиенту, получающему 235000, — `'B'`. Используйте собственную функцию с именем `categorize_income()` и метод `apply()`.**"
   ]
  },
  {
   "cell_type": "code",
   "execution_count": 17,
   "id": "8a675144",
   "metadata": {
    "deletable": false,
    "id": "e1771346"
   },
   "outputs": [],
   "source": [
    "def categorize_income(income):\n",
    "    try:\n",
    "        if 0 <= income <= 30000:\n",
    "            return 'E'\n",
    "        elif 30001 <= income <= 50000:\n",
    "            return 'D'\n",
    "        elif 50001 <= income <= 200000:\n",
    "            return 'C'\n",
    "        elif 200001 <= income <= 1000000:\n",
    "            return 'B'\n",
    "        elif income >= 1000001:\n",
    "            return 'A'\n",
    "    except:\n",
    "        pass"
   ]
  },
  {
   "cell_type": "code",
   "execution_count": 18,
   "id": "bd684ccf",
   "metadata": {
    "deletable": false,
    "id": "d5f3586d"
   },
   "outputs": [],
   "source": [
    "data['total_income_category'] = data['total_income'].apply(categorize_income)"
   ]
  },
  {
   "cell_type": "markdown",
   "id": "51442225",
   "metadata": {
    "deletable": false,
    "editable": false,
    "id": "dde49b5c"
   },
   "source": [
    "**Задание 17. Выведите на экран перечень уникальных целей взятия кредита из столбца `purpose`.**"
   ]
  },
  {
   "cell_type": "code",
   "execution_count": 19,
   "id": "a0a6e378",
   "metadata": {
    "deletable": false,
    "id": "f67ce9b3",
    "outputId": "673c12d9-7d7e-4ae0-9812-c622c89dd244"
   },
   "outputs": [
    {
     "data": {
      "text/plain": [
       "array(['покупка жилья', 'приобретение автомобиля',\n",
       "       'дополнительное образование', 'сыграть свадьбу',\n",
       "       'операции с жильем', 'образование', 'на проведение свадьбы',\n",
       "       'покупка жилья для семьи', 'покупка недвижимости',\n",
       "       'покупка коммерческой недвижимости', 'покупка жилой недвижимости',\n",
       "       'строительство собственной недвижимости', 'недвижимость',\n",
       "       'строительство недвижимости', 'на покупку подержанного автомобиля',\n",
       "       'на покупку своего автомобиля',\n",
       "       'операции с коммерческой недвижимостью',\n",
       "       'строительство жилой недвижимости', 'жилье',\n",
       "       'операции со своей недвижимостью', 'автомобили',\n",
       "       'заняться образованием', 'сделка с подержанным автомобилем',\n",
       "       'получение образования', 'автомобиль', 'свадьба',\n",
       "       'получение дополнительного образования', 'покупка своего жилья',\n",
       "       'операции с недвижимостью', 'получение высшего образования',\n",
       "       'свой автомобиль', 'сделка с автомобилем',\n",
       "       'профильное образование', 'высшее образование',\n",
       "       'покупка жилья для сдачи', 'на покупку автомобиля', 'ремонт жилью',\n",
       "       'заняться высшим образованием'], dtype=object)"
      ]
     },
     "execution_count": 19,
     "metadata": {},
     "output_type": "execute_result"
    }
   ],
   "source": [
    "data['purpose'].unique()"
   ]
  },
  {
   "cell_type": "markdown",
   "id": "12744797",
   "metadata": {
    "deletable": false,
    "editable": false,
    "id": "85d0aef0"
   },
   "source": [
    "**Задание 18. Создайте функцию, которая на основании данных из столбца `purpose` сформирует новый столбец `purpose_category`, в который войдут следующие категории:**\n",
    "\n",
    "- `'операции с автомобилем'`,\n",
    "- `'операции с недвижимостью'`,\n",
    "- `'проведение свадьбы'`,\n",
    "- `'получение образования'`.\n",
    "\n",
    "**Например, если в столбце `purpose` находится подстрока `'на покупку автомобиля'`, то в столбце `purpose_category` должна появиться строка `'операции с автомобилем'`.**\n",
    "\n",
    "**Используйте собственную функцию с именем `categorize_purpose()` и метод `apply()`. Изучите данные в столбце `purpose` и определите, какие подстроки помогут вам правильно определить категорию.**"
   ]
  },
  {
   "cell_type": "code",
   "execution_count": 20,
   "id": "4179476d",
   "metadata": {
    "deletable": false,
    "id": "e149fab4"
   },
   "outputs": [],
   "source": [
    "def categorize_purpose(row):\n",
    "    try:\n",
    "        if 'автом' in row:\n",
    "            return 'операции с автомобилем'\n",
    "        elif 'жил' in row or 'недвиж' in row:\n",
    "            return 'операции с недвижимостью'\n",
    "        elif 'свад' in row:\n",
    "            return 'проведение свадьбы'\n",
    "        elif 'образов' in row:\n",
    "            return 'получение образования'\n",
    "    except:\n",
    "        return 'нет категории'"
   ]
  },
  {
   "cell_type": "code",
   "execution_count": 21,
   "id": "943e4c57",
   "metadata": {
    "deletable": false,
    "id": "bf36e69b"
   },
   "outputs": [],
   "source": [
    "data['purpose_category'] = data['purpose'].apply(categorize_purpose)"
   ]
  },
  {
   "cell_type": "markdown",
   "id": "4b126ef5",
   "metadata": {
    "deletable": false,
    "editable": false,
    "id": "09b242bf"
   },
   "source": [
    "### Шаг 3. Исследуйте данные и ответьте на вопросы"
   ]
  },
  {
   "cell_type": "markdown",
   "id": "d63b95d2",
   "metadata": {
    "deletable": false,
    "editable": false,
    "id": "c5d66278"
   },
   "source": [
    "#### 3.1 Есть ли зависимость между количеством детей и возвратом кредита в срок?"
   ]
  },
  {
   "cell_type": "markdown",
   "id": "c7f0c45f",
   "metadata": {},
   "source": [
    "1. Изучим записи по количеству детей."
   ]
  },
  {
   "cell_type": "code",
   "execution_count": 22,
   "id": "b1aeec61",
   "metadata": {},
   "outputs": [
    {
     "name": "stdout",
     "output_type": "stream",
     "text": [
      "Количество записей, людей у которых нет детей: 14091\n",
      "Количество записей, людей у которых есть дети: 7240         \n",
      "  из них 1 ребенок: 4808         \n",
      "  из них 2 ребенка: 2052         \n",
      "  из них 3 ребенка: 330         \n",
      "  из них 4 ребенка: 41         \n",
      "  из них 5 детей: 9\n"
     ]
    }
   ],
   "source": [
    "values = data[\"children\"].value_counts()\n",
    "print(f'Количество записей, людей у которых нет детей: {values[0]}')\n",
    "print(f'Количество записей, людей у которых есть дети: {values[1:6].sum()} \\\n",
    "        \\n  из них 1 ребенок: {values[1]} \\\n",
    "        \\n  из них 2 ребенка: {values[2]} \\\n",
    "        \\n  из них 3 ребенка: {values[3]} \\\n",
    "        \\n  из них 4 ребенка: {values[4]} \\\n",
    "        \\n  из них 5 детей: {values[5]}')"
   ]
  },
  {
   "cell_type": "markdown",
   "id": "b593f755",
   "metadata": {},
   "source": [
    "2. Проверим влияет ли само по себе наличие детей на соблюдение сроков кредита."
   ]
  },
  {
   "cell_type": "code",
   "execution_count": 23,
   "id": "a177a9c4",
   "metadata": {},
   "outputs": [
    {
     "data": {
      "text/html": [
       "<style  type=\"text/css\" >\n",
       "</style><table id=\"T_34e01_\" ><thead>    <tr>        <th class=\"blank level0\" ></th>        <th class=\"col_heading level0 col0\" >Вероятность просрочки</th>    </tr>    <tr>        <th class=\"index_name level0\" >Наличие детей</th>        <th class=\"blank\" ></th>    </tr></thead><tbody>\n",
       "                <tr>\n",
       "                        <th id=\"T_34e01_level0_row0\" class=\"row_heading level0 row0\" >Нет детей</th>\n",
       "                        <td id=\"T_34e01_row0_col0\" class=\"data row0 col0\" >7.54%</td>\n",
       "            </tr>\n",
       "            <tr>\n",
       "                        <th id=\"T_34e01_level0_row1\" class=\"row_heading level0 row1\" >Есть дети</th>\n",
       "                        <td id=\"T_34e01_row1_col0\" class=\"data row1 col0\" >9.24%</td>\n",
       "            </tr>\n",
       "    </tbody></table>"
      ],
      "text/plain": [
       "<pandas.io.formats.style.Styler at 0x7f8260909160>"
      ]
     },
     "execution_count": 23,
     "metadata": {},
     "output_type": "execute_result"
    }
   ],
   "source": [
    "children_influence = data.pivot_table(index = [data['children'] == 0], values = 'debt', aggfunc = 'mean').sort_values(by = 'debt')\n",
    "children_influence.rename(columns = {'debt':'Вероятность просрочки'}, index = {True:'Нет детей', False: 'Есть дети'}, inplace= True)\n",
    "children_influence.index.name = 'Наличие детей'\n",
    "children_influence.style.format({'Вероятность просрочки': \"{:.2%}\"})"
   ]
  },
  {
   "cell_type": "markdown",
   "id": "61ee61b9",
   "metadata": {},
   "source": [
    "3. Проверим зависимость между количеством детей и возвратом кредита в срок."
   ]
  },
  {
   "cell_type": "code",
   "execution_count": 24,
   "id": "602a68ab",
   "metadata": {
    "deletable": false,
    "id": "2cacfc4a"
   },
   "outputs": [
    {
     "data": {
      "text/html": [
       "<style  type=\"text/css\" >\n",
       "</style><table id=\"T_bee01_\" ><thead>    <tr>        <th class=\"blank level0\" ></th>        <th class=\"col_heading level0 col0\" >Вероятность просрочки</th>    </tr>    <tr>        <th class=\"index_name level0\" >Количество детей</th>        <th class=\"blank\" ></th>    </tr></thead><tbody>\n",
       "                <tr>\n",
       "                        <th id=\"T_bee01_level0_row0\" class=\"row_heading level0 row0\" >4</th>\n",
       "                        <td id=\"T_bee01_row0_col0\" class=\"data row0 col0\" >9.76%</td>\n",
       "            </tr>\n",
       "            <tr>\n",
       "                        <th id=\"T_bee01_level0_row1\" class=\"row_heading level0 row1\" >2</th>\n",
       "                        <td id=\"T_bee01_row1_col0\" class=\"data row1 col0\" >9.45%</td>\n",
       "            </tr>\n",
       "            <tr>\n",
       "                        <th id=\"T_bee01_level0_row2\" class=\"row_heading level0 row2\" >1</th>\n",
       "                        <td id=\"T_bee01_row2_col0\" class=\"data row2 col0\" >9.23%</td>\n",
       "            </tr>\n",
       "            <tr>\n",
       "                        <th id=\"T_bee01_level0_row3\" class=\"row_heading level0 row3\" >3</th>\n",
       "                        <td id=\"T_bee01_row3_col0\" class=\"data row3 col0\" >8.18%</td>\n",
       "            </tr>\n",
       "            <tr>\n",
       "                        <th id=\"T_bee01_level0_row4\" class=\"row_heading level0 row4\" >0</th>\n",
       "                        <td id=\"T_bee01_row4_col0\" class=\"data row4 col0\" >7.54%</td>\n",
       "            </tr>\n",
       "            <tr>\n",
       "                        <th id=\"T_bee01_level0_row5\" class=\"row_heading level0 row5\" >5</th>\n",
       "                        <td id=\"T_bee01_row5_col0\" class=\"data row5 col0\" >0.00%</td>\n",
       "            </tr>\n",
       "    </tbody></table>"
      ],
      "text/plain": [
       "<pandas.io.formats.style.Styler at 0x7f82608fe9d0>"
      ]
     },
     "execution_count": 24,
     "metadata": {},
     "output_type": "execute_result"
    }
   ],
   "source": [
    "children_amount_influnce = data.pivot_table(index = 'children', values = 'debt', aggfunc = 'mean').sort_values(by = 'debt', ascending = False)\n",
    "children_amount_influnce.rename(columns = {'debt':'Вероятность просрочки'}, inplace= True)\n",
    "children_amount_influnce.index.name = 'Количество детей'\n",
    "children_amount_influnce.style.format({'Вероятность просрочки': \"{:.2%}\"})"
   ]
  },
  {
   "cell_type": "markdown",
   "id": "58b60578",
   "metadata": {
    "deletable": false,
    "id": "3a6b99ec"
   },
   "source": [
    "**Вывод:** \n",
    "Из полученных результатов видно, что количество детей влияет на способность возврата кредита в срок. Можно сделать следующие выводы:\n",
    "* Вероятность просрочки у клиента с детьми на **1.70%** больше, чем у клиента без детей. На это может влиять то, что у клиента появляются дополнительные расходы в семье, что может способствовать ухудшению материального положения.\n",
    "* Можно так же утверждать, что с увеличением количества детей от `1 до 4` вероятность просрочки у клиента очевидно возрастает. \n",
    "* Нулевая вероятность при количестве детей `5` не является репрезентативной, т.к. в нашей выборке только 9 случаев с таким количеством детей (что составляет лишь **0.04%** от всей выборки, т.е. данных очень мало, чтобы делать выводы касаемо наличия 5-ых детей), более того, во всех случаях отсрочка отсутствует."
   ]
  },
  {
   "cell_type": "markdown",
   "id": "47e51b15",
   "metadata": {},
   "source": [
    "<div class=\"alert alert-success\">\n",
    "<font size=\"5\"><b>Комментарий ревьюера</b></font>\n",
    "\n",
    "Успех: Вывод не противоречит полученному результату. \n",
    "\n",
    "</div>"
   ]
  },
  {
   "cell_type": "markdown",
   "id": "868fb597",
   "metadata": {
    "deletable": false,
    "editable": false,
    "id": "97be82ca"
   },
   "source": [
    "#### 3.2 Есть ли зависимость между семейным положением и возвратом кредита в срок?"
   ]
  },
  {
   "cell_type": "markdown",
   "id": "7152e838",
   "metadata": {},
   "source": [
    "1. Проверим данную зависимость, как она есть."
   ]
  },
  {
   "cell_type": "code",
   "execution_count": 25,
   "id": "04ba6edd",
   "metadata": {
    "scrolled": true
   },
   "outputs": [
    {
     "data": {
      "text/html": [
       "<style  type=\"text/css\" >\n",
       "</style><table id=\"T_1c430_\" ><thead>    <tr>        <th class=\"blank level0\" ></th>        <th class=\"col_heading level0 col0\" >Вероятность просрочки</th>    </tr>    <tr>        <th class=\"index_name level0\" >Семейное положение</th>        <th class=\"blank\" ></th>    </tr></thead><tbody>\n",
       "                <tr>\n",
       "                        <th id=\"T_1c430_level0_row0\" class=\"row_heading level0 row0\" >Не женат / не замужем</th>\n",
       "                        <td id=\"T_1c430_row0_col0\" class=\"data row0 col0\" >9.76%</td>\n",
       "            </tr>\n",
       "            <tr>\n",
       "                        <th id=\"T_1c430_level0_row1\" class=\"row_heading level0 row1\" >гражданский брак</th>\n",
       "                        <td id=\"T_1c430_row1_col0\" class=\"data row1 col0\" >9.31%</td>\n",
       "            </tr>\n",
       "            <tr>\n",
       "                        <th id=\"T_1c430_level0_row2\" class=\"row_heading level0 row2\" >женат / замужем</th>\n",
       "                        <td id=\"T_1c430_row2_col0\" class=\"data row2 col0\" >7.56%</td>\n",
       "            </tr>\n",
       "            <tr>\n",
       "                        <th id=\"T_1c430_level0_row3\" class=\"row_heading level0 row3\" >в разводе</th>\n",
       "                        <td id=\"T_1c430_row3_col0\" class=\"data row3 col0\" >7.06%</td>\n",
       "            </tr>\n",
       "            <tr>\n",
       "                        <th id=\"T_1c430_level0_row4\" class=\"row_heading level0 row4\" >вдовец / вдова</th>\n",
       "                        <td id=\"T_1c430_row4_col0\" class=\"data row4 col0\" >6.62%</td>\n",
       "            </tr>\n",
       "    </tbody></table>"
      ],
      "text/plain": [
       "<pandas.io.formats.style.Styler at 0x7f81f40add90>"
      ]
     },
     "execution_count": 25,
     "metadata": {},
     "output_type": "execute_result"
    }
   ],
   "source": [
    "family_status_influence = pd.DataFrame(data.groupby('family_status')['debt'].mean()).sort_values(by = 'debt', ascending = False)\n",
    "family_status_influence.rename(columns = {'debt':'Вероятность просрочки'}, inplace= True)\n",
    "family_status_influence.index.name = 'Семейное положение'\n",
    "family_status_influence.style.format({'Вероятность просрочки': \"{:.2%}\"})"
   ]
  },
  {
   "cell_type": "markdown",
   "id": "cc82a2bf",
   "metadata": {},
   "source": [
    "2. Классифицируем клиентов по следующему признаку: *один / не один*."
   ]
  },
  {
   "cell_type": "code",
   "execution_count": 26,
   "id": "ddabb774",
   "metadata": {},
   "outputs": [],
   "source": [
    "def family_status_categorizer(status):\n",
    "    if status in ['Не женат / не замужем', 'в разводе', 'вдовец / вдова']:\n",
    "        return 'один'\n",
    "    return 'не один'\n",
    "\n",
    "data['single_or_no'] = data['family_status'].apply(family_status_categorizer)"
   ]
  },
  {
   "cell_type": "code",
   "execution_count": 27,
   "id": "0033a584",
   "metadata": {
    "scrolled": true
   },
   "outputs": [
    {
     "data": {
      "text/html": [
       "<style  type=\"text/css\" >\n",
       "</style><table id=\"T_06549_\" ><thead>    <tr>        <th class=\"blank level0\" ></th>        <th class=\"col_heading level0 col0\" >Вероятность просрочки</th>    </tr>    <tr>        <th class=\"index_name level0\" >Статус</th>        <th class=\"blank\" ></th>    </tr></thead><tbody>\n",
       "                <tr>\n",
       "                        <th id=\"T_06549_level0_row0\" class=\"row_heading level0 row0\" >один</th>\n",
       "                        <td id=\"T_06549_row0_col0\" class=\"data row0 col0\" >8.51%</td>\n",
       "            </tr>\n",
       "            <tr>\n",
       "                        <th id=\"T_06549_level0_row1\" class=\"row_heading level0 row1\" >не один</th>\n",
       "                        <td id=\"T_06549_row1_col0\" class=\"data row1 col0\" >8.00%</td>\n",
       "            </tr>\n",
       "    </tbody></table>"
      ],
      "text/plain": [
       "<pandas.io.formats.style.Styler at 0x7f81f5d87d60>"
      ]
     },
     "execution_count": 27,
     "metadata": {},
     "output_type": "execute_result"
    }
   ],
   "source": [
    "family_status_influence = data.pivot_table(index = 'single_or_no', values = 'debt', aggfunc = 'mean').sort_values(by = 'debt', ascending = False)\n",
    "family_status_influence.rename(columns = {'debt':'Вероятность просрочки'}, inplace= True)\n",
    "family_status_influence.index.name = 'Статус'\n",
    "family_status_influence.style.format({'Вероятность просрочки': \"{:.2%}\"})"
   ]
  },
  {
   "cell_type": "markdown",
   "id": "a95a8792",
   "metadata": {
    "deletable": false,
    "id": "dc3f7ee8"
   },
   "source": [
    "**Вывод:**\n",
    "Согласно проведенному анализу, можно сделать вывод, что возврат кредита в срок не сильно зависит от семейного положения. Но одинокие люди чуть более склонны к просрочке. Вероятность задолженности по кредиту высока у незамужних/неженатых людей. `Видимо люди в отношениях являются более ответственными, т.к. если они уже в отношениях, то готовы быть ответственными за своего партнера. Видимо, они относятся аналогичным образом и ко взятым на себя обязательствам, например, по кредиту.` А наиболее ответственными среди среди всех являются люди, потерявшие супругов. `Высокая вероятность выплаты кредита в срок у данной категории людей может объясняться тем, что сократились траты в семье, тем самым возможно слегка улучшилось материальное положение, если, конечно, не потеряли едиственного кормильца.`\n"
   ]
  },
  {
   "cell_type": "markdown",
   "id": "36fa2657",
   "metadata": {},
   "source": [
    "**! Добавленные причины выделены в в выводе**"
   ]
  },
  {
   "cell_type": "markdown",
   "id": "365870ac",
   "metadata": {
    "deletable": false,
    "id": "1cef7837"
   },
   "source": [
    "<div class=\"alert alert-success\">\n",
    "<font size=\"5\"><b>Комментарий ревьюера</b></font>\n",
    "\n",
    "Успех: Подумай над причинами получения такого результата. \n",
    "\n",
    "</div>"
   ]
  },
  {
   "cell_type": "markdown",
   "id": "ad4c04e1",
   "metadata": {
    "deletable": false,
    "editable": false,
    "id": "1e8b2fca"
   },
   "source": [
    "#### 3.3 Есть ли зависимость между уровнем дохода и возвратом кредита в срок?"
   ]
  },
  {
   "cell_type": "markdown",
   "id": "e6b5553e",
   "metadata": {},
   "source": [
    "1. Проверим гипотезу о том, что уровень дохода влияет на возврат кредита в срок, построив столбчатую диаграмму."
   ]
  },
  {
   "cell_type": "markdown",
   "id": "73286e45",
   "metadata": {},
   "source": [
    "**! Ниже я использовал метод agg(). Старый код закоментил**"
   ]
  },
  {
   "cell_type": "code",
   "execution_count": 28,
   "id": "ddc14f3e",
   "metadata": {
    "deletable": false,
    "id": "cd7e3720",
    "scrolled": true
   },
   "outputs": [
    {
     "data": {
      "image/png": "[encoded data removed]",
      "text/plain": [
       "<Figure size 432x288 with 1 Axes>"
      ]
     },
     "metadata": {
      "needs_background": "light"
     },
     "output_type": "display_data"
    }
   ],
   "source": [
    "#total_income_influence =  pd.DataFrame(data.groupby('total_income_category')['debt'].mean()*100)\n",
    "total_income_influence =  data.groupby('total_income_category').agg({'debt':'mean'}) \n",
    "total_income_influence['debt'] = total_income_influence['debt'] * 100\n",
    "plot1 = total_income_influence.plot.bar(rot=0, xlabel = 'Категория дохода', ylabel = 'Вероятность просрочки, %', legend = False)"
   ]
  },
  {
   "cell_type": "markdown",
   "id": "ff94d97c",
   "metadata": {},
   "source": [
    "- 0–30000 — `'E'`;\n",
    "- 30001–50000 — `'D'`;\n",
    "- 50001–200000 — `'C'`;\n",
    "- 200001–1000000 — `'B'`;\n",
    "- 1000001 и выше — `'A'`."
   ]
  },
  {
   "cell_type": "markdown",
   "id": "54dfd549",
   "metadata": {
    "deletable": false,
    "id": "e8593def"
   },
   "source": [
    "**Вывод:**  Наглядно видно, что:\n",
    "* вероятность просрочки у людей с доходом выше среднего (`50 000-200 000`) и низким (`0-30 000`) доходом выше остальных остальных категорий. Для обоснования поведения людей с доходом выше среднего возможноб требуется более детальный анализ. Второй случай понятен, так как низкие доходы не позволяют выплачивать кредит в срок. \n",
    "* у клиентов со средним доходом (`30 000-50 000`) проблем с просрочкой на порядек меньше нежели у других категорий."
   ]
  },
  {
   "cell_type": "markdown",
   "id": "bfa6194a",
   "metadata": {},
   "source": [
    "<div class=\"alert alert-success\">\n",
    "<font size=\"5\"><b>Комментарий ревьюера</b></font>\n",
    "  \n",
    "Совет: Будет здорово, если ты освоишь метод [agg](https://pandas.pydata.org/pandas-docs/stable/reference/api/pandas.DataFrame.agg.html), который можно применить после группировки и передать в него лист с аггрегирующими функциями: sum - для подсчета числа должников, count - для подсчета общего числа клиентов в группах и mean - для нахождения доли должников в каждой из групп. \n",
    "\n",
    "</div>"
   ]
  },
  {
   "cell_type": "markdown",
   "id": "9e4bd954",
   "metadata": {
    "deletable": false,
    "editable": false,
    "id": "99ecbd1f"
   },
   "source": [
    "#### 3.4 Как разные цели кредита влияют на его возврат в срок?"
   ]
  },
  {
   "cell_type": "markdown",
   "id": "7f1bf023",
   "metadata": {},
   "source": [
    "1. Проверим как разные цели кредита влияют на его возврат в срок."
   ]
  },
  {
   "cell_type": "code",
   "execution_count": 29,
   "id": "3a4a2332",
   "metadata": {
    "deletable": false,
    "id": "2b687290"
   },
   "outputs": [
    {
     "data": {
      "text/html": [
       "<style  type=\"text/css\" >\n",
       "</style><table id=\"T_66a76_\" ><thead>    <tr>        <th class=\"blank level0\" ></th>        <th class=\"col_heading level0 col0\" >Вероятность просрочки</th>    </tr>    <tr>        <th class=\"index_name level0\" >Цель кредита</th>        <th class=\"blank\" ></th>    </tr></thead><tbody>\n",
       "                <tr>\n",
       "                        <th id=\"T_66a76_level0_row0\" class=\"row_heading level0 row0\" >операции с автомобилем</th>\n",
       "                        <td id=\"T_66a76_row0_col0\" class=\"data row0 col0\" >9.35%</td>\n",
       "            </tr>\n",
       "            <tr>\n",
       "                        <th id=\"T_66a76_level0_row1\" class=\"row_heading level0 row1\" >получение образования</th>\n",
       "                        <td id=\"T_66a76_row1_col0\" class=\"data row1 col0\" >9.25%</td>\n",
       "            </tr>\n",
       "            <tr>\n",
       "                        <th id=\"T_66a76_level0_row2\" class=\"row_heading level0 row2\" >проведение свадьбы</th>\n",
       "                        <td id=\"T_66a76_row2_col0\" class=\"data row2 col0\" >7.91%</td>\n",
       "            </tr>\n",
       "            <tr>\n",
       "                        <th id=\"T_66a76_level0_row3\" class=\"row_heading level0 row3\" >операции с недвижимостью</th>\n",
       "                        <td id=\"T_66a76_row3_col0\" class=\"data row3 col0\" >7.26%</td>\n",
       "            </tr>\n",
       "    </tbody></table>"
      ],
      "text/plain": [
       "<pandas.io.formats.style.Styler at 0x7f8260958df0>"
      ]
     },
     "execution_count": 29,
     "metadata": {},
     "output_type": "execute_result"
    }
   ],
   "source": [
    "# Ваш код будет здесь. Вы можете создавать новые ячейки.\n",
    "purpose_category_influence = pd.DataFrame(data.groupby('purpose_category')['debt'].mean()).sort_values(by = 'debt', ascending = False)\n",
    "purpose_category_influence.rename(columns = {'debt':'Вероятность просрочки'}, inplace= True)\n",
    "purpose_category_influence.index.name = 'Цель кредита'\n",
    "purpose_category_influence.style.format({'Вероятность просрочки': \"{:.2%}\"})"
   ]
  },
  {
   "cell_type": "markdown",
   "id": "2ce3c966",
   "metadata": {
    "deletable": false,
    "id": "b4bb2ce6"
   },
   "source": [
    "**Вывод:** В данном случае доля должников меньше в случаях, когда кредит берется для совершения `операций с недвижимостью`. Можно предположить, что сама недвижиммость может находится в залоге у банка и клиенту выгодно выплачивать все в срок. Наименее надежными являются клиенты, берущие кредит с целью совершения операций с `автомобилем и для получения образования`."
   ]
  },
  {
   "cell_type": "markdown",
   "id": "f8e7609e",
   "metadata": {},
   "source": [
    "<div class=\"alert alert-success\">\n",
    "<font size=\"5\"><b>Комментарий ревьюера</b></font>\n",
    "\n",
    "Успех: Здорово, что при анализе использован метод сводных таблиц. Он пригодится в дальнейших проектах.\n",
    "\n",
    "Выводы сделаны по всем пунктам. \n",
    "\n",
    "</div>"
   ]
  },
  {
   "cell_type": "markdown",
   "id": "4abb0275",
   "metadata": {
    "deletable": false,
    "editable": false,
    "id": "09c3ac4c"
   },
   "source": [
    "#### 3.5 Приведите возможные причины появления пропусков в исходных данных."
   ]
  },
  {
   "cell_type": "markdown",
   "id": "a3c974df",
   "metadata": {
    "deletable": false,
    "id": "9da2ceda"
   },
   "source": [
    "*Ответ:* В исходных данных были пропуски только в данных о `трудовом стаже и ежемесячном доходе`. \n",
    "* Было определено, что в случае со стажем пропуски были связаны с отрицательными значениями стажа. Причины этого могут быть самые разные: человеческий фактор при вводе данных, ошибки при считывании данных и т.д.\n",
    "* Что касается данных о ежемесячном доходе, то причину пропусков назвать сложно, так как данный показатель является ключевым при выдаче кредита. Возможно, в некоторых случаях люди решили сокрыть данную информацию."
   ]
  },
  {
   "cell_type": "markdown",
   "id": "a6b95b95",
   "metadata": {
    "deletable": false,
    "editable": false,
    "id": "7b0487d6"
   },
   "source": [
    "#### 3.6 Объясните, почему заполнить пропуски медианным значением — лучшее решение для количественных переменных."
   ]
  },
  {
   "cell_type": "markdown",
   "id": "f5ba5765",
   "metadata": {
    "deletable": false,
    "id": "7ecf2b8e"
   },
   "source": [
    "*Ответ:* Заполнять количественные переменные медианным значением является лучшим решением, так как наличие аномальных значений в выборке может сильно повлиять на среднее значение. Например, если у нас список `[1,2,3,4,5,6,7,NaN,9,10,1000]`, то среднее значение списка `105`, а медианное `5.5`. Видно, что медианное лучше вписывается в пропуск. "
   ]
  },
  {
   "cell_type": "markdown",
   "id": "763c32cf",
   "metadata": {},
   "source": [
    "<div class=\"alert alert-success\">\n",
    "<font size=\"5\"><b>Комментарий ревьюера</b></font>\n",
    "\n",
    "Успех: Да, все верно. \n",
    "\n",
    "</div>"
   ]
  },
  {
   "cell_type": "markdown",
   "id": "75be3bdd",
   "metadata": {
    "deletable": false,
    "editable": false,
    "id": "6db5255a"
   },
   "source": [
    "### Шаг 4: общий вывод."
   ]
  },
  {
   "cell_type": "markdown",
   "id": "6f70a8d2",
   "metadata": {
    "deletable": false,
    "id": "bad65432"
   },
   "source": [
    "Проведя анализ, было выяснено, что способность потенциального заёмщика вернуть кредит банку зависит от следующих показателей:\n",
    "* **Наличие детей**: *надежным клиентом* является человек `без детей`, а *ненадежным* - человек, у которого `4` детей.\n",
    "* **Семейное положение** : *надежным клиентом* являются `вдовы/вдодвцы`, а *ненадежным* - человек, `не находящийся в браке`.\n",
    "* **Уровень дохода** : *надежным клиентом* являются люди с ежемесячным доходом `30 000-50 000`, а *ненадежным* -  `0-30 000`.\n",
    "* **Цель кредита** : : *надежным клиентом* являются люди, берущие кредит для совершения `операций с недвижимостью`, а *ненадежным* - для совершения  `операций с автомобилем`.\n"
   ]
  },
  {
   "cell_type": "markdown",
   "id": "bcfb6f33",
   "metadata": {},
   "source": [
    "<div class=\"alert alert-danger\">\n",
    "<font size=\"5\"><b>Комментарий ревьюера</b></font>\n",
    "\n",
    "Ошибка: Нет, пересечение признаков мы не изучали. Составить портрет идеального заемщика в таком виде мы не можем. Не совсем ясно, первое, почему он идеальный, процент долга в каждой категории ненулевой. Второе, названного тобой клиента может просто не быть в данных. К примеру, вдовцы берут кредиты только на образование или авто. Поэтому мы не знаем то, как они ведут себя с операциями по недвижимости. Поэтому описание каждого признака выше стоит оставить, а вот портрет стот убрать. \n",
    "</div>"
   ]
  },
  {
   "cell_type": "markdown",
   "id": "04493a5b",
   "metadata": {},
   "source": [
    "<div class=\"alert alert-info\">\n",
    "<font size=\"5\"><b>Комментарий ревьюера</b></font>\n",
    "\n",
    "Если тебе нравится тема визуализации, то можешь изучить и методы библиотеки seaborn. Она позволяет строить довольно презентабельные графики. Рекомендую ресурс https://www.python-graph-gallery.com/. В нем содержится большая библиотека графиков с готовым кодом, который можно использовать при работе.\n",
    "\n",
    "Ты проделал большую работу, молодец! Ты овладел важными на данном этапе обучения инструментами, а также довольно качественно их используешь. Критических замечаний немного. Нужно лишь попроавить выводы. Жду твою работу :)\n",
    "\n",
    "</div>"
   ]
  }
 ],
 "metadata": {
  "ExecuteTimeLog": [
   {
    "duration": 48,
    "start_time": "2022-11-17T23:21:43.023Z"
   },
   {
    "duration": 447,
    "start_time": "2022-11-17T23:21:51.044Z"
   },
   {
    "duration": 21,
    "start_time": "2022-11-17T23:21:51.493Z"
   },
   {
    "duration": 17,
    "start_time": "2022-11-17T23:21:51.516Z"
   },
   {
    "duration": 11,
    "start_time": "2022-11-17T23:21:51.535Z"
   },
   {
    "duration": 63,
    "start_time": "2022-11-17T23:21:51.548Z"
   },
   {
    "duration": 4,
    "start_time": "2022-11-17T23:21:51.612Z"
   },
   {
    "duration": 13,
    "start_time": "2022-11-17T23:21:51.618Z"
   },
   {
    "duration": 16,
    "start_time": "2022-11-17T23:21:51.632Z"
   },
   {
    "duration": 11,
    "start_time": "2022-11-17T23:21:51.649Z"
   },
   {
    "duration": 13,
    "start_time": "2022-11-17T23:21:51.662Z"
   },
   {
    "duration": 52,
    "start_time": "2022-11-17T23:21:51.677Z"
   },
   {
    "duration": 9,
    "start_time": "2022-11-17T23:21:51.730Z"
   },
   {
    "duration": 8,
    "start_time": "2022-11-17T23:21:51.741Z"
   },
   {
    "duration": 14,
    "start_time": "2022-11-17T23:21:51.750Z"
   },
   {
    "duration": 45,
    "start_time": "2022-11-17T23:21:51.766Z"
   },
   {
    "duration": 19,
    "start_time": "2022-11-17T23:21:51.812Z"
   },
   {
    "duration": 3,
    "start_time": "2022-11-17T23:21:51.832Z"
   },
   {
    "duration": 27,
    "start_time": "2022-11-17T23:21:51.837Z"
   },
   {
    "duration": 10,
    "start_time": "2022-11-17T23:21:51.866Z"
   },
   {
    "duration": 18,
    "start_time": "2022-11-17T23:21:51.878Z"
   },
   {
    "duration": 25,
    "start_time": "2022-11-17T23:21:51.897Z"
   },
   {
    "duration": 29,
    "start_time": "2022-11-17T23:21:51.924Z"
   },
   {
    "duration": 3,
    "start_time": "2022-11-17T23:21:51.955Z"
   },
   {
    "duration": 3,
    "start_time": "2022-11-17T23:21:51.960Z"
   },
   {
    "duration": 9,
    "start_time": "2022-11-17T23:21:51.965Z"
   },
   {
    "duration": 6,
    "start_time": "2022-11-17T23:22:45.888Z"
   },
   {
    "duration": 6,
    "start_time": "2022-11-17T23:22:50.195Z"
   },
   {
    "duration": 8,
    "start_time": "2022-11-17T23:24:47.101Z"
   },
   {
    "duration": 7,
    "start_time": "2022-11-17T23:25:53.818Z"
   },
   {
    "duration": 7,
    "start_time": "2022-11-17T23:26:20.814Z"
   },
   {
    "duration": 6,
    "start_time": "2022-11-17T23:27:08.721Z"
   },
   {
    "duration": 7,
    "start_time": "2022-11-17T23:27:18.157Z"
   },
   {
    "duration": 1013,
    "start_time": "2022-11-17T23:39:04.520Z"
   },
   {
    "duration": 15,
    "start_time": "2022-11-17T23:39:30.852Z"
   },
   {
    "duration": 14,
    "start_time": "2022-11-17T23:39:50.445Z"
   },
   {
    "duration": 5,
    "start_time": "2022-11-17T23:40:06.810Z"
   },
   {
    "duration": 7,
    "start_time": "2022-11-17T23:40:11.853Z"
   },
   {
    "duration": 26,
    "start_time": "2022-11-17T23:41:31.634Z"
   },
   {
    "duration": 8,
    "start_time": "2022-11-17T23:41:42.149Z"
   },
   {
    "duration": 21,
    "start_time": "2022-11-17T23:41:49.322Z"
   },
   {
    "duration": 6,
    "start_time": "2022-11-17T23:42:10.462Z"
   },
   {
    "duration": 6,
    "start_time": "2022-11-17T23:42:15.298Z"
   },
   {
    "duration": 6,
    "start_time": "2022-11-17T23:42:23.693Z"
   },
   {
    "duration": 13,
    "start_time": "2022-11-17T23:44:54.943Z"
   },
   {
    "duration": 11,
    "start_time": "2022-11-17T23:47:19.700Z"
   },
   {
    "duration": 13,
    "start_time": "2022-11-17T23:47:25.976Z"
   },
   {
    "duration": 46,
    "start_time": "2022-11-17T23:51:34.350Z"
   },
   {
    "duration": 15,
    "start_time": "2022-11-17T23:52:03.428Z"
   },
   {
    "duration": 13,
    "start_time": "2022-11-17T23:52:22.756Z"
   },
   {
    "duration": 17,
    "start_time": "2022-11-17T23:52:29.687Z"
   },
   {
    "duration": 11,
    "start_time": "2022-11-17T23:53:03.928Z"
   },
   {
    "duration": 14,
    "start_time": "2022-11-17T23:53:38.282Z"
   },
   {
    "duration": 12,
    "start_time": "2022-11-17T23:53:47.441Z"
   },
   {
    "duration": 13,
    "start_time": "2022-11-17T23:53:57.854Z"
   },
   {
    "duration": 12,
    "start_time": "2022-11-17T23:54:01.269Z"
   },
   {
    "duration": 12,
    "start_time": "2022-11-17T23:56:28.828Z"
   },
   {
    "duration": 13,
    "start_time": "2022-11-17T23:57:20.398Z"
   },
   {
    "duration": 17,
    "start_time": "2022-11-17T23:57:32.591Z"
   },
   {
    "duration": 11,
    "start_time": "2022-11-17T23:57:52.274Z"
   },
   {
    "duration": 11,
    "start_time": "2022-11-18T00:04:18.535Z"
   },
   {
    "duration": 12,
    "start_time": "2022-11-18T00:04:24.203Z"
   },
   {
    "duration": 13,
    "start_time": "2022-11-18T00:04:55.610Z"
   },
   {
    "duration": 10,
    "start_time": "2022-11-18T00:06:58.470Z"
   },
   {
    "duration": 15,
    "start_time": "2022-11-18T00:07:06.743Z"
   },
   {
    "duration": 13,
    "start_time": "2022-11-18T00:07:21.428Z"
   },
   {
    "duration": 25,
    "start_time": "2022-11-18T00:09:44.671Z"
   },
   {
    "duration": 19,
    "start_time": "2022-11-18T00:09:52.245Z"
   },
   {
    "duration": 26,
    "start_time": "2022-11-18T00:10:02.152Z"
   },
   {
    "duration": 18,
    "start_time": "2022-11-18T00:10:15.912Z"
   },
   {
    "duration": 18,
    "start_time": "2022-11-18T00:10:58.080Z"
   },
   {
    "duration": 19,
    "start_time": "2022-11-18T00:11:07.266Z"
   },
   {
    "duration": 20,
    "start_time": "2022-11-18T00:11:13.364Z"
   },
   {
    "duration": 16,
    "start_time": "2022-11-18T00:11:36.648Z"
   },
   {
    "duration": 18,
    "start_time": "2022-11-18T00:11:50.748Z"
   },
   {
    "duration": 17,
    "start_time": "2022-11-18T00:12:13.684Z"
   },
   {
    "duration": 17,
    "start_time": "2022-11-18T00:12:19.205Z"
   },
   {
    "duration": 21,
    "start_time": "2022-11-18T00:14:43.712Z"
   },
   {
    "duration": 10,
    "start_time": "2022-11-18T00:14:54.127Z"
   },
   {
    "duration": 8,
    "start_time": "2022-11-18T00:15:02.917Z"
   },
   {
    "duration": 11,
    "start_time": "2022-11-18T00:15:05.908Z"
   },
   {
    "duration": 20,
    "start_time": "2022-11-18T00:17:28.702Z"
   },
   {
    "duration": 17,
    "start_time": "2022-11-18T00:17:37.643Z"
   },
   {
    "duration": 48,
    "start_time": "2022-11-18T00:18:46.506Z"
   },
   {
    "duration": 12,
    "start_time": "2022-11-18T00:18:58.346Z"
   },
   {
    "duration": 12,
    "start_time": "2022-11-18T00:19:10.187Z"
   },
   {
    "duration": 9,
    "start_time": "2022-11-18T00:19:17.974Z"
   },
   {
    "duration": 15,
    "start_time": "2022-11-18T00:19:38.939Z"
   },
   {
    "duration": 14,
    "start_time": "2022-11-18T00:19:44.892Z"
   },
   {
    "duration": 10,
    "start_time": "2022-11-18T00:19:52.459Z"
   },
   {
    "duration": 10,
    "start_time": "2022-11-18T00:20:05.079Z"
   },
   {
    "duration": 5,
    "start_time": "2022-11-18T00:20:11.638Z"
   },
   {
    "duration": 6,
    "start_time": "2022-11-18T00:20:29.979Z"
   },
   {
    "duration": 9,
    "start_time": "2022-11-18T00:20:47.316Z"
   },
   {
    "duration": 8,
    "start_time": "2022-11-18T00:21:05.380Z"
   },
   {
    "duration": 8,
    "start_time": "2022-11-18T00:22:14.029Z"
   },
   {
    "duration": 60,
    "start_time": "2022-11-18T00:22:41.554Z"
   },
   {
    "duration": 9,
    "start_time": "2022-11-18T00:22:48.933Z"
   },
   {
    "duration": 10,
    "start_time": "2022-11-18T00:22:53.145Z"
   },
   {
    "duration": 54,
    "start_time": "2022-11-18T00:22:59.883Z"
   },
   {
    "duration": 10,
    "start_time": "2022-11-18T00:23:12.120Z"
   },
   {
    "duration": 9,
    "start_time": "2022-11-18T00:23:16.719Z"
   },
   {
    "duration": 8,
    "start_time": "2022-11-18T00:23:21.362Z"
   },
   {
    "duration": 9,
    "start_time": "2022-11-18T00:23:27.985Z"
   },
   {
    "duration": 10,
    "start_time": "2022-11-18T00:23:30.749Z"
   },
   {
    "duration": 125,
    "start_time": "2022-11-18T00:24:48.069Z"
   },
   {
    "duration": 4,
    "start_time": "2022-11-18T00:24:54.843Z"
   },
   {
    "duration": 10,
    "start_time": "2022-11-18T00:25:17.765Z"
   },
   {
    "duration": 11,
    "start_time": "2022-11-18T00:25:20.575Z"
   },
   {
    "duration": 18,
    "start_time": "2022-11-18T00:26:26.962Z"
   },
   {
    "duration": 12,
    "start_time": "2022-11-18T00:28:18.050Z"
   },
   {
    "duration": 12,
    "start_time": "2022-11-18T00:30:37.494Z"
   },
   {
    "duration": 12,
    "start_time": "2022-11-18T00:30:53.845Z"
   },
   {
    "duration": 12,
    "start_time": "2022-11-18T00:31:01.950Z"
   },
   {
    "duration": 11,
    "start_time": "2022-11-18T00:31:11.872Z"
   },
   {
    "duration": 10,
    "start_time": "2022-11-18T00:31:18.433Z"
   },
   {
    "duration": 11,
    "start_time": "2022-11-18T00:31:49.042Z"
   },
   {
    "duration": 15,
    "start_time": "2022-11-18T00:32:04.672Z"
   },
   {
    "duration": 14,
    "start_time": "2022-11-18T00:32:11.804Z"
   },
   {
    "duration": 11,
    "start_time": "2022-11-18T00:32:38.876Z"
   },
   {
    "duration": 11,
    "start_time": "2022-11-18T00:33:28.123Z"
   },
   {
    "duration": 13,
    "start_time": "2022-11-18T00:33:35.852Z"
   },
   {
    "duration": 13,
    "start_time": "2022-11-18T00:33:51.326Z"
   },
   {
    "duration": 14,
    "start_time": "2022-11-18T00:33:58.167Z"
   },
   {
    "duration": 14,
    "start_time": "2022-11-18T00:34:45.143Z"
   },
   {
    "duration": 13,
    "start_time": "2022-11-18T00:34:46.500Z"
   },
   {
    "duration": 12,
    "start_time": "2022-11-18T00:36:00.364Z"
   },
   {
    "duration": 21,
    "start_time": "2022-11-18T00:36:21.302Z"
   },
   {
    "duration": 17,
    "start_time": "2022-11-18T00:36:41.046Z"
   },
   {
    "duration": 20,
    "start_time": "2022-11-18T00:36:53.263Z"
   },
   {
    "duration": 12,
    "start_time": "2022-11-18T00:37:47.149Z"
   },
   {
    "duration": 13,
    "start_time": "2022-11-18T00:37:56.532Z"
   },
   {
    "duration": 13,
    "start_time": "2022-11-18T00:40:11.183Z"
   },
   {
    "duration": 15,
    "start_time": "2022-11-18T00:40:30.153Z"
   },
   {
    "duration": 17,
    "start_time": "2022-11-18T00:40:33.517Z"
   },
   {
    "duration": 13,
    "start_time": "2022-11-18T00:41:15.503Z"
   },
   {
    "duration": 14,
    "start_time": "2022-11-18T00:41:21.450Z"
   },
   {
    "duration": 15,
    "start_time": "2022-11-18T00:42:05.314Z"
   },
   {
    "duration": 12,
    "start_time": "2022-11-18T00:42:51.923Z"
   },
   {
    "duration": 34,
    "start_time": "2022-11-18T00:44:17.216Z"
   },
   {
    "duration": 12,
    "start_time": "2022-11-18T00:45:03.562Z"
   },
   {
    "duration": 12,
    "start_time": "2022-11-18T00:46:00.217Z"
   },
   {
    "duration": 13,
    "start_time": "2022-11-18T00:46:03.427Z"
   },
   {
    "duration": 12,
    "start_time": "2022-11-18T00:46:19.017Z"
   },
   {
    "duration": 16,
    "start_time": "2022-11-18T00:47:18.601Z"
   },
   {
    "duration": 12,
    "start_time": "2022-11-18T00:47:24.153Z"
   },
   {
    "duration": 12,
    "start_time": "2022-11-18T00:47:27.004Z"
   },
   {
    "duration": 8,
    "start_time": "2022-11-18T01:04:42.273Z"
   },
   {
    "duration": 13,
    "start_time": "2022-11-18T01:10:37.171Z"
   },
   {
    "duration": 7,
    "start_time": "2022-11-18T01:10:44.023Z"
   },
   {
    "duration": 12,
    "start_time": "2022-11-18T01:12:01.691Z"
   },
   {
    "duration": 7,
    "start_time": "2022-11-18T01:12:14.365Z"
   },
   {
    "duration": 5,
    "start_time": "2022-11-18T01:12:47.154Z"
   },
   {
    "duration": 12,
    "start_time": "2022-11-18T01:12:56.535Z"
   },
   {
    "duration": 8,
    "start_time": "2022-11-18T01:13:11.046Z"
   },
   {
    "duration": 11,
    "start_time": "2022-11-18T01:13:42.979Z"
   },
   {
    "duration": 12,
    "start_time": "2022-11-18T01:14:06.547Z"
   },
   {
    "duration": 9,
    "start_time": "2022-11-18T01:14:57.197Z"
   },
   {
    "duration": 9,
    "start_time": "2022-11-18T01:15:17.456Z"
   },
   {
    "duration": 10,
    "start_time": "2022-11-18T01:15:30.285Z"
   },
   {
    "duration": 8,
    "start_time": "2022-11-18T01:15:43.400Z"
   },
   {
    "duration": 8,
    "start_time": "2022-11-18T01:17:39.767Z"
   },
   {
    "duration": 9,
    "start_time": "2022-11-18T01:18:08.801Z"
   },
   {
    "duration": 486,
    "start_time": "2022-11-18T01:18:15.750Z"
   },
   {
    "duration": 20,
    "start_time": "2022-11-18T01:18:16.238Z"
   },
   {
    "duration": 14,
    "start_time": "2022-11-18T01:18:16.260Z"
   },
   {
    "duration": 9,
    "start_time": "2022-11-18T01:18:16.276Z"
   },
   {
    "duration": 32,
    "start_time": "2022-11-18T01:18:16.286Z"
   },
   {
    "duration": 3,
    "start_time": "2022-11-18T01:18:16.320Z"
   },
   {
    "duration": 10,
    "start_time": "2022-11-18T01:18:16.324Z"
   },
   {
    "duration": 4,
    "start_time": "2022-11-18T01:18:16.335Z"
   },
   {
    "duration": 7,
    "start_time": "2022-11-18T01:18:16.340Z"
   },
   {
    "duration": 4,
    "start_time": "2022-11-18T01:18:16.375Z"
   },
   {
    "duration": 33,
    "start_time": "2022-11-18T01:18:16.381Z"
   },
   {
    "duration": 9,
    "start_time": "2022-11-18T01:18:16.415Z"
   },
   {
    "duration": 3,
    "start_time": "2022-11-18T01:18:16.426Z"
   },
   {
    "duration": 14,
    "start_time": "2022-11-18T01:18:16.430Z"
   },
   {
    "duration": 39,
    "start_time": "2022-11-18T01:18:16.445Z"
   },
   {
    "duration": 15,
    "start_time": "2022-11-18T01:18:16.485Z"
   },
   {
    "duration": 3,
    "start_time": "2022-11-18T01:18:16.501Z"
   },
   {
    "duration": 14,
    "start_time": "2022-11-18T01:18:16.505Z"
   },
   {
    "duration": 5,
    "start_time": "2022-11-18T01:18:16.520Z"
   },
   {
    "duration": 3,
    "start_time": "2022-11-18T01:18:16.526Z"
   },
   {
    "duration": 10,
    "start_time": "2022-11-18T01:18:16.530Z"
   },
   {
    "duration": 40,
    "start_time": "2022-11-18T01:18:16.542Z"
   },
   {
    "duration": 229,
    "start_time": "2022-11-18T01:18:16.584Z"
   },
   {
    "duration": 12,
    "start_time": "2022-11-18T01:18:16.814Z"
   },
   {
    "duration": 8,
    "start_time": "2022-11-18T01:18:16.827Z"
   },
   {
    "duration": 5,
    "start_time": "2022-11-18T01:18:16.836Z"
   },
   {
    "duration": 3,
    "start_time": "2022-11-18T01:18:16.842Z"
   },
   {
    "duration": 8,
    "start_time": "2022-11-18T01:19:00.788Z"
   },
   {
    "duration": 10,
    "start_time": "2022-11-18T01:19:41.542Z"
   },
   {
    "duration": 10,
    "start_time": "2022-11-18T01:19:51.002Z"
   },
   {
    "duration": 68,
    "start_time": "2022-11-18T01:20:15.386Z"
   },
   {
    "duration": 8,
    "start_time": "2022-11-18T01:20:18.063Z"
   },
   {
    "duration": 8,
    "start_time": "2022-11-18T01:20:25.264Z"
   },
   {
    "duration": 9,
    "start_time": "2022-11-18T01:21:05.745Z"
   },
   {
    "duration": 14,
    "start_time": "2022-11-18T01:22:07.871Z"
   },
   {
    "duration": 10,
    "start_time": "2022-11-18T01:22:22.204Z"
   },
   {
    "duration": 9,
    "start_time": "2022-11-18T01:22:50.124Z"
   },
   {
    "duration": 10,
    "start_time": "2022-11-18T01:22:59.967Z"
   },
   {
    "duration": 17,
    "start_time": "2022-11-18T01:25:02.839Z"
   },
   {
    "duration": 11,
    "start_time": "2022-11-18T01:25:21.839Z"
   },
   {
    "duration": 12,
    "start_time": "2022-11-18T01:26:27.698Z"
   },
   {
    "duration": 17,
    "start_time": "2022-11-18T01:27:26.116Z"
   },
   {
    "duration": 10,
    "start_time": "2022-11-18T01:28:26.420Z"
   },
   {
    "duration": 14,
    "start_time": "2022-11-18T01:28:33.347Z"
   },
   {
    "duration": 11,
    "start_time": "2022-11-18T01:29:09.998Z"
   },
   {
    "duration": 11,
    "start_time": "2022-11-18T01:29:21.249Z"
   },
   {
    "duration": 11,
    "start_time": "2022-11-18T01:30:06.634Z"
   },
   {
    "duration": 12,
    "start_time": "2022-11-18T01:30:11.520Z"
   },
   {
    "duration": 10,
    "start_time": "2022-11-18T01:30:37.944Z"
   },
   {
    "duration": 10,
    "start_time": "2022-11-18T01:30:45.558Z"
   },
   {
    "duration": 10,
    "start_time": "2022-11-18T01:31:00.479Z"
   },
   {
    "duration": 50,
    "start_time": "2022-11-18T01:31:15.148Z"
   },
   {
    "duration": 12,
    "start_time": "2022-11-18T01:31:20.309Z"
   },
   {
    "duration": 10,
    "start_time": "2022-11-18T01:32:06.660Z"
   },
   {
    "duration": 14,
    "start_time": "2022-11-18T01:32:46.186Z"
   },
   {
    "duration": 14,
    "start_time": "2022-11-18T01:33:00.323Z"
   },
   {
    "duration": 13,
    "start_time": "2022-11-18T01:33:32.138Z"
   },
   {
    "duration": 48,
    "start_time": "2022-11-18T01:34:17.609Z"
   },
   {
    "duration": 14,
    "start_time": "2022-11-18T01:34:26.501Z"
   },
   {
    "duration": 13,
    "start_time": "2022-11-18T01:34:38.231Z"
   },
   {
    "duration": 10,
    "start_time": "2022-11-18T01:40:14.322Z"
   },
   {
    "duration": 10,
    "start_time": "2022-11-18T01:40:48.461Z"
   },
   {
    "duration": 9,
    "start_time": "2022-11-18T01:40:56.194Z"
   },
   {
    "duration": 10,
    "start_time": "2022-11-18T01:41:10.109Z"
   },
   {
    "duration": 10,
    "start_time": "2022-11-18T01:41:40.741Z"
   },
   {
    "duration": 10,
    "start_time": "2022-11-18T01:41:46.658Z"
   },
   {
    "duration": 10,
    "start_time": "2022-11-18T01:41:52.990Z"
   },
   {
    "duration": 46,
    "start_time": "2022-11-18T01:42:09.941Z"
   },
   {
    "duration": 46,
    "start_time": "2022-11-18T01:42:18.463Z"
   },
   {
    "duration": 5,
    "start_time": "2022-11-18T01:42:24.782Z"
   },
   {
    "duration": 6,
    "start_time": "2022-11-18T01:42:32.600Z"
   },
   {
    "duration": 6,
    "start_time": "2022-11-18T01:42:47.111Z"
   },
   {
    "duration": 5,
    "start_time": "2022-11-18T01:43:51.259Z"
   },
   {
    "duration": 5,
    "start_time": "2022-11-18T01:44:09.679Z"
   },
   {
    "duration": 6,
    "start_time": "2022-11-18T01:44:16.716Z"
   },
   {
    "duration": 78,
    "start_time": "2022-11-18T01:45:02.410Z"
   },
   {
    "duration": 51,
    "start_time": "2022-11-18T01:45:06.783Z"
   },
   {
    "duration": 9,
    "start_time": "2022-11-18T01:45:12.756Z"
   },
   {
    "duration": 9,
    "start_time": "2022-11-18T01:46:15.938Z"
   },
   {
    "duration": 25,
    "start_time": "2022-11-18T01:46:23.312Z"
   },
   {
    "duration": 11,
    "start_time": "2022-11-18T01:46:53.881Z"
   },
   {
    "duration": 226,
    "start_time": "2022-11-18T01:47:08.280Z"
   },
   {
    "duration": 184,
    "start_time": "2022-11-18T01:47:13.621Z"
   },
   {
    "duration": 8,
    "start_time": "2022-11-18T01:47:29.031Z"
   },
   {
    "duration": 186,
    "start_time": "2022-11-18T01:47:29.673Z"
   },
   {
    "duration": 180,
    "start_time": "2022-11-18T01:47:39.670Z"
   },
   {
    "duration": 9,
    "start_time": "2022-11-18T01:47:54.368Z"
   },
   {
    "duration": 7,
    "start_time": "2022-11-18T01:47:59.857Z"
   },
   {
    "duration": 15,
    "start_time": "2022-11-18T01:49:02.773Z"
   },
   {
    "duration": 44,
    "start_time": "2022-11-18T01:51:50.007Z"
   },
   {
    "duration": 7,
    "start_time": "2022-11-18T01:52:09.900Z"
   },
   {
    "duration": 55,
    "start_time": "2022-11-18T01:53:11.458Z"
   },
   {
    "duration": 43,
    "start_time": "2022-11-18T01:53:16.661Z"
   },
   {
    "duration": 51,
    "start_time": "2022-11-18T01:53:26.927Z"
   },
   {
    "duration": 51,
    "start_time": "2022-11-18T01:53:55.873Z"
   },
   {
    "duration": 43,
    "start_time": "2022-11-18T01:54:00.773Z"
   },
   {
    "duration": 44,
    "start_time": "2022-11-18T01:54:05.974Z"
   },
   {
    "duration": 48,
    "start_time": "2022-11-18T01:54:14.183Z"
   },
   {
    "duration": 6,
    "start_time": "2022-11-18T01:54:19.779Z"
   },
   {
    "duration": 10,
    "start_time": "2022-11-18T01:55:49.149Z"
   },
   {
    "duration": 46,
    "start_time": "2022-11-18T01:56:20.335Z"
   },
   {
    "duration": 7,
    "start_time": "2022-11-18T01:56:27.766Z"
   },
   {
    "duration": 8,
    "start_time": "2022-11-18T01:56:45.425Z"
   },
   {
    "duration": 8,
    "start_time": "2022-11-18T01:57:09.253Z"
   },
   {
    "duration": 7,
    "start_time": "2022-11-18T01:57:33.002Z"
   },
   {
    "duration": 7,
    "start_time": "2022-11-18T01:58:16.758Z"
   },
   {
    "duration": 9,
    "start_time": "2022-11-18T01:58:44.830Z"
   },
   {
    "duration": 19,
    "start_time": "2022-11-18T01:59:13.441Z"
   },
   {
    "duration": 8,
    "start_time": "2022-11-18T01:59:16.291Z"
   },
   {
    "duration": 7,
    "start_time": "2022-11-18T01:59:19.902Z"
   },
   {
    "duration": 7,
    "start_time": "2022-11-18T01:59:28.229Z"
   },
   {
    "duration": 14,
    "start_time": "2022-11-18T01:59:28.845Z"
   },
   {
    "duration": 6,
    "start_time": "2022-11-18T01:59:46.971Z"
   },
   {
    "duration": 6,
    "start_time": "2022-11-18T01:59:58.617Z"
   },
   {
    "duration": 7,
    "start_time": "2022-11-18T02:00:45.630Z"
   },
   {
    "duration": 8,
    "start_time": "2022-11-18T02:00:52.057Z"
   },
   {
    "duration": 7,
    "start_time": "2022-11-18T02:03:10.595Z"
   },
   {
    "duration": 14,
    "start_time": "2022-11-18T02:03:11.012Z"
   },
   {
    "duration": 8,
    "start_time": "2022-11-18T02:03:23.722Z"
   },
   {
    "duration": 14,
    "start_time": "2022-11-18T02:03:24.051Z"
   },
   {
    "duration": 11,
    "start_time": "2022-11-18T02:05:26.761Z"
   },
   {
    "duration": 6,
    "start_time": "2022-11-18T02:06:28.223Z"
   },
   {
    "duration": 16,
    "start_time": "2022-11-18T02:06:28.884Z"
   },
   {
    "duration": 428,
    "start_time": "2022-11-18T02:06:38.709Z"
   },
   {
    "duration": 19,
    "start_time": "2022-11-18T02:06:39.139Z"
   },
   {
    "duration": 13,
    "start_time": "2022-11-18T02:06:39.159Z"
   },
   {
    "duration": 8,
    "start_time": "2022-11-18T02:06:39.174Z"
   },
   {
    "duration": 30,
    "start_time": "2022-11-18T02:06:39.184Z"
   },
   {
    "duration": 3,
    "start_time": "2022-11-18T02:06:39.216Z"
   },
   {
    "duration": 10,
    "start_time": "2022-11-18T02:06:39.220Z"
   },
   {
    "duration": 4,
    "start_time": "2022-11-18T02:06:39.231Z"
   },
   {
    "duration": 8,
    "start_time": "2022-11-18T02:06:39.236Z"
   },
   {
    "duration": 3,
    "start_time": "2022-11-18T02:06:39.245Z"
   },
   {
    "duration": 53,
    "start_time": "2022-11-18T02:06:39.250Z"
   },
   {
    "duration": 8,
    "start_time": "2022-11-18T02:06:39.305Z"
   },
   {
    "duration": 7,
    "start_time": "2022-11-18T02:06:39.314Z"
   },
   {
    "duration": 19,
    "start_time": "2022-11-18T02:06:39.323Z"
   },
   {
    "duration": 28,
    "start_time": "2022-11-18T02:06:39.343Z"
   },
   {
    "duration": 14,
    "start_time": "2022-11-18T02:06:39.373Z"
   },
   {
    "duration": 3,
    "start_time": "2022-11-18T02:06:39.388Z"
   },
   {
    "duration": 11,
    "start_time": "2022-11-18T02:06:39.392Z"
   },
   {
    "duration": 7,
    "start_time": "2022-11-18T02:06:39.404Z"
   },
   {
    "duration": 3,
    "start_time": "2022-11-18T02:06:39.412Z"
   },
   {
    "duration": 10,
    "start_time": "2022-11-18T02:06:39.416Z"
   },
   {
    "duration": 16,
    "start_time": "2022-11-18T02:06:39.428Z"
   },
   {
    "duration": 280,
    "start_time": "2022-11-18T02:06:39.445Z"
   },
   {
    "duration": 12,
    "start_time": "2022-11-18T02:06:39.727Z"
   },
   {
    "duration": 7,
    "start_time": "2022-11-18T02:06:39.741Z"
   },
   {
    "duration": 6,
    "start_time": "2022-11-18T02:06:39.749Z"
   },
   {
    "duration": 36,
    "start_time": "2022-11-18T02:06:39.756Z"
   },
   {
    "duration": 8,
    "start_time": "2022-11-18T02:06:39.793Z"
   },
   {
    "duration": 7,
    "start_time": "2022-11-18T02:06:39.802Z"
   },
   {
    "duration": 7,
    "start_time": "2022-11-18T02:06:39.811Z"
   },
   {
    "duration": 10,
    "start_time": "2022-11-18T02:07:05.893Z"
   },
   {
    "duration": 10,
    "start_time": "2022-11-18T02:07:43.074Z"
   },
   {
    "duration": 7,
    "start_time": "2022-11-18T02:07:49.582Z"
   },
   {
    "duration": 15,
    "start_time": "2022-11-18T02:07:50.739Z"
   },
   {
    "duration": 451,
    "start_time": "2022-11-18T02:08:09.042Z"
   },
   {
    "duration": 22,
    "start_time": "2022-11-18T02:08:09.495Z"
   },
   {
    "duration": 15,
    "start_time": "2022-11-18T02:08:09.518Z"
   },
   {
    "duration": 10,
    "start_time": "2022-11-18T02:08:09.535Z"
   },
   {
    "duration": 57,
    "start_time": "2022-11-18T02:08:09.546Z"
   },
   {
    "duration": 3,
    "start_time": "2022-11-18T02:08:09.605Z"
   },
   {
    "duration": 14,
    "start_time": "2022-11-18T02:08:09.609Z"
   },
   {
    "duration": 10,
    "start_time": "2022-11-18T02:08:09.624Z"
   },
   {
    "duration": 8,
    "start_time": "2022-11-18T02:08:09.635Z"
   },
   {
    "duration": 4,
    "start_time": "2022-11-18T02:08:09.646Z"
   },
   {
    "duration": 46,
    "start_time": "2022-11-18T02:08:09.652Z"
   },
   {
    "duration": 9,
    "start_time": "2022-11-18T02:08:09.700Z"
   },
   {
    "duration": 4,
    "start_time": "2022-11-18T02:08:09.710Z"
   },
   {
    "duration": 13,
    "start_time": "2022-11-18T02:08:09.715Z"
   },
   {
    "duration": 19,
    "start_time": "2022-11-18T02:08:09.729Z"
   },
   {
    "duration": 36,
    "start_time": "2022-11-18T02:08:09.749Z"
   },
   {
    "duration": 3,
    "start_time": "2022-11-18T02:08:09.787Z"
   },
   {
    "duration": 15,
    "start_time": "2022-11-18T02:08:09.791Z"
   },
   {
    "duration": 5,
    "start_time": "2022-11-18T02:08:09.807Z"
   },
   {
    "duration": 4,
    "start_time": "2022-11-18T02:08:09.813Z"
   },
   {
    "duration": 10,
    "start_time": "2022-11-18T02:08:09.818Z"
   },
   {
    "duration": 15,
    "start_time": "2022-11-18T02:08:09.829Z"
   },
   {
    "duration": 278,
    "start_time": "2022-11-18T02:08:09.845Z"
   },
   {
    "duration": 13,
    "start_time": "2022-11-18T02:08:10.125Z"
   },
   {
    "duration": 10,
    "start_time": "2022-11-18T02:08:10.139Z"
   },
   {
    "duration": 7,
    "start_time": "2022-11-18T02:08:10.151Z"
   },
   {
    "duration": 21,
    "start_time": "2022-11-18T02:08:10.177Z"
   },
   {
    "duration": 8,
    "start_time": "2022-11-18T02:08:10.201Z"
   },
   {
    "duration": 2,
    "start_time": "2022-11-18T02:08:10.211Z"
   },
   {
    "duration": 504,
    "start_time": "2022-11-18T02:24:10.670Z"
   },
   {
    "duration": 97,
    "start_time": "2022-11-18T02:24:57.775Z"
   },
   {
    "duration": 368,
    "start_time": "2022-11-18T02:25:11.375Z"
   },
   {
    "duration": 46,
    "start_time": "2022-11-18T13:20:52.580Z"
   },
   {
    "duration": 689,
    "start_time": "2022-11-18T13:21:02.380Z"
   },
   {
    "duration": 22,
    "start_time": "2022-11-18T13:21:03.071Z"
   },
   {
    "duration": 25,
    "start_time": "2022-11-18T13:21:03.094Z"
   },
   {
    "duration": 10,
    "start_time": "2022-11-18T13:21:03.121Z"
   },
   {
    "duration": 45,
    "start_time": "2022-11-18T13:21:03.132Z"
   },
   {
    "duration": 3,
    "start_time": "2022-11-18T13:21:03.179Z"
   },
   {
    "duration": 23,
    "start_time": "2022-11-18T13:21:03.184Z"
   },
   {
    "duration": 6,
    "start_time": "2022-11-18T13:21:03.209Z"
   },
   {
    "duration": 13,
    "start_time": "2022-11-18T13:21:03.216Z"
   },
   {
    "duration": 4,
    "start_time": "2022-11-18T13:21:03.231Z"
   },
   {
    "duration": 49,
    "start_time": "2022-11-18T13:21:03.237Z"
   },
   {
    "duration": 9,
    "start_time": "2022-11-18T13:21:03.288Z"
   },
   {
    "duration": 6,
    "start_time": "2022-11-18T13:21:03.298Z"
   },
   {
    "duration": 26,
    "start_time": "2022-11-18T13:21:03.305Z"
   },
   {
    "duration": 20,
    "start_time": "2022-11-18T13:21:03.333Z"
   },
   {
    "duration": 22,
    "start_time": "2022-11-18T13:21:03.354Z"
   },
   {
    "duration": 5,
    "start_time": "2022-11-18T13:21:03.378Z"
   },
   {
    "duration": 18,
    "start_time": "2022-11-18T13:21:03.385Z"
   },
   {
    "duration": 15,
    "start_time": "2022-11-18T13:21:03.405Z"
   },
   {
    "duration": 14,
    "start_time": "2022-11-18T13:21:03.422Z"
   },
   {
    "duration": 14,
    "start_time": "2022-11-18T13:21:03.437Z"
   },
   {
    "duration": 17,
    "start_time": "2022-11-18T13:21:03.453Z"
   },
   {
    "duration": 396,
    "start_time": "2022-11-18T13:21:03.472Z"
   },
   {
    "duration": 25,
    "start_time": "2022-11-18T13:21:03.870Z"
   },
   {
    "duration": 22,
    "start_time": "2022-11-18T13:21:03.897Z"
   },
   {
    "duration": 15,
    "start_time": "2022-11-18T13:21:03.920Z"
   },
   {
    "duration": 25,
    "start_time": "2022-11-18T13:21:03.936Z"
   },
   {
    "duration": 6,
    "start_time": "2022-11-18T13:21:03.964Z"
   },
   {
    "duration": 10,
    "start_time": "2022-11-18T13:21:03.972Z"
   },
   {
    "duration": 7,
    "start_time": "2022-11-18T13:21:14.324Z"
   },
   {
    "duration": 6,
    "start_time": "2022-11-18T13:21:23.854Z"
   },
   {
    "duration": 613,
    "start_time": "2022-11-18T17:22:06.034Z"
   },
   {
    "duration": 34,
    "start_time": "2022-11-18T17:22:06.650Z"
   },
   {
    "duration": 27,
    "start_time": "2022-11-18T17:22:06.686Z"
   },
   {
    "duration": 36,
    "start_time": "2022-11-18T17:22:06.716Z"
   },
   {
    "duration": 36,
    "start_time": "2022-11-18T17:22:06.754Z"
   },
   {
    "duration": 4,
    "start_time": "2022-11-18T17:22:06.793Z"
   },
   {
    "duration": 24,
    "start_time": "2022-11-18T17:22:06.799Z"
   },
   {
    "duration": 25,
    "start_time": "2022-11-18T17:22:06.826Z"
   },
   {
    "duration": 17,
    "start_time": "2022-11-18T17:22:06.854Z"
   },
   {
    "duration": 6,
    "start_time": "2022-11-18T17:22:06.874Z"
   },
   {
    "duration": 72,
    "start_time": "2022-11-18T17:22:06.882Z"
   },
   {
    "duration": 17,
    "start_time": "2022-11-18T17:22:06.957Z"
   },
   {
    "duration": 5,
    "start_time": "2022-11-18T17:22:06.976Z"
   },
   {
    "duration": 23,
    "start_time": "2022-11-18T17:22:06.983Z"
   },
   {
    "duration": 46,
    "start_time": "2022-11-18T17:22:07.009Z"
   },
   {
    "duration": 28,
    "start_time": "2022-11-18T17:22:07.057Z"
   },
   {
    "duration": 3,
    "start_time": "2022-11-18T17:22:07.088Z"
   },
   {
    "duration": 14,
    "start_time": "2022-11-18T17:22:07.093Z"
   },
   {
    "duration": 9,
    "start_time": "2022-11-18T17:22:07.108Z"
   },
   {
    "duration": 35,
    "start_time": "2022-11-18T17:22:07.119Z"
   },
   {
    "duration": 21,
    "start_time": "2022-11-18T17:22:07.156Z"
   },
   {
    "duration": 20,
    "start_time": "2022-11-18T17:22:07.179Z"
   },
   {
    "duration": 508,
    "start_time": "2022-11-18T17:22:07.201Z"
   },
   {
    "duration": 25,
    "start_time": "2022-11-18T17:22:07.712Z"
   },
   {
    "duration": 17,
    "start_time": "2022-11-18T17:22:07.753Z"
   },
   {
    "duration": 25,
    "start_time": "2022-11-18T17:22:07.772Z"
   },
   {
    "duration": 23,
    "start_time": "2022-11-18T17:22:07.799Z"
   },
   {
    "duration": 29,
    "start_time": "2022-11-18T17:22:07.825Z"
   },
   {
    "duration": 3,
    "start_time": "2022-11-18T17:22:07.856Z"
   },
   {
    "duration": 88,
    "start_time": "2022-11-18T17:23:25.163Z"
   },
   {
    "duration": 16,
    "start_time": "2022-11-18T17:23:35.542Z"
   },
   {
    "duration": 14,
    "start_time": "2022-11-18T17:23:41.513Z"
   },
   {
    "duration": 13,
    "start_time": "2022-11-18T17:24:04.255Z"
   },
   {
    "duration": 12,
    "start_time": "2022-11-18T17:24:15.424Z"
   },
   {
    "duration": 1329,
    "start_time": "2022-11-18T17:25:16.126Z"
   },
   {
    "duration": 1165,
    "start_time": "2022-11-18T17:25:36.687Z"
   },
   {
    "duration": 1239,
    "start_time": "2022-11-18T17:25:56.657Z"
   },
   {
    "duration": 83,
    "start_time": "2022-11-18T17:26:19.729Z"
   },
   {
    "duration": 22,
    "start_time": "2022-11-18T17:27:51.189Z"
   },
   {
    "duration": 21,
    "start_time": "2022-11-18T17:27:55.948Z"
   },
   {
    "duration": 15,
    "start_time": "2022-11-18T17:28:56.316Z"
   },
   {
    "duration": 13,
    "start_time": "2022-11-18T17:29:06.768Z"
   },
   {
    "duration": 88,
    "start_time": "2022-11-18T17:31:19.489Z"
   },
   {
    "duration": 75,
    "start_time": "2022-11-18T17:31:23.296Z"
   },
   {
    "duration": 14,
    "start_time": "2022-11-18T17:31:30.836Z"
   },
   {
    "duration": 20,
    "start_time": "2022-11-18T17:31:49.659Z"
   },
   {
    "duration": 13,
    "start_time": "2022-11-18T17:32:20.415Z"
   },
   {
    "duration": 14,
    "start_time": "2022-11-18T17:32:33.358Z"
   },
   {
    "duration": 13,
    "start_time": "2022-11-18T17:32:52.068Z"
   },
   {
    "duration": 13,
    "start_time": "2022-11-18T17:33:05.998Z"
   },
   {
    "duration": 10,
    "start_time": "2022-11-18T17:33:35.285Z"
   },
   {
    "duration": 21,
    "start_time": "2022-11-18T17:33:44.816Z"
   },
   {
    "duration": 14,
    "start_time": "2022-11-18T17:34:32.909Z"
   },
   {
    "duration": 13,
    "start_time": "2022-11-18T17:34:37.102Z"
   },
   {
    "duration": 13,
    "start_time": "2022-11-18T17:34:42.524Z"
   },
   {
    "duration": 746,
    "start_time": "2022-11-18T17:38:59.904Z"
   },
   {
    "duration": 159,
    "start_time": "2022-11-18T17:39:29.896Z"
   },
   {
    "duration": 46,
    "start_time": "2022-11-18T17:40:02.982Z"
   },
   {
    "duration": 19,
    "start_time": "2022-11-18T17:40:12.451Z"
   },
   {
    "duration": 9,
    "start_time": "2022-11-18T17:40:30.187Z"
   },
   {
    "duration": 4,
    "start_time": "2022-11-18T17:41:25.426Z"
   },
   {
    "duration": 10,
    "start_time": "2022-11-18T17:41:58.615Z"
   },
   {
    "duration": 139,
    "start_time": "2022-11-18T17:42:05.068Z"
   },
   {
    "duration": 136,
    "start_time": "2022-11-18T17:42:40.809Z"
   },
   {
    "duration": 137,
    "start_time": "2022-11-18T17:45:10.275Z"
   },
   {
    "duration": 133,
    "start_time": "2022-11-18T17:45:17.813Z"
   },
   {
    "duration": 11,
    "start_time": "2022-11-18T17:46:16.756Z"
   },
   {
    "duration": 17,
    "start_time": "2022-11-18T17:46:19.640Z"
   },
   {
    "duration": 10,
    "start_time": "2022-11-18T17:46:23.276Z"
   },
   {
    "duration": 14,
    "start_time": "2022-11-18T17:46:44.872Z"
   },
   {
    "duration": 16,
    "start_time": "2022-11-18T17:46:53.920Z"
   },
   {
    "duration": 13,
    "start_time": "2022-11-18T17:47:00.498Z"
   },
   {
    "duration": 29,
    "start_time": "2022-11-18T17:48:14.042Z"
   },
   {
    "duration": 17,
    "start_time": "2022-11-18T17:48:20.945Z"
   },
   {
    "duration": 24,
    "start_time": "2022-11-18T17:48:28.990Z"
   },
   {
    "duration": 22,
    "start_time": "2022-11-18T17:48:44.019Z"
   },
   {
    "duration": 16,
    "start_time": "2022-11-18T17:48:51.423Z"
   },
   {
    "duration": 128,
    "start_time": "2022-11-18T17:48:58.067Z"
   },
   {
    "duration": 91,
    "start_time": "2022-11-18T17:54:26.615Z"
   },
   {
    "duration": 72,
    "start_time": "2022-11-18T17:55:13.690Z"
   },
   {
    "duration": 127,
    "start_time": "2022-11-18T17:55:17.717Z"
   },
   {
    "duration": 135,
    "start_time": "2022-11-18T17:55:53.460Z"
   },
   {
    "duration": 127,
    "start_time": "2022-11-18T17:56:04.685Z"
   },
   {
    "duration": 129,
    "start_time": "2022-11-18T17:56:10.816Z"
   },
   {
    "duration": 140,
    "start_time": "2022-11-18T17:56:22.747Z"
   },
   {
    "duration": 135,
    "start_time": "2022-11-18T17:58:46.667Z"
   },
   {
    "duration": 117,
    "start_time": "2022-11-18T17:59:03.809Z"
   },
   {
    "duration": 138,
    "start_time": "2022-11-18T17:59:24.745Z"
   },
   {
    "duration": 145,
    "start_time": "2022-11-18T17:59:54.144Z"
   },
   {
    "duration": 125,
    "start_time": "2022-11-18T18:01:00.869Z"
   },
   {
    "duration": 128,
    "start_time": "2022-11-18T18:01:16.068Z"
   },
   {
    "duration": 10,
    "start_time": "2022-11-18T18:06:59.536Z"
   },
   {
    "duration": 22,
    "start_time": "2022-11-18T18:07:07.838Z"
   },
   {
    "duration": 1465,
    "start_time": "2022-11-18T18:07:20.708Z"
   },
   {
    "duration": 18,
    "start_time": "2022-11-18T18:07:33.918Z"
   },
   {
    "duration": 25,
    "start_time": "2022-11-18T18:08:15.913Z"
   },
   {
    "duration": 22,
    "start_time": "2022-11-18T18:08:26.028Z"
   },
   {
    "duration": 69,
    "start_time": "2022-11-18T18:08:53.991Z"
   },
   {
    "duration": 69,
    "start_time": "2022-11-18T18:09:03.672Z"
   },
   {
    "duration": 71,
    "start_time": "2022-11-18T18:09:08.201Z"
   },
   {
    "duration": 13,
    "start_time": "2022-11-18T18:09:15.011Z"
   },
   {
    "duration": 318,
    "start_time": "2022-11-18T18:09:29.713Z"
   },
   {
    "duration": 22,
    "start_time": "2022-11-18T18:09:46.268Z"
   },
   {
    "duration": 117,
    "start_time": "2022-11-18T18:09:55.868Z"
   },
   {
    "duration": 115,
    "start_time": "2022-11-18T18:10:10.680Z"
   },
   {
    "duration": 154,
    "start_time": "2022-11-18T18:10:32.603Z"
   },
   {
    "duration": 11,
    "start_time": "2022-11-18T18:10:41.837Z"
   },
   {
    "duration": 12,
    "start_time": "2022-11-18T18:11:00.090Z"
   },
   {
    "duration": 123,
    "start_time": "2022-11-18T18:11:04.353Z"
   },
   {
    "duration": 119,
    "start_time": "2022-11-18T18:11:15.269Z"
   },
   {
    "duration": 108,
    "start_time": "2022-11-18T18:11:45.528Z"
   },
   {
    "duration": 140,
    "start_time": "2022-11-18T18:18:16.741Z"
   },
   {
    "duration": 118,
    "start_time": "2022-11-18T18:18:23.519Z"
   },
   {
    "duration": 116,
    "start_time": "2022-11-18T18:18:37.198Z"
   },
   {
    "duration": 39,
    "start_time": "2022-11-18T18:18:42.285Z"
   },
   {
    "duration": 55,
    "start_time": "2022-11-18T18:19:07.857Z"
   },
   {
    "duration": 41,
    "start_time": "2022-11-18T18:19:25.613Z"
   },
   {
    "duration": 554,
    "start_time": "2022-11-18T18:19:36.742Z"
   },
   {
    "duration": 26,
    "start_time": "2022-11-18T18:19:37.298Z"
   },
   {
    "duration": 32,
    "start_time": "2022-11-18T18:19:37.326Z"
   },
   {
    "duration": 16,
    "start_time": "2022-11-18T18:19:37.361Z"
   },
   {
    "duration": 75,
    "start_time": "2022-11-18T18:19:37.380Z"
   },
   {
    "duration": 4,
    "start_time": "2022-11-18T18:19:37.458Z"
   },
   {
    "duration": 60,
    "start_time": "2022-11-18T18:19:37.477Z"
   },
   {
    "duration": 28,
    "start_time": "2022-11-18T18:19:37.539Z"
   },
   {
    "duration": 38,
    "start_time": "2022-11-18T18:19:37.569Z"
   },
   {
    "duration": 20,
    "start_time": "2022-11-18T18:19:37.608Z"
   },
   {
    "duration": 77,
    "start_time": "2022-11-18T18:19:37.632Z"
   },
   {
    "duration": 16,
    "start_time": "2022-11-18T18:19:37.711Z"
   },
   {
    "duration": 12,
    "start_time": "2022-11-18T18:19:37.729Z"
   },
   {
    "duration": 26,
    "start_time": "2022-11-18T18:19:37.744Z"
   },
   {
    "duration": 45,
    "start_time": "2022-11-18T18:19:37.772Z"
   },
   {
    "duration": 26,
    "start_time": "2022-11-18T18:19:37.819Z"
   },
   {
    "duration": 45,
    "start_time": "2022-11-18T18:19:37.855Z"
   },
   {
    "duration": 41,
    "start_time": "2022-11-18T18:19:37.902Z"
   },
   {
    "duration": 23,
    "start_time": "2022-11-18T18:19:37.944Z"
   },
   {
    "duration": 20,
    "start_time": "2022-11-18T18:19:37.969Z"
   },
   {
    "duration": 33,
    "start_time": "2022-11-18T18:19:37.992Z"
   },
   {
    "duration": 31,
    "start_time": "2022-11-18T18:19:38.027Z"
   },
   {
    "duration": 359,
    "start_time": "2022-11-18T18:19:38.060Z"
   },
   {
    "duration": 31,
    "start_time": "2022-11-18T18:19:38.421Z"
   },
   {
    "duration": 25,
    "start_time": "2022-11-18T18:19:38.454Z"
   },
   {
    "duration": 9,
    "start_time": "2022-11-18T18:19:38.481Z"
   },
   {
    "duration": 34,
    "start_time": "2022-11-18T18:19:38.492Z"
   },
   {
    "duration": 34,
    "start_time": "2022-11-18T18:19:38.528Z"
   },
   {
    "duration": 23,
    "start_time": "2022-11-18T18:19:38.564Z"
   },
   {
    "duration": 18,
    "start_time": "2022-11-18T18:19:38.589Z"
   },
   {
    "duration": 13,
    "start_time": "2022-11-18T18:19:49.290Z"
   },
   {
    "duration": 486,
    "start_time": "2022-11-18T18:20:20.771Z"
   },
   {
    "duration": 24,
    "start_time": "2022-11-18T18:20:21.259Z"
   },
   {
    "duration": 18,
    "start_time": "2022-11-18T18:20:21.285Z"
   },
   {
    "duration": 11,
    "start_time": "2022-11-18T18:20:21.305Z"
   },
   {
    "duration": 64,
    "start_time": "2022-11-18T18:20:21.319Z"
   },
   {
    "duration": 3,
    "start_time": "2022-11-18T18:20:21.385Z"
   },
   {
    "duration": 11,
    "start_time": "2022-11-18T18:20:21.390Z"
   },
   {
    "duration": 6,
    "start_time": "2022-11-18T18:20:21.402Z"
   },
   {
    "duration": 12,
    "start_time": "2022-11-18T18:20:21.409Z"
   },
   {
    "duration": 31,
    "start_time": "2022-11-18T18:20:21.422Z"
   },
   {
    "duration": 36,
    "start_time": "2022-11-18T18:20:21.454Z"
   },
   {
    "duration": 11,
    "start_time": "2022-11-18T18:20:21.492Z"
   },
   {
    "duration": 4,
    "start_time": "2022-11-18T18:20:21.505Z"
   },
   {
    "duration": 41,
    "start_time": "2022-11-18T18:20:21.512Z"
   },
   {
    "duration": 22,
    "start_time": "2022-11-18T18:20:21.555Z"
   },
   {
    "duration": 18,
    "start_time": "2022-11-18T18:20:21.579Z"
   },
   {
    "duration": 3,
    "start_time": "2022-11-18T18:20:21.599Z"
   },
   {
    "duration": 14,
    "start_time": "2022-11-18T18:20:21.604Z"
   },
   {
    "duration": 6,
    "start_time": "2022-11-18T18:20:21.620Z"
   },
   {
    "duration": 4,
    "start_time": "2022-11-18T18:20:21.651Z"
   },
   {
    "duration": 17,
    "start_time": "2022-11-18T18:20:21.657Z"
   },
   {
    "duration": 24,
    "start_time": "2022-11-18T18:20:21.676Z"
   },
   {
    "duration": 324,
    "start_time": "2022-11-18T18:20:21.702Z"
   },
   {
    "duration": 26,
    "start_time": "2022-11-18T18:20:22.028Z"
   },
   {
    "duration": 14,
    "start_time": "2022-11-18T18:20:22.056Z"
   },
   {
    "duration": 21,
    "start_time": "2022-11-18T18:20:22.072Z"
   },
   {
    "duration": 51,
    "start_time": "2022-11-18T18:20:22.095Z"
   },
   {
    "duration": 6,
    "start_time": "2022-11-18T18:20:22.148Z"
   },
   {
    "duration": 28,
    "start_time": "2022-11-18T18:20:22.156Z"
   },
   {
    "duration": 26,
    "start_time": "2022-11-18T18:20:22.186Z"
   },
   {
    "duration": 126,
    "start_time": "2022-11-18T18:20:32.510Z"
   },
   {
    "duration": 9,
    "start_time": "2022-11-18T18:23:19.121Z"
   },
   {
    "duration": 7,
    "start_time": "2022-11-18T18:23:25.309Z"
   },
   {
    "duration": 90,
    "start_time": "2022-11-18T18:23:29.086Z"
   },
   {
    "duration": 18,
    "start_time": "2022-11-18T18:23:50.331Z"
   },
   {
    "duration": 11,
    "start_time": "2022-11-18T18:24:06.189Z"
   },
   {
    "duration": 12,
    "start_time": "2022-11-18T18:24:12.030Z"
   },
   {
    "duration": 310,
    "start_time": "2022-11-18T18:24:16.795Z"
   },
   {
    "duration": 11,
    "start_time": "2022-11-18T18:24:20.037Z"
   },
   {
    "duration": 14,
    "start_time": "2022-11-18T18:24:28.065Z"
   },
   {
    "duration": 12,
    "start_time": "2022-11-18T18:24:32.979Z"
   },
   {
    "duration": 10,
    "start_time": "2022-11-18T18:24:51.411Z"
   },
   {
    "duration": 13,
    "start_time": "2022-11-18T18:24:56.869Z"
   },
   {
    "duration": 11,
    "start_time": "2022-11-18T18:25:03.877Z"
   },
   {
    "duration": 18,
    "start_time": "2022-11-18T18:25:07.120Z"
   },
   {
    "duration": 21,
    "start_time": "2022-11-18T18:26:12.637Z"
   },
   {
    "duration": 23,
    "start_time": "2022-11-18T18:26:28.389Z"
   },
   {
    "duration": 56,
    "start_time": "2022-11-18T22:40:32.846Z"
   },
   {
    "duration": 715,
    "start_time": "2022-11-18T22:40:38.755Z"
   },
   {
    "duration": 29,
    "start_time": "2022-11-18T22:40:39.472Z"
   },
   {
    "duration": 21,
    "start_time": "2022-11-18T22:40:39.503Z"
   },
   {
    "duration": 25,
    "start_time": "2022-11-18T22:40:39.527Z"
   },
   {
    "duration": 32,
    "start_time": "2022-11-18T22:40:39.554Z"
   },
   {
    "duration": 3,
    "start_time": "2022-11-18T22:40:39.587Z"
   },
   {
    "duration": 10,
    "start_time": "2022-11-18T22:40:39.592Z"
   },
   {
    "duration": 26,
    "start_time": "2022-11-18T22:40:39.603Z"
   },
   {
    "duration": 18,
    "start_time": "2022-11-18T22:40:39.631Z"
   },
   {
    "duration": 5,
    "start_time": "2022-11-18T22:40:39.652Z"
   },
   {
    "duration": 31,
    "start_time": "2022-11-18T22:40:39.659Z"
   },
   {
    "duration": 10,
    "start_time": "2022-11-18T22:40:39.692Z"
   },
   {
    "duration": 4,
    "start_time": "2022-11-18T22:40:39.722Z"
   },
   {
    "duration": 20,
    "start_time": "2022-11-18T22:40:39.728Z"
   },
   {
    "duration": 21,
    "start_time": "2022-11-18T22:40:39.750Z"
   },
   {
    "duration": 16,
    "start_time": "2022-11-18T22:40:39.772Z"
   },
   {
    "duration": 4,
    "start_time": "2022-11-18T22:40:39.789Z"
   },
   {
    "duration": 42,
    "start_time": "2022-11-18T22:40:39.794Z"
   },
   {
    "duration": 6,
    "start_time": "2022-11-18T22:40:39.837Z"
   },
   {
    "duration": 7,
    "start_time": "2022-11-18T22:40:39.845Z"
   },
   {
    "duration": 13,
    "start_time": "2022-11-18T22:40:39.854Z"
   },
   {
    "duration": 14,
    "start_time": "2022-11-18T22:40:39.868Z"
   },
   {
    "duration": 476,
    "start_time": "2022-11-18T22:40:39.884Z"
   },
   {
    "duration": 14,
    "start_time": "2022-11-18T22:40:40.362Z"
   },
   {
    "duration": 13,
    "start_time": "2022-11-18T22:40:40.379Z"
   },
   {
    "duration": 7,
    "start_time": "2022-11-18T22:40:40.393Z"
   },
   {
    "duration": 36,
    "start_time": "2022-11-18T22:40:40.420Z"
   },
   {
    "duration": 4,
    "start_time": "2022-11-18T22:40:40.459Z"
   },
   {
    "duration": 141,
    "start_time": "2022-11-18T22:40:40.464Z"
   },
   {
    "duration": 3,
    "start_time": "2022-11-18T22:40:40.608Z"
   },
   {
    "duration": 133,
    "start_time": "2022-11-18T22:40:52.132Z"
   },
   {
    "duration": 165,
    "start_time": "2022-11-18T22:43:22.618Z"
   },
   {
    "duration": 106,
    "start_time": "2022-11-18T22:43:46.723Z"
   },
   {
    "duration": 119,
    "start_time": "2022-11-18T22:43:51.443Z"
   },
   {
    "duration": 136,
    "start_time": "2022-11-18T22:43:55.721Z"
   },
   {
    "duration": 466,
    "start_time": "2022-11-18T22:44:15.599Z"
   },
   {
    "duration": 118,
    "start_time": "2022-11-18T22:46:32.772Z"
   },
   {
    "duration": 107,
    "start_time": "2022-11-18T22:49:31.614Z"
   },
   {
    "duration": 44,
    "start_time": "2022-11-18T22:52:01.159Z"
   },
   {
    "duration": 110,
    "start_time": "2022-11-18T22:52:06.376Z"
   },
   {
    "duration": 110,
    "start_time": "2022-11-18T22:56:12.497Z"
   },
   {
    "duration": 110,
    "start_time": "2022-11-18T22:56:17.084Z"
   },
   {
    "duration": 107,
    "start_time": "2022-11-18T22:57:29.185Z"
   },
   {
    "duration": 48,
    "start_time": "2022-11-18T23:01:21.537Z"
   },
   {
    "duration": 19,
    "start_time": "2022-11-18T23:01:25.885Z"
   },
   {
    "duration": 11,
    "start_time": "2022-11-18T23:01:42.423Z"
   },
   {
    "duration": 6,
    "start_time": "2022-11-18T23:02:30.172Z"
   },
   {
    "duration": 4,
    "start_time": "2022-11-18T23:02:53.248Z"
   },
   {
    "duration": 4,
    "start_time": "2022-11-18T23:02:57.635Z"
   },
   {
    "duration": 3,
    "start_time": "2022-11-18T23:03:25.413Z"
   },
   {
    "duration": 6,
    "start_time": "2022-11-18T23:03:30.630Z"
   },
   {
    "duration": 11,
    "start_time": "2022-11-18T23:04:55.453Z"
   },
   {
    "duration": 5,
    "start_time": "2022-11-18T23:05:58.036Z"
   },
   {
    "duration": 7,
    "start_time": "2022-11-18T23:06:12.850Z"
   },
   {
    "duration": 5,
    "start_time": "2022-11-18T23:06:26.140Z"
   },
   {
    "duration": 14,
    "start_time": "2022-11-18T23:06:35.896Z"
   },
   {
    "duration": 12,
    "start_time": "2022-11-18T23:06:43.096Z"
   },
   {
    "duration": 10,
    "start_time": "2022-11-18T23:08:45.856Z"
   },
   {
    "duration": 49,
    "start_time": "2022-11-18T23:09:08.608Z"
   },
   {
    "duration": 14,
    "start_time": "2022-11-18T23:09:20.075Z"
   },
   {
    "duration": 13,
    "start_time": "2022-11-18T23:09:39.784Z"
   },
   {
    "duration": 13,
    "start_time": "2022-11-18T23:09:52.195Z"
   },
   {
    "duration": 14,
    "start_time": "2022-11-18T23:11:46.958Z"
   },
   {
    "duration": 16,
    "start_time": "2022-11-18T23:11:52.393Z"
   },
   {
    "duration": 7,
    "start_time": "2022-11-18T23:11:59.405Z"
   },
   {
    "duration": 9,
    "start_time": "2022-11-18T23:27:17.435Z"
   },
   {
    "duration": 12,
    "start_time": "2022-11-18T23:30:13.141Z"
   },
   {
    "duration": 7,
    "start_time": "2022-11-18T23:30:15.629Z"
   },
   {
    "duration": 15,
    "start_time": "2022-11-18T23:30:18.811Z"
   },
   {
    "duration": 10,
    "start_time": "2022-11-18T23:31:20.112Z"
   },
   {
    "duration": 11,
    "start_time": "2022-11-19T00:17:14.861Z"
   },
   {
    "duration": 417,
    "start_time": "2022-11-19T00:17:45.469Z"
   },
   {
    "duration": 20,
    "start_time": "2022-11-19T00:17:45.888Z"
   },
   {
    "duration": 17,
    "start_time": "2022-11-19T00:17:45.909Z"
   },
   {
    "duration": 10,
    "start_time": "2022-11-19T00:17:45.928Z"
   },
   {
    "duration": 32,
    "start_time": "2022-11-19T00:17:45.939Z"
   },
   {
    "duration": 3,
    "start_time": "2022-11-19T00:17:45.972Z"
   },
   {
    "duration": 9,
    "start_time": "2022-11-19T00:17:45.977Z"
   },
   {
    "duration": 4,
    "start_time": "2022-11-19T00:17:45.987Z"
   },
   {
    "duration": 31,
    "start_time": "2022-11-19T00:17:45.992Z"
   },
   {
    "duration": 4,
    "start_time": "2022-11-19T00:17:46.025Z"
   },
   {
    "duration": 33,
    "start_time": "2022-11-19T00:17:46.030Z"
   },
   {
    "duration": 9,
    "start_time": "2022-11-19T00:17:46.064Z"
   },
   {
    "duration": 4,
    "start_time": "2022-11-19T00:17:46.074Z"
   },
   {
    "duration": 13,
    "start_time": "2022-11-19T00:17:46.079Z"
   },
   {
    "duration": 40,
    "start_time": "2022-11-19T00:17:46.093Z"
   },
   {
    "duration": 16,
    "start_time": "2022-11-19T00:17:46.135Z"
   },
   {
    "duration": 4,
    "start_time": "2022-11-19T00:17:46.153Z"
   },
   {
    "duration": 16,
    "start_time": "2022-11-19T00:17:46.158Z"
   },
   {
    "duration": 5,
    "start_time": "2022-11-19T00:17:46.176Z"
   },
   {
    "duration": 3,
    "start_time": "2022-11-19T00:17:46.183Z"
   },
   {
    "duration": 33,
    "start_time": "2022-11-19T00:17:46.188Z"
   },
   {
    "duration": 4,
    "start_time": "2022-11-19T00:17:46.223Z"
   },
   {
    "duration": 266,
    "start_time": "2022-11-19T00:17:46.229Z"
   },
   {
    "duration": 13,
    "start_time": "2022-11-19T00:17:46.496Z"
   },
   {
    "duration": 10,
    "start_time": "2022-11-19T00:17:46.520Z"
   },
   {
    "duration": 7,
    "start_time": "2022-11-19T00:17:46.531Z"
   },
   {
    "duration": 21,
    "start_time": "2022-11-19T00:17:46.539Z"
   },
   {
    "duration": 127,
    "start_time": "2022-11-19T00:17:46.563Z"
   },
   {
    "duration": 11,
    "start_time": "2022-11-19T00:17:46.692Z"
   },
   {
    "duration": 5,
    "start_time": "2022-11-19T00:18:16.781Z"
   },
   {
    "duration": 485,
    "start_time": "2022-11-19T00:19:00.193Z"
   },
   {
    "duration": 20,
    "start_time": "2022-11-19T00:19:00.680Z"
   },
   {
    "duration": 24,
    "start_time": "2022-11-19T00:19:00.702Z"
   },
   {
    "duration": 25,
    "start_time": "2022-11-19T00:19:00.728Z"
   },
   {
    "duration": 53,
    "start_time": "2022-11-19T00:19:00.755Z"
   },
   {
    "duration": 3,
    "start_time": "2022-11-19T00:19:00.810Z"
   },
   {
    "duration": 29,
    "start_time": "2022-11-19T00:19:00.814Z"
   },
   {
    "duration": 32,
    "start_time": "2022-11-19T00:19:00.845Z"
   },
   {
    "duration": 40,
    "start_time": "2022-11-19T00:19:00.879Z"
   },
   {
    "duration": 33,
    "start_time": "2022-11-19T00:19:00.923Z"
   },
   {
    "duration": 52,
    "start_time": "2022-11-19T00:19:00.958Z"
   },
   {
    "duration": 9,
    "start_time": "2022-11-19T00:19:01.012Z"
   },
   {
    "duration": 7,
    "start_time": "2022-11-19T00:19:01.023Z"
   },
   {
    "duration": 24,
    "start_time": "2022-11-19T00:19:01.032Z"
   },
   {
    "duration": 33,
    "start_time": "2022-11-19T00:19:01.058Z"
   },
   {
    "duration": 17,
    "start_time": "2022-11-19T00:19:01.093Z"
   },
   {
    "duration": 3,
    "start_time": "2022-11-19T00:19:01.112Z"
   },
   {
    "duration": 32,
    "start_time": "2022-11-19T00:19:01.116Z"
   },
   {
    "duration": 24,
    "start_time": "2022-11-19T00:19:01.150Z"
   },
   {
    "duration": 9,
    "start_time": "2022-11-19T00:19:01.175Z"
   },
   {
    "duration": 18,
    "start_time": "2022-11-19T00:19:01.186Z"
   },
   {
    "duration": 24,
    "start_time": "2022-11-19T00:19:01.205Z"
   },
   {
    "duration": 263,
    "start_time": "2022-11-19T00:19:01.231Z"
   },
   {
    "duration": 14,
    "start_time": "2022-11-19T00:19:01.497Z"
   },
   {
    "duration": 20,
    "start_time": "2022-11-19T00:19:01.512Z"
   },
   {
    "duration": 9,
    "start_time": "2022-11-19T00:19:01.534Z"
   },
   {
    "duration": 21,
    "start_time": "2022-11-19T00:19:01.545Z"
   },
   {
    "duration": 137,
    "start_time": "2022-11-19T00:19:01.569Z"
   },
   {
    "duration": 16,
    "start_time": "2022-11-19T00:19:01.708Z"
   },
   {
    "duration": 9,
    "start_time": "2022-11-19T13:00:32.564Z"
   },
   {
    "duration": 196,
    "start_time": "2022-11-19T13:00:37.546Z"
   },
   {
    "duration": 47,
    "start_time": "2022-11-19T13:00:56.347Z"
   },
   {
    "duration": 767,
    "start_time": "2022-11-19T13:01:07.496Z"
   },
   {
    "duration": 32,
    "start_time": "2022-11-19T13:01:08.266Z"
   },
   {
    "duration": 16,
    "start_time": "2022-11-19T13:01:08.299Z"
   },
   {
    "duration": 10,
    "start_time": "2022-11-19T13:01:08.317Z"
   },
   {
    "duration": 41,
    "start_time": "2022-11-19T13:01:08.330Z"
   },
   {
    "duration": 23,
    "start_time": "2022-11-19T13:01:08.373Z"
   },
   {
    "duration": 12,
    "start_time": "2022-11-19T13:01:08.399Z"
   },
   {
    "duration": 7,
    "start_time": "2022-11-19T13:01:08.412Z"
   },
   {
    "duration": 12,
    "start_time": "2022-11-19T13:01:08.420Z"
   },
   {
    "duration": 5,
    "start_time": "2022-11-19T13:01:08.434Z"
   },
   {
    "duration": 69,
    "start_time": "2022-11-19T13:01:08.441Z"
   },
   {
    "duration": 10,
    "start_time": "2022-11-19T13:01:08.512Z"
   },
   {
    "duration": 10,
    "start_time": "2022-11-19T13:01:08.523Z"
   },
   {
    "duration": 11,
    "start_time": "2022-11-19T13:01:08.535Z"
   },
   {
    "duration": 19,
    "start_time": "2022-11-19T13:01:08.547Z"
   },
   {
    "duration": 45,
    "start_time": "2022-11-19T13:01:08.567Z"
   },
   {
    "duration": 4,
    "start_time": "2022-11-19T13:01:08.613Z"
   },
   {
    "duration": 14,
    "start_time": "2022-11-19T13:01:08.619Z"
   },
   {
    "duration": 11,
    "start_time": "2022-11-19T13:01:08.635Z"
   },
   {
    "duration": 4,
    "start_time": "2022-11-19T13:01:08.647Z"
   },
   {
    "duration": 12,
    "start_time": "2022-11-19T13:01:08.653Z"
   },
   {
    "duration": 7,
    "start_time": "2022-11-19T13:01:08.696Z"
   },
   {
    "duration": 534,
    "start_time": "2022-11-19T13:01:08.705Z"
   },
   {
    "duration": 16,
    "start_time": "2022-11-19T13:01:09.240Z"
   },
   {
    "duration": 12,
    "start_time": "2022-11-19T13:01:09.258Z"
   },
   {
    "duration": 28,
    "start_time": "2022-11-19T13:01:09.272Z"
   },
   {
    "duration": 30,
    "start_time": "2022-11-19T13:01:09.302Z"
   },
   {
    "duration": 82,
    "start_time": "2022-11-19T13:01:09.334Z"
   },
   {
    "duration": 0,
    "start_time": "2022-11-19T13:01:09.418Z"
   },
   {
    "duration": 43,
    "start_time": "2022-11-19T13:01:53.371Z"
   },
   {
    "duration": 41,
    "start_time": "2022-11-19T13:01:59.405Z"
   },
   {
    "duration": 51,
    "start_time": "2022-11-19T13:02:10.247Z"
   },
   {
    "duration": 47,
    "start_time": "2022-11-19T13:02:21.206Z"
   },
   {
    "duration": 58,
    "start_time": "2022-11-19T13:02:25.413Z"
   },
   {
    "duration": 6,
    "start_time": "2022-11-19T13:02:33.137Z"
   },
   {
    "duration": 150,
    "start_time": "2022-11-19T13:02:37.514Z"
   },
   {
    "duration": 96,
    "start_time": "2022-11-19T13:04:59.211Z"
   },
   {
    "duration": 14,
    "start_time": "2022-11-19T13:05:14.732Z"
   },
   {
    "duration": 152,
    "start_time": "2022-11-19T13:05:26.057Z"
   },
   {
    "duration": 156,
    "start_time": "2022-11-19T13:09:12.479Z"
   },
   {
    "duration": 467,
    "start_time": "2022-11-19T13:23:39.152Z"
   },
   {
    "duration": 24,
    "start_time": "2022-11-19T13:23:39.620Z"
   },
   {
    "duration": 16,
    "start_time": "2022-11-19T13:23:39.645Z"
   },
   {
    "duration": 9,
    "start_time": "2022-11-19T13:23:39.664Z"
   },
   {
    "duration": 55,
    "start_time": "2022-11-19T13:23:39.675Z"
   },
   {
    "duration": 4,
    "start_time": "2022-11-19T13:23:39.732Z"
   },
   {
    "duration": 15,
    "start_time": "2022-11-19T13:23:39.738Z"
   },
   {
    "duration": 5,
    "start_time": "2022-11-19T13:23:39.754Z"
   },
   {
    "duration": 39,
    "start_time": "2022-11-19T13:23:39.761Z"
   },
   {
    "duration": 6,
    "start_time": "2022-11-19T13:23:39.803Z"
   },
   {
    "duration": 51,
    "start_time": "2022-11-19T13:23:39.811Z"
   },
   {
    "duration": 33,
    "start_time": "2022-11-19T13:23:39.864Z"
   },
   {
    "duration": 4,
    "start_time": "2022-11-19T13:23:39.900Z"
   },
   {
    "duration": 21,
    "start_time": "2022-11-19T13:23:39.906Z"
   },
   {
    "duration": 30,
    "start_time": "2022-11-19T13:23:39.929Z"
   },
   {
    "duration": 18,
    "start_time": "2022-11-19T13:23:39.961Z"
   },
   {
    "duration": 4,
    "start_time": "2022-11-19T13:23:39.996Z"
   },
   {
    "duration": 17,
    "start_time": "2022-11-19T13:23:40.001Z"
   },
   {
    "duration": 6,
    "start_time": "2022-11-19T13:23:40.019Z"
   },
   {
    "duration": 5,
    "start_time": "2022-11-19T13:23:40.026Z"
   },
   {
    "duration": 13,
    "start_time": "2022-11-19T13:23:40.032Z"
   },
   {
    "duration": 8,
    "start_time": "2022-11-19T13:23:40.046Z"
   },
   {
    "duration": 325,
    "start_time": "2022-11-19T13:23:40.056Z"
   },
   {
    "duration": 22,
    "start_time": "2022-11-19T13:23:40.383Z"
   },
   {
    "duration": 10,
    "start_time": "2022-11-19T13:23:40.407Z"
   },
   {
    "duration": 7,
    "start_time": "2022-11-19T13:23:40.419Z"
   },
   {
    "duration": 25,
    "start_time": "2022-11-19T13:23:40.428Z"
   },
   {
    "duration": 149,
    "start_time": "2022-11-19T13:23:40.456Z"
   },
   {
    "duration": 12,
    "start_time": "2022-11-19T13:23:40.607Z"
   }
  ],
  "colab": {
   "name": "dpp_template_part2.ipynb",
   "provenance": []
  },
  "kernelspec": {
   "display_name": "Python 3 (ipykernel)",
   "language": "python",
   "name": "python3"
  },
  "language_info": {
   "codemirror_mode": {
    "name": "ipython",
    "version": 3
   },
   "file_extension": ".py",
   "mimetype": "text/x-python",
   "name": "python",
   "nbconvert_exporter": "python",
   "pygments_lexer": "ipython3",
   "version": "3.9.5"
  },
  "toc": {
   "base_numbering": 1,
   "nav_menu": {},
   "number_sections": true,
   "sideBar": true,
   "skip_h1_title": true,
   "title_cell": "Table of Contents",
   "title_sidebar": "Contents",
   "toc_cell": false,
   "toc_position": {},
   "toc_section_display": true,
   "toc_window_display": false
  }
 },
 "nbformat": 4,
 "nbformat_minor": 5
}
